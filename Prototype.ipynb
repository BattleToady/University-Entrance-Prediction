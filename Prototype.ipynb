{
 "cells": [
  {
   "cell_type": "code",
   "execution_count": 1,
   "metadata": {},
   "outputs": [],
   "source": [
    "import pandas as pd"
   ]
  },
  {
   "cell_type": "code",
   "execution_count": 2,
   "metadata": {},
   "outputs": [],
   "source": [
    "df17 = pd.read_csv('df17.csv')\n",
    "df18 = pd.read_csv('df18.csv')\n",
    "df19 = pd.read_csv('df19.csv')\n",
    "df20 = pd.read_csv('df20.csv')"
   ]
  },
  {
   "cell_type": "code",
   "execution_count": 3,
   "metadata": {},
   "outputs": [],
   "source": [
    "df = pd.concat([df17, df18, df19, df20])"
   ]
  },
  {
   "cell_type": "code",
   "execution_count": 4,
   "metadata": {},
   "outputs": [
    {
     "name": "stderr",
     "output_type": "stream",
     "text": [
      "C:\\Users\\Acer\\AppData\\Local\\Temp/ipykernel_7468/3302241255.py:1: FutureWarning: The default value of regex will change from True to False in a future version.\n",
      "  df.specialty = df.specialty.str.replace('\\d+', '')\n"
     ]
    }
   ],
   "source": [
    "df.specialty = df.specialty.str.replace('\\d+', '')"
   ]
  },
  {
   "cell_type": "code",
   "execution_count": 5,
   "metadata": {},
   "outputs": [],
   "source": [
    "df = df.drop('Unnamed: 0', axis = 1)"
   ]
  },
  {
   "cell_type": "code",
   "execution_count": 6,
   "metadata": {},
   "outputs": [],
   "source": [
    "df = df.drop(['student_id', 'status'], axis = 1)"
   ]
  },
  {
   "cell_type": "code",
   "execution_count": 7,
   "metadata": {},
   "outputs": [],
   "source": [
    "df['priority'] = df.priority.astype('category')\n",
    "df['kvota'] = df.kvota.astype('category')\n",
    "df['vstup'] = df.vstup.astype('category')\n",
    "df.priority = df.priority.cat.codes\n",
    "df.kvota = df.kvota.cat.codes\n",
    "df.vstup = df.vstup.cat.codes"
   ]
  },
  {
   "cell_type": "code",
   "execution_count": 8,
   "metadata": {},
   "outputs": [],
   "source": [
    "df['mark_mean_years'] = 0\n",
    "df.loc[(df.year == 2017) | (df.year == 2018) | (df.year == 2019), 'mark_mean_years'] = df[(df.year == 2017) | (df.year == 2018) | (df.year == 2019)].groupby(['university', 'specialty']).mark_mean.transform('mean')\n",
    "df['mark_mean_years'] = df.groupby(['university', 'specialty']).mark_mean_years.transform('max')\n",
    "\n",
    "df['placesCount_years'] = 0\n",
    "df.loc[(df.year == 2017) | (df.year == 2018) | (df.year == 2019), 'placesCount_years'] = df[(df.year == 2017) | (df.year == 2018) | (df.year == 2019)].groupby(['university', 'specialty']).placesCount.transform('mean')\n",
    "df['placesCount_years'] = df.groupby(['university', 'specialty']).placesCount_years.transform('max')\n",
    "\n",
    "df['budgetCount_years'] = 0\n",
    "df.loc[(df.year == 2017) | (df.year == 2018) | (df.year == 2019), 'budgetCount_years'] = df[(df.year == 2017) | (df.year == 2018) | (df.year == 2019)].groupby(['university', 'specialty']).budgetCount.transform('mean')\n",
    "df['budgetCount_years'] = df.groupby(['university', 'specialty']).budgetCount_years.transform('max')\n",
    "\n",
    "df['contractCount_years'] = 0\n",
    "df.loc[(df.year == 2017) | (df.year == 2018) | (df.year == 2019), 'contractCount_years'] = df[(df.year == 2017) | (df.year == 2018) | (df.year == 2019)].groupby(['university', 'specialty']).contractCount.transform('mean')\n",
    "df['contractCount_years'] = df.groupby(['university', 'specialty']).contractCount_years.transform('max')\n",
    "\n",
    "df['budget_mark_mean_years'] = 0\n",
    "df.loc[(df.year == 2017) | (df.year == 2018) | (df.year == 2019), 'budget_mark_mean_years'] = df[(df.year == 2017) | (df.year == 2018) | (df.year == 2019)].groupby(['university', 'specialty']).budget_mark_mean.transform('mean')\n",
    "df['budget_mark_mean_years'] = df.groupby(['university', 'specialty']).budget_mark_mean_years.transform('max')\n",
    "\n",
    "df['abit_count_years'] = 0\n",
    "df.loc[(df.year == 2017) | (df.year == 2018) | (df.year == 2019), 'abit_count_years'] = df[(df.year == 2017) | (df.year == 2018) | (df.year == 2019)].groupby(['university', 'specialty']).abit_count.transform('mean')\n",
    "df['abit_count_years'] = df.groupby(['university', 'specialty']).abit_count_years.transform('max')\n",
    "\n",
    "df['mark_max_years'] = 0\n",
    "df.loc[(df.year == 2017) | (df.year == 2018) | (df.year == 2019), 'mark_max_years'] = df[(df.year == 2017) | (df.year == 2018) | (df.year == 2019)].groupby(['university', 'specialty']).mark_max.transform('mean')\n",
    "df['mark_max_years'] = df.groupby(['university', 'specialty']).mark_max_years.transform('max')\n",
    "\n",
    "df['mark_min_years'] = 0\n",
    "df.loc[(df.year == 2017) | (df.year == 2018) | (df.year == 2019), 'mark_min_years'] = df[(df.year == 2017) | (df.year == 2018) | (df.year == 2019)].groupby(['university', 'specialty']).mark_min.transform('mean')\n",
    "df['mark_min_years'] = df.groupby(['university', 'specialty']).mark_min_years.transform('max')\n",
    "\n",
    "df['budget_mark_max_years'] = 0\n",
    "df.loc[(df.year == 2017) | (df.year == 2018) | (df.year == 2019), 'budget_mark_max_years'] = df[(df.year == 2017) | (df.year == 2018) | (df.year == 2019)].groupby(['university', 'specialty']).budget_mark_max.transform('mean')\n",
    "df['budget_mark_max_years'] = df.groupby(['university', 'specialty']).budget_mark_max_years.transform('max')\n",
    "\n",
    "df['budget_mark_min_years'] = 0\n",
    "df.loc[(df.year == 2017) | (df.year == 2018) | (df.year == 2019), 'budget_mark_min_years'] = df[(df.year == 2017) | (df.year == 2018) | (df.year == 2019)].groupby(['university', 'specialty']).budget_mark_min.transform('mean')\n",
    "df['budget_mark_min_years'] = df.groupby(['university', 'specialty']).budget_mark_min_years.transform('max')"
   ]
  },
  {
   "cell_type": "code",
   "execution_count": 9,
   "metadata": {},
   "outputs": [],
   "source": [
    "df = df.drop(['placesCount', 'budgetCount', 'contractCount', 'budget_mark_mean', 'mark_mean', 'abit_count', 'mark_max', 'mark_min','budget_mark_max','budget_mark_min','position'], axis = 1)"
   ]
  },
  {
   "cell_type": "code",
   "execution_count": 10,
   "metadata": {},
   "outputs": [
    {
     "name": "stdout",
     "output_type": "stream",
     "text": [
      "['mark', 'year', 'specialty', 'university', 'mark_mean_years', 'placesCount_years', 'budgetCount_years', 'contractCount_years', 'budget_mark_mean_years', 'abit_count_years', 'mark_max_years', 'mark_min_years', 'budget_mark_max_years', 'budget_mark_min_years']\n"
     ]
    }
   ],
   "source": [
    "colsToScale = list(df.columns)\n",
    "colsToScale.remove('priority')\n",
    "colsToScale.remove('kvota')\n",
    "colsToScale.remove('vstup')\n",
    "print(colsToScale)"
   ]
  },
  {
   "cell_type": "code",
   "execution_count": 11,
   "metadata": {},
   "outputs": [
    {
     "data": {
      "text/html": [
       "<div>\n",
       "<style scoped>\n",
       "    .dataframe tbody tr th:only-of-type {\n",
       "        vertical-align: middle;\n",
       "    }\n",
       "\n",
       "    .dataframe tbody tr th {\n",
       "        vertical-align: top;\n",
       "    }\n",
       "\n",
       "    .dataframe thead th {\n",
       "        text-align: right;\n",
       "    }\n",
       "</style>\n",
       "<table border=\"1\" class=\"dataframe\">\n",
       "  <thead>\n",
       "    <tr style=\"text-align: right;\">\n",
       "      <th></th>\n",
       "      <th>priority</th>\n",
       "      <th>mark</th>\n",
       "      <th>kvota</th>\n",
       "      <th>year</th>\n",
       "      <th>specialty</th>\n",
       "      <th>university</th>\n",
       "      <th>vstup</th>\n",
       "      <th>mark_mean_years</th>\n",
       "      <th>placesCount_years</th>\n",
       "      <th>budgetCount_years</th>\n",
       "      <th>contractCount_years</th>\n",
       "      <th>budget_mark_mean_years</th>\n",
       "      <th>abit_count_years</th>\n",
       "      <th>mark_max_years</th>\n",
       "      <th>mark_min_years</th>\n",
       "      <th>budget_mark_max_years</th>\n",
       "      <th>budget_mark_min_years</th>\n",
       "    </tr>\n",
       "  </thead>\n",
       "  <tbody>\n",
       "    <tr>\n",
       "      <th>0</th>\n",
       "      <td>0</td>\n",
       "      <td>200.0</td>\n",
       "      <td>0</td>\n",
       "      <td>2017</td>\n",
       "      <td>Хімія</td>\n",
       "      <td>Харківський національний університет імені В.Н...</td>\n",
       "      <td>1</td>\n",
       "      <td>177.925824</td>\n",
       "      <td>100.0</td>\n",
       "      <td>55.104348</td>\n",
       "      <td>44.895652</td>\n",
       "      <td>183.389126</td>\n",
       "      <td>193.038261</td>\n",
       "      <td>200.0</td>\n",
       "      <td>134.192557</td>\n",
       "      <td>200.0</td>\n",
       "      <td>157.357057</td>\n",
       "    </tr>\n",
       "    <tr>\n",
       "      <th>1</th>\n",
       "      <td>0</td>\n",
       "      <td>200.0</td>\n",
       "      <td>0</td>\n",
       "      <td>2017</td>\n",
       "      <td>Хімія</td>\n",
       "      <td>Харківський національний університет імені В.Н...</td>\n",
       "      <td>1</td>\n",
       "      <td>177.925824</td>\n",
       "      <td>100.0</td>\n",
       "      <td>55.104348</td>\n",
       "      <td>44.895652</td>\n",
       "      <td>183.389126</td>\n",
       "      <td>193.038261</td>\n",
       "      <td>200.0</td>\n",
       "      <td>134.192557</td>\n",
       "      <td>200.0</td>\n",
       "      <td>157.357057</td>\n",
       "    </tr>\n",
       "    <tr>\n",
       "      <th>2</th>\n",
       "      <td>2</td>\n",
       "      <td>200.0</td>\n",
       "      <td>0</td>\n",
       "      <td>2017</td>\n",
       "      <td>Хімія</td>\n",
       "      <td>Харківський національний університет імені В.Н...</td>\n",
       "      <td>0</td>\n",
       "      <td>177.925824</td>\n",
       "      <td>100.0</td>\n",
       "      <td>55.104348</td>\n",
       "      <td>44.895652</td>\n",
       "      <td>183.389126</td>\n",
       "      <td>193.038261</td>\n",
       "      <td>200.0</td>\n",
       "      <td>134.192557</td>\n",
       "      <td>200.0</td>\n",
       "      <td>157.357057</td>\n",
       "    </tr>\n",
       "    <tr>\n",
       "      <th>3</th>\n",
       "      <td>0</td>\n",
       "      <td>200.0</td>\n",
       "      <td>0</td>\n",
       "      <td>2017</td>\n",
       "      <td>Хімія</td>\n",
       "      <td>Харківський національний університет імені В.Н...</td>\n",
       "      <td>1</td>\n",
       "      <td>177.925824</td>\n",
       "      <td>100.0</td>\n",
       "      <td>55.104348</td>\n",
       "      <td>44.895652</td>\n",
       "      <td>183.389126</td>\n",
       "      <td>193.038261</td>\n",
       "      <td>200.0</td>\n",
       "      <td>134.192557</td>\n",
       "      <td>200.0</td>\n",
       "      <td>157.357057</td>\n",
       "    </tr>\n",
       "    <tr>\n",
       "      <th>4</th>\n",
       "      <td>2</td>\n",
       "      <td>200.0</td>\n",
       "      <td>0</td>\n",
       "      <td>2017</td>\n",
       "      <td>Хімія</td>\n",
       "      <td>Харківський національний університет імені В.Н...</td>\n",
       "      <td>0</td>\n",
       "      <td>177.925824</td>\n",
       "      <td>100.0</td>\n",
       "      <td>55.104348</td>\n",
       "      <td>44.895652</td>\n",
       "      <td>183.389126</td>\n",
       "      <td>193.038261</td>\n",
       "      <td>200.0</td>\n",
       "      <td>134.192557</td>\n",
       "      <td>200.0</td>\n",
       "      <td>157.357057</td>\n",
       "    </tr>\n",
       "  </tbody>\n",
       "</table>\n",
       "</div>"
      ],
      "text/plain": [
       "   priority   mark  kvota  year specialty  \\\n",
       "0         0  200.0      0  2017     Хімія   \n",
       "1         0  200.0      0  2017     Хімія   \n",
       "2         2  200.0      0  2017     Хімія   \n",
       "3         0  200.0      0  2017     Хімія   \n",
       "4         2  200.0      0  2017     Хімія   \n",
       "\n",
       "                                          university  vstup  mark_mean_years  \\\n",
       "0  Харківський національний університет імені В.Н...      1       177.925824   \n",
       "1  Харківський національний університет імені В.Н...      1       177.925824   \n",
       "2  Харківський національний університет імені В.Н...      0       177.925824   \n",
       "3  Харківський національний університет імені В.Н...      1       177.925824   \n",
       "4  Харківський національний університет імені В.Н...      0       177.925824   \n",
       "\n",
       "   placesCount_years  budgetCount_years  contractCount_years  \\\n",
       "0              100.0          55.104348            44.895652   \n",
       "1              100.0          55.104348            44.895652   \n",
       "2              100.0          55.104348            44.895652   \n",
       "3              100.0          55.104348            44.895652   \n",
       "4              100.0          55.104348            44.895652   \n",
       "\n",
       "   budget_mark_mean_years  abit_count_years  mark_max_years  mark_min_years  \\\n",
       "0              183.389126        193.038261           200.0      134.192557   \n",
       "1              183.389126        193.038261           200.0      134.192557   \n",
       "2              183.389126        193.038261           200.0      134.192557   \n",
       "3              183.389126        193.038261           200.0      134.192557   \n",
       "4              183.389126        193.038261           200.0      134.192557   \n",
       "\n",
       "   budget_mark_max_years  budget_mark_min_years  \n",
       "0                  200.0             157.357057  \n",
       "1                  200.0             157.357057  \n",
       "2                  200.0             157.357057  \n",
       "3                  200.0             157.357057  \n",
       "4                  200.0             157.357057  "
      ]
     },
     "execution_count": 11,
     "metadata": {},
     "output_type": "execute_result"
    }
   ],
   "source": [
    "df.head()"
   ]
  },
  {
   "cell_type": "code",
   "execution_count": 12,
   "metadata": {},
   "outputs": [],
   "source": [
    "df = df.drop('year', axis = 1)"
   ]
  },
  {
   "cell_type": "code",
   "execution_count": 13,
   "metadata": {},
   "outputs": [],
   "source": [
    "to_pred = df.drop(['priority', 'mark', 'kvota'], axis = 1)"
   ]
  },
  {
   "cell_type": "code",
   "execution_count": 14,
   "metadata": {},
   "outputs": [],
   "source": [
    "to_pred = to_pred.drop('vstup', axis = 1)"
   ]
  },
  {
   "cell_type": "code",
   "execution_count": 15,
   "metadata": {},
   "outputs": [
    {
     "data": {
      "text/plain": [
       "Index(['specialty', 'university', 'mark_mean_years', 'placesCount_years',\n",
       "       'budgetCount_years', 'contractCount_years', 'budget_mark_mean_years',\n",
       "       'abit_count_years', 'mark_max_years', 'mark_min_years',\n",
       "       'budget_mark_max_years', 'budget_mark_min_years'],\n",
       "      dtype='object')"
      ]
     },
     "execution_count": 15,
     "metadata": {},
     "output_type": "execute_result"
    }
   ],
   "source": [
    "to_pred.columns"
   ]
  },
  {
   "cell_type": "code",
   "execution_count": 16,
   "metadata": {},
   "outputs": [],
   "source": [
    "to_pred = to_pred.drop_duplicates()"
   ]
  },
  {
   "cell_type": "code",
   "execution_count": 17,
   "metadata": {},
   "outputs": [],
   "source": [
    "to_pred.to_csv('df_predict.csv')"
   ]
  },
  {
   "cell_type": "code",
   "execution_count": 18,
   "metadata": {},
   "outputs": [],
   "source": [
    "df = df.drop(['specialty', 'university'], axis = 1)"
   ]
  },
  {
   "cell_type": "code",
   "execution_count": 19,
   "metadata": {},
   "outputs": [],
   "source": [
    "to_pred = pd.read_csv('df_predict.csv')"
   ]
  },
  {
   "cell_type": "code",
   "execution_count": 20,
   "metadata": {},
   "outputs": [
    {
     "data": {
      "text/html": [
       "<div>\n",
       "<style scoped>\n",
       "    .dataframe tbody tr th:only-of-type {\n",
       "        vertical-align: middle;\n",
       "    }\n",
       "\n",
       "    .dataframe tbody tr th {\n",
       "        vertical-align: top;\n",
       "    }\n",
       "\n",
       "    .dataframe thead th {\n",
       "        text-align: right;\n",
       "    }\n",
       "</style>\n",
       "<table border=\"1\" class=\"dataframe\">\n",
       "  <thead>\n",
       "    <tr style=\"text-align: right;\">\n",
       "      <th></th>\n",
       "      <th>Unnamed: 0</th>\n",
       "      <th>specialty</th>\n",
       "      <th>university</th>\n",
       "      <th>mark_mean_years</th>\n",
       "      <th>placesCount_years</th>\n",
       "      <th>budgetCount_years</th>\n",
       "      <th>contractCount_years</th>\n",
       "      <th>budget_mark_mean_years</th>\n",
       "      <th>abit_count_years</th>\n",
       "      <th>mark_max_years</th>\n",
       "      <th>mark_min_years</th>\n",
       "      <th>budget_mark_max_years</th>\n",
       "      <th>budget_mark_min_years</th>\n",
       "    </tr>\n",
       "  </thead>\n",
       "  <tbody>\n",
       "    <tr>\n",
       "      <th>0</th>\n",
       "      <td>0</td>\n",
       "      <td>Хімія</td>\n",
       "      <td>Харківський національний університет імені В.Н...</td>\n",
       "      <td>177.925824</td>\n",
       "      <td>100.000000</td>\n",
       "      <td>55.104348</td>\n",
       "      <td>4.489565e+01</td>\n",
       "      <td>183.389126</td>\n",
       "      <td>193.038261</td>\n",
       "      <td>200.000000</td>\n",
       "      <td>134.192557</td>\n",
       "      <td>200.000000</td>\n",
       "      <td>157.357057</td>\n",
       "    </tr>\n",
       "    <tr>\n",
       "      <th>1</th>\n",
       "      <td>214</td>\n",
       "      <td>Фінанси,банківськасправатастрахування</td>\n",
       "      <td>Харківський національний університет імені В.Н...</td>\n",
       "      <td>164.599285</td>\n",
       "      <td>99.654696</td>\n",
       "      <td>30.484807</td>\n",
       "      <td>6.916989e+01</td>\n",
       "      <td>179.981424</td>\n",
       "      <td>235.831492</td>\n",
       "      <td>198.400506</td>\n",
       "      <td>117.906329</td>\n",
       "      <td>188.972028</td>\n",
       "      <td>160.691276</td>\n",
       "    </tr>\n",
       "    <tr>\n",
       "      <th>2</th>\n",
       "      <td>518</td>\n",
       "      <td>Філософія</td>\n",
       "      <td>Харківський національний університет імені В.Н...</td>\n",
       "      <td>159.289960</td>\n",
       "      <td>33.815029</td>\n",
       "      <td>15.034682</td>\n",
       "      <td>1.878035e+01</td>\n",
       "      <td>179.765380</td>\n",
       "      <td>94.595376</td>\n",
       "      <td>193.785179</td>\n",
       "      <td>119.381064</td>\n",
       "      <td>187.282327</td>\n",
       "      <td>160.034335</td>\n",
       "    </tr>\n",
       "    <tr>\n",
       "      <th>3</th>\n",
       "      <td>627</td>\n",
       "      <td>Філологія</td>\n",
       "      <td>Харківський національний університет імені В.Н...</td>\n",
       "      <td>172.697773</td>\n",
       "      <td>105.268324</td>\n",
       "      <td>46.966281</td>\n",
       "      <td>7.065570e+07</td>\n",
       "      <td>189.854562</td>\n",
       "      <td>764.864838</td>\n",
       "      <td>199.680292</td>\n",
       "      <td>131.207430</td>\n",
       "      <td>196.525462</td>\n",
       "      <td>174.636141</td>\n",
       "    </tr>\n",
       "    <tr>\n",
       "      <th>4</th>\n",
       "      <td>3118</td>\n",
       "      <td>Фізикатаастрономія</td>\n",
       "      <td>Харківський національний університет імені В.Н...</td>\n",
       "      <td>171.236284</td>\n",
       "      <td>85.351562</td>\n",
       "      <td>19.617188</td>\n",
       "      <td>6.573438e+01</td>\n",
       "      <td>173.253439</td>\n",
       "      <td>68.260417</td>\n",
       "      <td>200.000000</td>\n",
       "      <td>119.569500</td>\n",
       "      <td>196.933487</td>\n",
       "      <td>146.662143</td>\n",
       "    </tr>\n",
       "    <tr>\n",
       "      <th>...</th>\n",
       "      <td>...</td>\n",
       "      <td>...</td>\n",
       "      <td>...</td>\n",
       "      <td>...</td>\n",
       "      <td>...</td>\n",
       "      <td>...</td>\n",
       "      <td>...</td>\n",
       "      <td>...</td>\n",
       "      <td>...</td>\n",
       "      <td>...</td>\n",
       "      <td>...</td>\n",
       "      <td>...</td>\n",
       "      <td>...</td>\n",
       "    </tr>\n",
       "    <tr>\n",
       "      <th>256</th>\n",
       "      <td>16634</td>\n",
       "      <td>Міжнароднеправо</td>\n",
       "      <td>Сумський державний університет</td>\n",
       "      <td>0.000000</td>\n",
       "      <td>0.000000</td>\n",
       "      <td>0.000000</td>\n",
       "      <td>0.000000e+00</td>\n",
       "      <td>0.000000</td>\n",
       "      <td>0.000000</td>\n",
       "      <td>0.000000</td>\n",
       "      <td>0.000000</td>\n",
       "      <td>0.000000</td>\n",
       "      <td>0.000000</td>\n",
       "    </tr>\n",
       "    <tr>\n",
       "      <th>257</th>\n",
       "      <td>20276</td>\n",
       "      <td>Середняосвіта</td>\n",
       "      <td>Сумський державний університет</td>\n",
       "      <td>0.000000</td>\n",
       "      <td>0.000000</td>\n",
       "      <td>0.000000</td>\n",
       "      <td>0.000000e+00</td>\n",
       "      <td>0.000000</td>\n",
       "      <td>0.000000</td>\n",
       "      <td>0.000000</td>\n",
       "      <td>0.000000</td>\n",
       "      <td>0.000000</td>\n",
       "      <td>0.000000</td>\n",
       "    </tr>\n",
       "    <tr>\n",
       "      <th>258</th>\n",
       "      <td>84069</td>\n",
       "      <td>Кібербезпека</td>\n",
       "      <td>Львівський національний університет імені Іван...</td>\n",
       "      <td>0.000000</td>\n",
       "      <td>0.000000</td>\n",
       "      <td>0.000000</td>\n",
       "      <td>0.000000e+00</td>\n",
       "      <td>0.000000</td>\n",
       "      <td>0.000000</td>\n",
       "      <td>0.000000</td>\n",
       "      <td>0.000000</td>\n",
       "      <td>0.000000</td>\n",
       "      <td>0.000000</td>\n",
       "    </tr>\n",
       "    <tr>\n",
       "      <th>259</th>\n",
       "      <td>86696</td>\n",
       "      <td>Інженеріяпрограмногозабезпечення</td>\n",
       "      <td>Львівський національний університет імені Іван...</td>\n",
       "      <td>0.000000</td>\n",
       "      <td>0.000000</td>\n",
       "      <td>0.000000</td>\n",
       "      <td>0.000000e+00</td>\n",
       "      <td>0.000000</td>\n",
       "      <td>0.000000</td>\n",
       "      <td>0.000000</td>\n",
       "      <td>0.000000</td>\n",
       "      <td>0.000000</td>\n",
       "      <td>0.000000</td>\n",
       "    </tr>\n",
       "    <tr>\n",
       "      <th>260</th>\n",
       "      <td>107043</td>\n",
       "      <td>Спеціальнаосвіта</td>\n",
       "      <td>Львівський національний університет імені Іван...</td>\n",
       "      <td>0.000000</td>\n",
       "      <td>0.000000</td>\n",
       "      <td>0.000000</td>\n",
       "      <td>0.000000e+00</td>\n",
       "      <td>0.000000</td>\n",
       "      <td>0.000000</td>\n",
       "      <td>0.000000</td>\n",
       "      <td>0.000000</td>\n",
       "      <td>0.000000</td>\n",
       "      <td>0.000000</td>\n",
       "    </tr>\n",
       "  </tbody>\n",
       "</table>\n",
       "<p>261 rows × 13 columns</p>\n",
       "</div>"
      ],
      "text/plain": [
       "     Unnamed: 0                              specialty  \\\n",
       "0             0                                  Хімія   \n",
       "1           214  Фінанси,банківськасправатастрахування   \n",
       "2           518                              Філософія   \n",
       "3           627                              Філологія   \n",
       "4          3118                     Фізикатаастрономія   \n",
       "..          ...                                    ...   \n",
       "256       16634                        Міжнароднеправо   \n",
       "257       20276                          Середняосвіта   \n",
       "258       84069                           Кібербезпека   \n",
       "259       86696       Інженеріяпрограмногозабезпечення   \n",
       "260      107043                       Спеціальнаосвіта   \n",
       "\n",
       "                                            university  mark_mean_years  \\\n",
       "0    Харківський національний університет імені В.Н...       177.925824   \n",
       "1    Харківський національний університет імені В.Н...       164.599285   \n",
       "2    Харківський національний університет імені В.Н...       159.289960   \n",
       "3    Харківський національний університет імені В.Н...       172.697773   \n",
       "4    Харківський національний університет імені В.Н...       171.236284   \n",
       "..                                                 ...              ...   \n",
       "256                     Сумський державний університет         0.000000   \n",
       "257                     Сумський державний університет         0.000000   \n",
       "258  Львівський національний університет імені Іван...         0.000000   \n",
       "259  Львівський національний університет імені Іван...         0.000000   \n",
       "260  Львівський національний університет імені Іван...         0.000000   \n",
       "\n",
       "     placesCount_years  budgetCount_years  contractCount_years  \\\n",
       "0           100.000000          55.104348         4.489565e+01   \n",
       "1            99.654696          30.484807         6.916989e+01   \n",
       "2            33.815029          15.034682         1.878035e+01   \n",
       "3           105.268324          46.966281         7.065570e+07   \n",
       "4            85.351562          19.617188         6.573438e+01   \n",
       "..                 ...                ...                  ...   \n",
       "256           0.000000           0.000000         0.000000e+00   \n",
       "257           0.000000           0.000000         0.000000e+00   \n",
       "258           0.000000           0.000000         0.000000e+00   \n",
       "259           0.000000           0.000000         0.000000e+00   \n",
       "260           0.000000           0.000000         0.000000e+00   \n",
       "\n",
       "     budget_mark_mean_years  abit_count_years  mark_max_years  mark_min_years  \\\n",
       "0                183.389126        193.038261      200.000000      134.192557   \n",
       "1                179.981424        235.831492      198.400506      117.906329   \n",
       "2                179.765380         94.595376      193.785179      119.381064   \n",
       "3                189.854562        764.864838      199.680292      131.207430   \n",
       "4                173.253439         68.260417      200.000000      119.569500   \n",
       "..                      ...               ...             ...             ...   \n",
       "256                0.000000          0.000000        0.000000        0.000000   \n",
       "257                0.000000          0.000000        0.000000        0.000000   \n",
       "258                0.000000          0.000000        0.000000        0.000000   \n",
       "259                0.000000          0.000000        0.000000        0.000000   \n",
       "260                0.000000          0.000000        0.000000        0.000000   \n",
       "\n",
       "     budget_mark_max_years  budget_mark_min_years  \n",
       "0               200.000000             157.357057  \n",
       "1               188.972028             160.691276  \n",
       "2               187.282327             160.034335  \n",
       "3               196.525462             174.636141  \n",
       "4               196.933487             146.662143  \n",
       "..                     ...                    ...  \n",
       "256               0.000000               0.000000  \n",
       "257               0.000000               0.000000  \n",
       "258               0.000000               0.000000  \n",
       "259               0.000000               0.000000  \n",
       "260               0.000000               0.000000  \n",
       "\n",
       "[261 rows x 13 columns]"
      ]
     },
     "execution_count": 20,
     "metadata": {},
     "output_type": "execute_result"
    }
   ],
   "source": [
    "to_pred"
   ]
  },
  {
   "cell_type": "code",
   "execution_count": null,
   "metadata": {},
   "outputs": [],
   "source": []
  },
  {
   "cell_type": "code",
   "execution_count": 21,
   "metadata": {},
   "outputs": [],
   "source": [
    "from sklearn.preprocessing import MinMaxScaler"
   ]
  },
  {
   "cell_type": "code",
   "execution_count": 22,
   "metadata": {},
   "outputs": [],
   "source": [
    "from joblib import dump, load"
   ]
  },
  {
   "cell_type": "code",
   "execution_count": 23,
   "metadata": {},
   "outputs": [],
   "source": [
    "scaler = load('scaler.joblib')"
   ]
  },
  {
   "cell_type": "code",
   "execution_count": 24,
   "metadata": {},
   "outputs": [],
   "source": [
    "forest = load('forest.joblib')"
   ]
  },
  {
   "cell_type": "code",
   "execution_count": 25,
   "metadata": {},
   "outputs": [],
   "source": [
    "from sklearn.pipeline import Pipeline"
   ]
  },
  {
   "cell_type": "code",
   "execution_count": 26,
   "metadata": {},
   "outputs": [],
   "source": [
    "from sklearn.compose import ColumnTransformer"
   ]
  },
  {
   "cell_type": "code",
   "execution_count": 27,
   "metadata": {},
   "outputs": [
    {
     "data": {
      "text/plain": [
       "Index(['priority', 'mark', 'kvota', 'vstup', 'mark_mean_years',\n",
       "       'placesCount_years', 'budgetCount_years', 'contractCount_years',\n",
       "       'budget_mark_mean_years', 'abit_count_years', 'mark_max_years',\n",
       "       'mark_min_years', 'budget_mark_max_years', 'budget_mark_min_years'],\n",
       "      dtype='object')"
      ]
     },
     "execution_count": 27,
     "metadata": {},
     "output_type": "execute_result"
    }
   ],
   "source": [
    "df.columns"
   ]
  },
  {
   "cell_type": "code",
   "execution_count": 28,
   "metadata": {},
   "outputs": [],
   "source": [
    "cols = ['mark',\\\n",
    " 'mark_mean_years',\\\n",
    " 'placesCount_years',\\\n",
    " 'budgetCount_years',\\\n",
    " 'contractCount_years',\\\n",
    " 'budget_mark_mean_years',\\\n",
    " 'abit_count_years',\\\n",
    " 'mark_max_years',\\\n",
    " 'mark_min_years',\\\n",
    " 'budget_mark_max_years',\\\n",
    " 'budget_mark_min_years']"
   ]
  },
  {
   "cell_type": "code",
   "execution_count": 29,
   "metadata": {},
   "outputs": [],
   "source": [
    "ct = ColumnTransformer(\n",
    "    remainder='passthrough',\n",
    "    transformers=[\n",
    "        ('MinMaxScaler', scaler , cols)\n",
    "    ])"
   ]
  },
  {
   "cell_type": "code",
   "execution_count": 30,
   "metadata": {},
   "outputs": [
    {
     "data": {
      "text/plain": [
       "ColumnTransformer(remainder='passthrough',\n",
       "                  transformers=[('MinMaxScaler', MinMaxScaler(),\n",
       "                                 ['mark', 'mark_mean_years',\n",
       "                                  'placesCount_years', 'budgetCount_years',\n",
       "                                  'contractCount_years',\n",
       "                                  'budget_mark_mean_years', 'abit_count_years',\n",
       "                                  'mark_max_years', 'mark_min_years',\n",
       "                                  'budget_mark_max_years',\n",
       "                                  'budget_mark_min_years'])])"
      ]
     },
     "execution_count": 30,
     "metadata": {},
     "output_type": "execute_result"
    }
   ],
   "source": [
    "ct.fit(df.drop('vstup', axis = 1), df.vstup)"
   ]
  },
  {
   "cell_type": "code",
   "execution_count": 31,
   "metadata": {},
   "outputs": [],
   "source": [
    "steps = [('Transformer', ct), ('Classifier', forest)]"
   ]
  },
  {
   "cell_type": "code",
   "execution_count": 32,
   "metadata": {},
   "outputs": [],
   "source": [
    "pipe = Pipeline(steps)"
   ]
  },
  {
   "cell_type": "code",
   "execution_count": 33,
   "metadata": {},
   "outputs": [],
   "source": [
    "from sklearn.model_selection import train_test_split"
   ]
  },
  {
   "cell_type": "code",
   "execution_count": 34,
   "metadata": {},
   "outputs": [],
   "source": [
    "from imblearn.combine import SMOTETomek"
   ]
  },
  {
   "cell_type": "code",
   "execution_count": 35,
   "metadata": {},
   "outputs": [],
   "source": [
    "smoteT = SMOTETomek()"
   ]
  },
  {
   "cell_type": "code",
   "execution_count": 36,
   "metadata": {},
   "outputs": [],
   "source": [
    "X_train, X_test, y_train, y_test = train_test_split(df.drop('vstup', axis = 1), df.vstup, test_size = 0.1, random_state = 42)"
   ]
  },
  {
   "cell_type": "code",
   "execution_count": 39,
   "metadata": {},
   "outputs": [],
   "source": [
    "X_mid, y_mid = smoteT.fit_resample(X_train, y_train)"
   ]
  },
  {
   "cell_type": "code",
   "execution_count": 40,
   "metadata": {},
   "outputs": [
    {
     "data": {
      "text/plain": [
       "0.902853916194151"
      ]
     },
     "execution_count": 40,
     "metadata": {},
     "output_type": "execute_result"
    }
   ],
   "source": [
    "pipe.fit(X_mid, y_mid)\n",
    "pipe.score(X_test, y_test)"
   ]
  },
  {
   "cell_type": "code",
   "execution_count": 41,
   "metadata": {},
   "outputs": [],
   "source": [
    "from sklearn.metrics import roc_auc_score\n",
    "from sklearn.metrics import f1_score\n",
    "from sklearn.metrics import precision_score\n",
    "from sklearn.metrics import recall_score\n",
    "from sklearn.metrics import accuracy_score"
   ]
  },
  {
   "cell_type": "code",
   "execution_count": 42,
   "metadata": {},
   "outputs": [],
   "source": [
    "def ModelMetrics(model):\n",
    "    print('accuracy:', accuracy_score(model.predict(X_test), y_test))\n",
    "    print('f1_score:', f1_score(model.predict(X_test), y_test))\n",
    "    print('roc_auc_score:', roc_auc_score(model.predict(X_test), y_test))\n",
    "    print('precision_score:', precision_score(model.predict(X_test), y_test))\n",
    "    print('recall_score:', recall_score(model.predict(X_test), y_test))\n",
    "    bias = 1 - accuracy_score(model.predict(X_train), y_train)\n",
    "    print('bias = ', bias)\n",
    "    variance = 1 - accuracy_score(model.predict(X_test), y_test) - bias\n",
    "    print('variance = ', variance)"
   ]
  },
  {
   "cell_type": "code",
   "execution_count": 43,
   "metadata": {},
   "outputs": [
    {
     "name": "stdout",
     "output_type": "stream",
     "text": [
      "accuracy: 0.902853916194151\n",
      "f1_score: 0.5638533854441745\n",
      "roc_auc_score: 0.7114623933835439\n",
      "precision_score: 0.7700519330640507\n",
      "recall_score: 0.4447592067988669\n",
      "bias =  0.03222846446843164\n",
      "variance =  0.06491761933741735\n"
     ]
    }
   ],
   "source": [
    "ModelMetrics(pipe)"
   ]
  },
  {
   "cell_type": "code",
   "execution_count": 44,
   "metadata": {},
   "outputs": [
    {
     "data": {
      "text/plain": [
       "['pipeline.joblib']"
      ]
     },
     "execution_count": 44,
     "metadata": {},
     "output_type": "execute_result"
    }
   ],
   "source": [
    "dump(pipe, 'pipeline.joblib')"
   ]
  },
  {
   "cell_type": "code",
   "execution_count": null,
   "metadata": {},
   "outputs": [],
   "source": []
  },
  {
   "cell_type": "code",
   "execution_count": 46,
   "metadata": {},
   "outputs": [],
   "source": [
    "from sklearn.ensemble import RandomForestClassifier"
   ]
  },
  {
   "cell_type": "code",
   "execution_count": 47,
   "metadata": {},
   "outputs": [],
   "source": [
    "from sklearn.preprocessing import MinMaxScaler"
   ]
  },
  {
   "cell_type": "code",
   "execution_count": 48,
   "metadata": {},
   "outputs": [],
   "source": [
    "from sklearn.compose import ColumnTransformer"
   ]
  },
  {
   "cell_type": "code",
   "execution_count": 49,
   "metadata": {},
   "outputs": [],
   "source": [
    "scaler = load('scaler.joblib')"
   ]
  },
  {
   "cell_type": "code",
   "execution_count": 50,
   "metadata": {},
   "outputs": [],
   "source": [
    "forest = load('forest.joblib')"
   ]
  },
  {
   "cell_type": "code",
   "execution_count": 53,
   "metadata": {},
   "outputs": [],
   "source": [
    "cols = ['mark',\\\n",
    " 'mark_mean_years',\\\n",
    " 'placesCount_years',\\\n",
    " 'budgetCount_years',\\\n",
    " 'contractCount_years',\\\n",
    " 'budget_mark_mean_years',\\\n",
    " 'abit_count_years',\\\n",
    " 'mark_max_years',\\\n",
    " 'mark_min_years',\\\n",
    " 'budget_mark_max_years',\\\n",
    " 'budget_mark_min_years']"
   ]
  },
  {
   "cell_type": "code",
   "execution_count": 54,
   "metadata": {},
   "outputs": [],
   "source": [
    "ct = ColumnTransformer(\n",
    "    remainder='passthrough',\n",
    "    transformers=[\n",
    "        ('MinMaxScaler', scaler , cols)\n",
    "    ])"
   ]
  },
  {
   "cell_type": "code",
   "execution_count": 56,
   "metadata": {},
   "outputs": [
    {
     "data": {
      "text/plain": [
       "ColumnTransformer(remainder='passthrough',\n",
       "                  transformers=[('MinMaxScaler', MinMaxScaler(),\n",
       "                                 ['mark', 'mark_mean_years',\n",
       "                                  'placesCount_years', 'budgetCount_years',\n",
       "                                  'contractCount_years',\n",
       "                                  'budget_mark_mean_years', 'abit_count_years',\n",
       "                                  'mark_max_years', 'mark_min_years',\n",
       "                                  'budget_mark_max_years',\n",
       "                                  'budget_mark_min_years'])])"
      ]
     },
     "execution_count": 56,
     "metadata": {},
     "output_type": "execute_result"
    }
   ],
   "source": [
    "ct.fit(df.drop('vstup', axis = 1))"
   ]
  },
  {
   "cell_type": "code",
   "execution_count": 68,
   "metadata": {},
   "outputs": [
    {
     "name": "stderr",
     "output_type": "stream",
     "text": [
      "C:\\Users\\Acer\\AppData\\Roaming\\Python\\Python310\\site-packages\\sklearn\\base.py:450: UserWarning: X does not have valid feature names, but RandomForestClassifier was fitted with feature names\n",
      "  warnings.warn(\n"
     ]
    },
    {
     "data": {
      "text/plain": [
       "0.9102211007339251"
      ]
     },
     "execution_count": 68,
     "metadata": {},
     "output_type": "execute_result"
    }
   ],
   "source": [
    "forest.score(ct.transform(X_train), y_train)"
   ]
  },
  {
   "cell_type": "code",
   "execution_count": 59,
   "metadata": {},
   "outputs": [
    {
     "name": "stdout",
     "output_type": "stream",
     "text": [
      "accuracy: 0.8645742653459756\n",
      "f1_score: 0.42942109436954795\n",
      "roc_auc_score: 0.6454303194295792\n",
      "precision_score: 0.624927870744374\n",
      "recall_score: 0.32709151313802476\n",
      "bias =  0.13812124365064216\n",
      "variance =  -0.002695508996617746\n"
     ]
    }
   ],
   "source": [
    "ModelMetrics(forest)"
   ]
  },
  {
   "cell_type": "code",
   "execution_count": 60,
   "metadata": {},
   "outputs": [
    {
     "data": {
      "text/plain": [
       "RandomForestClassifier(n_estimators=500, random_state=42)"
      ]
     },
     "execution_count": 60,
     "metadata": {},
     "output_type": "execute_result"
    }
   ],
   "source": [
    "forest"
   ]
  },
  {
   "cell_type": "code",
   "execution_count": 61,
   "metadata": {},
   "outputs": [],
   "source": [
    "df = pd.read_csv('df.csv')"
   ]
  },
  {
   "cell_type": "code",
   "execution_count": 62,
   "metadata": {},
   "outputs": [
    {
     "data": {
      "text/html": [
       "<div>\n",
       "<style scoped>\n",
       "    .dataframe tbody tr th:only-of-type {\n",
       "        vertical-align: middle;\n",
       "    }\n",
       "\n",
       "    .dataframe tbody tr th {\n",
       "        vertical-align: top;\n",
       "    }\n",
       "\n",
       "    .dataframe thead th {\n",
       "        text-align: right;\n",
       "    }\n",
       "</style>\n",
       "<table border=\"1\" class=\"dataframe\">\n",
       "  <thead>\n",
       "    <tr style=\"text-align: right;\">\n",
       "      <th></th>\n",
       "      <th>Unnamed: 0</th>\n",
       "      <th>priority</th>\n",
       "      <th>mark</th>\n",
       "      <th>kvota</th>\n",
       "      <th>vstup</th>\n",
       "      <th>mark_mean_years</th>\n",
       "      <th>placesCount_years</th>\n",
       "      <th>budgetCount_years</th>\n",
       "      <th>contractCount_years</th>\n",
       "      <th>budget_mark_mean_years</th>\n",
       "      <th>abit_count_years</th>\n",
       "      <th>mark_max_years</th>\n",
       "      <th>mark_min_years</th>\n",
       "      <th>budget_mark_max_years</th>\n",
       "      <th>budget_mark_min_years</th>\n",
       "    </tr>\n",
       "  </thead>\n",
       "  <tbody>\n",
       "    <tr>\n",
       "      <th>0</th>\n",
       "      <td>0</td>\n",
       "      <td>3</td>\n",
       "      <td>0.995548</td>\n",
       "      <td>0</td>\n",
       "      <td>0</td>\n",
       "      <td>0.746759</td>\n",
       "      <td>0.042491</td>\n",
       "      <td>0.051154</td>\n",
       "      <td>1.143596e-08</td>\n",
       "      <td>0.991546</td>\n",
       "      <td>0.157225</td>\n",
       "      <td>1.0</td>\n",
       "      <td>0.585326</td>\n",
       "      <td>0.90961</td>\n",
       "      <td>1.0</td>\n",
       "    </tr>\n",
       "    <tr>\n",
       "      <th>1</th>\n",
       "      <td>1</td>\n",
       "      <td>0</td>\n",
       "      <td>0.986195</td>\n",
       "      <td>0</td>\n",
       "      <td>1</td>\n",
       "      <td>0.746759</td>\n",
       "      <td>0.042491</td>\n",
       "      <td>0.051154</td>\n",
       "      <td>1.143596e-08</td>\n",
       "      <td>0.991546</td>\n",
       "      <td>0.157225</td>\n",
       "      <td>1.0</td>\n",
       "      <td>0.585326</td>\n",
       "      <td>0.90961</td>\n",
       "      <td>1.0</td>\n",
       "    </tr>\n",
       "    <tr>\n",
       "      <th>2</th>\n",
       "      <td>2</td>\n",
       "      <td>9</td>\n",
       "      <td>0.982558</td>\n",
       "      <td>0</td>\n",
       "      <td>0</td>\n",
       "      <td>0.746759</td>\n",
       "      <td>0.042491</td>\n",
       "      <td>0.051154</td>\n",
       "      <td>1.143596e-08</td>\n",
       "      <td>0.991546</td>\n",
       "      <td>0.157225</td>\n",
       "      <td>1.0</td>\n",
       "      <td>0.585326</td>\n",
       "      <td>0.90961</td>\n",
       "      <td>1.0</td>\n",
       "    </tr>\n",
       "    <tr>\n",
       "      <th>3</th>\n",
       "      <td>3</td>\n",
       "      <td>2</td>\n",
       "      <td>0.977881</td>\n",
       "      <td>0</td>\n",
       "      <td>0</td>\n",
       "      <td>0.746759</td>\n",
       "      <td>0.042491</td>\n",
       "      <td>0.051154</td>\n",
       "      <td>1.143596e-08</td>\n",
       "      <td>0.991546</td>\n",
       "      <td>0.157225</td>\n",
       "      <td>1.0</td>\n",
       "      <td>0.585326</td>\n",
       "      <td>0.90961</td>\n",
       "      <td>1.0</td>\n",
       "    </tr>\n",
       "    <tr>\n",
       "      <th>4</th>\n",
       "      <td>4</td>\n",
       "      <td>3</td>\n",
       "      <td>0.974764</td>\n",
       "      <td>0</td>\n",
       "      <td>0</td>\n",
       "      <td>0.746759</td>\n",
       "      <td>0.042491</td>\n",
       "      <td>0.051154</td>\n",
       "      <td>1.143596e-08</td>\n",
       "      <td>0.991546</td>\n",
       "      <td>0.157225</td>\n",
       "      <td>1.0</td>\n",
       "      <td>0.585326</td>\n",
       "      <td>0.90961</td>\n",
       "      <td>1.0</td>\n",
       "    </tr>\n",
       "  </tbody>\n",
       "</table>\n",
       "</div>"
      ],
      "text/plain": [
       "   Unnamed: 0  priority      mark  kvota  vstup  mark_mean_years  \\\n",
       "0           0         3  0.995548      0      0         0.746759   \n",
       "1           1         0  0.986195      0      1         0.746759   \n",
       "2           2         9  0.982558      0      0         0.746759   \n",
       "3           3         2  0.977881      0      0         0.746759   \n",
       "4           4         3  0.974764      0      0         0.746759   \n",
       "\n",
       "   placesCount_years  budgetCount_years  contractCount_years  \\\n",
       "0           0.042491           0.051154         1.143596e-08   \n",
       "1           0.042491           0.051154         1.143596e-08   \n",
       "2           0.042491           0.051154         1.143596e-08   \n",
       "3           0.042491           0.051154         1.143596e-08   \n",
       "4           0.042491           0.051154         1.143596e-08   \n",
       "\n",
       "   budget_mark_mean_years  abit_count_years  mark_max_years  mark_min_years  \\\n",
       "0                0.991546          0.157225             1.0        0.585326   \n",
       "1                0.991546          0.157225             1.0        0.585326   \n",
       "2                0.991546          0.157225             1.0        0.585326   \n",
       "3                0.991546          0.157225             1.0        0.585326   \n",
       "4                0.991546          0.157225             1.0        0.585326   \n",
       "\n",
       "   budget_mark_max_years  budget_mark_min_years  \n",
       "0                0.90961                    1.0  \n",
       "1                0.90961                    1.0  \n",
       "2                0.90961                    1.0  \n",
       "3                0.90961                    1.0  \n",
       "4                0.90961                    1.0  "
      ]
     },
     "execution_count": 62,
     "metadata": {},
     "output_type": "execute_result"
    }
   ],
   "source": [
    "df.head()"
   ]
  },
  {
   "cell_type": "code",
   "execution_count": 63,
   "metadata": {},
   "outputs": [],
   "source": [
    "df = df.drop('Unnamed: 0', axis = 1)"
   ]
  },
  {
   "cell_type": "code",
   "execution_count": 64,
   "metadata": {},
   "outputs": [],
   "source": [
    "X_train, X_test, y_train, y_test = train_test_split(df.drop('vstup', axis = 1), df.vstup, test_size = 10000)"
   ]
  },
  {
   "cell_type": "code",
   "execution_count": 70,
   "metadata": {},
   "outputs": [
    {
     "data": {
      "text/plain": [
       "RandomForestClassifier(random_state=42)"
      ]
     },
     "execution_count": 70,
     "metadata": {},
     "output_type": "execute_result"
    }
   ],
   "source": [
    "forest = RandomForestClassifier(random_state = 42)\n",
    "forest.fit(ct.transform(X_train), y_train)"
   ]
  },
  {
   "cell_type": "code",
   "execution_count": 71,
   "metadata": {},
   "outputs": [
    {
     "name": "stdout",
     "output_type": "stream",
     "text": [
      "accuracy: 0.9381\n",
      "f1_score: 0.6304477611940298\n",
      "roc_auc_score: 0.8144258234709382\n",
      "precision_score: 0.5972850678733032\n",
      "recall_score: 0.6675094816687737\n",
      "bias =  0.011006313500428244\n",
      "variance =  0.05089368649957171\n"
     ]
    }
   ],
   "source": [
    "print('accuracy:', accuracy_score(forest.predict(ct.transform(X_test)), y_test))\n",
    "print('f1_score:', f1_score(forest.predict(ct.transform(X_test)), y_test))\n",
    "print('roc_auc_score:', roc_auc_score(forest.predict(ct.transform(X_test)), y_test))\n",
    "print('precision_score:', precision_score(forest.predict(ct.transform(X_test)), y_test))\n",
    "print('recall_score:', recall_score(forest.predict(ct.transform(X_test)), y_test))\n",
    "bias = 1 - accuracy_score(forest.predict(ct.transform(X_train)), y_train)\n",
    "print('bias = ', bias)\n",
    "variance = 1 - accuracy_score(forest.predict(ct.transform(X_test)), y_test) - bias\n",
    "print('variance = ', variance)"
   ]
  },
  {
   "cell_type": "code",
   "execution_count": 74,
   "metadata": {},
   "outputs": [],
   "source": [
    "smoteT = SMOTETomek()"
   ]
  },
  {
   "cell_type": "code",
   "execution_count": 75,
   "metadata": {},
   "outputs": [],
   "source": [
    "X_mid, y_mid = smoteT.fit_resample(X_train, y_train)"
   ]
  },
  {
   "cell_type": "code",
   "execution_count": 77,
   "metadata": {},
   "outputs": [
    {
     "data": {
      "text/plain": [
       "RandomForestClassifier(n_estimators=500, random_state=42)"
      ]
     },
     "execution_count": 77,
     "metadata": {},
     "output_type": "execute_result"
    }
   ],
   "source": [
    "forest = RandomForestClassifier(random_state = 42, n_estimators = 500)\n",
    "forest.fit(ct.transform(X_mid), y_mid)"
   ]
  },
  {
   "cell_type": "code",
   "execution_count": 78,
   "metadata": {},
   "outputs": [
    {
     "data": {
      "text/plain": [
       "0.9920307728447263"
      ]
     },
     "execution_count": 78,
     "metadata": {},
     "output_type": "execute_result"
    }
   ],
   "source": [
    "forest.score(ct.transform(X_mid), y_mid)"
   ]
  },
  {
   "cell_type": "code",
   "execution_count": 81,
   "metadata": {},
   "outputs": [
    {
     "name": "stdout",
     "output_type": "stream",
     "text": [
      "accuracy: 0.9051\n",
      "f1_score: 0.5900647948164147\n",
      "roc_auc_score: 0.7269159816571835\n",
      "precision_score: 0.7726244343891403\n",
      "recall_score: 0.4772886093640811\n",
      "bias =  0.007969227155273706\n",
      "variance =  0.08693077284472628\n"
     ]
    }
   ],
   "source": [
    "y_pred = forest.predict(ct.transform(X_test))\n",
    "print('accuracy:', accuracy_score(y_pred, y_test))\n",
    "print('f1_score:', f1_score(y_pred, y_test))\n",
    "print('roc_auc_score:', roc_auc_score(y_pred, y_test))\n",
    "print('precision_score:', precision_score(y_pred, y_test))\n",
    "print('recall_score:', recall_score(y_pred, y_test))\n",
    "bias = 1 - accuracy_score(forest.predict(ct.transform(X_mid)), y_mid)\n",
    "print('bias = ', bias)\n",
    "variance = 1 - accuracy_score(y_pred, y_test) - bias\n",
    "print('variance = ', variance)"
   ]
  },
  {
   "cell_type": "code",
   "execution_count": 82,
   "metadata": {},
   "outputs": [],
   "source": [
    "X_train_mid, X_test_mid, y_train_mid, y_test_mid = train_test_split(X_mid, y_mid, test_size = 10000, random_state = 42)"
   ]
  },
  {
   "cell_type": "code",
   "execution_count": 85,
   "metadata": {},
   "outputs": [
    {
     "data": {
      "text/plain": [
       "RandomForestClassifier(max_depth=50, min_samples_leaf=50, min_samples_split=250,\n",
       "                       n_estimators=500, random_state=42)"
      ]
     },
     "execution_count": 85,
     "metadata": {},
     "output_type": "execute_result"
    }
   ],
   "source": [
    "forest = RandomForestClassifier(random_state = 42, n_estimators = 500, min_samples_split = 250, min_samples_leaf = 50, max_depth = 50)\n",
    "forest.fit(ct.transform(X_train_mid), y_train_mid)"
   ]
  },
  {
   "cell_type": "code",
   "execution_count": 86,
   "metadata": {},
   "outputs": [
    {
     "name": "stdout",
     "output_type": "stream",
     "text": [
      "accuracy: 0.8825\n",
      "f1_score: 0.5675377254324623\n",
      "roc_auc_score: 0.703392880653991\n",
      "precision_score: 0.8721719457013575\n",
      "recall_score: 0.4206219312602291\n",
      "bias =  0.0764916607939864\n",
      "variance =  0.041008339206013655\n"
     ]
    }
   ],
   "source": [
    "y_pred = forest.predict(ct.transform(X_test))\n",
    "print('accuracy:', accuracy_score(y_pred, y_test))\n",
    "print('f1_score:', f1_score(y_pred, y_test))\n",
    "print('roc_auc_score:', roc_auc_score(y_pred, y_test))\n",
    "print('precision_score:', precision_score(y_pred, y_test))\n",
    "print('recall_score:', recall_score(y_pred, y_test))\n",
    "bias = 1 - accuracy_score(forest.predict(ct.transform(X_mid)), y_mid)\n",
    "print('bias = ', bias)\n",
    "variance = 1 - accuracy_score(y_pred, y_test) - bias\n",
    "print('variance = ', variance)"
   ]
  },
  {
   "cell_type": "code",
   "execution_count": 103,
   "metadata": {},
   "outputs": [],
   "source": [
    "import ipywidgets as widgets\n",
    "from IPython.display import display"
   ]
  },
  {
   "cell_type": "code",
   "execution_count": 104,
   "metadata": {},
   "outputs": [],
   "source": [
    "Dropdown_priority = widgets.Dropdown(\n",
    "    options=[('0', 0), ('1', 1), ('2', 2), ('3', 3), ('4', 4), ('5', 5), ('6', 6), ('7', 7), ('8', 8), ('9', 9)],\n",
    "    value=2,\n",
    "    description='Priority:',\n",
    ")"
   ]
  },
  {
   "cell_type": "code",
   "execution_count": 109,
   "metadata": {},
   "outputs": [],
   "source": [
    "Slider_mark = widgets.IntSlider(\n",
    "    value=150,\n",
    "    min=100,\n",
    "    max=200,\n",
    "    step=1,\n",
    "    description='Mark:',\n",
    "    disabled=False,\n",
    "    continuous_update=False,\n",
    "    orientation='horizontal',\n",
    "    readout=True,\n",
    "    readout_format='d'\n",
    ")"
   ]
  },
  {
   "cell_type": "code",
   "execution_count": 113,
   "metadata": {},
   "outputs": [],
   "source": [
    "Dropdown_kvota = widgets.Dropdown(\n",
    "    options=[('0', 0), ('1', 1), ('2', 2)],\n",
    "    value=2,\n",
    "    description='Kvota:',\n",
    ")"
   ]
  },
  {
   "cell_type": "code",
   "execution_count": 122,
   "metadata": {},
   "outputs": [],
   "source": [
    "Dropdown_specialty = widgets.Dropdown(\n",
    "    options=to_pred.specialty.tolist(),\n",
    "    description='Specialty:',\n",
    ")"
   ]
  },
  {
   "cell_type": "code",
   "execution_count": 125,
   "metadata": {},
   "outputs": [],
   "source": [
    "Dropdown_university = widgets.Dropdown(\n",
    "    options=to_pred.university.unique().tolist(),\n",
    "    description='University:',\n",
    ")"
   ]
  },
  {
   "cell_type": "code",
   "execution_count": null,
   "metadata": {},
   "outputs": [],
   "source": []
  },
  {
   "cell_type": "code",
   "execution_count": 126,
   "metadata": {},
   "outputs": [
    {
     "data": {
      "application/vnd.jupyter.widget-view+json": {
       "model_id": "87c825cf8eed4b3d9a04d5e34bea3ec9",
       "version_major": 2,
       "version_minor": 0
      },
      "text/plain": [
       "Dropdown(description='Priority:', index=3, options=(('0', 0), ('1', 1), ('2', 2), ('3', 3), ('4', 4), ('5', 5)…"
      ]
     },
     "metadata": {},
     "output_type": "display_data"
    },
    {
     "data": {
      "application/vnd.jupyter.widget-view+json": {
       "model_id": "2489b06eac3a4d65b3a236f6b23b3a7a",
       "version_major": 2,
       "version_minor": 0
      },
      "text/plain": [
       "IntSlider(value=155, continuous_update=False, description='Mark:', max=200, min=100)"
      ]
     },
     "metadata": {},
     "output_type": "display_data"
    },
    {
     "data": {
      "application/vnd.jupyter.widget-view+json": {
       "model_id": "7e8457b201eb48c2b997f4b9e5906b9c",
       "version_major": 2,
       "version_minor": 0
      },
      "text/plain": [
       "Dropdown(description='Kvota:', index=2, options=(('0', 0), ('1', 1), ('2', 2)), value=2)"
      ]
     },
     "metadata": {},
     "output_type": "display_data"
    },
    {
     "data": {
      "application/vnd.jupyter.widget-view+json": {
       "model_id": "370bb80a98604348a59b344a08a2aa1f",
       "version_major": 2,
       "version_minor": 0
      },
      "text/plain": [
       "Dropdown(description='Specialty:', options=('Хімія', 'Фінанси,банківськасправатастрахування', 'Філософія', 'Фі…"
      ]
     },
     "metadata": {},
     "output_type": "display_data"
    },
    {
     "data": {
      "application/vnd.jupyter.widget-view+json": {
       "model_id": "9bcde6edd26f4001a995c66254b77b86",
       "version_major": 2,
       "version_minor": 0
      },
      "text/plain": [
       "Dropdown(description='University:', options=('Харківський національний університет імені В.Н. Каразіна', 'Сумс…"
      ]
     },
     "metadata": {},
     "output_type": "display_data"
    }
   ],
   "source": [
    "display(Dropdown_priority)\n",
    "display(Slider_mark)\n",
    "display(Dropdown_kvota)\n",
    "display(Dropdown_specialty)\n",
    "display(Dropdown_university)"
   ]
  },
  {
   "cell_type": "code",
   "execution_count": 146,
   "metadata": {},
   "outputs": [],
   "source": [
    "ourPred = to_pred[(to_pred.specialty == Dropdown_specialty.value) & (to_pred.university == Dropdown_university.value)].head(1)\n",
    "ourPred = ourPred.drop(['specialty', 'university'], axis = 1)\n",
    "ourPred['priority'] = Dropdown_priority.value\n",
    "ourPred['mark'] = Slider_mark.value\n",
    "ourPred['kvota'] = Dropdown_kvota.value\n",
    "pred = pd.DataFrame([[priority, mark, kvota, \\\n",
    "    ourPred.mark_mean_years, ourPred.placesCount_years,\\\n",
    "    ourPred.budgetCount_years, ourPred.contractCount_years, ourPred.budget_mark_mean_years,\\\n",
    "    ourPred.abit_count_years, ourPred.mark_max_years, ourPred.mark_min_years, ourPred.budget_mark_max_years, ourPred.budget_mark_min_years]], \\\n",
    "    columns = ['priority', 'mark', 'kvota',\\\n",
    "    'mark_mean_years',\\\n",
    "    'placesCount_years', 'budgetCount_years', 'contractCount_years',\\\n",
    "    'budget_mark_mean_years', 'abit_count_years', 'mark_max_years',\\\n",
    "    'mark_min_years', 'budget_mark_max_years', 'budget_mark_min_years'])"
   ]
  },
  {
   "cell_type": "code",
   "execution_count": 147,
   "metadata": {},
   "outputs": [
    {
     "name": "stdout",
     "output_type": "stream",
     "text": [
      "Prediction:  [0]\n"
     ]
    }
   ],
   "source": [
    "print('Prediction: ', pipe.predict(pred))"
   ]
  },
  {
   "cell_type": "code",
   "execution_count": 148,
   "metadata": {},
   "outputs": [
    {
     "name": "stdout",
     "output_type": "stream",
     "text": [
      "Predict proba: [[0.982 0.018]]\n"
     ]
    }
   ],
   "source": [
    "print('Predict proba:', pipe.predict_proba(pred))"
   ]
  },
  {
   "cell_type": "code",
   "execution_count": 149,
   "metadata": {},
   "outputs": [],
   "source": [
    "from sklearn.calibration import calibration_curve"
   ]
  },
  {
   "cell_type": "code",
   "execution_count": 154,
   "metadata": {},
   "outputs": [],
   "source": [
    "prob_true, prob_pred = calibration_curve(y_mid, forest.predict(ct.transform(X_mid)), n_bins = 100)"
   ]
  },
  {
   "cell_type": "code",
   "execution_count": 155,
   "metadata": {},
   "outputs": [],
   "source": [
    "from sklearn.calibration import CalibrationDisplay"
   ]
  },
  {
   "cell_type": "code",
   "execution_count": 156,
   "metadata": {},
   "outputs": [
    {
     "data": {
      "text/plain": [
       "<sklearn.calibration.CalibrationDisplay at 0x236f5253010>"
      ]
     },
     "execution_count": 156,
     "metadata": {},
     "output_type": "execute_result"
    },
    {
     "data": {
      "image/png": "[encoded data removed]",
      "text/plain": [
       "<Figure size 432x288 with 1 Axes>"
      ]
     },
     "metadata": {
      "needs_background": "light"
     },
     "output_type": "display_data"
    }
   ],
   "source": [
    "CalibrationDisplay.from_estimator(forest, ct.transform(X_mid), y_mid, n_bins=10)"
   ]
  },
  {
   "cell_type": "code",
   "execution_count": 157,
   "metadata": {},
   "outputs": [],
   "source": [
    "def expected_calibration_error(y, proba, bins = 'fd'):\n",
    "  import numpy as np\n",
    "  bin_count, bin_edges = np.histogram(proba, bins = bins)\n",
    "  n_bins = len(bin_count)\n",
    "  bin_edges[0] -= 1e-8 # because left edge is not included\n",
    "  bin_id = np.digitize(proba, bin_edges, right = True) - 1\n",
    "  bin_ysum = np.bincount(bin_id, weights = y, minlength = n_bins)\n",
    "  bin_probasum = np.bincount(bin_id, weights = proba, minlength = n_bins)\n",
    "  bin_ymean = np.divide(bin_ysum, bin_count, out = np.zeros(n_bins), where = bin_count > 0)\n",
    "  bin_probamean = np.divide(bin_probasum, bin_count, out = np.zeros(n_bins), where = bin_count > 0)\n",
    "  ece = np.abs((bin_probamean - bin_ymean) * bin_count).sum() / len(proba)\n",
    "  return ece"
   ]
  },
  {
   "cell_type": "code",
   "execution_count": 161,
   "metadata": {},
   "outputs": [],
   "source": [
    "proba_valid = forest.predict_proba(ct.transform(X_mid))[:, 1]"
   ]
  },
  {
   "cell_type": "code",
   "execution_count": 162,
   "metadata": {},
   "outputs": [
    {
     "data": {
      "text/plain": [
       "array([0.63879124, 0.05252829, 0.00444839, ..., 0.9872054 , 0.5935109 ,\n",
       "       0.87994254])"
      ]
     },
     "execution_count": 162,
     "metadata": {},
     "output_type": "execute_result"
    }
   ],
   "source": [
    "proba_valid"
   ]
  },
  {
   "cell_type": "code",
   "execution_count": 163,
   "metadata": {},
   "outputs": [
    {
     "data": {
      "text/plain": [
       "0.05523529494998427"
      ]
     },
     "execution_count": 163,
     "metadata": {},
     "output_type": "execute_result"
    }
   ],
   "source": [
    "expected_calibration_error(y_mid, proba_valid)"
   ]
  },
  {
   "cell_type": "code",
   "execution_count": 170,
   "metadata": {},
   "outputs": [],
   "source": [
    "from sklearn.isotonic import IsotonicRegression\n",
    "iso_reg = IsotonicRegression(y_min = 0, y_max = 1, out_of_bounds = 'clip').fit(proba_valid, y_mid)\n",
    "proba_test_forest_isoreg = iso_reg.predict(forest.predict_proba(ct.transform(X_mid))[:, 1])"
   ]
  },
  {
   "cell_type": "code",
   "execution_count": 171,
   "metadata": {},
   "outputs": [
    {
     "data": {
      "text/plain": [
       "9.879312780411489e-14"
      ]
     },
     "execution_count": 171,
     "metadata": {},
     "output_type": "execute_result"
    }
   ],
   "source": [
    "expected_calibration_error(y_mid, proba_test_forest_isoreg)"
   ]
  },
  {
   "cell_type": "code",
   "execution_count": 172,
   "metadata": {},
   "outputs": [
    {
     "data": {
      "text/plain": [
       "array([0.73529412, 0.00182076, 0.        , ..., 1.        , 0.66566806,\n",
       "       0.94780382])"
      ]
     },
     "execution_count": 172,
     "metadata": {},
     "output_type": "execute_result"
    }
   ],
   "source": [
    "proba_test_forest_isoreg"
   ]
  },
  {
   "cell_type": "code",
   "execution_count": 177,
   "metadata": {},
   "outputs": [],
   "source": [
    "prob_true, prob_pred = calibration_curve(y_mid, proba_test_forest_isoreg, n_bins = 10)"
   ]
  },
  {
   "cell_type": "code",
   "execution_count": 183,
   "metadata": {},
   "outputs": [],
   "source": [
    "from sklearn.linear_model import LogisticRegression\n",
    "log_reg = LogisticRegression().fit(proba_valid.reshape(-1, 1), y_mid)\n",
    "proba_test_forest_logreg = log_reg.predict_proba(forest.predict_proba(ct.transform(X_mid))[:, 1].reshape(-1, 1))[:, 1]"
   ]
  },
  {
   "cell_type": "code",
   "execution_count": 184,
   "metadata": {},
   "outputs": [
    {
     "data": {
      "text/plain": [
       "0.02215368999302227"
      ]
     },
     "execution_count": 184,
     "metadata": {},
     "output_type": "execute_result"
    }
   ],
   "source": [
    "expected_calibration_error(y_mid, proba_test_forest_logreg)"
   ]
  },
  {
   "cell_type": "code",
   "execution_count": 190,
   "metadata": {},
   "outputs": [
    {
     "data": {
      "text/plain": [
       "0.05523529494998427"
      ]
     },
     "execution_count": 190,
     "metadata": {},
     "output_type": "execute_result"
    }
   ],
   "source": [
    "expected_calibration_error(y_mid, proba_valid)"
   ]
  },
  {
   "cell_type": "code",
   "execution_count": 198,
   "metadata": {},
   "outputs": [],
   "source": [
    "import numpy as np\n",
    "from numpy import linspace"
   ]
  },
  {
   "cell_type": "code",
   "execution_count": 201,
   "metadata": {},
   "outputs": [],
   "source": [
    "z_bins = linspace(start = -1, stop = 1, num = 2000)\n",
    "ECE = np.array([])\n",
    "for i in range(len(z_bins)-1):\n",
    "    ECE = np.append(ECE, expected_calibration_error(y_mid, proba_valid/z_bins[i]))"
   ]
  },
  {
   "cell_type": "code",
   "execution_count": 202,
   "metadata": {},
   "outputs": [
    {
     "data": {
      "text/plain": [
       "array([1.00006774, 1.00056856, 1.00107038, ..., 0.05404217, 0.05444068,\n",
       "       0.05483838])"
      ]
     },
     "execution_count": 202,
     "metadata": {},
     "output_type": "execute_result"
    }
   ],
   "source": [
    "ECE"
   ]
  },
  {
   "cell_type": "code",
   "execution_count": 204,
   "metadata": {},
   "outputs": [
    {
     "data": {
      "text/plain": [
       "1960"
      ]
     },
     "execution_count": 204,
     "metadata": {},
     "output_type": "execute_result"
    }
   ],
   "source": [
    "np.argmin(ECE)"
   ]
  },
  {
   "cell_type": "code",
   "execution_count": 208,
   "metadata": {},
   "outputs": [
    {
     "data": {
      "text/plain": [
       "0.04525430012012432"
      ]
     },
     "execution_count": 208,
     "metadata": {},
     "output_type": "execute_result"
    }
   ],
   "source": [
    "ECE[1960]"
   ]
  },
  {
   "cell_type": "code",
   "execution_count": null,
   "metadata": {},
   "outputs": [],
   "source": []
  }
 ],
 "metadata": {
  "kernelspec": {
   "display_name": "Python 3 (ipykernel)",
   "language": "python",
   "name": "python3"
  },
  "language_info": {
   "codemirror_mode": {
    "name": "ipython",
    "version": 3
   },
   "file_extension": ".py",
   "mimetype": "text/x-python",
   "name": "python",
   "nbconvert_exporter": "python",
   "pygments_lexer": "ipython3",
   "version": "3.10.1"
  }
 },
 "nbformat": 4,
 "nbformat_minor": 4
}
