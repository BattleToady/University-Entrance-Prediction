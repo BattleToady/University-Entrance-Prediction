{
 "cells": [
  {
   "cell_type": "code",
   "execution_count": 1,
   "metadata": {},
   "outputs": [],
   "source": [
    "import pandas as pd"
   ]
  },
  {
   "cell_type": "code",
   "execution_count": 2,
   "metadata": {},
   "outputs": [],
   "source": [
    "df17 = pd.read_csv('df17.csv')\n",
    "df18 = pd.read_csv('df18.csv')\n",
    "df19 = pd.read_csv('df19.csv')\n",
    "df20 = pd.read_csv('df20.csv')"
   ]
  },
  {
   "cell_type": "code",
   "execution_count": 3,
   "metadata": {},
   "outputs": [],
   "source": [
    "df = pd.concat([df17, df18, df19, df20])"
   ]
  },
  {
   "cell_type": "code",
   "execution_count": 4,
   "metadata": {},
   "outputs": [
    {
     "data": {
      "text/html": [
       "<div>\n",
       "<style scoped>\n",
       "    .dataframe tbody tr th:only-of-type {\n",
       "        vertical-align: middle;\n",
       "    }\n",
       "\n",
       "    .dataframe tbody tr th {\n",
       "        vertical-align: top;\n",
       "    }\n",
       "\n",
       "    .dataframe thead th {\n",
       "        text-align: right;\n",
       "    }\n",
       "</style>\n",
       "<table border=\"1\" class=\"dataframe\">\n",
       "  <thead>\n",
       "    <tr style=\"text-align: right;\">\n",
       "      <th></th>\n",
       "      <th>Unnamed: 0</th>\n",
       "      <th>student_id</th>\n",
       "      <th>priority</th>\n",
       "      <th>mark</th>\n",
       "      <th>status</th>\n",
       "      <th>kvota</th>\n",
       "      <th>year</th>\n",
       "      <th>specialty</th>\n",
       "      <th>university</th>\n",
       "      <th>placesCount</th>\n",
       "      <th>...</th>\n",
       "      <th>contractCount</th>\n",
       "      <th>vstup</th>\n",
       "      <th>budget_mark_mean</th>\n",
       "      <th>mark_mean</th>\n",
       "      <th>abit_count</th>\n",
       "      <th>mark_max</th>\n",
       "      <th>mark_min</th>\n",
       "      <th>budget_mark_max</th>\n",
       "      <th>budget_mark_min</th>\n",
       "      <th>position</th>\n",
       "    </tr>\n",
       "  </thead>\n",
       "  <tbody>\n",
       "    <tr>\n",
       "      <th>0</th>\n",
       "      <td>0</td>\n",
       "      <td>1</td>\n",
       "      <td>1</td>\n",
       "      <td>200.0</td>\n",
       "      <td>До наказу (бюджет)</td>\n",
       "      <td>None</td>\n",
       "      <td>2017</td>\n",
       "      <td>Хімія</td>\n",
       "      <td>Харківський національний університет імені В.Н...</td>\n",
       "      <td>100</td>\n",
       "      <td>...</td>\n",
       "      <td>49</td>\n",
       "      <td>True</td>\n",
       "      <td>184.054083</td>\n",
       "      <td>175.373299</td>\n",
       "      <td>214</td>\n",
       "      <td>200.0</td>\n",
       "      <td>136.249</td>\n",
       "      <td>200.0</td>\n",
       "      <td>164.888</td>\n",
       "      <td>1</td>\n",
       "    </tr>\n",
       "    <tr>\n",
       "      <th>1</th>\n",
       "      <td>1</td>\n",
       "      <td>2</td>\n",
       "      <td>1</td>\n",
       "      <td>200.0</td>\n",
       "      <td>До наказу (бюджет)</td>\n",
       "      <td>None</td>\n",
       "      <td>2017</td>\n",
       "      <td>Хімія</td>\n",
       "      <td>Харківський національний університет імені В.Н...</td>\n",
       "      <td>100</td>\n",
       "      <td>...</td>\n",
       "      <td>49</td>\n",
       "      <td>True</td>\n",
       "      <td>184.054083</td>\n",
       "      <td>175.373299</td>\n",
       "      <td>214</td>\n",
       "      <td>200.0</td>\n",
       "      <td>136.249</td>\n",
       "      <td>200.0</td>\n",
       "      <td>164.888</td>\n",
       "      <td>2</td>\n",
       "    </tr>\n",
       "    <tr>\n",
       "      <th>2</th>\n",
       "      <td>2</td>\n",
       "      <td>3</td>\n",
       "      <td>3</td>\n",
       "      <td>200.0</td>\n",
       "      <td>Допущено</td>\n",
       "      <td>None</td>\n",
       "      <td>2017</td>\n",
       "      <td>Хімія</td>\n",
       "      <td>Харківський національний університет імені В.Н...</td>\n",
       "      <td>100</td>\n",
       "      <td>...</td>\n",
       "      <td>49</td>\n",
       "      <td>False</td>\n",
       "      <td>184.054083</td>\n",
       "      <td>175.373299</td>\n",
       "      <td>214</td>\n",
       "      <td>200.0</td>\n",
       "      <td>136.249</td>\n",
       "      <td>200.0</td>\n",
       "      <td>164.888</td>\n",
       "      <td>3</td>\n",
       "    </tr>\n",
       "    <tr>\n",
       "      <th>3</th>\n",
       "      <td>3</td>\n",
       "      <td>4</td>\n",
       "      <td>1</td>\n",
       "      <td>200.0</td>\n",
       "      <td>До наказу (бюджет)</td>\n",
       "      <td>None</td>\n",
       "      <td>2017</td>\n",
       "      <td>Хімія</td>\n",
       "      <td>Харківський національний університет імені В.Н...</td>\n",
       "      <td>100</td>\n",
       "      <td>...</td>\n",
       "      <td>49</td>\n",
       "      <td>True</td>\n",
       "      <td>184.054083</td>\n",
       "      <td>175.373299</td>\n",
       "      <td>214</td>\n",
       "      <td>200.0</td>\n",
       "      <td>136.249</td>\n",
       "      <td>200.0</td>\n",
       "      <td>164.888</td>\n",
       "      <td>4</td>\n",
       "    </tr>\n",
       "    <tr>\n",
       "      <th>4</th>\n",
       "      <td>4</td>\n",
       "      <td>5</td>\n",
       "      <td>3</td>\n",
       "      <td>200.0</td>\n",
       "      <td>Допущено</td>\n",
       "      <td>None</td>\n",
       "      <td>2017</td>\n",
       "      <td>Хімія</td>\n",
       "      <td>Харківський національний університет імені В.Н...</td>\n",
       "      <td>100</td>\n",
       "      <td>...</td>\n",
       "      <td>49</td>\n",
       "      <td>False</td>\n",
       "      <td>184.054083</td>\n",
       "      <td>175.373299</td>\n",
       "      <td>214</td>\n",
       "      <td>200.0</td>\n",
       "      <td>136.249</td>\n",
       "      <td>200.0</td>\n",
       "      <td>164.888</td>\n",
       "      <td>5</td>\n",
       "    </tr>\n",
       "  </tbody>\n",
       "</table>\n",
       "<p>5 rows × 21 columns</p>\n",
       "</div>"
      ],
      "text/plain": [
       "   Unnamed: 0  student_id priority   mark              status kvota  year  \\\n",
       "0           0           1        1  200.0  До наказу (бюджет)  None  2017   \n",
       "1           1           2        1  200.0  До наказу (бюджет)  None  2017   \n",
       "2           2           3        3  200.0            Допущено  None  2017   \n",
       "3           3           4        1  200.0  До наказу (бюджет)  None  2017   \n",
       "4           4           5        3  200.0            Допущено  None  2017   \n",
       "\n",
       "  specialty                                         university  placesCount  \\\n",
       "0     Хімія  Харківський національний університет імені В.Н...          100   \n",
       "1     Хімія  Харківський національний університет імені В.Н...          100   \n",
       "2     Хімія  Харківський національний університет імені В.Н...          100   \n",
       "3     Хімія  Харківський національний університет імені В.Н...          100   \n",
       "4     Хімія  Харківський національний університет імені В.Н...          100   \n",
       "\n",
       "   ...  contractCount  vstup  budget_mark_mean   mark_mean  abit_count  \\\n",
       "0  ...             49   True        184.054083  175.373299         214   \n",
       "1  ...             49   True        184.054083  175.373299         214   \n",
       "2  ...             49  False        184.054083  175.373299         214   \n",
       "3  ...             49   True        184.054083  175.373299         214   \n",
       "4  ...             49  False        184.054083  175.373299         214   \n",
       "\n",
       "   mark_max  mark_min  budget_mark_max  budget_mark_min  position  \n",
       "0     200.0   136.249            200.0          164.888         1  \n",
       "1     200.0   136.249            200.0          164.888         2  \n",
       "2     200.0   136.249            200.0          164.888         3  \n",
       "3     200.0   136.249            200.0          164.888         4  \n",
       "4     200.0   136.249            200.0          164.888         5  \n",
       "\n",
       "[5 rows x 21 columns]"
      ]
     },
     "execution_count": 4,
     "metadata": {},
     "output_type": "execute_result"
    }
   ],
   "source": [
    "df.head()"
   ]
  },
  {
   "cell_type": "code",
   "execution_count": 5,
   "metadata": {},
   "outputs": [
    {
     "name": "stderr",
     "output_type": "stream",
     "text": [
      "C:\\Users\\Acer\\AppData\\Local\\Temp/ipykernel_14824/3302241255.py:1: FutureWarning: The default value of regex will change from True to False in a future version.\n",
      "  df.specialty = df.specialty.str.replace('\\d+', '')\n"
     ]
    }
   ],
   "source": [
    "df.specialty = df.specialty.str.replace('\\d+', '')"
   ]
  },
  {
   "cell_type": "code",
   "execution_count": 6,
   "metadata": {},
   "outputs": [
    {
     "data": {
      "text/plain": [
       "array(['Хімія', 'Фінанси,банківськасправатастрахування', 'Філософія',\n",
       "       'Філологія', 'Фізикатаастрономія', 'Туризм', 'Соціологія',\n",
       "       'Соціальнаробота', 'Підприємництво,торгівлятабіржовадіяльність',\n",
       "       'Психологія', 'Прикладнафізикатананоматеріали',\n",
       "       'Прикладнаматематика', 'Право', 'Облікіоподаткування',\n",
       "       'НаукипроЗемлю', 'Мікро', 'Міжнародніекономічнівідносини',\n",
       "       'Міжнароднівідносини,суспільнікомунікаціїтарегіональністудії',\n",
       "       'Міжнароднеправо', 'Менеджмент', 'Математика', 'Маркетинг',\n",
       "       'Кібербезпека', 'Комп’ютернаінженерія', \"Комп'ютернінауки\",\n",
       "       'Економіка', 'Екологія', 'Готельно', 'Географія',\n",
       "       'Біотехнологіїтабіоінженерія', 'Біологія',\n",
       "       'Автоматизаціятакомп’ютерно', 'Історіятаархеологія',\n",
       "       'Фізичнатерапія,ерготерапія',\n",
       "       'Технологіїзахистунавколишньогосередовища', 'Теплоенергетика',\n",
       "       'Телекомунікаціїтарадіотехніка',\n",
       "       'Публічнеуправліннятаадміністрування', 'Прикладнамеханіка',\n",
       "       'Менеджментсоціокультурноїдіяльності', 'Матеріалознавство',\n",
       "       'Енергетичнемашинобудування', 'Електроніка',\n",
       "       'Електроенергетика,електротехнікатаелектромеханіка',\n",
       "       'Галузевемашинобудування', 'Хімічнітехнологіїтаінженерія',\n",
       "       'Харчовітехнології', 'Фармація,промисловафармація',\n",
       "       'Транспортнітехнології', 'Соціальнезабезпечення',\n",
       "       'Системнийаналіз', 'Музеєзнавство,пам’яткознавство',\n",
       "       'Метрологіятаінформаційно', 'Металургія', 'Геодезіятаземлеустрій',\n",
       "       'Видавництвотаполіграфія', 'Біомедичнаінженерія',\n",
       "       'Будівництвотацивільнаінженерія', 'Атомнаенергетика', 'Авіоніка',\n",
       "       'Автомобільнийтранспорт', 'Інформаційнісистемитатехнології',\n",
       "       'Інформаційна,бібліотечнатаархівнасправа',\n",
       "       'Інженеріяпрограмногозабезпечення', 'Авіаційнатаракетно',\n",
       "       'Статистика', 'Політологія', 'Культурологія', 'Журналістика',\n",
       "       'Цивільнабезпека', 'Пожежнабезпека',\n",
       "       'Гідротехнічнебудівництво,воднаінженеріятаводнітехнології',\n",
       "       'Професійнаосвіта', 'Гірництво', 'Середняосвіта',\n",
       "       'Початковаосвіта', 'Дошкільнаосвіта', 'Громадськездоров`я',\n",
       "       'Нафтогазоваінженеріятатехнології', 'Спеціальнаосвіта'],\n",
       "      dtype=object)"
      ]
     },
     "execution_count": 6,
     "metadata": {},
     "output_type": "execute_result"
    }
   ],
   "source": [
    "df.specialty.unique()"
   ]
  },
  {
   "cell_type": "code",
   "execution_count": 7,
   "metadata": {},
   "outputs": [],
   "source": [
    "df = df.drop('Unnamed: 0', axis = 1)"
   ]
  },
  {
   "cell_type": "code",
   "execution_count": 8,
   "metadata": {},
   "outputs": [
    {
     "data": {
      "text/plain": [
       "student_id            int64\n",
       "priority             object\n",
       "mark                float64\n",
       "status               object\n",
       "kvota                object\n",
       "year                  int64\n",
       "specialty            object\n",
       "university           object\n",
       "placesCount           int64\n",
       "budgetCount           int64\n",
       "contractCount         int64\n",
       "vstup                  bool\n",
       "budget_mark_mean    float64\n",
       "mark_mean           float64\n",
       "abit_count            int64\n",
       "mark_max            float64\n",
       "mark_min            float64\n",
       "budget_mark_max     float64\n",
       "budget_mark_min     float64\n",
       "position              int64\n",
       "dtype: object"
      ]
     },
     "execution_count": 8,
     "metadata": {},
     "output_type": "execute_result"
    }
   ],
   "source": [
    "df.dtypes"
   ]
  },
  {
   "cell_type": "code",
   "execution_count": 9,
   "metadata": {},
   "outputs": [],
   "source": [
    "df = df.drop(['student_id', 'status'], axis = 1)"
   ]
  },
  {
   "cell_type": "code",
   "execution_count": 10,
   "metadata": {},
   "outputs": [
    {
     "data": {
      "text/plain": [
       "array(['1', '3', '2', '5', '6', '4', '9', '7', 'К', '8'], dtype=object)"
      ]
     },
     "execution_count": 10,
     "metadata": {},
     "output_type": "execute_result"
    }
   ],
   "source": [
    "df.priority.unique()"
   ]
  },
  {
   "cell_type": "code",
   "execution_count": 11,
   "metadata": {},
   "outputs": [],
   "source": [
    "df['priority'] = df.priority.astype('category')"
   ]
  },
  {
   "cell_type": "code",
   "execution_count": 12,
   "metadata": {},
   "outputs": [
    {
     "data": {
      "text/plain": [
       "array(['None', 'Квота-1', 'Квота-2'], dtype=object)"
      ]
     },
     "execution_count": 12,
     "metadata": {},
     "output_type": "execute_result"
    }
   ],
   "source": [
    "df.kvota.unique()"
   ]
  },
  {
   "cell_type": "code",
   "execution_count": 13,
   "metadata": {},
   "outputs": [
    {
     "data": {
      "text/plain": [
       "kvota\n",
       "None       422812\n",
       "Квота-1      2009\n",
       "Квота-2       201\n",
       "Name: kvota, dtype: int64"
      ]
     },
     "execution_count": 13,
     "metadata": {},
     "output_type": "execute_result"
    }
   ],
   "source": [
    "df.groupby('kvota').kvota.count()"
   ]
  },
  {
   "cell_type": "code",
   "execution_count": 14,
   "metadata": {},
   "outputs": [],
   "source": [
    "df['kvota'] = df.kvota.astype('category')"
   ]
  },
  {
   "cell_type": "code",
   "execution_count": 15,
   "metadata": {},
   "outputs": [],
   "source": [
    "df['vstup'] = df.vstup.astype('category')"
   ]
  },
  {
   "cell_type": "code",
   "execution_count": 16,
   "metadata": {},
   "outputs": [
    {
     "name": "stdout",
     "output_type": "stream",
     "text": [
      "0         0\n",
      "1         0\n",
      "2         2\n",
      "3         0\n",
      "4         2\n",
      "         ..\n",
      "108902    9\n",
      "108903    2\n",
      "108904    1\n",
      "108905    2\n",
      "108906    9\n",
      "Length: 425022, dtype: int8\n",
      "Index(['1', '2', '3', '4', '5', '6', '7', '8', '9', 'К'], dtype='object')\n"
     ]
    }
   ],
   "source": [
    "print(df.priority.cat.codes)\n",
    "print(df.priority.cat.categories)\n",
    "df.priority = df.priority.cat.codes"
   ]
  },
  {
   "cell_type": "code",
   "execution_count": 17,
   "metadata": {},
   "outputs": [
    {
     "name": "stdout",
     "output_type": "stream",
     "text": [
      "0         0\n",
      "1         0\n",
      "2         0\n",
      "3         0\n",
      "4         0\n",
      "         ..\n",
      "108902    0\n",
      "108903    0\n",
      "108904    0\n",
      "108905    0\n",
      "108906    0\n",
      "Length: 425022, dtype: int8\n",
      "Index(['None', 'Квота-1', 'Квота-2'], dtype='object')\n"
     ]
    }
   ],
   "source": [
    "print(df.kvota.cat.codes)\n",
    "print(df.kvota.cat.categories)\n",
    "df.kvota = df.kvota.cat.codes"
   ]
  },
  {
   "cell_type": "code",
   "execution_count": 18,
   "metadata": {},
   "outputs": [
    {
     "name": "stdout",
     "output_type": "stream",
     "text": [
      "0         1\n",
      "1         1\n",
      "2         0\n",
      "3         1\n",
      "4         0\n",
      "         ..\n",
      "108902    0\n",
      "108903    0\n",
      "108904    0\n",
      "108905    0\n",
      "108906    0\n",
      "Length: 425022, dtype: int8\n",
      "Index([False, True], dtype='object')\n"
     ]
    }
   ],
   "source": [
    "print(df.vstup.cat.codes)\n",
    "print(df.vstup.cat.categories)\n",
    "df.vstup = df.vstup.cat.codes"
   ]
  },
  {
   "cell_type": "code",
   "execution_count": 19,
   "metadata": {},
   "outputs": [],
   "source": [
    "pd.set_option('display.max_columns', None)"
   ]
  },
  {
   "cell_type": "code",
   "execution_count": 20,
   "metadata": {},
   "outputs": [],
   "source": [
    "df['mark_mean_years'] = 0\n",
    "df.loc[(df.year == 2017) | (df.year == 2018), 'mark_mean_years'] = df[(df.year == 2017) | (df.year == 2018)].groupby(['university', 'specialty']).mark_mean.transform('mean')\n",
    "df['mark_mean_years'] = df.groupby(['university', 'specialty']).mark_mean_years.transform('max')\n",
    "\n",
    "df['placesCount_years'] = 0\n",
    "df.loc[(df.year == 2017) | (df.year == 2018), 'placesCount_years'] = df[(df.year == 2017) | (df.year == 2018)].groupby(['university', 'specialty']).placesCount.transform('mean')\n",
    "df['placesCount_years'] = df.groupby(['university', 'specialty']).placesCount_years.transform('max')\n",
    "\n",
    "df['budgetCount_years'] = 0\n",
    "df.loc[(df.year == 2017) | (df.year == 2018), 'budgetCount_years'] = df[(df.year == 2017) | (df.year == 2018)].groupby(['university', 'specialty']).budgetCount.transform('mean')\n",
    "df['budgetCount_years'] = df.groupby(['university', 'specialty']).budgetCount_years.transform('max')\n",
    "\n",
    "df['contractCount_years'] = 0\n",
    "df.loc[(df.year == 2017) | (df.year == 2018), 'contractCount_years'] = df[(df.year == 2017) | (df.year == 2018)].groupby(['university', 'specialty']).contractCount.transform('mean')\n",
    "df['contractCount_years'] = df.groupby(['university', 'specialty']).contractCount_years.transform('max')\n",
    "\n",
    "df['budget_mark_mean_years'] = 0\n",
    "df.loc[(df.year == 2017) | (df.year == 2018), 'budget_mark_mean_years'] = df[(df.year == 2017) | (df.year == 2018)].groupby(['university', 'specialty']).budget_mark_mean.transform('mean')\n",
    "df['budget_mark_mean_years'] = df.groupby(['university', 'specialty']).budget_mark_mean_years.transform('max')\n",
    "\n",
    "df['abit_count_years'] = 0\n",
    "df.loc[(df.year == 2017) | (df.year == 2018), 'abit_count_years'] = df[(df.year == 2017) | (df.year == 2018)].groupby(['university', 'specialty']).abit_count.transform('mean')\n",
    "df['abit_count_years'] = df.groupby(['university', 'specialty']).abit_count_years.transform('max')\n",
    "\n",
    "df['mark_max_years'] = 0\n",
    "df.loc[(df.year == 2017) | (df.year == 2018), 'mark_max_years'] = df[(df.year == 2017) | (df.year == 2018)].groupby(['university', 'specialty']).mark_max.transform('mean')\n",
    "df['mark_max_years'] = df.groupby(['university', 'specialty']).mark_max_years.transform('max')\n",
    "\n",
    "df['mark_min_years'] = 0\n",
    "df.loc[(df.year == 2017) | (df.year == 2018), 'mark_min_years'] = df[(df.year == 2017) | (df.year == 2018)].groupby(['university', 'specialty']).mark_min.transform('mean')\n",
    "df['mark_min_years'] = df.groupby(['university', 'specialty']).mark_min_years.transform('max')\n",
    "\n",
    "df['budget_mark_max_years'] = 0\n",
    "df.loc[(df.year == 2017) | (df.year == 2018), 'budget_mark_max_years'] = df[(df.year == 2017) | (df.year == 2018)].groupby(['university', 'specialty']).budget_mark_max.transform('mean')\n",
    "df['budget_mark_max_years'] = df.groupby(['university', 'specialty']).budget_mark_max_years.transform('max')\n",
    "\n",
    "df['budget_mark_min_years'] = 0\n",
    "df.loc[(df.year == 2017) | (df.year == 2018), 'budget_mark_min_years'] = df[(df.year == 2017) | (df.year == 2018)].groupby(['university', 'specialty']).budget_mark_min.transform('mean')\n",
    "df['budget_mark_min_years'] = df.groupby(['university', 'specialty']).budget_mark_min_years.transform('max')"
   ]
  },
  {
   "cell_type": "code",
   "execution_count": 21,
   "metadata": {},
   "outputs": [
    {
     "data": {
      "text/html": [
       "<div>\n",
       "<style scoped>\n",
       "    .dataframe tbody tr th:only-of-type {\n",
       "        vertical-align: middle;\n",
       "    }\n",
       "\n",
       "    .dataframe tbody tr th {\n",
       "        vertical-align: top;\n",
       "    }\n",
       "\n",
       "    .dataframe thead th {\n",
       "        text-align: right;\n",
       "    }\n",
       "</style>\n",
       "<table border=\"1\" class=\"dataframe\">\n",
       "  <thead>\n",
       "    <tr style=\"text-align: right;\">\n",
       "      <th></th>\n",
       "      <th>priority</th>\n",
       "      <th>mark</th>\n",
       "      <th>kvota</th>\n",
       "      <th>year</th>\n",
       "      <th>specialty</th>\n",
       "      <th>university</th>\n",
       "      <th>placesCount</th>\n",
       "      <th>budgetCount</th>\n",
       "      <th>contractCount</th>\n",
       "      <th>vstup</th>\n",
       "      <th>budget_mark_mean</th>\n",
       "      <th>mark_mean</th>\n",
       "      <th>abit_count</th>\n",
       "      <th>mark_max</th>\n",
       "      <th>mark_min</th>\n",
       "      <th>budget_mark_max</th>\n",
       "      <th>budget_mark_min</th>\n",
       "      <th>position</th>\n",
       "      <th>mark_mean_years</th>\n",
       "      <th>placesCount_years</th>\n",
       "      <th>budgetCount_years</th>\n",
       "      <th>contractCount_years</th>\n",
       "      <th>budget_mark_mean_years</th>\n",
       "      <th>abit_count_years</th>\n",
       "      <th>mark_max_years</th>\n",
       "      <th>mark_min_years</th>\n",
       "      <th>budget_mark_max_years</th>\n",
       "      <th>budget_mark_min_years</th>\n",
       "    </tr>\n",
       "  </thead>\n",
       "  <tbody>\n",
       "    <tr>\n",
       "      <th>0</th>\n",
       "      <td>0</td>\n",
       "      <td>200.0</td>\n",
       "      <td>0</td>\n",
       "      <td>2017</td>\n",
       "      <td>Хімія</td>\n",
       "      <td>Харківський національний університет імені В.Н...</td>\n",
       "      <td>100</td>\n",
       "      <td>51</td>\n",
       "      <td>49</td>\n",
       "      <td>1</td>\n",
       "      <td>184.054083</td>\n",
       "      <td>175.373299</td>\n",
       "      <td>214</td>\n",
       "      <td>200.0</td>\n",
       "      <td>136.249</td>\n",
       "      <td>200.0</td>\n",
       "      <td>164.888</td>\n",
       "      <td>1</td>\n",
       "      <td>177.057256</td>\n",
       "      <td>100.0</td>\n",
       "      <td>53.25641</td>\n",
       "      <td>46.74359</td>\n",
       "      <td>182.971579</td>\n",
       "      <td>196.851282</td>\n",
       "      <td>200.0</td>\n",
       "      <td>135.614949</td>\n",
       "      <td>200.0</td>\n",
       "      <td>157.429662</td>\n",
       "    </tr>\n",
       "    <tr>\n",
       "      <th>1</th>\n",
       "      <td>0</td>\n",
       "      <td>200.0</td>\n",
       "      <td>0</td>\n",
       "      <td>2017</td>\n",
       "      <td>Хімія</td>\n",
       "      <td>Харківський національний університет імені В.Н...</td>\n",
       "      <td>100</td>\n",
       "      <td>51</td>\n",
       "      <td>49</td>\n",
       "      <td>1</td>\n",
       "      <td>184.054083</td>\n",
       "      <td>175.373299</td>\n",
       "      <td>214</td>\n",
       "      <td>200.0</td>\n",
       "      <td>136.249</td>\n",
       "      <td>200.0</td>\n",
       "      <td>164.888</td>\n",
       "      <td>2</td>\n",
       "      <td>177.057256</td>\n",
       "      <td>100.0</td>\n",
       "      <td>53.25641</td>\n",
       "      <td>46.74359</td>\n",
       "      <td>182.971579</td>\n",
       "      <td>196.851282</td>\n",
       "      <td>200.0</td>\n",
       "      <td>135.614949</td>\n",
       "      <td>200.0</td>\n",
       "      <td>157.429662</td>\n",
       "    </tr>\n",
       "    <tr>\n",
       "      <th>2</th>\n",
       "      <td>2</td>\n",
       "      <td>200.0</td>\n",
       "      <td>0</td>\n",
       "      <td>2017</td>\n",
       "      <td>Хімія</td>\n",
       "      <td>Харківський національний університет імені В.Н...</td>\n",
       "      <td>100</td>\n",
       "      <td>51</td>\n",
       "      <td>49</td>\n",
       "      <td>0</td>\n",
       "      <td>184.054083</td>\n",
       "      <td>175.373299</td>\n",
       "      <td>214</td>\n",
       "      <td>200.0</td>\n",
       "      <td>136.249</td>\n",
       "      <td>200.0</td>\n",
       "      <td>164.888</td>\n",
       "      <td>3</td>\n",
       "      <td>177.057256</td>\n",
       "      <td>100.0</td>\n",
       "      <td>53.25641</td>\n",
       "      <td>46.74359</td>\n",
       "      <td>182.971579</td>\n",
       "      <td>196.851282</td>\n",
       "      <td>200.0</td>\n",
       "      <td>135.614949</td>\n",
       "      <td>200.0</td>\n",
       "      <td>157.429662</td>\n",
       "    </tr>\n",
       "    <tr>\n",
       "      <th>3</th>\n",
       "      <td>0</td>\n",
       "      <td>200.0</td>\n",
       "      <td>0</td>\n",
       "      <td>2017</td>\n",
       "      <td>Хімія</td>\n",
       "      <td>Харківський національний університет імені В.Н...</td>\n",
       "      <td>100</td>\n",
       "      <td>51</td>\n",
       "      <td>49</td>\n",
       "      <td>1</td>\n",
       "      <td>184.054083</td>\n",
       "      <td>175.373299</td>\n",
       "      <td>214</td>\n",
       "      <td>200.0</td>\n",
       "      <td>136.249</td>\n",
       "      <td>200.0</td>\n",
       "      <td>164.888</td>\n",
       "      <td>4</td>\n",
       "      <td>177.057256</td>\n",
       "      <td>100.0</td>\n",
       "      <td>53.25641</td>\n",
       "      <td>46.74359</td>\n",
       "      <td>182.971579</td>\n",
       "      <td>196.851282</td>\n",
       "      <td>200.0</td>\n",
       "      <td>135.614949</td>\n",
       "      <td>200.0</td>\n",
       "      <td>157.429662</td>\n",
       "    </tr>\n",
       "    <tr>\n",
       "      <th>4</th>\n",
       "      <td>2</td>\n",
       "      <td>200.0</td>\n",
       "      <td>0</td>\n",
       "      <td>2017</td>\n",
       "      <td>Хімія</td>\n",
       "      <td>Харківський національний університет імені В.Н...</td>\n",
       "      <td>100</td>\n",
       "      <td>51</td>\n",
       "      <td>49</td>\n",
       "      <td>0</td>\n",
       "      <td>184.054083</td>\n",
       "      <td>175.373299</td>\n",
       "      <td>214</td>\n",
       "      <td>200.0</td>\n",
       "      <td>136.249</td>\n",
       "      <td>200.0</td>\n",
       "      <td>164.888</td>\n",
       "      <td>5</td>\n",
       "      <td>177.057256</td>\n",
       "      <td>100.0</td>\n",
       "      <td>53.25641</td>\n",
       "      <td>46.74359</td>\n",
       "      <td>182.971579</td>\n",
       "      <td>196.851282</td>\n",
       "      <td>200.0</td>\n",
       "      <td>135.614949</td>\n",
       "      <td>200.0</td>\n",
       "      <td>157.429662</td>\n",
       "    </tr>\n",
       "  </tbody>\n",
       "</table>\n",
       "</div>"
      ],
      "text/plain": [
       "   priority   mark  kvota  year specialty  \\\n",
       "0         0  200.0      0  2017     Хімія   \n",
       "1         0  200.0      0  2017     Хімія   \n",
       "2         2  200.0      0  2017     Хімія   \n",
       "3         0  200.0      0  2017     Хімія   \n",
       "4         2  200.0      0  2017     Хімія   \n",
       "\n",
       "                                          university  placesCount  \\\n",
       "0  Харківський національний університет імені В.Н...          100   \n",
       "1  Харківський національний університет імені В.Н...          100   \n",
       "2  Харківський національний університет імені В.Н...          100   \n",
       "3  Харківський національний університет імені В.Н...          100   \n",
       "4  Харківський національний університет імені В.Н...          100   \n",
       "\n",
       "   budgetCount  contractCount  vstup  budget_mark_mean   mark_mean  \\\n",
       "0           51             49      1        184.054083  175.373299   \n",
       "1           51             49      1        184.054083  175.373299   \n",
       "2           51             49      0        184.054083  175.373299   \n",
       "3           51             49      1        184.054083  175.373299   \n",
       "4           51             49      0        184.054083  175.373299   \n",
       "\n",
       "   abit_count  mark_max  mark_min  budget_mark_max  budget_mark_min  position  \\\n",
       "0         214     200.0   136.249            200.0          164.888         1   \n",
       "1         214     200.0   136.249            200.0          164.888         2   \n",
       "2         214     200.0   136.249            200.0          164.888         3   \n",
       "3         214     200.0   136.249            200.0          164.888         4   \n",
       "4         214     200.0   136.249            200.0          164.888         5   \n",
       "\n",
       "   mark_mean_years  placesCount_years  budgetCount_years  contractCount_years  \\\n",
       "0       177.057256              100.0           53.25641             46.74359   \n",
       "1       177.057256              100.0           53.25641             46.74359   \n",
       "2       177.057256              100.0           53.25641             46.74359   \n",
       "3       177.057256              100.0           53.25641             46.74359   \n",
       "4       177.057256              100.0           53.25641             46.74359   \n",
       "\n",
       "   budget_mark_mean_years  abit_count_years  mark_max_years  mark_min_years  \\\n",
       "0              182.971579        196.851282           200.0      135.614949   \n",
       "1              182.971579        196.851282           200.0      135.614949   \n",
       "2              182.971579        196.851282           200.0      135.614949   \n",
       "3              182.971579        196.851282           200.0      135.614949   \n",
       "4              182.971579        196.851282           200.0      135.614949   \n",
       "\n",
       "   budget_mark_max_years  budget_mark_min_years  \n",
       "0                  200.0             157.429662  \n",
       "1                  200.0             157.429662  \n",
       "2                  200.0             157.429662  \n",
       "3                  200.0             157.429662  \n",
       "4                  200.0             157.429662  "
      ]
     },
     "execution_count": 21,
     "metadata": {},
     "output_type": "execute_result"
    }
   ],
   "source": [
    "df.head()"
   ]
  },
  {
   "cell_type": "code",
   "execution_count": 22,
   "metadata": {},
   "outputs": [],
   "source": [
    "df = df.drop(['specialty', 'university'], axis = 1)"
   ]
  },
  {
   "cell_type": "code",
   "execution_count": 23,
   "metadata": {},
   "outputs": [],
   "source": [
    "df = df[(df.year == 2020) | (df.year == 2019)]"
   ]
  },
  {
   "cell_type": "code",
   "execution_count": 24,
   "metadata": {},
   "outputs": [
    {
     "data": {
      "text/plain": [
       "array([2019, 2020], dtype=int64)"
      ]
     },
     "execution_count": 24,
     "metadata": {},
     "output_type": "execute_result"
    }
   ],
   "source": [
    "df.year.unique()"
   ]
  },
  {
   "cell_type": "code",
   "execution_count": 25,
   "metadata": {},
   "outputs": [],
   "source": [
    "df = df.drop('year', axis = 1)"
   ]
  },
  {
   "cell_type": "code",
   "execution_count": 26,
   "metadata": {},
   "outputs": [
    {
     "data": {
      "text/plain": [
       "priority                   True\n",
       "mark                      False\n",
       "kvota                      True\n",
       "placesCount               False\n",
       "budgetCount               False\n",
       "contractCount             False\n",
       "vstup                      True\n",
       "budget_mark_mean          False\n",
       "mark_mean                 False\n",
       "abit_count                False\n",
       "mark_max                  False\n",
       "mark_min                  False\n",
       "budget_mark_max           False\n",
       "budget_mark_min           False\n",
       "position                  False\n",
       "mark_mean_years            True\n",
       "placesCount_years          True\n",
       "budgetCount_years          True\n",
       "contractCount_years        True\n",
       "budget_mark_mean_years     True\n",
       "abit_count_years           True\n",
       "mark_max_years             True\n",
       "mark_min_years             True\n",
       "budget_mark_max_years      True\n",
       "budget_mark_min_years      True\n",
       "dtype: bool"
      ]
     },
     "execution_count": 26,
     "metadata": {},
     "output_type": "execute_result"
    }
   ],
   "source": [
    "(df == 0).any()"
   ]
  },
  {
   "cell_type": "code",
   "execution_count": 27,
   "metadata": {},
   "outputs": [
    {
     "data": {
      "text/plain": [
       "4367"
      ]
     },
     "execution_count": 27,
     "metadata": {},
     "output_type": "execute_result"
    }
   ],
   "source": [
    "df[df.mark_min_years == 0].vstup.count()"
   ]
  },
  {
   "cell_type": "code",
   "execution_count": 28,
   "metadata": {},
   "outputs": [],
   "source": [
    "df = df[df.mark_min_years != 0]"
   ]
  },
  {
   "cell_type": "code",
   "execution_count": 29,
   "metadata": {},
   "outputs": [
    {
     "data": {
      "text/plain": [
       "priority                   True\n",
       "mark                      False\n",
       "kvota                      True\n",
       "placesCount               False\n",
       "budgetCount               False\n",
       "contractCount             False\n",
       "vstup                      True\n",
       "budget_mark_mean          False\n",
       "mark_mean                 False\n",
       "abit_count                False\n",
       "mark_max                  False\n",
       "mark_min                  False\n",
       "budget_mark_max           False\n",
       "budget_mark_min           False\n",
       "position                  False\n",
       "mark_mean_years           False\n",
       "placesCount_years         False\n",
       "budgetCount_years         False\n",
       "contractCount_years       False\n",
       "budget_mark_mean_years    False\n",
       "abit_count_years          False\n",
       "mark_max_years            False\n",
       "mark_min_years            False\n",
       "budget_mark_max_years     False\n",
       "budget_mark_min_years     False\n",
       "dtype: bool"
      ]
     },
     "execution_count": 29,
     "metadata": {},
     "output_type": "execute_result"
    }
   ],
   "source": [
    "(df == 0).any()"
   ]
  },
  {
   "cell_type": "code",
   "execution_count": 30,
   "metadata": {},
   "outputs": [],
   "source": [
    "df = df.drop(['placesCount', 'budgetCount', 'contractCount', 'budget_mark_mean', 'mark_mean', 'abit_count', 'mark_max', 'mark_min','budget_mark_max','budget_mark_min','position'], axis = 1)"
   ]
  },
  {
   "cell_type": "code",
   "execution_count": 31,
   "metadata": {},
   "outputs": [
    {
     "data": {
      "text/plain": [
       "priority                     int8\n",
       "mark                      float64\n",
       "kvota                        int8\n",
       "vstup                        int8\n",
       "mark_mean_years           float64\n",
       "placesCount_years         float64\n",
       "budgetCount_years         float64\n",
       "contractCount_years       float64\n",
       "budget_mark_mean_years    float64\n",
       "abit_count_years          float64\n",
       "mark_max_years            float64\n",
       "mark_min_years            float64\n",
       "budget_mark_max_years     float64\n",
       "budget_mark_min_years     float64\n",
       "dtype: object"
      ]
     },
     "execution_count": 31,
     "metadata": {},
     "output_type": "execute_result"
    }
   ],
   "source": [
    "df.dtypes"
   ]
  },
  {
   "cell_type": "code",
   "execution_count": 32,
   "metadata": {},
   "outputs": [],
   "source": [
    "cols = list(df.columns)"
   ]
  },
  {
   "cell_type": "code",
   "execution_count": 33,
   "metadata": {},
   "outputs": [],
   "source": [
    "cols.remove('priority')\n",
    "cols.remove('kvota')\n",
    "cols.remove('vstup')"
   ]
  },
  {
   "cell_type": "code",
   "execution_count": 34,
   "metadata": {},
   "outputs": [
    {
     "data": {
      "text/plain": [
       "['mark',\n",
       " 'mark_mean_years',\n",
       " 'placesCount_years',\n",
       " 'budgetCount_years',\n",
       " 'contractCount_years',\n",
       " 'budget_mark_mean_years',\n",
       " 'abit_count_years',\n",
       " 'mark_max_years',\n",
       " 'mark_min_years',\n",
       " 'budget_mark_max_years',\n",
       " 'budget_mark_min_years']"
      ]
     },
     "execution_count": 34,
     "metadata": {},
     "output_type": "execute_result"
    }
   ],
   "source": [
    "cols"
   ]
  },
  {
   "cell_type": "code",
   "execution_count": 35,
   "metadata": {},
   "outputs": [],
   "source": [
    "from sklearn.preprocessing import MinMaxScaler"
   ]
  },
  {
   "cell_type": "code",
   "execution_count": 36,
   "metadata": {},
   "outputs": [],
   "source": [
    "scaler = MinMaxScaler()"
   ]
  },
  {
   "cell_type": "code",
   "execution_count": 37,
   "metadata": {},
   "outputs": [
    {
     "data": {
      "text/plain": [
       "MinMaxScaler()"
      ]
     },
     "execution_count": 37,
     "metadata": {},
     "output_type": "execute_result"
    }
   ],
   "source": [
    "scaler.fit(df[cols])"
   ]
  },
  {
   "cell_type": "code",
   "execution_count": 38,
   "metadata": {},
   "outputs": [],
   "source": [
    "df[cols] = scaler.transform(df[cols])"
   ]
  },
  {
   "cell_type": "code",
   "execution_count": 39,
   "metadata": {},
   "outputs": [
    {
     "data": {
      "text/html": [
       "<div>\n",
       "<style scoped>\n",
       "    .dataframe tbody tr th:only-of-type {\n",
       "        vertical-align: middle;\n",
       "    }\n",
       "\n",
       "    .dataframe tbody tr th {\n",
       "        vertical-align: top;\n",
       "    }\n",
       "\n",
       "    .dataframe thead th {\n",
       "        text-align: right;\n",
       "    }\n",
       "</style>\n",
       "<table border=\"1\" class=\"dataframe\">\n",
       "  <thead>\n",
       "    <tr style=\"text-align: right;\">\n",
       "      <th></th>\n",
       "      <th>priority</th>\n",
       "      <th>mark</th>\n",
       "      <th>kvota</th>\n",
       "      <th>vstup</th>\n",
       "      <th>mark_mean_years</th>\n",
       "      <th>placesCount_years</th>\n",
       "      <th>budgetCount_years</th>\n",
       "      <th>contractCount_years</th>\n",
       "      <th>budget_mark_mean_years</th>\n",
       "      <th>abit_count_years</th>\n",
       "      <th>mark_max_years</th>\n",
       "      <th>mark_min_years</th>\n",
       "      <th>budget_mark_max_years</th>\n",
       "      <th>budget_mark_min_years</th>\n",
       "    </tr>\n",
       "  </thead>\n",
       "  <tbody>\n",
       "    <tr>\n",
       "      <th>0</th>\n",
       "      <td>3</td>\n",
       "      <td>0.995548</td>\n",
       "      <td>0</td>\n",
       "      <td>0</td>\n",
       "      <td>0.746759</td>\n",
       "      <td>0.042491</td>\n",
       "      <td>0.051154</td>\n",
       "      <td>1.143596e-08</td>\n",
       "      <td>0.991546</td>\n",
       "      <td>0.157225</td>\n",
       "      <td>1.0</td>\n",
       "      <td>0.585326</td>\n",
       "      <td>0.90961</td>\n",
       "      <td>1.0</td>\n",
       "    </tr>\n",
       "    <tr>\n",
       "      <th>1</th>\n",
       "      <td>0</td>\n",
       "      <td>0.986195</td>\n",
       "      <td>0</td>\n",
       "      <td>1</td>\n",
       "      <td>0.746759</td>\n",
       "      <td>0.042491</td>\n",
       "      <td>0.051154</td>\n",
       "      <td>1.143596e-08</td>\n",
       "      <td>0.991546</td>\n",
       "      <td>0.157225</td>\n",
       "      <td>1.0</td>\n",
       "      <td>0.585326</td>\n",
       "      <td>0.90961</td>\n",
       "      <td>1.0</td>\n",
       "    </tr>\n",
       "    <tr>\n",
       "      <th>2</th>\n",
       "      <td>9</td>\n",
       "      <td>0.982558</td>\n",
       "      <td>0</td>\n",
       "      <td>0</td>\n",
       "      <td>0.746759</td>\n",
       "      <td>0.042491</td>\n",
       "      <td>0.051154</td>\n",
       "      <td>1.143596e-08</td>\n",
       "      <td>0.991546</td>\n",
       "      <td>0.157225</td>\n",
       "      <td>1.0</td>\n",
       "      <td>0.585326</td>\n",
       "      <td>0.90961</td>\n",
       "      <td>1.0</td>\n",
       "    </tr>\n",
       "    <tr>\n",
       "      <th>3</th>\n",
       "      <td>2</td>\n",
       "      <td>0.977881</td>\n",
       "      <td>0</td>\n",
       "      <td>0</td>\n",
       "      <td>0.746759</td>\n",
       "      <td>0.042491</td>\n",
       "      <td>0.051154</td>\n",
       "      <td>1.143596e-08</td>\n",
       "      <td>0.991546</td>\n",
       "      <td>0.157225</td>\n",
       "      <td>1.0</td>\n",
       "      <td>0.585326</td>\n",
       "      <td>0.90961</td>\n",
       "      <td>1.0</td>\n",
       "    </tr>\n",
       "    <tr>\n",
       "      <th>4</th>\n",
       "      <td>3</td>\n",
       "      <td>0.974764</td>\n",
       "      <td>0</td>\n",
       "      <td>0</td>\n",
       "      <td>0.746759</td>\n",
       "      <td>0.042491</td>\n",
       "      <td>0.051154</td>\n",
       "      <td>1.143596e-08</td>\n",
       "      <td>0.991546</td>\n",
       "      <td>0.157225</td>\n",
       "      <td>1.0</td>\n",
       "      <td>0.585326</td>\n",
       "      <td>0.90961</td>\n",
       "      <td>1.0</td>\n",
       "    </tr>\n",
       "  </tbody>\n",
       "</table>\n",
       "</div>"
      ],
      "text/plain": [
       "   priority      mark  kvota  vstup  mark_mean_years  placesCount_years  \\\n",
       "0         3  0.995548      0      0         0.746759           0.042491   \n",
       "1         0  0.986195      0      1         0.746759           0.042491   \n",
       "2         9  0.982558      0      0         0.746759           0.042491   \n",
       "3         2  0.977881      0      0         0.746759           0.042491   \n",
       "4         3  0.974764      0      0         0.746759           0.042491   \n",
       "\n",
       "   budgetCount_years  contractCount_years  budget_mark_mean_years  \\\n",
       "0           0.051154         1.143596e-08                0.991546   \n",
       "1           0.051154         1.143596e-08                0.991546   \n",
       "2           0.051154         1.143596e-08                0.991546   \n",
       "3           0.051154         1.143596e-08                0.991546   \n",
       "4           0.051154         1.143596e-08                0.991546   \n",
       "\n",
       "   abit_count_years  mark_max_years  mark_min_years  budget_mark_max_years  \\\n",
       "0          0.157225             1.0        0.585326                0.90961   \n",
       "1          0.157225             1.0        0.585326                0.90961   \n",
       "2          0.157225             1.0        0.585326                0.90961   \n",
       "3          0.157225             1.0        0.585326                0.90961   \n",
       "4          0.157225             1.0        0.585326                0.90961   \n",
       "\n",
       "   budget_mark_min_years  \n",
       "0                    1.0  \n",
       "1                    1.0  \n",
       "2                    1.0  \n",
       "3                    1.0  \n",
       "4                    1.0  "
      ]
     },
     "execution_count": 39,
     "metadata": {},
     "output_type": "execute_result"
    }
   ],
   "source": [
    "df.head()"
   ]
  },
  {
   "cell_type": "code",
   "execution_count": 40,
   "metadata": {},
   "outputs": [],
   "source": [
    "from joblib import dump, load"
   ]
  },
  {
   "cell_type": "code",
   "execution_count": 41,
   "metadata": {},
   "outputs": [
    {
     "data": {
      "text/plain": [
       "['scaler.joblib']"
      ]
     },
     "execution_count": 41,
     "metadata": {},
     "output_type": "execute_result"
    }
   ],
   "source": [
    "dump(scaler, 'scaler.joblib')"
   ]
  },
  {
   "cell_type": "code",
   "execution_count": 42,
   "metadata": {},
   "outputs": [],
   "source": [
    "df.to_csv('df.csv')"
   ]
  },
  {
   "cell_type": "code",
   "execution_count": 43,
   "metadata": {},
   "outputs": [
    {
     "name": "stdout",
     "output_type": "stream",
     "text": [
      "0.9562816293077654\n",
      "0.9547858327641721\n"
     ]
    }
   ],
   "source": [
    "from sklearn.tree import DecisionTreeClassifier\n",
    "from sklearn.model_selection import train_test_split\n",
    "X_train, X_test, y_train, y_test = train_test_split(df.drop('vstup',axis = 1), df.vstup, test_size = 0.25)\n",
    "tree = DecisionTreeClassifier(max_depth = 10)\n",
    "tree.fit(X_train, y_train)\n",
    "print(tree.score(X_train, y_train))\n",
    "print(tree.score(X_test, y_test))"
   ]
  },
  {
   "cell_type": "code",
   "execution_count": null,
   "metadata": {},
   "outputs": [],
   "source": []
  }
 ],
 "metadata": {
  "kernelspec": {
   "display_name": "Python 3 (ipykernel)",
   "language": "python",
   "name": "python3"
  },
  "language_info": {
   "codemirror_mode": {
    "name": "ipython",
    "version": 3
   },
   "file_extension": ".py",
   "mimetype": "text/x-python",
   "name": "python",
   "nbconvert_exporter": "python",
   "pygments_lexer": "ipython3",
   "version": "3.10.1"
  }
 },
 "nbformat": 4,
 "nbformat_minor": 4
}
