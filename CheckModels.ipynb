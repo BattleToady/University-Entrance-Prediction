{
 "cells": [
  {
   "cell_type": "code",
   "execution_count": 1,
   "metadata": {},
   "outputs": [],
   "source": [
    "import pandas as pd"
   ]
  },
  {
   "cell_type": "code",
   "execution_count": 2,
   "metadata": {},
   "outputs": [],
   "source": [
    "df = pd.read_csv('df.csv')"
   ]
  },
  {
   "cell_type": "code",
   "execution_count": 3,
   "metadata": {},
   "outputs": [
    {
     "data": {
      "text/html": [
       "<div>\n",
       "<style scoped>\n",
       "    .dataframe tbody tr th:only-of-type {\n",
       "        vertical-align: middle;\n",
       "    }\n",
       "\n",
       "    .dataframe tbody tr th {\n",
       "        vertical-align: top;\n",
       "    }\n",
       "\n",
       "    .dataframe thead th {\n",
       "        text-align: right;\n",
       "    }\n",
       "</style>\n",
       "<table border=\"1\" class=\"dataframe\">\n",
       "  <thead>\n",
       "    <tr style=\"text-align: right;\">\n",
       "      <th></th>\n",
       "      <th>Unnamed: 0</th>\n",
       "      <th>priority</th>\n",
       "      <th>mark</th>\n",
       "      <th>kvota</th>\n",
       "      <th>vstup</th>\n",
       "      <th>mark_mean_years</th>\n",
       "      <th>placesCount_years</th>\n",
       "      <th>budgetCount_years</th>\n",
       "      <th>contractCount_years</th>\n",
       "      <th>budget_mark_mean_years</th>\n",
       "      <th>abit_count_years</th>\n",
       "      <th>mark_max_years</th>\n",
       "      <th>mark_min_years</th>\n",
       "      <th>budget_mark_max_years</th>\n",
       "      <th>budget_mark_min_years</th>\n",
       "    </tr>\n",
       "  </thead>\n",
       "  <tbody>\n",
       "    <tr>\n",
       "      <th>0</th>\n",
       "      <td>0</td>\n",
       "      <td>3</td>\n",
       "      <td>0.995548</td>\n",
       "      <td>0</td>\n",
       "      <td>0</td>\n",
       "      <td>0.746759</td>\n",
       "      <td>0.042491</td>\n",
       "      <td>0.051154</td>\n",
       "      <td>1.143596e-08</td>\n",
       "      <td>0.991546</td>\n",
       "      <td>0.157225</td>\n",
       "      <td>1.0</td>\n",
       "      <td>0.585326</td>\n",
       "      <td>0.90961</td>\n",
       "      <td>1.0</td>\n",
       "    </tr>\n",
       "    <tr>\n",
       "      <th>1</th>\n",
       "      <td>1</td>\n",
       "      <td>0</td>\n",
       "      <td>0.986195</td>\n",
       "      <td>0</td>\n",
       "      <td>1</td>\n",
       "      <td>0.746759</td>\n",
       "      <td>0.042491</td>\n",
       "      <td>0.051154</td>\n",
       "      <td>1.143596e-08</td>\n",
       "      <td>0.991546</td>\n",
       "      <td>0.157225</td>\n",
       "      <td>1.0</td>\n",
       "      <td>0.585326</td>\n",
       "      <td>0.90961</td>\n",
       "      <td>1.0</td>\n",
       "    </tr>\n",
       "    <tr>\n",
       "      <th>2</th>\n",
       "      <td>2</td>\n",
       "      <td>9</td>\n",
       "      <td>0.982558</td>\n",
       "      <td>0</td>\n",
       "      <td>0</td>\n",
       "      <td>0.746759</td>\n",
       "      <td>0.042491</td>\n",
       "      <td>0.051154</td>\n",
       "      <td>1.143596e-08</td>\n",
       "      <td>0.991546</td>\n",
       "      <td>0.157225</td>\n",
       "      <td>1.0</td>\n",
       "      <td>0.585326</td>\n",
       "      <td>0.90961</td>\n",
       "      <td>1.0</td>\n",
       "    </tr>\n",
       "    <tr>\n",
       "      <th>3</th>\n",
       "      <td>3</td>\n",
       "      <td>2</td>\n",
       "      <td>0.977881</td>\n",
       "      <td>0</td>\n",
       "      <td>0</td>\n",
       "      <td>0.746759</td>\n",
       "      <td>0.042491</td>\n",
       "      <td>0.051154</td>\n",
       "      <td>1.143596e-08</td>\n",
       "      <td>0.991546</td>\n",
       "      <td>0.157225</td>\n",
       "      <td>1.0</td>\n",
       "      <td>0.585326</td>\n",
       "      <td>0.90961</td>\n",
       "      <td>1.0</td>\n",
       "    </tr>\n",
       "    <tr>\n",
       "      <th>4</th>\n",
       "      <td>4</td>\n",
       "      <td>3</td>\n",
       "      <td>0.974764</td>\n",
       "      <td>0</td>\n",
       "      <td>0</td>\n",
       "      <td>0.746759</td>\n",
       "      <td>0.042491</td>\n",
       "      <td>0.051154</td>\n",
       "      <td>1.143596e-08</td>\n",
       "      <td>0.991546</td>\n",
       "      <td>0.157225</td>\n",
       "      <td>1.0</td>\n",
       "      <td>0.585326</td>\n",
       "      <td>0.90961</td>\n",
       "      <td>1.0</td>\n",
       "    </tr>\n",
       "  </tbody>\n",
       "</table>\n",
       "</div>"
      ],
      "text/plain": [
       "   Unnamed: 0  priority      mark  kvota  vstup  mark_mean_years  \\\n",
       "0           0         3  0.995548      0      0         0.746759   \n",
       "1           1         0  0.986195      0      1         0.746759   \n",
       "2           2         9  0.982558      0      0         0.746759   \n",
       "3           3         2  0.977881      0      0         0.746759   \n",
       "4           4         3  0.974764      0      0         0.746759   \n",
       "\n",
       "   placesCount_years  budgetCount_years  contractCount_years  \\\n",
       "0           0.042491           0.051154         1.143596e-08   \n",
       "1           0.042491           0.051154         1.143596e-08   \n",
       "2           0.042491           0.051154         1.143596e-08   \n",
       "3           0.042491           0.051154         1.143596e-08   \n",
       "4           0.042491           0.051154         1.143596e-08   \n",
       "\n",
       "   budget_mark_mean_years  abit_count_years  mark_max_years  mark_min_years  \\\n",
       "0                0.991546          0.157225             1.0        0.585326   \n",
       "1                0.991546          0.157225             1.0        0.585326   \n",
       "2                0.991546          0.157225             1.0        0.585326   \n",
       "3                0.991546          0.157225             1.0        0.585326   \n",
       "4                0.991546          0.157225             1.0        0.585326   \n",
       "\n",
       "   budget_mark_max_years  budget_mark_min_years  \n",
       "0                0.90961                    1.0  \n",
       "1                0.90961                    1.0  \n",
       "2                0.90961                    1.0  \n",
       "3                0.90961                    1.0  \n",
       "4                0.90961                    1.0  "
      ]
     },
     "execution_count": 3,
     "metadata": {},
     "output_type": "execute_result"
    }
   ],
   "source": [
    "df.head()"
   ]
  },
  {
   "cell_type": "code",
   "execution_count": 4,
   "metadata": {},
   "outputs": [],
   "source": [
    "df = df.drop('Unnamed: 0', axis = 1)"
   ]
  },
  {
   "cell_type": "code",
   "execution_count": 5,
   "metadata": {},
   "outputs": [
    {
     "data": {
      "text/plain": [
       "vstup\n",
       "0    186590\n",
       "1     18389\n",
       "Name: vstup, dtype: int64"
      ]
     },
     "execution_count": 5,
     "metadata": {},
     "output_type": "execute_result"
    }
   ],
   "source": [
    "df.groupby('vstup').vstup.count()"
   ]
  },
  {
   "cell_type": "code",
   "execution_count": 6,
   "metadata": {},
   "outputs": [],
   "source": [
    "from sklearn.model_selection import train_test_split"
   ]
  },
  {
   "cell_type": "code",
   "execution_count": 7,
   "metadata": {},
   "outputs": [],
   "source": [
    "X_train, X_test, y_train, y_test = train_test_split(df.drop('vstup', axis = 1), df.vstup, test_size = 10000)"
   ]
  },
  {
   "cell_type": "code",
   "execution_count": 8,
   "metadata": {},
   "outputs": [],
   "source": [
    "from imblearn.over_sampling import SMOTE"
   ]
  },
  {
   "cell_type": "code",
   "execution_count": 9,
   "metadata": {},
   "outputs": [],
   "source": [
    "from collections import Counter"
   ]
  },
  {
   "cell_type": "code",
   "execution_count": 10,
   "metadata": {},
   "outputs": [],
   "source": [
    "smote = SMOTE()"
   ]
  },
  {
   "cell_type": "code",
   "execution_count": 11,
   "metadata": {},
   "outputs": [],
   "source": [
    "X_up, y_up = smote.fit_resample(X_train, y_train)"
   ]
  },
  {
   "cell_type": "code",
   "execution_count": 12,
   "metadata": {},
   "outputs": [],
   "source": [
    "counter = Counter(y_up)"
   ]
  },
  {
   "cell_type": "code",
   "execution_count": 13,
   "metadata": {},
   "outputs": [
    {
     "data": {
      "text/plain": [
       "Counter({0: 177513, 1: 177513})"
      ]
     },
     "execution_count": 13,
     "metadata": {},
     "output_type": "execute_result"
    }
   ],
   "source": [
    "counter"
   ]
  },
  {
   "cell_type": "code",
   "execution_count": 14,
   "metadata": {},
   "outputs": [],
   "source": [
    "X_train_up, X_test_up, y_train_up, y_test_up = train_test_split(X_up, y_up, test_size = 10000, random_state = 42)"
   ]
  },
  {
   "cell_type": "code",
   "execution_count": 15,
   "metadata": {},
   "outputs": [],
   "source": [
    "from imblearn.under_sampling import RandomUnderSampler"
   ]
  },
  {
   "cell_type": "code",
   "execution_count": 16,
   "metadata": {},
   "outputs": [],
   "source": [
    "RUS = RandomUnderSampler()"
   ]
  },
  {
   "cell_type": "code",
   "execution_count": 17,
   "metadata": {},
   "outputs": [],
   "source": [
    "X_down, y_down = RUS.fit_resample(X_train, y_train)"
   ]
  },
  {
   "cell_type": "code",
   "execution_count": 18,
   "metadata": {},
   "outputs": [
    {
     "name": "stdout",
     "output_type": "stream",
     "text": [
      "Counter({0: 17466, 1: 17466})\n"
     ]
    }
   ],
   "source": [
    "counter = Counter(y_down)\n",
    "print(counter)"
   ]
  },
  {
   "cell_type": "code",
   "execution_count": 19,
   "metadata": {},
   "outputs": [],
   "source": [
    "X_train_down, X_test_down, y_train_down, y_test_down = train_test_split(X_down, y_down, test_size = 0.1, random_state = 42)"
   ]
  },
  {
   "cell_type": "code",
   "execution_count": 20,
   "metadata": {},
   "outputs": [
    {
     "data": {
      "text/plain": [
       "194979"
      ]
     },
     "execution_count": 20,
     "metadata": {},
     "output_type": "execute_result"
    }
   ],
   "source": [
    "y_train.count()"
   ]
  },
  {
   "cell_type": "code",
   "execution_count": 21,
   "metadata": {},
   "outputs": [
    {
     "data": {
      "text/plain": [
       "345026"
      ]
     },
     "execution_count": 21,
     "metadata": {},
     "output_type": "execute_result"
    }
   ],
   "source": [
    "y_train_up.count()"
   ]
  },
  {
   "cell_type": "code",
   "execution_count": 22,
   "metadata": {},
   "outputs": [
    {
     "data": {
      "text/plain": [
       "10000"
      ]
     },
     "execution_count": 22,
     "metadata": {},
     "output_type": "execute_result"
    }
   ],
   "source": [
    "y_test_up.count()"
   ]
  },
  {
   "cell_type": "code",
   "execution_count": 23,
   "metadata": {},
   "outputs": [
    {
     "data": {
      "text/plain": [
       "31438"
      ]
     },
     "execution_count": 23,
     "metadata": {},
     "output_type": "execute_result"
    }
   ],
   "source": [
    "y_train_down.count()"
   ]
  },
  {
   "cell_type": "code",
   "execution_count": 24,
   "metadata": {},
   "outputs": [
    {
     "data": {
      "text/plain": [
       "3494"
      ]
     },
     "execution_count": 24,
     "metadata": {},
     "output_type": "execute_result"
    }
   ],
   "source": [
    "y_test_down.count()"
   ]
  },
  {
   "cell_type": "code",
   "execution_count": 25,
   "metadata": {},
   "outputs": [],
   "source": [
    "from imblearn.combine import SMOTETomek"
   ]
  },
  {
   "cell_type": "code",
   "execution_count": 26,
   "metadata": {},
   "outputs": [],
   "source": [
    "smoteT = SMOTETomek()"
   ]
  },
  {
   "cell_type": "code",
   "execution_count": 27,
   "metadata": {},
   "outputs": [],
   "source": [
    "X_mid, y_mid = smoteT.fit_resample(X_train, y_train)"
   ]
  },
  {
   "cell_type": "code",
   "execution_count": 28,
   "metadata": {},
   "outputs": [
    {
     "name": "stdout",
     "output_type": "stream",
     "text": [
      "Counter({0: 170255, 1: 170255})\n"
     ]
    }
   ],
   "source": [
    "counter = Counter(y_mid)\n",
    "print(counter)"
   ]
  },
  {
   "cell_type": "code",
   "execution_count": 29,
   "metadata": {},
   "outputs": [],
   "source": [
    "X_train_mid, X_test_mid, y_train_mid, y_test_mid = train_test_split(X_mid, y_mid, test_size = 10000, random_state = 42)"
   ]
  },
  {
   "cell_type": "code",
   "execution_count": 30,
   "metadata": {},
   "outputs": [
    {
     "data": {
      "text/plain": [
       "345026"
      ]
     },
     "execution_count": 30,
     "metadata": {},
     "output_type": "execute_result"
    }
   ],
   "source": [
    "y_train_up.count()"
   ]
  },
  {
   "cell_type": "code",
   "execution_count": 31,
   "metadata": {},
   "outputs": [
    {
     "data": {
      "text/plain": [
       "330510"
      ]
     },
     "execution_count": 31,
     "metadata": {},
     "output_type": "execute_result"
    }
   ],
   "source": [
    "y_train_mid.count()"
   ]
  },
  {
   "cell_type": "code",
   "execution_count": 32,
   "metadata": {},
   "outputs": [
    {
     "data": {
      "text/plain": [
       "31438"
      ]
     },
     "execution_count": 32,
     "metadata": {},
     "output_type": "execute_result"
    }
   ],
   "source": [
    "y_train_down.count()"
   ]
  },
  {
   "cell_type": "code",
   "execution_count": 33,
   "metadata": {},
   "outputs": [],
   "source": [
    "from sklearn.linear_model import LogisticRegression"
   ]
  },
  {
   "cell_type": "code",
   "execution_count": 34,
   "metadata": {},
   "outputs": [
    {
     "name": "stdout",
     "output_type": "stream",
     "text": [
      "0.8311402618933066\n",
      "0.8289\n"
     ]
    }
   ],
   "source": [
    "log1 = LogisticRegression(random_state = 42, max_iter = 1000000)\n",
    "log1.fit(X_train_up, y_train_up)\n",
    "print(log1.score(X_train_up, y_train_up))\n",
    "print(log1.score(X_test_up, y_test_up))"
   ]
  },
  {
   "cell_type": "code",
   "execution_count": 35,
   "metadata": {},
   "outputs": [
    {
     "name": "stdout",
     "output_type": "stream",
     "text": [
      "0.8459441469244501\n",
      "0.8491\n"
     ]
    }
   ],
   "source": [
    "log2 = LogisticRegression(random_state = 42, max_iter = 1000000)\n",
    "log2.fit(X_train_mid, y_train_mid)\n",
    "print(log2.score(X_train_mid, y_train_mid))\n",
    "print(log2.score(X_test_mid, y_test_mid))"
   ]
  },
  {
   "cell_type": "code",
   "execution_count": 36,
   "metadata": {
    "scrolled": true
   },
   "outputs": [
    {
     "data": {
      "text/plain": [
       "{'C': 1.0,\n",
       " 'class_weight': None,\n",
       " 'dual': False,\n",
       " 'fit_intercept': True,\n",
       " 'intercept_scaling': 1,\n",
       " 'l1_ratio': None,\n",
       " 'max_iter': 1000000,\n",
       " 'multi_class': 'auto',\n",
       " 'n_jobs': None,\n",
       " 'penalty': 'l2',\n",
       " 'random_state': 42,\n",
       " 'solver': 'lbfgs',\n",
       " 'tol': 0.0001,\n",
       " 'verbose': 0,\n",
       " 'warm_start': False}"
      ]
     },
     "execution_count": 36,
     "metadata": {},
     "output_type": "execute_result"
    }
   ],
   "source": [
    "log2.get_params()"
   ]
  },
  {
   "cell_type": "code",
   "execution_count": 37,
   "metadata": {},
   "outputs": [
    {
     "data": {
      "text/plain": [
       "array([[ -0.76109142,   8.8153032 ,   3.0081087 ,   1.36604374,\n",
       "         -0.91553022,   1.17992122,  -0.01270313, -10.41194626,\n",
       "         -0.13509675,  -0.75013827,  -0.44192249,   1.65424754,\n",
       "          0.58076516]])"
      ]
     },
     "execution_count": 37,
     "metadata": {},
     "output_type": "execute_result"
    }
   ],
   "source": [
    "log2.coef_"
   ]
  },
  {
   "cell_type": "code",
   "execution_count": 38,
   "metadata": {},
   "outputs": [
    {
     "data": {
      "text/plain": [
       "Index(['priority', 'mark', 'kvota', 'mark_mean_years', 'placesCount_years',\n",
       "       'budgetCount_years', 'contractCount_years', 'budget_mark_mean_years',\n",
       "       'abit_count_years', 'mark_max_years', 'mark_min_years',\n",
       "       'budget_mark_max_years', 'budget_mark_min_years'],\n",
       "      dtype='object')"
      ]
     },
     "execution_count": 38,
     "metadata": {},
     "output_type": "execute_result"
    }
   ],
   "source": [
    "X_train_mid.columns"
   ]
  },
  {
   "cell_type": "code",
   "execution_count": 39,
   "metadata": {},
   "outputs": [
    {
     "data": {
      "text/plain": [
       "array([0.56197568])"
      ]
     },
     "execution_count": 39,
     "metadata": {},
     "output_type": "execute_result"
    }
   ],
   "source": [
    "log2.intercept_ "
   ]
  },
  {
   "cell_type": "code",
   "execution_count": 40,
   "metadata": {},
   "outputs": [
    {
     "name": "stdout",
     "output_type": "stream",
     "text": [
      "0.8459441469244501\n",
      "0.8491\n"
     ]
    }
   ],
   "source": [
    "log = LogisticRegression(random_state = 42, max_iter = 1000000)\n",
    "log.fit(X_train_mid, y_train_mid)\n",
    "print(log.score(X_train_mid, y_train_mid))\n",
    "print(log.score(X_test_mid, y_test_mid))"
   ]
  },
  {
   "cell_type": "code",
   "execution_count": null,
   "metadata": {},
   "outputs": [],
   "source": []
  },
  {
   "cell_type": "code",
   "execution_count": 41,
   "metadata": {},
   "outputs": [],
   "source": [
    "from sklearn.tree import DecisionTreeClassifier"
   ]
  },
  {
   "cell_type": "code",
   "execution_count": 42,
   "metadata": {},
   "outputs": [
    {
     "name": "stdout",
     "output_type": "stream",
     "text": [
      "0.9934149890153205\n",
      "0.9109\n"
     ]
    }
   ],
   "source": [
    "tree1 = DecisionTreeClassifier()\n",
    "tree1.fit(X_train_up, y_train_up)\n",
    "print(tree1.score(X_train_up, y_train_up))\n",
    "print(tree1.score(X_test_up, y_test_up))"
   ]
  },
  {
   "cell_type": "code",
   "execution_count": 43,
   "metadata": {},
   "outputs": [
    {
     "name": "stdout",
     "output_type": "stream",
     "text": [
      "0.9930773652839551\n",
      "0.9596\n"
     ]
    }
   ],
   "source": [
    "tree2 = DecisionTreeClassifier()\n",
    "tree2.fit(X_train_mid, y_train_mid)\n",
    "print(tree2.score(X_train_mid, y_train_mid))\n",
    "print(tree2.score(X_test_mid, y_test_mid))"
   ]
  },
  {
   "cell_type": "code",
   "execution_count": 44,
   "metadata": {},
   "outputs": [],
   "source": [
    "from sklearn.svm import SVC"
   ]
  },
  {
   "cell_type": "code",
   "execution_count": 45,
   "metadata": {},
   "outputs": [
    {
     "name": "stdout",
     "output_type": "stream",
     "text": [
      "0.8349767796933647\n",
      "0.8423010875787064\n",
      "0.836\n"
     ]
    }
   ],
   "source": [
    "svc = SVC(random_state = 42)\n",
    "svc.fit(X_train_down, y_train_down)\n",
    "print(svc.score(X_train_down, y_train_down))\n",
    "print(svc.score(X_test_down, y_test_down))\n",
    "print(svc.score(X_test_up, y_test_up))"
   ]
  },
  {
   "cell_type": "code",
   "execution_count": 46,
   "metadata": {},
   "outputs": [
    {
     "name": "stdout",
     "output_type": "stream",
     "text": [
      "GNB train: 0.7023760528192078\n",
      "GNB test: 0.7001\n",
      "\n",
      "MNB train: 0.7552329389669185\n",
      "MNB test: 0.7532\n",
      "\n",
      "BNB train: 0.7414049955655516\n",
      "BNB test: 0.7358\n",
      "\n",
      "CNB train: 0.755415533901793\n",
      "CNB test: 0.7494\n"
     ]
    }
   ],
   "source": [
    "from sklearn.naive_bayes import GaussianNB\n",
    "from sklearn.naive_bayes import MultinomialNB\n",
    "from sklearn.naive_bayes import BernoulliNB\n",
    "from sklearn.naive_bayes import CategoricalNB\n",
    "GNB = GaussianNB()\n",
    "MNB = MultinomialNB()\n",
    "BNB = BernoulliNB()\n",
    "CNB = CategoricalNB()\n",
    "GNB.fit(X_train_up, y_train_up)\n",
    "MNB.fit(X_train_up, y_train_up)\n",
    "BNB.fit(X_train_up, y_train_up)\n",
    "CNB.fit(X_train_up, y_train_up)\n",
    "print('GNB train:', GNB.score(X_train_up, y_train_up))\n",
    "print('GNB test:', GNB.score(X_test_up, y_test_up))\n",
    "print()\n",
    "print('MNB train:', MNB.score(X_train_up, y_train_up))\n",
    "print('MNB test:', MNB.score(X_test_up, y_test_up))\n",
    "print()\n",
    "print('BNB train:', BNB.score(X_train_up, y_train_up))\n",
    "print('BNB test:', BNB.score(X_test_up, y_test_up))\n",
    "print()\n",
    "print('CNB train:', CNB.score(X_train_up, y_train_up))\n",
    "print('CNB test:', CNB.score(X_test_up, y_test_up))"
   ]
  },
  {
   "cell_type": "code",
   "execution_count": 47,
   "metadata": {},
   "outputs": [
    {
     "name": "stdout",
     "output_type": "stream",
     "text": [
      "0.9930773652839551\n",
      "0.9596\n"
     ]
    }
   ],
   "source": [
    "tree = DecisionTreeClassifier()\n",
    "tree.fit(X_train_mid, y_train_mid)\n",
    "print(tree.score(X_train_mid, y_train_mid))\n",
    "print(tree.score(X_test_mid, y_test_mid))"
   ]
  },
  {
   "cell_type": "code",
   "execution_count": 48,
   "metadata": {},
   "outputs": [],
   "source": [
    "from sklearn.metrics import roc_auc_score\n",
    "from sklearn.metrics import f1_score\n",
    "from sklearn.metrics import precision_score\n",
    "from sklearn.metrics import recall_score\n",
    "from sklearn.metrics import accuracy_score"
   ]
  },
  {
   "cell_type": "code",
   "execution_count": 49,
   "metadata": {},
   "outputs": [],
   "source": [
    "def ModelMetrics(model):\n",
    "    print('accuracy:', accuracy_score(model.predict(X_test_mid), y_test_mid))\n",
    "    print('f1_score:', f1_score(model.predict(X_test_mid), y_test_mid))\n",
    "    print('roc_auc_score:', roc_auc_score(model.predict(X_test_mid), y_test_mid))\n",
    "    print('precision_score:', precision_score(model.predict(X_test_mid), y_test_mid))\n",
    "    print('recall_score:', recall_score(model.predict(X_test_mid), y_test_mid))\n",
    "    bias = 1 - accuracy_score(model.predict(X_train_mid), y_train_mid)\n",
    "    print('bias = ', bias)\n",
    "    variance = 1 - accuracy_score(model.predict(X_test_mid), y_test_mid) - bias\n",
    "    print('variance = ', variance)"
   ]
  },
  {
   "cell_type": "code",
   "execution_count": 50,
   "metadata": {},
   "outputs": [],
   "source": [
    "from sklearn.ensemble import StackingClassifier"
   ]
  },
  {
   "cell_type": "code",
   "execution_count": 51,
   "metadata": {},
   "outputs": [],
   "source": [
    "estimators = [\n",
    "    ('log', log),\\\n",
    "    ('svc', svc),\\\n",
    "    ('mnb', MNB),\\\n",
    "]"
   ]
  },
  {
   "cell_type": "code",
   "execution_count": 52,
   "metadata": {},
   "outputs": [],
   "source": [
    "clf = StackingClassifier(estimators=estimators, final_estimator=DecisionTreeClassifier(),\\\n",
    "                        n_jobs = -1, passthrough = True)"
   ]
  },
  {
   "cell_type": "code",
   "execution_count": 53,
   "metadata": {},
   "outputs": [
    {
     "data": {
      "text/plain": [
       "StackingClassifier(estimators=[('log',\n",
       "                                LogisticRegression(max_iter=1000000,\n",
       "                                                   random_state=42)),\n",
       "                               ('svc', SVC(random_state=42)),\n",
       "                               ('mnb', MultinomialNB())],\n",
       "                   final_estimator=DecisionTreeClassifier(), n_jobs=-1,\n",
       "                   passthrough=True)"
      ]
     },
     "execution_count": 53,
     "metadata": {},
     "output_type": "execute_result"
    }
   ],
   "source": [
    "clf.fit(X_train_down, y_train_down)"
   ]
  },
  {
   "cell_type": "code",
   "execution_count": 54,
   "metadata": {},
   "outputs": [
    {
     "name": "stdout",
     "output_type": "stream",
     "text": [
      "0.889897431242625\n",
      "accuracy: 0.8921\n",
      "f1_score: 0.8927328760314146\n",
      "roc_auc_score: 0.8923389355742296\n",
      "precision_score: 0.9054244807420851\n",
      "recall_score: 0.8803921568627451\n",
      "bias =  0.11010256875737501\n",
      "variance =  -0.002202568757375012\n"
     ]
    }
   ],
   "source": [
    "print(clf.score(X_train_mid, y_train_mid))\n",
    "ModelMetrics(clf)"
   ]
  },
  {
   "cell_type": "code",
   "execution_count": 55,
   "metadata": {},
   "outputs": [
    {
     "name": "stdout",
     "output_type": "stream",
     "text": [
      "0.9930773652839551\n",
      "0.9594\n",
      "accuracy: 0.9594\n",
      "f1_score: 0.958890238963143\n",
      "roc_auc_score: 0.9594585483975964\n",
      "precision_score: 0.9548296027424884\n",
      "recall_score: 0.9629855603009966\n",
      "bias =  0.006922634716044929\n",
      "variance =  0.03367736528395504\n"
     ]
    }
   ],
   "source": [
    "tree = DecisionTreeClassifier(random_state = 42)\n",
    "tree.fit(X_train_mid, y_train_mid)\n",
    "print(tree.score(X_train_mid, y_train_mid))\n",
    "print(tree.score(X_test_mid, y_test_mid))\n",
    "ModelMetrics(tree)"
   ]
  },
  {
   "cell_type": "code",
   "execution_count": 56,
   "metadata": {},
   "outputs": [],
   "source": [
    "from sklearn.ensemble import RandomForestClassifier"
   ]
  },
  {
   "cell_type": "code",
   "execution_count": 57,
   "metadata": {},
   "outputs": [
    {
     "name": "stdout",
     "output_type": "stream",
     "text": [
      "0.9930531602674655\n",
      "0.9637\n",
      "accuracy: 0.9637\n",
      "f1_score: 0.9634109464771696\n",
      "roc_auc_score: 0.9636956230591879\n",
      "precision_score: 0.9637023593466425\n",
      "recall_score: 0.9631197097944377\n",
      "bias =  0.0069468397325345155\n",
      "variance =  0.029353160267465483\n"
     ]
    }
   ],
   "source": [
    "forest = RandomForestClassifier(random_state = 42)\n",
    "forest.fit(X_train_mid, y_train_mid)\n",
    "print(forest.score(X_train_mid, y_train_mid))\n",
    "print(forest.score(X_test_mid, y_test_mid))\n",
    "ModelMetrics(forest)"
   ]
  },
  {
   "cell_type": "code",
   "execution_count": 58,
   "metadata": {},
   "outputs": [],
   "source": [
    "from sklearn.ensemble import GradientBoostingClassifier"
   ]
  },
  {
   "cell_type": "code",
   "execution_count": 59,
   "metadata": {},
   "outputs": [
    {
     "name": "stdout",
     "output_type": "stream",
     "text": [
      "0.8847780702550604\n",
      "0.886\n",
      "accuracy: 0.886\n",
      "f1_score: 0.8878394332939786\n",
      "roc_auc_score: 0.8868183416322839\n",
      "precision_score: 0.9098608590441621\n",
      "recall_score: 0.8668587896253602\n",
      "bias =  0.11522192974493961\n",
      "variance =  -0.0012219297449396205\n"
     ]
    }
   ],
   "source": [
    "GBS = GradientBoostingClassifier(random_state = 42)\n",
    "GBS.fit(X_train_mid, y_train_mid)\n",
    "print(GBS.score(X_train_mid, y_train_mid))\n",
    "print(GBS.score(X_test_mid, y_test_mid))\n",
    "ModelMetrics(GBS)"
   ]
  },
  {
   "cell_type": "code",
   "execution_count": 60,
   "metadata": {},
   "outputs": [],
   "source": [
    "from sklearn.ensemble import AdaBoostClassifier"
   ]
  },
  {
   "cell_type": "code",
   "execution_count": 61,
   "metadata": {},
   "outputs": [
    {
     "name": "stdout",
     "output_type": "stream",
     "text": [
      "0.9930773652839551\n",
      "0.9618\n",
      "accuracy: 0.9618\n",
      "f1_score: 0.9615539452495975\n",
      "roc_auc_score: 0.9617909114956872\n",
      "precision_score: 0.9632990522282718\n",
      "recall_score: 0.9598151496885674\n",
      "bias =  0.006922634716044929\n",
      "variance =  0.03127736528395508\n"
     ]
    }
   ],
   "source": [
    "Ada = AdaBoostClassifier(tree, random_state = 42)\n",
    "Ada.fit(X_train_mid, y_train_mid)\n",
    "print(Ada.score(X_train_mid, y_train_mid))\n",
    "print(Ada.score(X_test_mid, y_test_mid))\n",
    "ModelMetrics(Ada)"
   ]
  },
  {
   "cell_type": "code",
   "execution_count": 62,
   "metadata": {},
   "outputs": [],
   "source": [
    "params = {'max_depth' : [None, 20, 50, 75],\\\n",
    "         'n_estimators' : [50, 100, 200, 250, 400]}"
   ]
  },
  {
   "cell_type": "code",
   "execution_count": 63,
   "metadata": {},
   "outputs": [],
   "source": [
    "from sklearn.model_selection import GridSearchCV"
   ]
  },
  {
   "cell_type": "code",
   "execution_count": 64,
   "metadata": {},
   "outputs": [
    {
     "name": "stdout",
     "output_type": "stream",
     "text": [
      "{'max_depth': None, 'n_estimators': 400}\n",
      "0.9930773652839551\n",
      "0.9638\n",
      "accuracy: 0.9638\n",
      "f1_score: 0.9635301229095306\n",
      "roc_auc_score: 0.9637931428293016\n",
      "precision_score: 0.9643073200241984\n",
      "recall_score: 0.962754177571975\n",
      "bias =  0.006922634716044929\n",
      "variance =  0.02927736528395508\n"
     ]
    }
   ],
   "source": [
    "forestGSCV = GridSearchCV(forest, params)\n",
    "forestGSCV.fit(X_train_mid, y_train_mid)\n",
    "print(forestGSCV.best_params_)\n",
    "bestForest = forestGSCV.best_estimator_\n",
    "print(bestForest.score(X_train_mid, y_train_mid))\n",
    "print(bestForest.score(X_test_mid, y_test_mid))\n",
    "ModelMetrics(bestForest)"
   ]
  },
  {
   "cell_type": "code",
   "execution_count": 65,
   "metadata": {},
   "outputs": [],
   "source": [
    "params = {'n_estimators' : [250, 300, 350]}"
   ]
  },
  {
   "cell_type": "code",
   "execution_count": 66,
   "metadata": {},
   "outputs": [],
   "source": [
    "from sklearn.model_selection import GridSearchCV"
   ]
  },
  {
   "cell_type": "code",
   "execution_count": 67,
   "metadata": {},
   "outputs": [
    {
     "name": "stdout",
     "output_type": "stream",
     "text": [
      "{'n_estimators': 300}\n",
      "0.9930773652839551\n",
      "0.9637\n",
      "accuracy: 0.9637\n",
      "f1_score: 0.9634330613478391\n",
      "roc_auc_score: 0.963692752855157\n",
      "precision_score: 0.9643073200241984\n",
      "recall_score: 0.9625603864734299\n",
      "bias =  0.006922634716044929\n",
      "variance =  0.02937736528395507\n"
     ]
    }
   ],
   "source": [
    "forestGSCV = GridSearchCV(forest, params)\n",
    "forestGSCV.fit(X_train_mid, y_train_mid)\n",
    "print(forestGSCV.best_params_)\n",
    "bestForest = forestGSCV.best_estimator_\n",
    "print(bestForest.score(X_train_mid, y_train_mid))\n",
    "print(bestForest.score(X_test_mid, y_test_mid))\n",
    "ModelMetrics(bestForest)"
   ]
  },
  {
   "cell_type": "code",
   "execution_count": 68,
   "metadata": {},
   "outputs": [],
   "source": [
    "params = {'n_estimators' : [50, 100, 200, 250, 400]}"
   ]
  },
  {
   "cell_type": "code",
   "execution_count": 69,
   "metadata": {},
   "outputs": [
    {
     "name": "stdout",
     "output_type": "stream",
     "text": [
      "{'n_estimators': 100}\n",
      "0.9930773652839551\n",
      "0.9622\n",
      "accuracy: 0.9622\n",
      "f1_score: 0.9619641779029986\n",
      "roc_auc_score: 0.9621909330480589\n",
      "precision_score: 0.9639040129058278\n",
      "recall_score: 0.9600321349668608\n",
      "bias =  0.006922634716044929\n",
      "variance =  0.030877365283955016\n"
     ]
    }
   ],
   "source": [
    "AdaGSCV = GridSearchCV(Ada, params)\n",
    "AdaGSCV.fit(X_train_mid, y_train_mid)\n",
    "print(AdaGSCV.best_params_)\n",
    "bestAda = AdaGSCV.best_estimator_\n",
    "print(bestAda.score(X_train_mid, y_train_mid))\n",
    "print(bestAda.score(X_test_mid, y_test_mid))\n",
    "ModelMetrics(bestAda)"
   ]
  },
  {
   "cell_type": "code",
   "execution_count": 70,
   "metadata": {},
   "outputs": [
    {
     "data": {
      "text/plain": [
       "10000"
      ]
     },
     "execution_count": 70,
     "metadata": {},
     "output_type": "execute_result"
    }
   ],
   "source": [
    "y_test_mid.count()"
   ]
  },
  {
   "cell_type": "code",
   "execution_count": 71,
   "metadata": {},
   "outputs": [],
   "source": [
    "from joblib import dump, load"
   ]
  },
  {
   "cell_type": "code",
   "execution_count": 72,
   "metadata": {},
   "outputs": [
    {
     "data": {
      "text/plain": [
       "['forestGSCV.joblib']"
      ]
     },
     "execution_count": 72,
     "metadata": {},
     "output_type": "execute_result"
    }
   ],
   "source": [
    "dump(forestGSCV.best_estimator_, 'forestGSCV.joblib')"
   ]
  },
  {
   "cell_type": "code",
   "execution_count": 73,
   "metadata": {},
   "outputs": [
    {
     "data": {
      "text/plain": [
       "Index(['priority', 'mark', 'kvota', 'mark_mean_years', 'placesCount_years',\n",
       "       'budgetCount_years', 'contractCount_years', 'budget_mark_mean_years',\n",
       "       'abit_count_years', 'mark_max_years', 'mark_min_years',\n",
       "       'budget_mark_max_years', 'budget_mark_min_years'],\n",
       "      dtype='object')"
      ]
     },
     "execution_count": 73,
     "metadata": {},
     "output_type": "execute_result"
    }
   ],
   "source": [
    "X_train_mid.columns"
   ]
  },
  {
   "cell_type": "code",
   "execution_count": 74,
   "metadata": {},
   "outputs": [],
   "source": [
    "from sklearn.feature_selection import RFECV"
   ]
  },
  {
   "cell_type": "code",
   "execution_count": 75,
   "metadata": {},
   "outputs": [],
   "source": [
    "rfeForest = RFECV(forest, min_features_to_select = 5)"
   ]
  },
  {
   "cell_type": "code",
   "execution_count": 76,
   "metadata": {},
   "outputs": [
    {
     "data": {
      "text/plain": [
       "RFECV(estimator=RandomForestClassifier(random_state=42),\n",
       "      min_features_to_select=5)"
      ]
     },
     "execution_count": 76,
     "metadata": {},
     "output_type": "execute_result"
    }
   ],
   "source": [
    "rfeForest.fit(X_train_mid, y_train_mid)"
   ]
  },
  {
   "cell_type": "code",
   "execution_count": 77,
   "metadata": {},
   "outputs": [
    {
     "data": {
      "text/plain": [
       "array([ True,  True,  True,  True,  True,  True,  True,  True,  True,\n",
       "        True,  True,  True,  True])"
      ]
     },
     "execution_count": 77,
     "metadata": {},
     "output_type": "execute_result"
    }
   ],
   "source": [
    "rfeForest.support_"
   ]
  },
  {
   "cell_type": "code",
   "execution_count": 78,
   "metadata": {},
   "outputs": [
    {
     "data": {
      "text/plain": [
       "array([1, 1, 1, 1, 1, 1, 1, 1, 1, 1, 1, 1, 1])"
      ]
     },
     "execution_count": 78,
     "metadata": {},
     "output_type": "execute_result"
    }
   ],
   "source": [
    "rfeForest.ranking_"
   ]
  },
  {
   "cell_type": "code",
   "execution_count": 79,
   "metadata": {},
   "outputs": [],
   "source": [
    "X_train_sub = rfeForest.transform(X_train_mid)\n",
    "X_test_sub = rfeForest.transform(X_test_mid)"
   ]
  },
  {
   "cell_type": "code",
   "execution_count": 80,
   "metadata": {},
   "outputs": [
    {
     "name": "stdout",
     "output_type": "stream",
     "text": [
      "0.9930773652839551\n",
      "0.9637\n"
     ]
    }
   ],
   "source": [
    "forestSub = RandomForestClassifier(random_state = 42, n_estimators = 250)\n",
    "forestSub.fit(X_train_sub, y_train_mid)\n",
    "print(forestSub.score(X_train_sub, y_train_mid))\n",
    "print(forestSub.score(X_test_sub, y_test_mid))"
   ]
  },
  {
   "cell_type": "code",
   "execution_count": 81,
   "metadata": {},
   "outputs": [
    {
     "name": "stdout",
     "output_type": "stream",
     "text": [
      "accuracy: 0.9637\n",
      "f1_score: 0.9634404270319266\n",
      "roc_auc_score: 0.963692092915345\n",
      "precision_score: 0.9645089735833837\n",
      "recall_score: 0.962374245472837\n",
      "bias =  0.006922634716044929\n",
      "variance =  0.02937736528395507\n"
     ]
    }
   ],
   "source": [
    "print('accuracy:', accuracy_score(forestSub.predict(X_test_sub), y_test_mid))\n",
    "print('f1_score:', f1_score(forestSub.predict(X_test_sub), y_test_mid))\n",
    "print('roc_auc_score:', roc_auc_score(forestSub.predict(X_test_sub), y_test_mid))\n",
    "print('precision_score:', precision_score(forestSub.predict(X_test_sub), y_test_mid))\n",
    "print('recall_score:', recall_score(forestSub.predict(X_test_sub), y_test_mid))\n",
    "bias = 1 - accuracy_score(forestSub.predict(X_train_sub), y_train_mid)\n",
    "print('bias = ', bias)\n",
    "variance = 1 - accuracy_score(forestSub.predict(X_test_sub), y_test_mid) - bias\n",
    "print('variance = ', variance)"
   ]
  },
  {
   "cell_type": "code",
   "execution_count": 82,
   "metadata": {},
   "outputs": [],
   "source": [
    "params = {\n",
    "    'min_samples_split' : [2, 50, 100, 250, 1000],\\\n",
    "    'min_samples_leaf' : [1, 50, 100, 250, 1000], \\\n",
    "    'min_weight_fraction_leaf' : [0.0, 0.25, 0.5],\\\n",
    "    'max_leaf_nodes' : [None, 2, 3, 5, 10],\\\n",
    "    'min_impurity_decrease' : [0.0, 0.25, 0.5, 0.75],\\\n",
    "    'max_depth' : [None, 25, 50, 75, 12]\n",
    "}"
   ]
  },
  {
   "cell_type": "code",
   "execution_count": 83,
   "metadata": {},
   "outputs": [],
   "source": [
    "from sklearn.model_selection import RandomizedSearchCV"
   ]
  },
  {
   "cell_type": "code",
   "execution_count": 84,
   "metadata": {},
   "outputs": [],
   "source": [
    "GSCV = RandomizedSearchCV(forestSub, params, n_iter = 250, verbose = 3, return_train_score = True)"
   ]
  },
  {
   "cell_type": "code",
   "execution_count": 85,
   "metadata": {},
   "outputs": [
    {
     "name": "stdout",
     "output_type": "stream",
     "text": [
      "Fitting 5 folds for each of 250 candidates, totalling 1250 fits\n",
      "[CV 1/5] END max_depth=12, max_leaf_nodes=10, min_impurity_decrease=0.25, min_samples_leaf=50, min_samples_split=100, min_weight_fraction_leaf=0.5;, score=(train=0.500, test=0.500) total time=  17.2s\n",
      "[CV 2/5] END max_depth=12, max_leaf_nodes=10, min_impurity_decrease=0.25, min_samples_leaf=50, min_samples_split=100, min_weight_fraction_leaf=0.5;, score=(train=0.500, test=0.500) total time=  17.3s\n",
      "[CV 3/5] END max_depth=12, max_leaf_nodes=10, min_impurity_decrease=0.25, min_samples_leaf=50, min_samples_split=100, min_weight_fraction_leaf=0.5;, score=(train=0.500, test=0.500) total time=  17.3s\n",
      "[CV 4/5] END max_depth=12, max_leaf_nodes=10, min_impurity_decrease=0.25, min_samples_leaf=50, min_samples_split=100, min_weight_fraction_leaf=0.5;, score=(train=0.500, test=0.500) total time=  17.1s\n",
      "[CV 5/5] END max_depth=12, max_leaf_nodes=10, min_impurity_decrease=0.25, min_samples_leaf=50, min_samples_split=100, min_weight_fraction_leaf=0.5;, score=(train=0.500, test=0.500) total time=  17.3s\n",
      "[CV 1/5] END max_depth=12, max_leaf_nodes=3, min_impurity_decrease=0.75, min_samples_leaf=50, min_samples_split=2, min_weight_fraction_leaf=0.5;, score=(train=0.500, test=0.500) total time=  17.2s\n",
      "[CV 2/5] END max_depth=12, max_leaf_nodes=3, min_impurity_decrease=0.75, min_samples_leaf=50, min_samples_split=2, min_weight_fraction_leaf=0.5;, score=(train=0.500, test=0.500) total time=  17.3s\n",
      "[CV 3/5] END max_depth=12, max_leaf_nodes=3, min_impurity_decrease=0.75, min_samples_leaf=50, min_samples_split=2, min_weight_fraction_leaf=0.5;, score=(train=0.500, test=0.500) total time=  17.2s\n",
      "[CV 4/5] END max_depth=12, max_leaf_nodes=3, min_impurity_decrease=0.75, min_samples_leaf=50, min_samples_split=2, min_weight_fraction_leaf=0.5;, score=(train=0.500, test=0.500) total time=  17.2s\n",
      "[CV 5/5] END max_depth=12, max_leaf_nodes=3, min_impurity_decrease=0.75, min_samples_leaf=50, min_samples_split=2, min_weight_fraction_leaf=0.5;, score=(train=0.500, test=0.500) total time=  17.2s\n",
      "[CV 1/5] END max_depth=None, max_leaf_nodes=2, min_impurity_decrease=0.0, min_samples_leaf=50, min_samples_split=50, min_weight_fraction_leaf=0.0;, score=(train=0.780, test=0.779) total time=  26.2s\n",
      "[CV 2/5] END max_depth=None, max_leaf_nodes=2, min_impurity_decrease=0.0, min_samples_leaf=50, min_samples_split=50, min_weight_fraction_leaf=0.0;, score=(train=0.780, test=0.782) total time=  26.9s\n",
      "[CV 3/5] END max_depth=None, max_leaf_nodes=2, min_impurity_decrease=0.0, min_samples_leaf=50, min_samples_split=50, min_weight_fraction_leaf=0.0;, score=(train=0.780, test=0.781) total time=  26.2s\n",
      "[CV 4/5] END max_depth=None, max_leaf_nodes=2, min_impurity_decrease=0.0, min_samples_leaf=50, min_samples_split=50, min_weight_fraction_leaf=0.0;, score=(train=0.779, test=0.776) total time=  26.1s\n",
      "[CV 5/5] END max_depth=None, max_leaf_nodes=2, min_impurity_decrease=0.0, min_samples_leaf=50, min_samples_split=50, min_weight_fraction_leaf=0.0;, score=(train=0.780, test=0.781) total time=  26.4s\n",
      "[CV 1/5] END max_depth=12, max_leaf_nodes=5, min_impurity_decrease=0.25, min_samples_leaf=1, min_samples_split=2, min_weight_fraction_leaf=0.0;, score=(train=0.500, test=0.500) total time=  18.2s\n",
      "[CV 2/5] END max_depth=12, max_leaf_nodes=5, min_impurity_decrease=0.25, min_samples_leaf=1, min_samples_split=2, min_weight_fraction_leaf=0.0;, score=(train=0.500, test=0.500) total time=  18.1s\n",
      "[CV 3/5] END max_depth=12, max_leaf_nodes=5, min_impurity_decrease=0.25, min_samples_leaf=1, min_samples_split=2, min_weight_fraction_leaf=0.0;, score=(train=0.500, test=0.500) total time=  18.4s\n",
      "[CV 4/5] END max_depth=12, max_leaf_nodes=5, min_impurity_decrease=0.25, min_samples_leaf=1, min_samples_split=2, min_weight_fraction_leaf=0.0;, score=(train=0.500, test=0.500) total time=  18.1s\n",
      "[CV 5/5] END max_depth=12, max_leaf_nodes=5, min_impurity_decrease=0.25, min_samples_leaf=1, min_samples_split=2, min_weight_fraction_leaf=0.0;, score=(train=0.500, test=0.500) total time=  18.6s\n",
      "[CV 1/5] END max_depth=None, max_leaf_nodes=2, min_impurity_decrease=0.0, min_samples_leaf=1, min_samples_split=100, min_weight_fraction_leaf=0.25;, score=(train=0.780, test=0.778) total time=  23.6s\n",
      "[CV 2/5] END max_depth=None, max_leaf_nodes=2, min_impurity_decrease=0.0, min_samples_leaf=1, min_samples_split=100, min_weight_fraction_leaf=0.25;, score=(train=0.779, test=0.781) total time=  23.3s\n",
      "[CV 3/5] END max_depth=None, max_leaf_nodes=2, min_impurity_decrease=0.0, min_samples_leaf=1, min_samples_split=100, min_weight_fraction_leaf=0.25;, score=(train=0.779, test=0.780) total time=  23.5s\n",
      "[CV 4/5] END max_depth=None, max_leaf_nodes=2, min_impurity_decrease=0.0, min_samples_leaf=1, min_samples_split=100, min_weight_fraction_leaf=0.25;, score=(train=0.780, test=0.776) total time=  23.4s\n",
      "[CV 5/5] END max_depth=None, max_leaf_nodes=2, min_impurity_decrease=0.0, min_samples_leaf=1, min_samples_split=100, min_weight_fraction_leaf=0.25;, score=(train=0.779, test=0.781) total time=  23.6s\n",
      "[CV 1/5] END max_depth=12, max_leaf_nodes=10, min_impurity_decrease=0.75, min_samples_leaf=250, min_samples_split=1000, min_weight_fraction_leaf=0.0;, score=(train=0.500, test=0.500) total time=  18.2s\n",
      "[CV 2/5] END max_depth=12, max_leaf_nodes=10, min_impurity_decrease=0.75, min_samples_leaf=250, min_samples_split=1000, min_weight_fraction_leaf=0.0;, score=(train=0.500, test=0.500) total time=  18.1s\n",
      "[CV 3/5] END max_depth=12, max_leaf_nodes=10, min_impurity_decrease=0.75, min_samples_leaf=250, min_samples_split=1000, min_weight_fraction_leaf=0.0;, score=(train=0.500, test=0.500) total time=  18.2s\n",
      "[CV 4/5] END max_depth=12, max_leaf_nodes=10, min_impurity_decrease=0.75, min_samples_leaf=250, min_samples_split=1000, min_weight_fraction_leaf=0.0;, score=(train=0.500, test=0.500) total time=  18.1s\n",
      "[CV 5/5] END max_depth=12, max_leaf_nodes=10, min_impurity_decrease=0.75, min_samples_leaf=250, min_samples_split=1000, min_weight_fraction_leaf=0.0;, score=(train=0.500, test=0.500) total time=  18.3s\n",
      "[CV 1/5] END max_depth=12, max_leaf_nodes=10, min_impurity_decrease=0.25, min_samples_leaf=1, min_samples_split=1000, min_weight_fraction_leaf=0.25;, score=(train=0.500, test=0.500) total time=  18.0s\n",
      "[CV 2/5] END max_depth=12, max_leaf_nodes=10, min_impurity_decrease=0.25, min_samples_leaf=1, min_samples_split=1000, min_weight_fraction_leaf=0.25;, score=(train=0.500, test=0.500) total time=  18.1s\n",
      "[CV 3/5] END max_depth=12, max_leaf_nodes=10, min_impurity_decrease=0.25, min_samples_leaf=1, min_samples_split=1000, min_weight_fraction_leaf=0.25;, score=(train=0.500, test=0.500) total time=  18.1s\n",
      "[CV 4/5] END max_depth=12, max_leaf_nodes=10, min_impurity_decrease=0.25, min_samples_leaf=1, min_samples_split=1000, min_weight_fraction_leaf=0.25;, score=(train=0.500, test=0.500) total time=  18.6s\n",
      "[CV 5/5] END max_depth=12, max_leaf_nodes=10, min_impurity_decrease=0.25, min_samples_leaf=1, min_samples_split=1000, min_weight_fraction_leaf=0.25;, score=(train=0.500, test=0.500) total time=  18.0s\n",
      "[CV 1/5] END max_depth=75, max_leaf_nodes=None, min_impurity_decrease=0.5, min_samples_leaf=50, min_samples_split=1000, min_weight_fraction_leaf=0.5;, score=(train=0.500, test=0.500) total time=  17.1s\n",
      "[CV 2/5] END max_depth=75, max_leaf_nodes=None, min_impurity_decrease=0.5, min_samples_leaf=50, min_samples_split=1000, min_weight_fraction_leaf=0.5;, score=(train=0.500, test=0.500) total time=  17.2s\n",
      "[CV 3/5] END max_depth=75, max_leaf_nodes=None, min_impurity_decrease=0.5, min_samples_leaf=50, min_samples_split=1000, min_weight_fraction_leaf=0.5;, score=(train=0.500, test=0.500) total time=  17.2s\n",
      "[CV 4/5] END max_depth=75, max_leaf_nodes=None, min_impurity_decrease=0.5, min_samples_leaf=50, min_samples_split=1000, min_weight_fraction_leaf=0.5;, score=(train=0.500, test=0.500) total time=  17.0s\n",
      "[CV 5/5] END max_depth=75, max_leaf_nodes=None, min_impurity_decrease=0.5, min_samples_leaf=50, min_samples_split=1000, min_weight_fraction_leaf=0.5;, score=(train=0.500, test=0.500) total time=  17.1s\n",
      "[CV 1/5] END max_depth=12, max_leaf_nodes=None, min_impurity_decrease=0.0, min_samples_leaf=50, min_samples_split=1000, min_weight_fraction_leaf=0.25;, score=(train=0.822, test=0.819) total time=  23.7s\n"
     ]
    },
    {
     "name": "stdout",
     "output_type": "stream",
     "text": [
      "[CV 2/5] END max_depth=12, max_leaf_nodes=None, min_impurity_decrease=0.0, min_samples_leaf=50, min_samples_split=1000, min_weight_fraction_leaf=0.25;, score=(train=0.821, test=0.822) total time=  23.9s\n",
      "[CV 3/5] END max_depth=12, max_leaf_nodes=None, min_impurity_decrease=0.0, min_samples_leaf=50, min_samples_split=1000, min_weight_fraction_leaf=0.25;, score=(train=0.821, test=0.822) total time=  23.8s\n",
      "[CV 4/5] END max_depth=12, max_leaf_nodes=None, min_impurity_decrease=0.0, min_samples_leaf=50, min_samples_split=1000, min_weight_fraction_leaf=0.25;, score=(train=0.822, test=0.820) total time=  23.7s\n",
      "[CV 5/5] END max_depth=12, max_leaf_nodes=None, min_impurity_decrease=0.0, min_samples_leaf=50, min_samples_split=1000, min_weight_fraction_leaf=0.25;, score=(train=0.820, test=0.823) total time=  23.8s\n",
      "[CV 1/5] END max_depth=75, max_leaf_nodes=None, min_impurity_decrease=0.0, min_samples_leaf=1000, min_samples_split=250, min_weight_fraction_leaf=0.25;, score=(train=0.822, test=0.819) total time=  23.7s\n",
      "[CV 2/5] END max_depth=75, max_leaf_nodes=None, min_impurity_decrease=0.0, min_samples_leaf=1000, min_samples_split=250, min_weight_fraction_leaf=0.25;, score=(train=0.821, test=0.822) total time=  23.7s\n",
      "[CV 3/5] END max_depth=75, max_leaf_nodes=None, min_impurity_decrease=0.0, min_samples_leaf=1000, min_samples_split=250, min_weight_fraction_leaf=0.25;, score=(train=0.821, test=0.822) total time=  23.8s\n",
      "[CV 4/5] END max_depth=75, max_leaf_nodes=None, min_impurity_decrease=0.0, min_samples_leaf=1000, min_samples_split=250, min_weight_fraction_leaf=0.25;, score=(train=0.822, test=0.820) total time=  23.8s\n",
      "[CV 5/5] END max_depth=75, max_leaf_nodes=None, min_impurity_decrease=0.0, min_samples_leaf=1000, min_samples_split=250, min_weight_fraction_leaf=0.25;, score=(train=0.820, test=0.823) total time=  23.8s\n",
      "[CV 1/5] END max_depth=75, max_leaf_nodes=None, min_impurity_decrease=0.75, min_samples_leaf=1, min_samples_split=1000, min_weight_fraction_leaf=0.0;, score=(train=0.500, test=0.500) total time=  18.0s\n",
      "[CV 2/5] END max_depth=75, max_leaf_nodes=None, min_impurity_decrease=0.75, min_samples_leaf=1, min_samples_split=1000, min_weight_fraction_leaf=0.0;, score=(train=0.500, test=0.500) total time=  18.1s\n",
      "[CV 3/5] END max_depth=75, max_leaf_nodes=None, min_impurity_decrease=0.75, min_samples_leaf=1, min_samples_split=1000, min_weight_fraction_leaf=0.0;, score=(train=0.500, test=0.500) total time=  18.2s\n",
      "[CV 4/5] END max_depth=75, max_leaf_nodes=None, min_impurity_decrease=0.75, min_samples_leaf=1, min_samples_split=1000, min_weight_fraction_leaf=0.0;, score=(train=0.500, test=0.500) total time=  17.9s\n",
      "[CV 5/5] END max_depth=75, max_leaf_nodes=None, min_impurity_decrease=0.75, min_samples_leaf=1, min_samples_split=1000, min_weight_fraction_leaf=0.0;, score=(train=0.500, test=0.500) total time=  18.1s\n",
      "[CV 1/5] END max_depth=50, max_leaf_nodes=3, min_impurity_decrease=0.75, min_samples_leaf=250, min_samples_split=1000, min_weight_fraction_leaf=0.0;, score=(train=0.500, test=0.500) total time=  18.1s\n",
      "[CV 2/5] END max_depth=50, max_leaf_nodes=3, min_impurity_decrease=0.75, min_samples_leaf=250, min_samples_split=1000, min_weight_fraction_leaf=0.0;, score=(train=0.500, test=0.500) total time=  18.0s\n",
      "[CV 3/5] END max_depth=50, max_leaf_nodes=3, min_impurity_decrease=0.75, min_samples_leaf=250, min_samples_split=1000, min_weight_fraction_leaf=0.0;, score=(train=0.500, test=0.500) total time=  18.2s\n",
      "[CV 4/5] END max_depth=50, max_leaf_nodes=3, min_impurity_decrease=0.75, min_samples_leaf=250, min_samples_split=1000, min_weight_fraction_leaf=0.0;, score=(train=0.500, test=0.500) total time=  18.1s\n",
      "[CV 5/5] END max_depth=50, max_leaf_nodes=3, min_impurity_decrease=0.75, min_samples_leaf=250, min_samples_split=1000, min_weight_fraction_leaf=0.0;, score=(train=0.500, test=0.500) total time=  18.1s\n",
      "[CV 1/5] END max_depth=None, max_leaf_nodes=2, min_impurity_decrease=0.5, min_samples_leaf=1000, min_samples_split=1000, min_weight_fraction_leaf=0.5;, score=(train=0.500, test=0.500) total time=  17.1s\n",
      "[CV 2/5] END max_depth=None, max_leaf_nodes=2, min_impurity_decrease=0.5, min_samples_leaf=1000, min_samples_split=1000, min_weight_fraction_leaf=0.5;, score=(train=0.500, test=0.500) total time=  17.1s\n",
      "[CV 3/5] END max_depth=None, max_leaf_nodes=2, min_impurity_decrease=0.5, min_samples_leaf=1000, min_samples_split=1000, min_weight_fraction_leaf=0.5;, score=(train=0.500, test=0.500) total time=  17.1s\n",
      "[CV 4/5] END max_depth=None, max_leaf_nodes=2, min_impurity_decrease=0.5, min_samples_leaf=1000, min_samples_split=1000, min_weight_fraction_leaf=0.5;, score=(train=0.500, test=0.500) total time=  17.1s\n",
      "[CV 5/5] END max_depth=None, max_leaf_nodes=2, min_impurity_decrease=0.5, min_samples_leaf=1000, min_samples_split=1000, min_weight_fraction_leaf=0.5;, score=(train=0.500, test=0.500) total time=  17.2s\n",
      "[CV 1/5] END max_depth=25, max_leaf_nodes=2, min_impurity_decrease=0.0, min_samples_leaf=50, min_samples_split=250, min_weight_fraction_leaf=0.0;, score=(train=0.780, test=0.779) total time=  26.5s\n",
      "[CV 2/5] END max_depth=25, max_leaf_nodes=2, min_impurity_decrease=0.0, min_samples_leaf=50, min_samples_split=250, min_weight_fraction_leaf=0.0;, score=(train=0.780, test=0.782) total time=  26.3s\n",
      "[CV 3/5] END max_depth=25, max_leaf_nodes=2, min_impurity_decrease=0.0, min_samples_leaf=50, min_samples_split=250, min_weight_fraction_leaf=0.0;, score=(train=0.780, test=0.781) total time=  26.1s\n",
      "[CV 4/5] END max_depth=25, max_leaf_nodes=2, min_impurity_decrease=0.0, min_samples_leaf=50, min_samples_split=250, min_weight_fraction_leaf=0.0;, score=(train=0.779, test=0.776) total time=  26.0s\n",
      "[CV 5/5] END max_depth=25, max_leaf_nodes=2, min_impurity_decrease=0.0, min_samples_leaf=50, min_samples_split=250, min_weight_fraction_leaf=0.0;, score=(train=0.780, test=0.781) total time=  26.1s\n",
      "[CV 1/5] END max_depth=50, max_leaf_nodes=10, min_impurity_decrease=0.5, min_samples_leaf=250, min_samples_split=50, min_weight_fraction_leaf=0.5;, score=(train=0.500, test=0.500) total time=  17.1s\n",
      "[CV 2/5] END max_depth=50, max_leaf_nodes=10, min_impurity_decrease=0.5, min_samples_leaf=250, min_samples_split=50, min_weight_fraction_leaf=0.5;, score=(train=0.500, test=0.500) total time=  17.4s\n",
      "[CV 3/5] END max_depth=50, max_leaf_nodes=10, min_impurity_decrease=0.5, min_samples_leaf=250, min_samples_split=50, min_weight_fraction_leaf=0.5;, score=(train=0.500, test=0.500) total time=  17.1s\n",
      "[CV 4/5] END max_depth=50, max_leaf_nodes=10, min_impurity_decrease=0.5, min_samples_leaf=250, min_samples_split=50, min_weight_fraction_leaf=0.5;, score=(train=0.500, test=0.500) total time=  17.1s\n",
      "[CV 5/5] END max_depth=50, max_leaf_nodes=10, min_impurity_decrease=0.5, min_samples_leaf=250, min_samples_split=50, min_weight_fraction_leaf=0.5;, score=(train=0.500, test=0.500) total time=  17.3s\n",
      "[CV 1/5] END max_depth=25, max_leaf_nodes=5, min_impurity_decrease=0.5, min_samples_leaf=50, min_samples_split=100, min_weight_fraction_leaf=0.0;, score=(train=0.500, test=0.500) total time=  18.0s\n",
      "[CV 2/5] END max_depth=25, max_leaf_nodes=5, min_impurity_decrease=0.5, min_samples_leaf=50, min_samples_split=100, min_weight_fraction_leaf=0.0;, score=(train=0.500, test=0.500) total time=  18.1s\n",
      "[CV 3/5] END max_depth=25, max_leaf_nodes=5, min_impurity_decrease=0.5, min_samples_leaf=50, min_samples_split=100, min_weight_fraction_leaf=0.0;, score=(train=0.500, test=0.500) total time=  18.2s\n",
      "[CV 4/5] END max_depth=25, max_leaf_nodes=5, min_impurity_decrease=0.5, min_samples_leaf=50, min_samples_split=100, min_weight_fraction_leaf=0.0;, score=(train=0.500, test=0.500) total time=  17.9s\n",
      "[CV 5/5] END max_depth=25, max_leaf_nodes=5, min_impurity_decrease=0.5, min_samples_leaf=50, min_samples_split=100, min_weight_fraction_leaf=0.0;, score=(train=0.500, test=0.500) total time=  18.1s\n",
      "[CV 1/5] END max_depth=25, max_leaf_nodes=2, min_impurity_decrease=0.25, min_samples_leaf=1, min_samples_split=100, min_weight_fraction_leaf=0.25;, score=(train=0.500, test=0.500) total time=  18.2s\n",
      "[CV 2/5] END max_depth=25, max_leaf_nodes=2, min_impurity_decrease=0.25, min_samples_leaf=1, min_samples_split=100, min_weight_fraction_leaf=0.25;, score=(train=0.500, test=0.500) total time=  18.0s\n"
     ]
    },
    {
     "name": "stdout",
     "output_type": "stream",
     "text": [
      "[CV 3/5] END max_depth=25, max_leaf_nodes=2, min_impurity_decrease=0.25, min_samples_leaf=1, min_samples_split=100, min_weight_fraction_leaf=0.25;, score=(train=0.500, test=0.500) total time=  18.2s\n",
      "[CV 4/5] END max_depth=25, max_leaf_nodes=2, min_impurity_decrease=0.25, min_samples_leaf=1, min_samples_split=100, min_weight_fraction_leaf=0.25;, score=(train=0.500, test=0.500) total time=  17.9s\n",
      "[CV 5/5] END max_depth=25, max_leaf_nodes=2, min_impurity_decrease=0.25, min_samples_leaf=1, min_samples_split=100, min_weight_fraction_leaf=0.25;, score=(train=0.500, test=0.500) total time=  18.0s\n",
      "[CV 1/5] END max_depth=25, max_leaf_nodes=10, min_impurity_decrease=0.0, min_samples_leaf=100, min_samples_split=100, min_weight_fraction_leaf=0.5;, score=(train=0.657, test=0.658) total time=  17.0s\n",
      "[CV 2/5] END max_depth=25, max_leaf_nodes=10, min_impurity_decrease=0.0, min_samples_leaf=100, min_samples_split=100, min_weight_fraction_leaf=0.5;, score=(train=0.657, test=0.658) total time=  17.5s\n",
      "[CV 3/5] END max_depth=25, max_leaf_nodes=10, min_impurity_decrease=0.0, min_samples_leaf=100, min_samples_split=100, min_weight_fraction_leaf=0.5;, score=(train=0.658, test=0.656) total time=  17.3s\n",
      "[CV 4/5] END max_depth=25, max_leaf_nodes=10, min_impurity_decrease=0.0, min_samples_leaf=100, min_samples_split=100, min_weight_fraction_leaf=0.5;, score=(train=0.657, test=0.657) total time=  17.1s\n",
      "[CV 5/5] END max_depth=25, max_leaf_nodes=10, min_impurity_decrease=0.0, min_samples_leaf=100, min_samples_split=100, min_weight_fraction_leaf=0.5;, score=(train=0.657, test=0.658) total time=  17.3s\n",
      "[CV 1/5] END max_depth=12, max_leaf_nodes=3, min_impurity_decrease=0.0, min_samples_leaf=1000, min_samples_split=1000, min_weight_fraction_leaf=0.5;, score=(train=0.657, test=0.658) total time=  17.2s\n",
      "[CV 2/5] END max_depth=12, max_leaf_nodes=3, min_impurity_decrease=0.0, min_samples_leaf=1000, min_samples_split=1000, min_weight_fraction_leaf=0.5;, score=(train=0.657, test=0.658) total time=  17.2s\n",
      "[CV 3/5] END max_depth=12, max_leaf_nodes=3, min_impurity_decrease=0.0, min_samples_leaf=1000, min_samples_split=1000, min_weight_fraction_leaf=0.5;, score=(train=0.658, test=0.656) total time=  17.3s\n",
      "[CV 4/5] END max_depth=12, max_leaf_nodes=3, min_impurity_decrease=0.0, min_samples_leaf=1000, min_samples_split=1000, min_weight_fraction_leaf=0.5;, score=(train=0.657, test=0.657) total time=  17.0s\n",
      "[CV 5/5] END max_depth=12, max_leaf_nodes=3, min_impurity_decrease=0.0, min_samples_leaf=1000, min_samples_split=1000, min_weight_fraction_leaf=0.5;, score=(train=0.657, test=0.658) total time=  17.3s\n",
      "[CV 1/5] END max_depth=50, max_leaf_nodes=2, min_impurity_decrease=0.75, min_samples_leaf=1000, min_samples_split=1000, min_weight_fraction_leaf=0.5;, score=(train=0.500, test=0.500) total time=  17.0s\n",
      "[CV 2/5] END max_depth=50, max_leaf_nodes=2, min_impurity_decrease=0.75, min_samples_leaf=1000, min_samples_split=1000, min_weight_fraction_leaf=0.5;, score=(train=0.500, test=0.500) total time=  17.2s\n",
      "[CV 3/5] END max_depth=50, max_leaf_nodes=2, min_impurity_decrease=0.75, min_samples_leaf=1000, min_samples_split=1000, min_weight_fraction_leaf=0.5;, score=(train=0.500, test=0.500) total time=  17.1s\n",
      "[CV 4/5] END max_depth=50, max_leaf_nodes=2, min_impurity_decrease=0.75, min_samples_leaf=1000, min_samples_split=1000, min_weight_fraction_leaf=0.5;, score=(train=0.500, test=0.500) total time=  17.0s\n",
      "[CV 5/5] END max_depth=50, max_leaf_nodes=2, min_impurity_decrease=0.75, min_samples_leaf=1000, min_samples_split=1000, min_weight_fraction_leaf=0.5;, score=(train=0.500, test=0.500) total time=  17.2s\n",
      "[CV 1/5] END max_depth=12, max_leaf_nodes=10, min_impurity_decrease=0.75, min_samples_leaf=1, min_samples_split=100, min_weight_fraction_leaf=0.0;, score=(train=0.500, test=0.500) total time=  18.1s\n",
      "[CV 2/5] END max_depth=12, max_leaf_nodes=10, min_impurity_decrease=0.75, min_samples_leaf=1, min_samples_split=100, min_weight_fraction_leaf=0.0;, score=(train=0.500, test=0.500) total time=  18.1s\n",
      "[CV 3/5] END max_depth=12, max_leaf_nodes=10, min_impurity_decrease=0.75, min_samples_leaf=1, min_samples_split=100, min_weight_fraction_leaf=0.0;, score=(train=0.500, test=0.500) total time=  18.3s\n",
      "[CV 4/5] END max_depth=12, max_leaf_nodes=10, min_impurity_decrease=0.75, min_samples_leaf=1, min_samples_split=100, min_weight_fraction_leaf=0.0;, score=(train=0.500, test=0.500) total time=  18.0s\n",
      "[CV 5/5] END max_depth=12, max_leaf_nodes=10, min_impurity_decrease=0.75, min_samples_leaf=1, min_samples_split=100, min_weight_fraction_leaf=0.0;, score=(train=0.500, test=0.500) total time=  18.1s\n",
      "[CV 1/5] END max_depth=50, max_leaf_nodes=None, min_impurity_decrease=0.25, min_samples_leaf=1, min_samples_split=2, min_weight_fraction_leaf=0.25;, score=(train=0.500, test=0.500) total time=  17.9s\n",
      "[CV 2/5] END max_depth=50, max_leaf_nodes=None, min_impurity_decrease=0.25, min_samples_leaf=1, min_samples_split=2, min_weight_fraction_leaf=0.25;, score=(train=0.500, test=0.500) total time=  18.0s\n",
      "[CV 3/5] END max_depth=50, max_leaf_nodes=None, min_impurity_decrease=0.25, min_samples_leaf=1, min_samples_split=2, min_weight_fraction_leaf=0.25;, score=(train=0.500, test=0.500) total time=  18.0s\n",
      "[CV 4/5] END max_depth=50, max_leaf_nodes=None, min_impurity_decrease=0.25, min_samples_leaf=1, min_samples_split=2, min_weight_fraction_leaf=0.25;, score=(train=0.500, test=0.500) total time=  17.9s\n",
      "[CV 5/5] END max_depth=50, max_leaf_nodes=None, min_impurity_decrease=0.25, min_samples_leaf=1, min_samples_split=2, min_weight_fraction_leaf=0.25;, score=(train=0.500, test=0.500) total time=  18.0s\n",
      "[CV 1/5] END max_depth=25, max_leaf_nodes=3, min_impurity_decrease=0.5, min_samples_leaf=50, min_samples_split=2, min_weight_fraction_leaf=0.25;, score=(train=0.500, test=0.500) total time=  17.9s\n",
      "[CV 2/5] END max_depth=25, max_leaf_nodes=3, min_impurity_decrease=0.5, min_samples_leaf=50, min_samples_split=2, min_weight_fraction_leaf=0.25;, score=(train=0.500, test=0.500) total time=  17.9s\n",
      "[CV 3/5] END max_depth=25, max_leaf_nodes=3, min_impurity_decrease=0.5, min_samples_leaf=50, min_samples_split=2, min_weight_fraction_leaf=0.25;, score=(train=0.500, test=0.500) total time=  18.1s\n",
      "[CV 4/5] END max_depth=25, max_leaf_nodes=3, min_impurity_decrease=0.5, min_samples_leaf=50, min_samples_split=2, min_weight_fraction_leaf=0.25;, score=(train=0.500, test=0.500) total time=  18.0s\n",
      "[CV 5/5] END max_depth=25, max_leaf_nodes=3, min_impurity_decrease=0.5, min_samples_leaf=50, min_samples_split=2, min_weight_fraction_leaf=0.25;, score=(train=0.500, test=0.500) total time=  18.2s\n",
      "[CV 1/5] END max_depth=None, max_leaf_nodes=5, min_impurity_decrease=0.25, min_samples_leaf=100, min_samples_split=100, min_weight_fraction_leaf=0.0;, score=(train=0.500, test=0.500) total time=  18.1s\n",
      "[CV 2/5] END max_depth=None, max_leaf_nodes=5, min_impurity_decrease=0.25, min_samples_leaf=100, min_samples_split=100, min_weight_fraction_leaf=0.0;, score=(train=0.500, test=0.500) total time=  18.1s\n",
      "[CV 3/5] END max_depth=None, max_leaf_nodes=5, min_impurity_decrease=0.25, min_samples_leaf=100, min_samples_split=100, min_weight_fraction_leaf=0.0;, score=(train=0.500, test=0.500) total time=  18.2s\n",
      "[CV 4/5] END max_depth=None, max_leaf_nodes=5, min_impurity_decrease=0.25, min_samples_leaf=100, min_samples_split=100, min_weight_fraction_leaf=0.0;, score=(train=0.500, test=0.500) total time=  18.0s\n",
      "[CV 5/5] END max_depth=None, max_leaf_nodes=5, min_impurity_decrease=0.25, min_samples_leaf=100, min_samples_split=100, min_weight_fraction_leaf=0.0;, score=(train=0.500, test=0.500) total time=  18.1s\n",
      "[CV 1/5] END max_depth=50, max_leaf_nodes=10, min_impurity_decrease=0.25, min_samples_leaf=1000, min_samples_split=100, min_weight_fraction_leaf=0.0;, score=(train=0.500, test=0.500) total time=  18.1s\n",
      "[CV 2/5] END max_depth=50, max_leaf_nodes=10, min_impurity_decrease=0.25, min_samples_leaf=1000, min_samples_split=100, min_weight_fraction_leaf=0.0;, score=(train=0.500, test=0.500) total time=  18.1s\n",
      "[CV 3/5] END max_depth=50, max_leaf_nodes=10, min_impurity_decrease=0.25, min_samples_leaf=1000, min_samples_split=100, min_weight_fraction_leaf=0.0;, score=(train=0.500, test=0.500) total time=  18.1s\n"
     ]
    },
    {
     "name": "stdout",
     "output_type": "stream",
     "text": [
      "[CV 4/5] END max_depth=50, max_leaf_nodes=10, min_impurity_decrease=0.25, min_samples_leaf=1000, min_samples_split=100, min_weight_fraction_leaf=0.0;, score=(train=0.500, test=0.500) total time=  18.0s\n",
      "[CV 5/5] END max_depth=50, max_leaf_nodes=10, min_impurity_decrease=0.25, min_samples_leaf=1000, min_samples_split=100, min_weight_fraction_leaf=0.0;, score=(train=0.500, test=0.500) total time=  18.2s\n",
      "[CV 1/5] END max_depth=50, max_leaf_nodes=2, min_impurity_decrease=0.25, min_samples_leaf=100, min_samples_split=250, min_weight_fraction_leaf=0.25;, score=(train=0.500, test=0.500) total time=  18.1s\n",
      "[CV 2/5] END max_depth=50, max_leaf_nodes=2, min_impurity_decrease=0.25, min_samples_leaf=100, min_samples_split=250, min_weight_fraction_leaf=0.25;, score=(train=0.500, test=0.500) total time=  18.0s\n",
      "[CV 3/5] END max_depth=50, max_leaf_nodes=2, min_impurity_decrease=0.25, min_samples_leaf=100, min_samples_split=250, min_weight_fraction_leaf=0.25;, score=(train=0.500, test=0.500) total time=  18.0s\n",
      "[CV 4/5] END max_depth=50, max_leaf_nodes=2, min_impurity_decrease=0.25, min_samples_leaf=100, min_samples_split=250, min_weight_fraction_leaf=0.25;, score=(train=0.500, test=0.500) total time=  17.9s\n",
      "[CV 5/5] END max_depth=50, max_leaf_nodes=2, min_impurity_decrease=0.25, min_samples_leaf=100, min_samples_split=250, min_weight_fraction_leaf=0.25;, score=(train=0.500, test=0.500) total time=  18.0s\n",
      "[CV 1/5] END max_depth=75, max_leaf_nodes=2, min_impurity_decrease=0.5, min_samples_leaf=1000, min_samples_split=250, min_weight_fraction_leaf=0.5;, score=(train=0.500, test=0.500) total time=  17.2s\n",
      "[CV 2/5] END max_depth=75, max_leaf_nodes=2, min_impurity_decrease=0.5, min_samples_leaf=1000, min_samples_split=250, min_weight_fraction_leaf=0.5;, score=(train=0.500, test=0.500) total time=  17.3s\n",
      "[CV 3/5] END max_depth=75, max_leaf_nodes=2, min_impurity_decrease=0.5, min_samples_leaf=1000, min_samples_split=250, min_weight_fraction_leaf=0.5;, score=(train=0.500, test=0.500) total time=  17.2s\n",
      "[CV 4/5] END max_depth=75, max_leaf_nodes=2, min_impurity_decrease=0.5, min_samples_leaf=1000, min_samples_split=250, min_weight_fraction_leaf=0.5;, score=(train=0.500, test=0.500) total time=  17.0s\n",
      "[CV 5/5] END max_depth=75, max_leaf_nodes=2, min_impurity_decrease=0.5, min_samples_leaf=1000, min_samples_split=250, min_weight_fraction_leaf=0.5;, score=(train=0.500, test=0.500) total time=  17.2s\n",
      "[CV 1/5] END max_depth=None, max_leaf_nodes=3, min_impurity_decrease=0.5, min_samples_leaf=1, min_samples_split=1000, min_weight_fraction_leaf=0.0;, score=(train=0.500, test=0.500) total time=  18.0s\n",
      "[CV 2/5] END max_depth=None, max_leaf_nodes=3, min_impurity_decrease=0.5, min_samples_leaf=1, min_samples_split=1000, min_weight_fraction_leaf=0.0;, score=(train=0.500, test=0.500) total time=  18.2s\n",
      "[CV 3/5] END max_depth=None, max_leaf_nodes=3, min_impurity_decrease=0.5, min_samples_leaf=1, min_samples_split=1000, min_weight_fraction_leaf=0.0;, score=(train=0.500, test=0.500) total time=  18.1s\n",
      "[CV 4/5] END max_depth=None, max_leaf_nodes=3, min_impurity_decrease=0.5, min_samples_leaf=1, min_samples_split=1000, min_weight_fraction_leaf=0.0;, score=(train=0.500, test=0.500) total time=  18.0s\n",
      "[CV 5/5] END max_depth=None, max_leaf_nodes=3, min_impurity_decrease=0.5, min_samples_leaf=1, min_samples_split=1000, min_weight_fraction_leaf=0.0;, score=(train=0.500, test=0.500) total time=  18.1s\n",
      "[CV 1/5] END max_depth=25, max_leaf_nodes=3, min_impurity_decrease=0.0, min_samples_leaf=250, min_samples_split=100, min_weight_fraction_leaf=0.25;, score=(train=0.822, test=0.819) total time=  23.9s\n",
      "[CV 2/5] END max_depth=25, max_leaf_nodes=3, min_impurity_decrease=0.0, min_samples_leaf=250, min_samples_split=100, min_weight_fraction_leaf=0.25;, score=(train=0.821, test=0.822) total time=  23.9s\n",
      "[CV 3/5] END max_depth=25, max_leaf_nodes=3, min_impurity_decrease=0.0, min_samples_leaf=250, min_samples_split=100, min_weight_fraction_leaf=0.25;, score=(train=0.821, test=0.822) total time=  23.9s\n",
      "[CV 4/5] END max_depth=25, max_leaf_nodes=3, min_impurity_decrease=0.0, min_samples_leaf=250, min_samples_split=100, min_weight_fraction_leaf=0.25;, score=(train=0.822, test=0.820) total time=  23.7s\n",
      "[CV 5/5] END max_depth=25, max_leaf_nodes=3, min_impurity_decrease=0.0, min_samples_leaf=250, min_samples_split=100, min_weight_fraction_leaf=0.25;, score=(train=0.820, test=0.823) total time=  23.9s\n",
      "[CV 1/5] END max_depth=75, max_leaf_nodes=None, min_impurity_decrease=0.5, min_samples_leaf=1, min_samples_split=2, min_weight_fraction_leaf=0.5;, score=(train=0.500, test=0.500) total time=  17.1s\n",
      "[CV 2/5] END max_depth=75, max_leaf_nodes=None, min_impurity_decrease=0.5, min_samples_leaf=1, min_samples_split=2, min_weight_fraction_leaf=0.5;, score=(train=0.500, test=0.500) total time=  17.2s\n",
      "[CV 3/5] END max_depth=75, max_leaf_nodes=None, min_impurity_decrease=0.5, min_samples_leaf=1, min_samples_split=2, min_weight_fraction_leaf=0.5;, score=(train=0.500, test=0.500) total time=  17.2s\n",
      "[CV 4/5] END max_depth=75, max_leaf_nodes=None, min_impurity_decrease=0.5, min_samples_leaf=1, min_samples_split=2, min_weight_fraction_leaf=0.5;, score=(train=0.500, test=0.500) total time=  17.2s\n",
      "[CV 5/5] END max_depth=75, max_leaf_nodes=None, min_impurity_decrease=0.5, min_samples_leaf=1, min_samples_split=2, min_weight_fraction_leaf=0.5;, score=(train=0.500, test=0.500) total time=  17.1s\n",
      "[CV 1/5] END max_depth=25, max_leaf_nodes=10, min_impurity_decrease=0.75, min_samples_leaf=50, min_samples_split=50, min_weight_fraction_leaf=0.0;, score=(train=0.500, test=0.500) total time=  18.1s\n",
      "[CV 2/5] END max_depth=25, max_leaf_nodes=10, min_impurity_decrease=0.75, min_samples_leaf=50, min_samples_split=50, min_weight_fraction_leaf=0.0;, score=(train=0.500, test=0.500) total time=  18.1s\n",
      "[CV 3/5] END max_depth=25, max_leaf_nodes=10, min_impurity_decrease=0.75, min_samples_leaf=50, min_samples_split=50, min_weight_fraction_leaf=0.0;, score=(train=0.500, test=0.500) total time=  18.2s\n",
      "[CV 4/5] END max_depth=25, max_leaf_nodes=10, min_impurity_decrease=0.75, min_samples_leaf=50, min_samples_split=50, min_weight_fraction_leaf=0.0;, score=(train=0.500, test=0.500) total time=  18.0s\n",
      "[CV 5/5] END max_depth=25, max_leaf_nodes=10, min_impurity_decrease=0.75, min_samples_leaf=50, min_samples_split=50, min_weight_fraction_leaf=0.0;, score=(train=0.500, test=0.500) total time=  18.1s\n",
      "[CV 1/5] END max_depth=75, max_leaf_nodes=5, min_impurity_decrease=0.25, min_samples_leaf=1000, min_samples_split=250, min_weight_fraction_leaf=0.0;, score=(train=0.500, test=0.500) total time=  18.3s\n",
      "[CV 2/5] END max_depth=75, max_leaf_nodes=5, min_impurity_decrease=0.25, min_samples_leaf=1000, min_samples_split=250, min_weight_fraction_leaf=0.0;, score=(train=0.500, test=0.500) total time=  18.1s\n",
      "[CV 3/5] END max_depth=75, max_leaf_nodes=5, min_impurity_decrease=0.25, min_samples_leaf=1000, min_samples_split=250, min_weight_fraction_leaf=0.0;, score=(train=0.500, test=0.500) total time=  18.2s\n",
      "[CV 4/5] END max_depth=75, max_leaf_nodes=5, min_impurity_decrease=0.25, min_samples_leaf=1000, min_samples_split=250, min_weight_fraction_leaf=0.0;, score=(train=0.500, test=0.500) total time=  18.0s\n",
      "[CV 5/5] END max_depth=75, max_leaf_nodes=5, min_impurity_decrease=0.25, min_samples_leaf=1000, min_samples_split=250, min_weight_fraction_leaf=0.0;, score=(train=0.500, test=0.500) total time=  18.1s\n",
      "[CV 1/5] END max_depth=12, max_leaf_nodes=5, min_impurity_decrease=0.0, min_samples_leaf=250, min_samples_split=100, min_weight_fraction_leaf=0.0;, score=(train=0.833, test=0.831) total time=  36.2s\n",
      "[CV 2/5] END max_depth=12, max_leaf_nodes=5, min_impurity_decrease=0.0, min_samples_leaf=250, min_samples_split=100, min_weight_fraction_leaf=0.0;, score=(train=0.831, test=0.833) total time=  36.2s\n",
      "[CV 3/5] END max_depth=12, max_leaf_nodes=5, min_impurity_decrease=0.0, min_samples_leaf=250, min_samples_split=100, min_weight_fraction_leaf=0.0;, score=(train=0.832, test=0.831) total time=  36.2s\n",
      "[CV 4/5] END max_depth=12, max_leaf_nodes=5, min_impurity_decrease=0.0, min_samples_leaf=250, min_samples_split=100, min_weight_fraction_leaf=0.0;, score=(train=0.833, test=0.832) total time=  36.1s\n"
     ]
    },
    {
     "name": "stdout",
     "output_type": "stream",
     "text": [
      "[CV 5/5] END max_depth=12, max_leaf_nodes=5, min_impurity_decrease=0.0, min_samples_leaf=250, min_samples_split=100, min_weight_fraction_leaf=0.0;, score=(train=0.833, test=0.835) total time=  36.3s\n",
      "[CV 1/5] END max_depth=75, max_leaf_nodes=2, min_impurity_decrease=0.75, min_samples_leaf=100, min_samples_split=250, min_weight_fraction_leaf=0.5;, score=(train=0.500, test=0.500) total time=  17.0s\n",
      "[CV 2/5] END max_depth=75, max_leaf_nodes=2, min_impurity_decrease=0.75, min_samples_leaf=100, min_samples_split=250, min_weight_fraction_leaf=0.5;, score=(train=0.500, test=0.500) total time=  17.9s\n",
      "[CV 3/5] END max_depth=75, max_leaf_nodes=2, min_impurity_decrease=0.75, min_samples_leaf=100, min_samples_split=250, min_weight_fraction_leaf=0.5;, score=(train=0.500, test=0.500) total time=  17.6s\n",
      "[CV 4/5] END max_depth=75, max_leaf_nodes=2, min_impurity_decrease=0.75, min_samples_leaf=100, min_samples_split=250, min_weight_fraction_leaf=0.5;, score=(train=0.500, test=0.500) total time=  17.1s\n",
      "[CV 5/5] END max_depth=75, max_leaf_nodes=2, min_impurity_decrease=0.75, min_samples_leaf=100, min_samples_split=250, min_weight_fraction_leaf=0.5;, score=(train=0.500, test=0.500) total time=  17.2s\n",
      "[CV 1/5] END max_depth=50, max_leaf_nodes=5, min_impurity_decrease=0.0, min_samples_leaf=50, min_samples_split=50, min_weight_fraction_leaf=0.0;, score=(train=0.833, test=0.831) total time=  36.3s\n",
      "[CV 2/5] END max_depth=50, max_leaf_nodes=5, min_impurity_decrease=0.0, min_samples_leaf=50, min_samples_split=50, min_weight_fraction_leaf=0.0;, score=(train=0.831, test=0.833) total time=  36.3s\n",
      "[CV 3/5] END max_depth=50, max_leaf_nodes=5, min_impurity_decrease=0.0, min_samples_leaf=50, min_samples_split=50, min_weight_fraction_leaf=0.0;, score=(train=0.832, test=0.831) total time=  36.4s\n",
      "[CV 4/5] END max_depth=50, max_leaf_nodes=5, min_impurity_decrease=0.0, min_samples_leaf=50, min_samples_split=50, min_weight_fraction_leaf=0.0;, score=(train=0.833, test=0.832) total time=  36.1s\n",
      "[CV 5/5] END max_depth=50, max_leaf_nodes=5, min_impurity_decrease=0.0, min_samples_leaf=50, min_samples_split=50, min_weight_fraction_leaf=0.0;, score=(train=0.833, test=0.835) total time=  36.2s\n",
      "[CV 1/5] END max_depth=25, max_leaf_nodes=None, min_impurity_decrease=0.75, min_samples_leaf=50, min_samples_split=250, min_weight_fraction_leaf=0.0;, score=(train=0.500, test=0.500) total time=  18.1s\n",
      "[CV 2/5] END max_depth=25, max_leaf_nodes=None, min_impurity_decrease=0.75, min_samples_leaf=50, min_samples_split=250, min_weight_fraction_leaf=0.0;, score=(train=0.500, test=0.500) total time=  18.2s\n",
      "[CV 3/5] END max_depth=25, max_leaf_nodes=None, min_impurity_decrease=0.75, min_samples_leaf=50, min_samples_split=250, min_weight_fraction_leaf=0.0;, score=(train=0.500, test=0.500) total time=  18.3s\n",
      "[CV 4/5] END max_depth=25, max_leaf_nodes=None, min_impurity_decrease=0.75, min_samples_leaf=50, min_samples_split=250, min_weight_fraction_leaf=0.0;, score=(train=0.500, test=0.500) total time=  18.0s\n",
      "[CV 5/5] END max_depth=25, max_leaf_nodes=None, min_impurity_decrease=0.75, min_samples_leaf=50, min_samples_split=250, min_weight_fraction_leaf=0.0;, score=(train=0.500, test=0.500) total time=  18.1s\n",
      "[CV 1/5] END max_depth=50, max_leaf_nodes=10, min_impurity_decrease=0.0, min_samples_leaf=250, min_samples_split=100, min_weight_fraction_leaf=0.5;, score=(train=0.657, test=0.658) total time=  17.2s\n",
      "[CV 2/5] END max_depth=50, max_leaf_nodes=10, min_impurity_decrease=0.0, min_samples_leaf=250, min_samples_split=100, min_weight_fraction_leaf=0.5;, score=(train=0.657, test=0.658) total time=  17.3s\n",
      "[CV 3/5] END max_depth=50, max_leaf_nodes=10, min_impurity_decrease=0.0, min_samples_leaf=250, min_samples_split=100, min_weight_fraction_leaf=0.5;, score=(train=0.658, test=0.656) total time=  17.4s\n",
      "[CV 4/5] END max_depth=50, max_leaf_nodes=10, min_impurity_decrease=0.0, min_samples_leaf=250, min_samples_split=100, min_weight_fraction_leaf=0.5;, score=(train=0.657, test=0.657) total time=  17.1s\n",
      "[CV 5/5] END max_depth=50, max_leaf_nodes=10, min_impurity_decrease=0.0, min_samples_leaf=250, min_samples_split=100, min_weight_fraction_leaf=0.5;, score=(train=0.657, test=0.658) total time=  17.2s\n",
      "[CV 1/5] END max_depth=None, max_leaf_nodes=None, min_impurity_decrease=0.75, min_samples_leaf=100, min_samples_split=50, min_weight_fraction_leaf=0.0;, score=(train=0.500, test=0.500) total time=  18.2s\n",
      "[CV 2/5] END max_depth=None, max_leaf_nodes=None, min_impurity_decrease=0.75, min_samples_leaf=100, min_samples_split=50, min_weight_fraction_leaf=0.0;, score=(train=0.500, test=0.500) total time=  18.2s\n",
      "[CV 3/5] END max_depth=None, max_leaf_nodes=None, min_impurity_decrease=0.75, min_samples_leaf=100, min_samples_split=50, min_weight_fraction_leaf=0.0;, score=(train=0.500, test=0.500) total time=  18.1s\n",
      "[CV 4/5] END max_depth=None, max_leaf_nodes=None, min_impurity_decrease=0.75, min_samples_leaf=100, min_samples_split=50, min_weight_fraction_leaf=0.0;, score=(train=0.500, test=0.500) total time=  18.1s\n",
      "[CV 5/5] END max_depth=None, max_leaf_nodes=None, min_impurity_decrease=0.75, min_samples_leaf=100, min_samples_split=50, min_weight_fraction_leaf=0.0;, score=(train=0.500, test=0.500) total time=  18.2s\n",
      "[CV 1/5] END max_depth=25, max_leaf_nodes=5, min_impurity_decrease=0.75, min_samples_leaf=100, min_samples_split=1000, min_weight_fraction_leaf=0.5;, score=(train=0.500, test=0.500) total time=  17.1s\n",
      "[CV 2/5] END max_depth=25, max_leaf_nodes=5, min_impurity_decrease=0.75, min_samples_leaf=100, min_samples_split=1000, min_weight_fraction_leaf=0.5;, score=(train=0.500, test=0.500) total time=  17.2s\n",
      "[CV 3/5] END max_depth=25, max_leaf_nodes=5, min_impurity_decrease=0.75, min_samples_leaf=100, min_samples_split=1000, min_weight_fraction_leaf=0.5;, score=(train=0.500, test=0.500) total time=  17.3s\n",
      "[CV 4/5] END max_depth=25, max_leaf_nodes=5, min_impurity_decrease=0.75, min_samples_leaf=100, min_samples_split=1000, min_weight_fraction_leaf=0.5;, score=(train=0.500, test=0.500) total time=  17.1s\n",
      "[CV 5/5] END max_depth=25, max_leaf_nodes=5, min_impurity_decrease=0.75, min_samples_leaf=100, min_samples_split=1000, min_weight_fraction_leaf=0.5;, score=(train=0.500, test=0.500) total time=  17.1s\n",
      "[CV 1/5] END max_depth=50, max_leaf_nodes=None, min_impurity_decrease=0.0, min_samples_leaf=1, min_samples_split=100, min_weight_fraction_leaf=0.25;, score=(train=0.822, test=0.819) total time=  23.7s\n",
      "[CV 2/5] END max_depth=50, max_leaf_nodes=None, min_impurity_decrease=0.0, min_samples_leaf=1, min_samples_split=100, min_weight_fraction_leaf=0.25;, score=(train=0.821, test=0.822) total time=  23.8s\n",
      "[CV 3/5] END max_depth=50, max_leaf_nodes=None, min_impurity_decrease=0.0, min_samples_leaf=1, min_samples_split=100, min_weight_fraction_leaf=0.25;, score=(train=0.821, test=0.822) total time=  23.7s\n",
      "[CV 4/5] END max_depth=50, max_leaf_nodes=None, min_impurity_decrease=0.0, min_samples_leaf=1, min_samples_split=100, min_weight_fraction_leaf=0.25;, score=(train=0.822, test=0.820) total time=  23.7s\n",
      "[CV 5/5] END max_depth=50, max_leaf_nodes=None, min_impurity_decrease=0.0, min_samples_leaf=1, min_samples_split=100, min_weight_fraction_leaf=0.25;, score=(train=0.820, test=0.823) total time=  23.8s\n",
      "[CV 1/5] END max_depth=12, max_leaf_nodes=3, min_impurity_decrease=0.25, min_samples_leaf=1000, min_samples_split=50, min_weight_fraction_leaf=0.5;, score=(train=0.500, test=0.500) total time=  17.3s\n",
      "[CV 2/5] END max_depth=12, max_leaf_nodes=3, min_impurity_decrease=0.25, min_samples_leaf=1000, min_samples_split=50, min_weight_fraction_leaf=0.5;, score=(train=0.500, test=0.500) total time=  17.1s\n",
      "[CV 3/5] END max_depth=12, max_leaf_nodes=3, min_impurity_decrease=0.25, min_samples_leaf=1000, min_samples_split=50, min_weight_fraction_leaf=0.5;, score=(train=0.500, test=0.500) total time=  17.2s\n",
      "[CV 4/5] END max_depth=12, max_leaf_nodes=3, min_impurity_decrease=0.25, min_samples_leaf=1000, min_samples_split=50, min_weight_fraction_leaf=0.5;, score=(train=0.500, test=0.500) total time=  17.1s\n",
      "[CV 5/5] END max_depth=12, max_leaf_nodes=3, min_impurity_decrease=0.25, min_samples_leaf=1000, min_samples_split=50, min_weight_fraction_leaf=0.5;, score=(train=0.500, test=0.500) total time=  17.2s\n"
     ]
    },
    {
     "name": "stdout",
     "output_type": "stream",
     "text": [
      "[CV 1/5] END max_depth=None, max_leaf_nodes=10, min_impurity_decrease=0.25, min_samples_leaf=1, min_samples_split=1000, min_weight_fraction_leaf=0.5;, score=(train=0.500, test=0.500) total time=  17.2s\n",
      "[CV 2/5] END max_depth=None, max_leaf_nodes=10, min_impurity_decrease=0.25, min_samples_leaf=1, min_samples_split=1000, min_weight_fraction_leaf=0.5;, score=(train=0.500, test=0.500) total time=  17.2s\n",
      "[CV 3/5] END max_depth=None, max_leaf_nodes=10, min_impurity_decrease=0.25, min_samples_leaf=1, min_samples_split=1000, min_weight_fraction_leaf=0.5;, score=(train=0.500, test=0.500) total time=  17.1s\n",
      "[CV 4/5] END max_depth=None, max_leaf_nodes=10, min_impurity_decrease=0.25, min_samples_leaf=1, min_samples_split=1000, min_weight_fraction_leaf=0.5;, score=(train=0.500, test=0.500) total time=  17.1s\n",
      "[CV 5/5] END max_depth=None, max_leaf_nodes=10, min_impurity_decrease=0.25, min_samples_leaf=1, min_samples_split=1000, min_weight_fraction_leaf=0.5;, score=(train=0.500, test=0.500) total time=  17.4s\n",
      "[CV 1/5] END max_depth=50, max_leaf_nodes=10, min_impurity_decrease=0.5, min_samples_leaf=250, min_samples_split=100, min_weight_fraction_leaf=0.25;, score=(train=0.500, test=0.500) total time=  18.0s\n",
      "[CV 2/5] END max_depth=50, max_leaf_nodes=10, min_impurity_decrease=0.5, min_samples_leaf=250, min_samples_split=100, min_weight_fraction_leaf=0.25;, score=(train=0.500, test=0.500) total time=  18.0s\n",
      "[CV 3/5] END max_depth=50, max_leaf_nodes=10, min_impurity_decrease=0.5, min_samples_leaf=250, min_samples_split=100, min_weight_fraction_leaf=0.25;, score=(train=0.500, test=0.500) total time=  18.1s\n",
      "[CV 4/5] END max_depth=50, max_leaf_nodes=10, min_impurity_decrease=0.5, min_samples_leaf=250, min_samples_split=100, min_weight_fraction_leaf=0.25;, score=(train=0.500, test=0.500) total time=  17.9s\n",
      "[CV 5/5] END max_depth=50, max_leaf_nodes=10, min_impurity_decrease=0.5, min_samples_leaf=250, min_samples_split=100, min_weight_fraction_leaf=0.25;, score=(train=0.500, test=0.500) total time=  18.0s\n",
      "[CV 1/5] END max_depth=None, max_leaf_nodes=3, min_impurity_decrease=0.5, min_samples_leaf=100, min_samples_split=2, min_weight_fraction_leaf=0.25;, score=(train=0.500, test=0.500) total time=  18.1s\n",
      "[CV 2/5] END max_depth=None, max_leaf_nodes=3, min_impurity_decrease=0.5, min_samples_leaf=100, min_samples_split=2, min_weight_fraction_leaf=0.25;, score=(train=0.500, test=0.500) total time=  18.0s\n",
      "[CV 3/5] END max_depth=None, max_leaf_nodes=3, min_impurity_decrease=0.5, min_samples_leaf=100, min_samples_split=2, min_weight_fraction_leaf=0.25;, score=(train=0.500, test=0.500) total time=  18.0s\n",
      "[CV 4/5] END max_depth=None, max_leaf_nodes=3, min_impurity_decrease=0.5, min_samples_leaf=100, min_samples_split=2, min_weight_fraction_leaf=0.25;, score=(train=0.500, test=0.500) total time=  18.0s\n",
      "[CV 5/5] END max_depth=None, max_leaf_nodes=3, min_impurity_decrease=0.5, min_samples_leaf=100, min_samples_split=2, min_weight_fraction_leaf=0.25;, score=(train=0.500, test=0.500) total time=  18.1s\n",
      "[CV 1/5] END max_depth=50, max_leaf_nodes=None, min_impurity_decrease=0.75, min_samples_leaf=50, min_samples_split=250, min_weight_fraction_leaf=0.5;, score=(train=0.500, test=0.500) total time=  17.2s\n",
      "[CV 2/5] END max_depth=50, max_leaf_nodes=None, min_impurity_decrease=0.75, min_samples_leaf=50, min_samples_split=250, min_weight_fraction_leaf=0.5;, score=(train=0.500, test=0.500) total time=  18.1s\n",
      "[CV 3/5] END max_depth=50, max_leaf_nodes=None, min_impurity_decrease=0.75, min_samples_leaf=50, min_samples_split=250, min_weight_fraction_leaf=0.5;, score=(train=0.500, test=0.500) total time=  17.3s\n",
      "[CV 4/5] END max_depth=50, max_leaf_nodes=None, min_impurity_decrease=0.75, min_samples_leaf=50, min_samples_split=250, min_weight_fraction_leaf=0.5;, score=(train=0.500, test=0.500) total time=  17.0s\n",
      "[CV 5/5] END max_depth=50, max_leaf_nodes=None, min_impurity_decrease=0.75, min_samples_leaf=50, min_samples_split=250, min_weight_fraction_leaf=0.5;, score=(train=0.500, test=0.500) total time=  17.1s\n",
      "[CV 1/5] END max_depth=12, max_leaf_nodes=10, min_impurity_decrease=0.5, min_samples_leaf=1, min_samples_split=1000, min_weight_fraction_leaf=0.5;, score=(train=0.500, test=0.500) total time=  17.2s\n",
      "[CV 2/5] END max_depth=12, max_leaf_nodes=10, min_impurity_decrease=0.5, min_samples_leaf=1, min_samples_split=1000, min_weight_fraction_leaf=0.5;, score=(train=0.500, test=0.500) total time=  17.3s\n",
      "[CV 3/5] END max_depth=12, max_leaf_nodes=10, min_impurity_decrease=0.5, min_samples_leaf=1, min_samples_split=1000, min_weight_fraction_leaf=0.5;, score=(train=0.500, test=0.500) total time=  17.1s\n",
      "[CV 4/5] END max_depth=12, max_leaf_nodes=10, min_impurity_decrease=0.5, min_samples_leaf=1, min_samples_split=1000, min_weight_fraction_leaf=0.5;, score=(train=0.500, test=0.500) total time=  17.1s\n",
      "[CV 5/5] END max_depth=12, max_leaf_nodes=10, min_impurity_decrease=0.5, min_samples_leaf=1, min_samples_split=1000, min_weight_fraction_leaf=0.5;, score=(train=0.500, test=0.500) total time=  17.3s\n",
      "[CV 1/5] END max_depth=75, max_leaf_nodes=2, min_impurity_decrease=0.75, min_samples_leaf=250, min_samples_split=250, min_weight_fraction_leaf=0.5;, score=(train=0.500, test=0.500) total time=  17.3s\n",
      "[CV 2/5] END max_depth=75, max_leaf_nodes=2, min_impurity_decrease=0.75, min_samples_leaf=250, min_samples_split=250, min_weight_fraction_leaf=0.5;, score=(train=0.500, test=0.500) total time=  17.2s\n",
      "[CV 3/5] END max_depth=75, max_leaf_nodes=2, min_impurity_decrease=0.75, min_samples_leaf=250, min_samples_split=250, min_weight_fraction_leaf=0.5;, score=(train=0.500, test=0.500) total time=  17.4s\n",
      "[CV 4/5] END max_depth=75, max_leaf_nodes=2, min_impurity_decrease=0.75, min_samples_leaf=250, min_samples_split=250, min_weight_fraction_leaf=0.5;, score=(train=0.500, test=0.500) total time=  17.3s\n",
      "[CV 5/5] END max_depth=75, max_leaf_nodes=2, min_impurity_decrease=0.75, min_samples_leaf=250, min_samples_split=250, min_weight_fraction_leaf=0.5;, score=(train=0.500, test=0.500) total time=  17.2s\n",
      "[CV 1/5] END max_depth=25, max_leaf_nodes=None, min_impurity_decrease=0.75, min_samples_leaf=250, min_samples_split=2, min_weight_fraction_leaf=0.25;, score=(train=0.500, test=0.500) total time=  18.0s\n",
      "[CV 2/5] END max_depth=25, max_leaf_nodes=None, min_impurity_decrease=0.75, min_samples_leaf=250, min_samples_split=2, min_weight_fraction_leaf=0.25;, score=(train=0.500, test=0.500) total time=  18.0s\n",
      "[CV 3/5] END max_depth=25, max_leaf_nodes=None, min_impurity_decrease=0.75, min_samples_leaf=250, min_samples_split=2, min_weight_fraction_leaf=0.25;, score=(train=0.500, test=0.500) total time=  18.2s\n",
      "[CV 4/5] END max_depth=25, max_leaf_nodes=None, min_impurity_decrease=0.75, min_samples_leaf=250, min_samples_split=2, min_weight_fraction_leaf=0.25;, score=(train=0.500, test=0.500) total time=  18.1s\n",
      "[CV 5/5] END max_depth=25, max_leaf_nodes=None, min_impurity_decrease=0.75, min_samples_leaf=250, min_samples_split=2, min_weight_fraction_leaf=0.25;, score=(train=0.500, test=0.500) total time=  18.1s\n",
      "[CV 1/5] END max_depth=75, max_leaf_nodes=5, min_impurity_decrease=0.5, min_samples_leaf=100, min_samples_split=250, min_weight_fraction_leaf=0.25;, score=(train=0.500, test=0.500) total time=  18.1s\n",
      "[CV 2/5] END max_depth=75, max_leaf_nodes=5, min_impurity_decrease=0.5, min_samples_leaf=100, min_samples_split=250, min_weight_fraction_leaf=0.25;, score=(train=0.500, test=0.500) total time=  18.0s\n",
      "[CV 3/5] END max_depth=75, max_leaf_nodes=5, min_impurity_decrease=0.5, min_samples_leaf=100, min_samples_split=250, min_weight_fraction_leaf=0.25;, score=(train=0.500, test=0.500) total time=  18.1s\n",
      "[CV 4/5] END max_depth=75, max_leaf_nodes=5, min_impurity_decrease=0.5, min_samples_leaf=100, min_samples_split=250, min_weight_fraction_leaf=0.25;, score=(train=0.500, test=0.500) total time=  18.0s\n",
      "[CV 5/5] END max_depth=75, max_leaf_nodes=5, min_impurity_decrease=0.5, min_samples_leaf=100, min_samples_split=250, min_weight_fraction_leaf=0.25;, score=(train=0.500, test=0.500) total time=  18.1s\n",
      "[CV 1/5] END max_depth=50, max_leaf_nodes=5, min_impurity_decrease=0.75, min_samples_leaf=50, min_samples_split=50, min_weight_fraction_leaf=0.25;, score=(train=0.500, test=0.500) total time=  18.4s\n"
     ]
    },
    {
     "name": "stdout",
     "output_type": "stream",
     "text": [
      "[CV 2/5] END max_depth=50, max_leaf_nodes=5, min_impurity_decrease=0.75, min_samples_leaf=50, min_samples_split=50, min_weight_fraction_leaf=0.25;, score=(train=0.500, test=0.500) total time=  18.1s\n",
      "[CV 3/5] END max_depth=50, max_leaf_nodes=5, min_impurity_decrease=0.75, min_samples_leaf=50, min_samples_split=50, min_weight_fraction_leaf=0.25;, score=(train=0.500, test=0.500) total time=  18.1s\n",
      "[CV 4/5] END max_depth=50, max_leaf_nodes=5, min_impurity_decrease=0.75, min_samples_leaf=50, min_samples_split=50, min_weight_fraction_leaf=0.25;, score=(train=0.500, test=0.500) total time=  18.0s\n",
      "[CV 5/5] END max_depth=50, max_leaf_nodes=5, min_impurity_decrease=0.75, min_samples_leaf=50, min_samples_split=50, min_weight_fraction_leaf=0.25;, score=(train=0.500, test=0.500) total time=  18.1s\n",
      "[CV 1/5] END max_depth=None, max_leaf_nodes=2, min_impurity_decrease=0.5, min_samples_leaf=50, min_samples_split=250, min_weight_fraction_leaf=0.25;, score=(train=0.500, test=0.500) total time=  17.9s\n",
      "[CV 2/5] END max_depth=None, max_leaf_nodes=2, min_impurity_decrease=0.5, min_samples_leaf=50, min_samples_split=250, min_weight_fraction_leaf=0.25;, score=(train=0.500, test=0.500) total time=  18.2s\n",
      "[CV 3/5] END max_depth=None, max_leaf_nodes=2, min_impurity_decrease=0.5, min_samples_leaf=50, min_samples_split=250, min_weight_fraction_leaf=0.25;, score=(train=0.500, test=0.500) total time=  18.2s\n",
      "[CV 4/5] END max_depth=None, max_leaf_nodes=2, min_impurity_decrease=0.5, min_samples_leaf=50, min_samples_split=250, min_weight_fraction_leaf=0.25;, score=(train=0.500, test=0.500) total time=  18.1s\n",
      "[CV 5/5] END max_depth=None, max_leaf_nodes=2, min_impurity_decrease=0.5, min_samples_leaf=50, min_samples_split=250, min_weight_fraction_leaf=0.25;, score=(train=0.500, test=0.500) total time=  18.1s\n",
      "[CV 1/5] END max_depth=25, max_leaf_nodes=5, min_impurity_decrease=0.5, min_samples_leaf=250, min_samples_split=100, min_weight_fraction_leaf=0.25;, score=(train=0.500, test=0.500) total time=  18.0s\n",
      "[CV 2/5] END max_depth=25, max_leaf_nodes=5, min_impurity_decrease=0.5, min_samples_leaf=250, min_samples_split=100, min_weight_fraction_leaf=0.25;, score=(train=0.500, test=0.500) total time=  18.1s\n",
      "[CV 3/5] END max_depth=25, max_leaf_nodes=5, min_impurity_decrease=0.5, min_samples_leaf=250, min_samples_split=100, min_weight_fraction_leaf=0.25;, score=(train=0.500, test=0.500) total time=  18.0s\n",
      "[CV 4/5] END max_depth=25, max_leaf_nodes=5, min_impurity_decrease=0.5, min_samples_leaf=250, min_samples_split=100, min_weight_fraction_leaf=0.25;, score=(train=0.500, test=0.500) total time=  17.9s\n",
      "[CV 5/5] END max_depth=25, max_leaf_nodes=5, min_impurity_decrease=0.5, min_samples_leaf=250, min_samples_split=100, min_weight_fraction_leaf=0.25;, score=(train=0.500, test=0.500) total time=  18.1s\n",
      "[CV 1/5] END max_depth=25, max_leaf_nodes=10, min_impurity_decrease=0.5, min_samples_leaf=1000, min_samples_split=100, min_weight_fraction_leaf=0.25;, score=(train=0.500, test=0.500) total time=  18.1s\n",
      "[CV 2/5] END max_depth=25, max_leaf_nodes=10, min_impurity_decrease=0.5, min_samples_leaf=1000, min_samples_split=100, min_weight_fraction_leaf=0.25;, score=(train=0.500, test=0.500) total time=  18.1s\n",
      "[CV 3/5] END max_depth=25, max_leaf_nodes=10, min_impurity_decrease=0.5, min_samples_leaf=1000, min_samples_split=100, min_weight_fraction_leaf=0.25;, score=(train=0.500, test=0.500) total time=  18.1s\n",
      "[CV 4/5] END max_depth=25, max_leaf_nodes=10, min_impurity_decrease=0.5, min_samples_leaf=1000, min_samples_split=100, min_weight_fraction_leaf=0.25;, score=(train=0.500, test=0.500) total time=  17.9s\n",
      "[CV 5/5] END max_depth=25, max_leaf_nodes=10, min_impurity_decrease=0.5, min_samples_leaf=1000, min_samples_split=100, min_weight_fraction_leaf=0.25;, score=(train=0.500, test=0.500) total time=  18.1s\n",
      "[CV 1/5] END max_depth=50, max_leaf_nodes=None, min_impurity_decrease=0.0, min_samples_leaf=1000, min_samples_split=1000, min_weight_fraction_leaf=0.25;, score=(train=0.822, test=0.819) total time=  23.8s\n",
      "[CV 2/5] END max_depth=50, max_leaf_nodes=None, min_impurity_decrease=0.0, min_samples_leaf=1000, min_samples_split=1000, min_weight_fraction_leaf=0.25;, score=(train=0.821, test=0.822) total time=  23.8s\n",
      "[CV 3/5] END max_depth=50, max_leaf_nodes=None, min_impurity_decrease=0.0, min_samples_leaf=1000, min_samples_split=1000, min_weight_fraction_leaf=0.25;, score=(train=0.821, test=0.822) total time=  23.8s\n",
      "[CV 4/5] END max_depth=50, max_leaf_nodes=None, min_impurity_decrease=0.0, min_samples_leaf=1000, min_samples_split=1000, min_weight_fraction_leaf=0.25;, score=(train=0.822, test=0.820) total time=  23.6s\n",
      "[CV 5/5] END max_depth=50, max_leaf_nodes=None, min_impurity_decrease=0.0, min_samples_leaf=1000, min_samples_split=1000, min_weight_fraction_leaf=0.25;, score=(train=0.820, test=0.823) total time=  23.8s\n",
      "[CV 1/5] END max_depth=25, max_leaf_nodes=10, min_impurity_decrease=0.75, min_samples_leaf=250, min_samples_split=50, min_weight_fraction_leaf=0.5;, score=(train=0.500, test=0.500) total time=  17.2s\n",
      "[CV 2/5] END max_depth=25, max_leaf_nodes=10, min_impurity_decrease=0.75, min_samples_leaf=250, min_samples_split=50, min_weight_fraction_leaf=0.5;, score=(train=0.500, test=0.500) total time=  17.4s\n",
      "[CV 3/5] END max_depth=25, max_leaf_nodes=10, min_impurity_decrease=0.75, min_samples_leaf=250, min_samples_split=50, min_weight_fraction_leaf=0.5;, score=(train=0.500, test=0.500) total time=  17.3s\n",
      "[CV 4/5] END max_depth=25, max_leaf_nodes=10, min_impurity_decrease=0.75, min_samples_leaf=250, min_samples_split=50, min_weight_fraction_leaf=0.5;, score=(train=0.500, test=0.500) total time=  17.2s\n",
      "[CV 5/5] END max_depth=25, max_leaf_nodes=10, min_impurity_decrease=0.75, min_samples_leaf=250, min_samples_split=50, min_weight_fraction_leaf=0.5;, score=(train=0.500, test=0.500) total time=  17.1s\n",
      "[CV 1/5] END max_depth=12, max_leaf_nodes=3, min_impurity_decrease=0.5, min_samples_leaf=100, min_samples_split=1000, min_weight_fraction_leaf=0.0;, score=(train=0.500, test=0.500) total time=  18.1s\n",
      "[CV 2/5] END max_depth=12, max_leaf_nodes=3, min_impurity_decrease=0.5, min_samples_leaf=100, min_samples_split=1000, min_weight_fraction_leaf=0.0;, score=(train=0.500, test=0.500) total time=  18.2s\n",
      "[CV 3/5] END max_depth=12, max_leaf_nodes=3, min_impurity_decrease=0.5, min_samples_leaf=100, min_samples_split=1000, min_weight_fraction_leaf=0.0;, score=(train=0.500, test=0.500) total time=  18.2s\n",
      "[CV 4/5] END max_depth=12, max_leaf_nodes=3, min_impurity_decrease=0.5, min_samples_leaf=100, min_samples_split=1000, min_weight_fraction_leaf=0.0;, score=(train=0.500, test=0.500) total time=  18.0s\n",
      "[CV 5/5] END max_depth=12, max_leaf_nodes=3, min_impurity_decrease=0.5, min_samples_leaf=100, min_samples_split=1000, min_weight_fraction_leaf=0.0;, score=(train=0.500, test=0.500) total time=  18.2s\n",
      "[CV 1/5] END max_depth=50, max_leaf_nodes=5, min_impurity_decrease=0.0, min_samples_leaf=1000, min_samples_split=2, min_weight_fraction_leaf=0.25;, score=(train=0.822, test=0.819) total time=  23.8s\n",
      "[CV 2/5] END max_depth=50, max_leaf_nodes=5, min_impurity_decrease=0.0, min_samples_leaf=1000, min_samples_split=2, min_weight_fraction_leaf=0.25;, score=(train=0.821, test=0.822) total time=  23.9s\n",
      "[CV 3/5] END max_depth=50, max_leaf_nodes=5, min_impurity_decrease=0.0, min_samples_leaf=1000, min_samples_split=2, min_weight_fraction_leaf=0.25;, score=(train=0.821, test=0.822) total time=  23.8s\n",
      "[CV 4/5] END max_depth=50, max_leaf_nodes=5, min_impurity_decrease=0.0, min_samples_leaf=1000, min_samples_split=2, min_weight_fraction_leaf=0.25;, score=(train=0.822, test=0.820) total time=  23.9s\n",
      "[CV 5/5] END max_depth=50, max_leaf_nodes=5, min_impurity_decrease=0.0, min_samples_leaf=1000, min_samples_split=2, min_weight_fraction_leaf=0.25;, score=(train=0.820, test=0.823) total time=  23.8s\n",
      "[CV 1/5] END max_depth=75, max_leaf_nodes=None, min_impurity_decrease=0.0, min_samples_leaf=1000, min_samples_split=100, min_weight_fraction_leaf=0.0;, score=(train=0.873, test=0.869) total time= 1.1min\n",
      "[CV 2/5] END max_depth=75, max_leaf_nodes=None, min_impurity_decrease=0.0, min_samples_leaf=1000, min_samples_split=100, min_weight_fraction_leaf=0.0;, score=(train=0.872, test=0.873) total time= 1.1min\n"
     ]
    },
    {
     "name": "stdout",
     "output_type": "stream",
     "text": [
      "[CV 3/5] END max_depth=75, max_leaf_nodes=None, min_impurity_decrease=0.0, min_samples_leaf=1000, min_samples_split=100, min_weight_fraction_leaf=0.0;, score=(train=0.873, test=0.872) total time= 1.1min\n",
      "[CV 4/5] END max_depth=75, max_leaf_nodes=None, min_impurity_decrease=0.0, min_samples_leaf=1000, min_samples_split=100, min_weight_fraction_leaf=0.0;, score=(train=0.874, test=0.870) total time= 1.1min\n",
      "[CV 5/5] END max_depth=75, max_leaf_nodes=None, min_impurity_decrease=0.0, min_samples_leaf=1000, min_samples_split=100, min_weight_fraction_leaf=0.0;, score=(train=0.871, test=0.874) total time= 1.1min\n",
      "[CV 1/5] END max_depth=50, max_leaf_nodes=2, min_impurity_decrease=0.0, min_samples_leaf=1, min_samples_split=250, min_weight_fraction_leaf=0.0;, score=(train=0.780, test=0.779) total time=  26.2s\n",
      "[CV 2/5] END max_depth=50, max_leaf_nodes=2, min_impurity_decrease=0.0, min_samples_leaf=1, min_samples_split=250, min_weight_fraction_leaf=0.0;, score=(train=0.780, test=0.782) total time=  26.2s\n",
      "[CV 3/5] END max_depth=50, max_leaf_nodes=2, min_impurity_decrease=0.0, min_samples_leaf=1, min_samples_split=250, min_weight_fraction_leaf=0.0;, score=(train=0.780, test=0.781) total time=  26.1s\n",
      "[CV 4/5] END max_depth=50, max_leaf_nodes=2, min_impurity_decrease=0.0, min_samples_leaf=1, min_samples_split=250, min_weight_fraction_leaf=0.0;, score=(train=0.779, test=0.776) total time=  26.0s\n",
      "[CV 5/5] END max_depth=50, max_leaf_nodes=2, min_impurity_decrease=0.0, min_samples_leaf=1, min_samples_split=250, min_weight_fraction_leaf=0.0;, score=(train=0.780, test=0.781) total time=  26.2s\n",
      "[CV 1/5] END max_depth=50, max_leaf_nodes=10, min_impurity_decrease=0.5, min_samples_leaf=1000, min_samples_split=50, min_weight_fraction_leaf=0.0;, score=(train=0.500, test=0.500) total time=  18.2s\n",
      "[CV 2/5] END max_depth=50, max_leaf_nodes=10, min_impurity_decrease=0.5, min_samples_leaf=1000, min_samples_split=50, min_weight_fraction_leaf=0.0;, score=(train=0.500, test=0.500) total time=  18.2s\n",
      "[CV 3/5] END max_depth=50, max_leaf_nodes=10, min_impurity_decrease=0.5, min_samples_leaf=1000, min_samples_split=50, min_weight_fraction_leaf=0.0;, score=(train=0.500, test=0.500) total time=  18.2s\n",
      "[CV 4/5] END max_depth=50, max_leaf_nodes=10, min_impurity_decrease=0.5, min_samples_leaf=1000, min_samples_split=50, min_weight_fraction_leaf=0.0;, score=(train=0.500, test=0.500) total time=  18.1s\n",
      "[CV 5/5] END max_depth=50, max_leaf_nodes=10, min_impurity_decrease=0.5, min_samples_leaf=1000, min_samples_split=50, min_weight_fraction_leaf=0.0;, score=(train=0.500, test=0.500) total time=  18.2s\n",
      "[CV 1/5] END max_depth=25, max_leaf_nodes=3, min_impurity_decrease=0.5, min_samples_leaf=250, min_samples_split=100, min_weight_fraction_leaf=0.0;, score=(train=0.500, test=0.500) total time=  18.1s\n",
      "[CV 2/5] END max_depth=25, max_leaf_nodes=3, min_impurity_decrease=0.5, min_samples_leaf=250, min_samples_split=100, min_weight_fraction_leaf=0.0;, score=(train=0.500, test=0.500) total time=  18.9s\n",
      "[CV 3/5] END max_depth=25, max_leaf_nodes=3, min_impurity_decrease=0.5, min_samples_leaf=250, min_samples_split=100, min_weight_fraction_leaf=0.0;, score=(train=0.500, test=0.500) total time=  18.2s\n",
      "[CV 4/5] END max_depth=25, max_leaf_nodes=3, min_impurity_decrease=0.5, min_samples_leaf=250, min_samples_split=100, min_weight_fraction_leaf=0.0;, score=(train=0.500, test=0.500) total time=  17.9s\n",
      "[CV 5/5] END max_depth=25, max_leaf_nodes=3, min_impurity_decrease=0.5, min_samples_leaf=250, min_samples_split=100, min_weight_fraction_leaf=0.0;, score=(train=0.500, test=0.500) total time=  18.2s\n",
      "[CV 1/5] END max_depth=12, max_leaf_nodes=None, min_impurity_decrease=0.75, min_samples_leaf=50, min_samples_split=2, min_weight_fraction_leaf=0.5;, score=(train=0.500, test=0.500) total time=  17.2s\n",
      "[CV 2/5] END max_depth=12, max_leaf_nodes=None, min_impurity_decrease=0.75, min_samples_leaf=50, min_samples_split=2, min_weight_fraction_leaf=0.5;, score=(train=0.500, test=0.500) total time=  17.2s\n",
      "[CV 3/5] END max_depth=12, max_leaf_nodes=None, min_impurity_decrease=0.75, min_samples_leaf=50, min_samples_split=2, min_weight_fraction_leaf=0.5;, score=(train=0.500, test=0.500) total time=  17.2s\n",
      "[CV 4/5] END max_depth=12, max_leaf_nodes=None, min_impurity_decrease=0.75, min_samples_leaf=50, min_samples_split=2, min_weight_fraction_leaf=0.5;, score=(train=0.500, test=0.500) total time=  17.2s\n",
      "[CV 5/5] END max_depth=12, max_leaf_nodes=None, min_impurity_decrease=0.75, min_samples_leaf=50, min_samples_split=2, min_weight_fraction_leaf=0.5;, score=(train=0.500, test=0.500) total time=  17.2s\n",
      "[CV 1/5] END max_depth=12, max_leaf_nodes=5, min_impurity_decrease=0.75, min_samples_leaf=250, min_samples_split=2, min_weight_fraction_leaf=0.25;, score=(train=0.500, test=0.500) total time=  18.1s\n",
      "[CV 2/5] END max_depth=12, max_leaf_nodes=5, min_impurity_decrease=0.75, min_samples_leaf=250, min_samples_split=2, min_weight_fraction_leaf=0.25;, score=(train=0.500, test=0.500) total time=  18.1s\n",
      "[CV 3/5] END max_depth=12, max_leaf_nodes=5, min_impurity_decrease=0.75, min_samples_leaf=250, min_samples_split=2, min_weight_fraction_leaf=0.25;, score=(train=0.500, test=0.500) total time=  18.1s\n",
      "[CV 4/5] END max_depth=12, max_leaf_nodes=5, min_impurity_decrease=0.75, min_samples_leaf=250, min_samples_split=2, min_weight_fraction_leaf=0.25;, score=(train=0.500, test=0.500) total time=  19.3s\n",
      "[CV 5/5] END max_depth=12, max_leaf_nodes=5, min_impurity_decrease=0.75, min_samples_leaf=250, min_samples_split=2, min_weight_fraction_leaf=0.25;, score=(train=0.500, test=0.500) total time=  18.2s\n",
      "[CV 1/5] END max_depth=50, max_leaf_nodes=5, min_impurity_decrease=0.5, min_samples_leaf=250, min_samples_split=250, min_weight_fraction_leaf=0.5;, score=(train=0.500, test=0.500) total time=  17.2s\n",
      "[CV 2/5] END max_depth=50, max_leaf_nodes=5, min_impurity_decrease=0.5, min_samples_leaf=250, min_samples_split=250, min_weight_fraction_leaf=0.5;, score=(train=0.500, test=0.500) total time=  17.3s\n",
      "[CV 3/5] END max_depth=50, max_leaf_nodes=5, min_impurity_decrease=0.5, min_samples_leaf=250, min_samples_split=250, min_weight_fraction_leaf=0.5;, score=(train=0.500, test=0.500) total time=  17.2s\n",
      "[CV 4/5] END max_depth=50, max_leaf_nodes=5, min_impurity_decrease=0.5, min_samples_leaf=250, min_samples_split=250, min_weight_fraction_leaf=0.5;, score=(train=0.500, test=0.500) total time=  17.1s\n",
      "[CV 5/5] END max_depth=50, max_leaf_nodes=5, min_impurity_decrease=0.5, min_samples_leaf=250, min_samples_split=250, min_weight_fraction_leaf=0.5;, score=(train=0.500, test=0.500) total time=  17.2s\n",
      "[CV 1/5] END max_depth=12, max_leaf_nodes=2, min_impurity_decrease=0.25, min_samples_leaf=1000, min_samples_split=250, min_weight_fraction_leaf=0.25;, score=(train=0.500, test=0.500) total time=  18.1s\n",
      "[CV 2/5] END max_depth=12, max_leaf_nodes=2, min_impurity_decrease=0.25, min_samples_leaf=1000, min_samples_split=250, min_weight_fraction_leaf=0.25;, score=(train=0.500, test=0.500) total time=  18.1s\n",
      "[CV 3/5] END max_depth=12, max_leaf_nodes=2, min_impurity_decrease=0.25, min_samples_leaf=1000, min_samples_split=250, min_weight_fraction_leaf=0.25;, score=(train=0.500, test=0.500) total time=  18.2s\n",
      "[CV 4/5] END max_depth=12, max_leaf_nodes=2, min_impurity_decrease=0.25, min_samples_leaf=1000, min_samples_split=250, min_weight_fraction_leaf=0.25;, score=(train=0.500, test=0.500) total time=  17.9s\n",
      "[CV 5/5] END max_depth=12, max_leaf_nodes=2, min_impurity_decrease=0.25, min_samples_leaf=1000, min_samples_split=250, min_weight_fraction_leaf=0.25;, score=(train=0.500, test=0.500) total time=  18.0s\n",
      "[CV 1/5] END max_depth=25, max_leaf_nodes=2, min_impurity_decrease=0.75, min_samples_leaf=1000, min_samples_split=250, min_weight_fraction_leaf=0.0;, score=(train=0.500, test=0.500) total time=  18.1s\n",
      "[CV 2/5] END max_depth=25, max_leaf_nodes=2, min_impurity_decrease=0.75, min_samples_leaf=1000, min_samples_split=250, min_weight_fraction_leaf=0.0;, score=(train=0.500, test=0.500) total time=  18.1s\n",
      "[CV 3/5] END max_depth=25, max_leaf_nodes=2, min_impurity_decrease=0.75, min_samples_leaf=1000, min_samples_split=250, min_weight_fraction_leaf=0.0;, score=(train=0.500, test=0.500) total time=  18.2s\n",
      "[CV 4/5] END max_depth=25, max_leaf_nodes=2, min_impurity_decrease=0.75, min_samples_leaf=1000, min_samples_split=250, min_weight_fraction_leaf=0.0;, score=(train=0.500, test=0.500) total time=  18.2s\n"
     ]
    },
    {
     "name": "stdout",
     "output_type": "stream",
     "text": [
      "[CV 5/5] END max_depth=25, max_leaf_nodes=2, min_impurity_decrease=0.75, min_samples_leaf=1000, min_samples_split=250, min_weight_fraction_leaf=0.0;, score=(train=0.500, test=0.500) total time=  18.2s\n",
      "[CV 1/5] END max_depth=12, max_leaf_nodes=5, min_impurity_decrease=0.25, min_samples_leaf=250, min_samples_split=100, min_weight_fraction_leaf=0.0;, score=(train=0.500, test=0.500) total time=  18.1s\n",
      "[CV 2/5] END max_depth=12, max_leaf_nodes=5, min_impurity_decrease=0.25, min_samples_leaf=250, min_samples_split=100, min_weight_fraction_leaf=0.0;, score=(train=0.500, test=0.500) total time=  18.1s\n",
      "[CV 3/5] END max_depth=12, max_leaf_nodes=5, min_impurity_decrease=0.25, min_samples_leaf=250, min_samples_split=100, min_weight_fraction_leaf=0.0;, score=(train=0.500, test=0.500) total time=  18.2s\n",
      "[CV 4/5] END max_depth=12, max_leaf_nodes=5, min_impurity_decrease=0.25, min_samples_leaf=250, min_samples_split=100, min_weight_fraction_leaf=0.0;, score=(train=0.500, test=0.500) total time=  18.1s\n",
      "[CV 5/5] END max_depth=12, max_leaf_nodes=5, min_impurity_decrease=0.25, min_samples_leaf=250, min_samples_split=100, min_weight_fraction_leaf=0.0;, score=(train=0.500, test=0.500) total time=  18.1s\n",
      "[CV 1/5] END max_depth=12, max_leaf_nodes=2, min_impurity_decrease=0.75, min_samples_leaf=50, min_samples_split=250, min_weight_fraction_leaf=0.5;, score=(train=0.500, test=0.500) total time=  17.1s\n",
      "[CV 2/5] END max_depth=12, max_leaf_nodes=2, min_impurity_decrease=0.75, min_samples_leaf=50, min_samples_split=250, min_weight_fraction_leaf=0.5;, score=(train=0.500, test=0.500) total time=  17.2s\n",
      "[CV 3/5] END max_depth=12, max_leaf_nodes=2, min_impurity_decrease=0.75, min_samples_leaf=50, min_samples_split=250, min_weight_fraction_leaf=0.5;, score=(train=0.500, test=0.500) total time=  17.2s\n",
      "[CV 4/5] END max_depth=12, max_leaf_nodes=2, min_impurity_decrease=0.75, min_samples_leaf=50, min_samples_split=250, min_weight_fraction_leaf=0.5;, score=(train=0.500, test=0.500) total time=  17.2s\n",
      "[CV 5/5] END max_depth=12, max_leaf_nodes=2, min_impurity_decrease=0.75, min_samples_leaf=50, min_samples_split=250, min_weight_fraction_leaf=0.5;, score=(train=0.500, test=0.500) total time=  17.2s\n",
      "[CV 1/5] END max_depth=75, max_leaf_nodes=5, min_impurity_decrease=0.75, min_samples_leaf=1, min_samples_split=100, min_weight_fraction_leaf=0.5;, score=(train=0.500, test=0.500) total time=  17.4s\n",
      "[CV 2/5] END max_depth=75, max_leaf_nodes=5, min_impurity_decrease=0.75, min_samples_leaf=1, min_samples_split=100, min_weight_fraction_leaf=0.5;, score=(train=0.500, test=0.500) total time=  17.3s\n",
      "[CV 3/5] END max_depth=75, max_leaf_nodes=5, min_impurity_decrease=0.75, min_samples_leaf=1, min_samples_split=100, min_weight_fraction_leaf=0.5;, score=(train=0.500, test=0.500) total time=  17.3s\n",
      "[CV 4/5] END max_depth=75, max_leaf_nodes=5, min_impurity_decrease=0.75, min_samples_leaf=1, min_samples_split=100, min_weight_fraction_leaf=0.5;, score=(train=0.500, test=0.500) total time=  17.0s\n",
      "[CV 5/5] END max_depth=75, max_leaf_nodes=5, min_impurity_decrease=0.75, min_samples_leaf=1, min_samples_split=100, min_weight_fraction_leaf=0.5;, score=(train=0.500, test=0.500) total time=  17.2s\n",
      "[CV 1/5] END max_depth=50, max_leaf_nodes=2, min_impurity_decrease=0.75, min_samples_leaf=250, min_samples_split=1000, min_weight_fraction_leaf=0.0;, score=(train=0.500, test=0.500) total time=  18.2s\n",
      "[CV 2/5] END max_depth=50, max_leaf_nodes=2, min_impurity_decrease=0.75, min_samples_leaf=250, min_samples_split=1000, min_weight_fraction_leaf=0.0;, score=(train=0.500, test=0.500) total time=  18.1s\n",
      "[CV 3/5] END max_depth=50, max_leaf_nodes=2, min_impurity_decrease=0.75, min_samples_leaf=250, min_samples_split=1000, min_weight_fraction_leaf=0.0;, score=(train=0.500, test=0.500) total time=  18.2s\n",
      "[CV 4/5] END max_depth=50, max_leaf_nodes=2, min_impurity_decrease=0.75, min_samples_leaf=250, min_samples_split=1000, min_weight_fraction_leaf=0.0;, score=(train=0.500, test=0.500) total time=  18.0s\n",
      "[CV 5/5] END max_depth=50, max_leaf_nodes=2, min_impurity_decrease=0.75, min_samples_leaf=250, min_samples_split=1000, min_weight_fraction_leaf=0.0;, score=(train=0.500, test=0.500) total time=  18.3s\n",
      "[CV 1/5] END max_depth=75, max_leaf_nodes=None, min_impurity_decrease=0.0, min_samples_leaf=1, min_samples_split=50, min_weight_fraction_leaf=0.25;, score=(train=0.822, test=0.819) total time=  23.8s\n",
      "[CV 2/5] END max_depth=75, max_leaf_nodes=None, min_impurity_decrease=0.0, min_samples_leaf=1, min_samples_split=50, min_weight_fraction_leaf=0.25;, score=(train=0.821, test=0.822) total time=  23.8s\n",
      "[CV 3/5] END max_depth=75, max_leaf_nodes=None, min_impurity_decrease=0.0, min_samples_leaf=1, min_samples_split=50, min_weight_fraction_leaf=0.25;, score=(train=0.821, test=0.822) total time=  23.9s\n",
      "[CV 4/5] END max_depth=75, max_leaf_nodes=None, min_impurity_decrease=0.0, min_samples_leaf=1, min_samples_split=50, min_weight_fraction_leaf=0.25;, score=(train=0.822, test=0.820) total time=  23.6s\n",
      "[CV 5/5] END max_depth=75, max_leaf_nodes=None, min_impurity_decrease=0.0, min_samples_leaf=1, min_samples_split=50, min_weight_fraction_leaf=0.25;, score=(train=0.820, test=0.823) total time=  23.9s\n",
      "[CV 1/5] END max_depth=25, max_leaf_nodes=5, min_impurity_decrease=0.75, min_samples_leaf=100, min_samples_split=250, min_weight_fraction_leaf=0.25;, score=(train=0.500, test=0.500) total time=  18.1s\n",
      "[CV 2/5] END max_depth=25, max_leaf_nodes=5, min_impurity_decrease=0.75, min_samples_leaf=100, min_samples_split=250, min_weight_fraction_leaf=0.25;, score=(train=0.500, test=0.500) total time=  18.1s\n",
      "[CV 3/5] END max_depth=25, max_leaf_nodes=5, min_impurity_decrease=0.75, min_samples_leaf=100, min_samples_split=250, min_weight_fraction_leaf=0.25;, score=(train=0.500, test=0.500) total time=  18.1s\n",
      "[CV 4/5] END max_depth=25, max_leaf_nodes=5, min_impurity_decrease=0.75, min_samples_leaf=100, min_samples_split=250, min_weight_fraction_leaf=0.25;, score=(train=0.500, test=0.500) total time=  17.9s\n",
      "[CV 5/5] END max_depth=25, max_leaf_nodes=5, min_impurity_decrease=0.75, min_samples_leaf=100, min_samples_split=250, min_weight_fraction_leaf=0.25;, score=(train=0.500, test=0.500) total time=  18.6s\n",
      "[CV 1/5] END max_depth=12, max_leaf_nodes=None, min_impurity_decrease=0.25, min_samples_leaf=250, min_samples_split=250, min_weight_fraction_leaf=0.25;, score=(train=0.500, test=0.500) total time=  18.3s\n",
      "[CV 2/5] END max_depth=12, max_leaf_nodes=None, min_impurity_decrease=0.25, min_samples_leaf=250, min_samples_split=250, min_weight_fraction_leaf=0.25;, score=(train=0.500, test=0.500) total time=  18.0s\n",
      "[CV 3/5] END max_depth=12, max_leaf_nodes=None, min_impurity_decrease=0.25, min_samples_leaf=250, min_samples_split=250, min_weight_fraction_leaf=0.25;, score=(train=0.500, test=0.500) total time=  18.1s\n",
      "[CV 4/5] END max_depth=12, max_leaf_nodes=None, min_impurity_decrease=0.25, min_samples_leaf=250, min_samples_split=250, min_weight_fraction_leaf=0.25;, score=(train=0.500, test=0.500) total time=  17.9s\n",
      "[CV 5/5] END max_depth=12, max_leaf_nodes=None, min_impurity_decrease=0.25, min_samples_leaf=250, min_samples_split=250, min_weight_fraction_leaf=0.25;, score=(train=0.500, test=0.500) total time=  18.0s\n",
      "[CV 1/5] END max_depth=None, max_leaf_nodes=None, min_impurity_decrease=0.5, min_samples_leaf=250, min_samples_split=1000, min_weight_fraction_leaf=0.25;, score=(train=0.500, test=0.500) total time=  18.0s\n",
      "[CV 2/5] END max_depth=None, max_leaf_nodes=None, min_impurity_decrease=0.5, min_samples_leaf=250, min_samples_split=1000, min_weight_fraction_leaf=0.25;, score=(train=0.500, test=0.500) total time=  18.0s\n",
      "[CV 3/5] END max_depth=None, max_leaf_nodes=None, min_impurity_decrease=0.5, min_samples_leaf=250, min_samples_split=1000, min_weight_fraction_leaf=0.25;, score=(train=0.500, test=0.500) total time=  18.0s\n",
      "[CV 4/5] END max_depth=None, max_leaf_nodes=None, min_impurity_decrease=0.5, min_samples_leaf=250, min_samples_split=1000, min_weight_fraction_leaf=0.25;, score=(train=0.500, test=0.500) total time=  17.9s\n",
      "[CV 5/5] END max_depth=None, max_leaf_nodes=None, min_impurity_decrease=0.5, min_samples_leaf=250, min_samples_split=1000, min_weight_fraction_leaf=0.25;, score=(train=0.500, test=0.500) total time=  18.1s\n"
     ]
    },
    {
     "name": "stdout",
     "output_type": "stream",
     "text": [
      "[CV 1/5] END max_depth=12, max_leaf_nodes=3, min_impurity_decrease=0.5, min_samples_leaf=50, min_samples_split=2, min_weight_fraction_leaf=0.5;, score=(train=0.500, test=0.500) total time=  17.1s\n",
      "[CV 2/5] END max_depth=12, max_leaf_nodes=3, min_impurity_decrease=0.5, min_samples_leaf=50, min_samples_split=2, min_weight_fraction_leaf=0.5;, score=(train=0.500, test=0.500) total time=  17.4s\n",
      "[CV 3/5] END max_depth=12, max_leaf_nodes=3, min_impurity_decrease=0.5, min_samples_leaf=50, min_samples_split=2, min_weight_fraction_leaf=0.5;, score=(train=0.500, test=0.500) total time=  18.1s\n",
      "[CV 4/5] END max_depth=12, max_leaf_nodes=3, min_impurity_decrease=0.5, min_samples_leaf=50, min_samples_split=2, min_weight_fraction_leaf=0.5;, score=(train=0.500, test=0.500) total time=  17.1s\n",
      "[CV 5/5] END max_depth=12, max_leaf_nodes=3, min_impurity_decrease=0.5, min_samples_leaf=50, min_samples_split=2, min_weight_fraction_leaf=0.5;, score=(train=0.500, test=0.500) total time=  17.3s\n",
      "[CV 1/5] END max_depth=None, max_leaf_nodes=2, min_impurity_decrease=0.5, min_samples_leaf=100, min_samples_split=50, min_weight_fraction_leaf=0.5;, score=(train=0.500, test=0.500) total time=  17.1s\n",
      "[CV 2/5] END max_depth=None, max_leaf_nodes=2, min_impurity_decrease=0.5, min_samples_leaf=100, min_samples_split=50, min_weight_fraction_leaf=0.5;, score=(train=0.500, test=0.500) total time=  17.2s\n",
      "[CV 3/5] END max_depth=None, max_leaf_nodes=2, min_impurity_decrease=0.5, min_samples_leaf=100, min_samples_split=50, min_weight_fraction_leaf=0.5;, score=(train=0.500, test=0.500) total time=  17.3s\n",
      "[CV 4/5] END max_depth=None, max_leaf_nodes=2, min_impurity_decrease=0.5, min_samples_leaf=100, min_samples_split=50, min_weight_fraction_leaf=0.5;, score=(train=0.500, test=0.500) total time=  17.0s\n",
      "[CV 5/5] END max_depth=None, max_leaf_nodes=2, min_impurity_decrease=0.5, min_samples_leaf=100, min_samples_split=50, min_weight_fraction_leaf=0.5;, score=(train=0.500, test=0.500) total time=  17.3s\n",
      "[CV 1/5] END max_depth=50, max_leaf_nodes=10, min_impurity_decrease=0.5, min_samples_leaf=1000, min_samples_split=1000, min_weight_fraction_leaf=0.5;, score=(train=0.500, test=0.500) total time=  17.1s\n",
      "[CV 2/5] END max_depth=50, max_leaf_nodes=10, min_impurity_decrease=0.5, min_samples_leaf=1000, min_samples_split=1000, min_weight_fraction_leaf=0.5;, score=(train=0.500, test=0.500) total time=  17.5s\n",
      "[CV 3/5] END max_depth=50, max_leaf_nodes=10, min_impurity_decrease=0.5, min_samples_leaf=1000, min_samples_split=1000, min_weight_fraction_leaf=0.5;, score=(train=0.500, test=0.500) total time=  17.3s\n",
      "[CV 4/5] END max_depth=50, max_leaf_nodes=10, min_impurity_decrease=0.5, min_samples_leaf=1000, min_samples_split=1000, min_weight_fraction_leaf=0.5;, score=(train=0.500, test=0.500) total time=  17.1s\n",
      "[CV 5/5] END max_depth=50, max_leaf_nodes=10, min_impurity_decrease=0.5, min_samples_leaf=1000, min_samples_split=1000, min_weight_fraction_leaf=0.5;, score=(train=0.500, test=0.500) total time=  17.2s\n",
      "[CV 1/5] END max_depth=75, max_leaf_nodes=10, min_impurity_decrease=0.0, min_samples_leaf=1, min_samples_split=1000, min_weight_fraction_leaf=0.0;, score=(train=0.846, test=0.844) total time=  43.4s\n",
      "[CV 2/5] END max_depth=75, max_leaf_nodes=10, min_impurity_decrease=0.0, min_samples_leaf=1, min_samples_split=1000, min_weight_fraction_leaf=0.0;, score=(train=0.846, test=0.847) total time=  43.6s\n",
      "[CV 3/5] END max_depth=75, max_leaf_nodes=10, min_impurity_decrease=0.0, min_samples_leaf=1, min_samples_split=1000, min_weight_fraction_leaf=0.0;, score=(train=0.845, test=0.844) total time=  43.6s\n",
      "[CV 4/5] END max_depth=75, max_leaf_nodes=10, min_impurity_decrease=0.0, min_samples_leaf=1, min_samples_split=1000, min_weight_fraction_leaf=0.0;, score=(train=0.846, test=0.844) total time=  43.4s\n",
      "[CV 5/5] END max_depth=75, max_leaf_nodes=10, min_impurity_decrease=0.0, min_samples_leaf=1, min_samples_split=1000, min_weight_fraction_leaf=0.0;, score=(train=0.845, test=0.847) total time=  43.5s\n",
      "[CV 1/5] END max_depth=12, max_leaf_nodes=10, min_impurity_decrease=0.5, min_samples_leaf=100, min_samples_split=1000, min_weight_fraction_leaf=0.5;, score=(train=0.500, test=0.500) total time=  17.1s\n",
      "[CV 2/5] END max_depth=12, max_leaf_nodes=10, min_impurity_decrease=0.5, min_samples_leaf=100, min_samples_split=1000, min_weight_fraction_leaf=0.5;, score=(train=0.500, test=0.500) total time=  17.2s\n",
      "[CV 3/5] END max_depth=12, max_leaf_nodes=10, min_impurity_decrease=0.5, min_samples_leaf=100, min_samples_split=1000, min_weight_fraction_leaf=0.5;, score=(train=0.500, test=0.500) total time=  17.3s\n",
      "[CV 4/5] END max_depth=12, max_leaf_nodes=10, min_impurity_decrease=0.5, min_samples_leaf=100, min_samples_split=1000, min_weight_fraction_leaf=0.5;, score=(train=0.500, test=0.500) total time=  17.0s\n",
      "[CV 5/5] END max_depth=12, max_leaf_nodes=10, min_impurity_decrease=0.5, min_samples_leaf=100, min_samples_split=1000, min_weight_fraction_leaf=0.5;, score=(train=0.500, test=0.500) total time=  17.2s\n",
      "[CV 1/5] END max_depth=75, max_leaf_nodes=3, min_impurity_decrease=0.75, min_samples_leaf=100, min_samples_split=50, min_weight_fraction_leaf=0.25;, score=(train=0.500, test=0.500) total time=  18.0s\n",
      "[CV 2/5] END max_depth=75, max_leaf_nodes=3, min_impurity_decrease=0.75, min_samples_leaf=100, min_samples_split=50, min_weight_fraction_leaf=0.25;, score=(train=0.500, test=0.500) total time=  18.1s\n",
      "[CV 3/5] END max_depth=75, max_leaf_nodes=3, min_impurity_decrease=0.75, min_samples_leaf=100, min_samples_split=50, min_weight_fraction_leaf=0.25;, score=(train=0.500, test=0.500) total time=  18.0s\n",
      "[CV 4/5] END max_depth=75, max_leaf_nodes=3, min_impurity_decrease=0.75, min_samples_leaf=100, min_samples_split=50, min_weight_fraction_leaf=0.25;, score=(train=0.500, test=0.500) total time=  17.9s\n",
      "[CV 5/5] END max_depth=75, max_leaf_nodes=3, min_impurity_decrease=0.75, min_samples_leaf=100, min_samples_split=50, min_weight_fraction_leaf=0.25;, score=(train=0.500, test=0.500) total time=  18.2s\n",
      "[CV 1/5] END max_depth=None, max_leaf_nodes=2, min_impurity_decrease=0.75, min_samples_leaf=250, min_samples_split=250, min_weight_fraction_leaf=0.25;, score=(train=0.500, test=0.500) total time=  18.0s\n",
      "[CV 2/5] END max_depth=None, max_leaf_nodes=2, min_impurity_decrease=0.75, min_samples_leaf=250, min_samples_split=250, min_weight_fraction_leaf=0.25;, score=(train=0.500, test=0.500) total time=  18.0s\n",
      "[CV 3/5] END max_depth=None, max_leaf_nodes=2, min_impurity_decrease=0.75, min_samples_leaf=250, min_samples_split=250, min_weight_fraction_leaf=0.25;, score=(train=0.500, test=0.500) total time=  18.0s\n",
      "[CV 4/5] END max_depth=None, max_leaf_nodes=2, min_impurity_decrease=0.75, min_samples_leaf=250, min_samples_split=250, min_weight_fraction_leaf=0.25;, score=(train=0.500, test=0.500) total time=  17.9s\n",
      "[CV 5/5] END max_depth=None, max_leaf_nodes=2, min_impurity_decrease=0.75, min_samples_leaf=250, min_samples_split=250, min_weight_fraction_leaf=0.25;, score=(train=0.500, test=0.500) total time=  18.1s\n",
      "[CV 1/5] END max_depth=50, max_leaf_nodes=2, min_impurity_decrease=0.75, min_samples_leaf=50, min_samples_split=50, min_weight_fraction_leaf=0.25;, score=(train=0.500, test=0.500) total time=  18.0s\n",
      "[CV 2/5] END max_depth=50, max_leaf_nodes=2, min_impurity_decrease=0.75, min_samples_leaf=50, min_samples_split=50, min_weight_fraction_leaf=0.25;, score=(train=0.500, test=0.500) total time=  18.1s\n",
      "[CV 3/5] END max_depth=50, max_leaf_nodes=2, min_impurity_decrease=0.75, min_samples_leaf=50, min_samples_split=50, min_weight_fraction_leaf=0.25;, score=(train=0.500, test=0.500) total time=  18.1s\n",
      "[CV 4/5] END max_depth=50, max_leaf_nodes=2, min_impurity_decrease=0.75, min_samples_leaf=50, min_samples_split=50, min_weight_fraction_leaf=0.25;, score=(train=0.500, test=0.500) total time=  17.9s\n",
      "[CV 5/5] END max_depth=50, max_leaf_nodes=2, min_impurity_decrease=0.75, min_samples_leaf=50, min_samples_split=50, min_weight_fraction_leaf=0.25;, score=(train=0.500, test=0.500) total time=  18.1s\n",
      "[CV 1/5] END max_depth=75, max_leaf_nodes=5, min_impurity_decrease=0.5, min_samples_leaf=1, min_samples_split=250, min_weight_fraction_leaf=0.0;, score=(train=0.500, test=0.500) total time=  18.1s\n"
     ]
    },
    {
     "name": "stdout",
     "output_type": "stream",
     "text": [
      "[CV 2/5] END max_depth=75, max_leaf_nodes=5, min_impurity_decrease=0.5, min_samples_leaf=1, min_samples_split=250, min_weight_fraction_leaf=0.0;, score=(train=0.500, test=0.500) total time=  18.8s\n",
      "[CV 3/5] END max_depth=75, max_leaf_nodes=5, min_impurity_decrease=0.5, min_samples_leaf=1, min_samples_split=250, min_weight_fraction_leaf=0.0;, score=(train=0.500, test=0.500) total time=  18.2s\n",
      "[CV 4/5] END max_depth=75, max_leaf_nodes=5, min_impurity_decrease=0.5, min_samples_leaf=1, min_samples_split=250, min_weight_fraction_leaf=0.0;, score=(train=0.500, test=0.500) total time=  18.0s\n",
      "[CV 5/5] END max_depth=75, max_leaf_nodes=5, min_impurity_decrease=0.5, min_samples_leaf=1, min_samples_split=250, min_weight_fraction_leaf=0.0;, score=(train=0.500, test=0.500) total time=  18.2s\n",
      "[CV 1/5] END max_depth=75, max_leaf_nodes=10, min_impurity_decrease=0.5, min_samples_leaf=250, min_samples_split=100, min_weight_fraction_leaf=0.25;, score=(train=0.500, test=0.500) total time=  18.0s\n",
      "[CV 2/5] END max_depth=75, max_leaf_nodes=10, min_impurity_decrease=0.5, min_samples_leaf=250, min_samples_split=100, min_weight_fraction_leaf=0.25;, score=(train=0.500, test=0.500) total time=  18.5s\n",
      "[CV 3/5] END max_depth=75, max_leaf_nodes=10, min_impurity_decrease=0.5, min_samples_leaf=250, min_samples_split=100, min_weight_fraction_leaf=0.25;, score=(train=0.500, test=0.500) total time=  18.1s\n",
      "[CV 4/5] END max_depth=75, max_leaf_nodes=10, min_impurity_decrease=0.5, min_samples_leaf=250, min_samples_split=100, min_weight_fraction_leaf=0.25;, score=(train=0.500, test=0.500) total time=  17.9s\n",
      "[CV 5/5] END max_depth=75, max_leaf_nodes=10, min_impurity_decrease=0.5, min_samples_leaf=250, min_samples_split=100, min_weight_fraction_leaf=0.25;, score=(train=0.500, test=0.500) total time=  18.2s\n",
      "[CV 1/5] END max_depth=75, max_leaf_nodes=5, min_impurity_decrease=0.75, min_samples_leaf=50, min_samples_split=250, min_weight_fraction_leaf=0.25;, score=(train=0.500, test=0.500) total time=  18.1s\n",
      "[CV 2/5] END max_depth=75, max_leaf_nodes=5, min_impurity_decrease=0.75, min_samples_leaf=50, min_samples_split=250, min_weight_fraction_leaf=0.25;, score=(train=0.500, test=0.500) total time=  18.0s\n",
      "[CV 3/5] END max_depth=75, max_leaf_nodes=5, min_impurity_decrease=0.75, min_samples_leaf=50, min_samples_split=250, min_weight_fraction_leaf=0.25;, score=(train=0.500, test=0.500) total time=  18.1s\n",
      "[CV 4/5] END max_depth=75, max_leaf_nodes=5, min_impurity_decrease=0.75, min_samples_leaf=50, min_samples_split=250, min_weight_fraction_leaf=0.25;, score=(train=0.500, test=0.500) total time=  18.1s\n",
      "[CV 5/5] END max_depth=75, max_leaf_nodes=5, min_impurity_decrease=0.75, min_samples_leaf=50, min_samples_split=250, min_weight_fraction_leaf=0.25;, score=(train=0.500, test=0.500) total time=  18.2s\n",
      "[CV 1/5] END max_depth=25, max_leaf_nodes=5, min_impurity_decrease=0.0, min_samples_leaf=100, min_samples_split=1000, min_weight_fraction_leaf=0.25;, score=(train=0.822, test=0.819) total time=  23.7s\n",
      "[CV 2/5] END max_depth=25, max_leaf_nodes=5, min_impurity_decrease=0.0, min_samples_leaf=100, min_samples_split=1000, min_weight_fraction_leaf=0.25;, score=(train=0.821, test=0.822) total time=  23.8s\n",
      "[CV 3/5] END max_depth=25, max_leaf_nodes=5, min_impurity_decrease=0.0, min_samples_leaf=100, min_samples_split=1000, min_weight_fraction_leaf=0.25;, score=(train=0.821, test=0.822) total time=  23.9s\n",
      "[CV 4/5] END max_depth=25, max_leaf_nodes=5, min_impurity_decrease=0.0, min_samples_leaf=100, min_samples_split=1000, min_weight_fraction_leaf=0.25;, score=(train=0.822, test=0.820) total time=  23.7s\n",
      "[CV 5/5] END max_depth=25, max_leaf_nodes=5, min_impurity_decrease=0.0, min_samples_leaf=100, min_samples_split=1000, min_weight_fraction_leaf=0.25;, score=(train=0.820, test=0.823) total time=  23.7s\n",
      "[CV 1/5] END max_depth=12, max_leaf_nodes=2, min_impurity_decrease=0.5, min_samples_leaf=250, min_samples_split=100, min_weight_fraction_leaf=0.5;, score=(train=0.500, test=0.500) total time=  17.2s\n",
      "[CV 2/5] END max_depth=12, max_leaf_nodes=2, min_impurity_decrease=0.5, min_samples_leaf=250, min_samples_split=100, min_weight_fraction_leaf=0.5;, score=(train=0.500, test=0.500) total time=  17.3s\n",
      "[CV 3/5] END max_depth=12, max_leaf_nodes=2, min_impurity_decrease=0.5, min_samples_leaf=250, min_samples_split=100, min_weight_fraction_leaf=0.5;, score=(train=0.500, test=0.500) total time=  17.4s\n",
      "[CV 4/5] END max_depth=12, max_leaf_nodes=2, min_impurity_decrease=0.5, min_samples_leaf=250, min_samples_split=100, min_weight_fraction_leaf=0.5;, score=(train=0.500, test=0.500) total time=  17.1s\n",
      "[CV 5/5] END max_depth=12, max_leaf_nodes=2, min_impurity_decrease=0.5, min_samples_leaf=250, min_samples_split=100, min_weight_fraction_leaf=0.5;, score=(train=0.500, test=0.500) total time=  17.2s\n",
      "[CV 1/5] END max_depth=12, max_leaf_nodes=3, min_impurity_decrease=0.25, min_samples_leaf=100, min_samples_split=50, min_weight_fraction_leaf=0.25;, score=(train=0.500, test=0.500) total time=  18.0s\n",
      "[CV 2/5] END max_depth=12, max_leaf_nodes=3, min_impurity_decrease=0.25, min_samples_leaf=100, min_samples_split=50, min_weight_fraction_leaf=0.25;, score=(train=0.500, test=0.500) total time=  18.2s\n",
      "[CV 3/5] END max_depth=12, max_leaf_nodes=3, min_impurity_decrease=0.25, min_samples_leaf=100, min_samples_split=50, min_weight_fraction_leaf=0.25;, score=(train=0.500, test=0.500) total time=  18.1s\n",
      "[CV 4/5] END max_depth=12, max_leaf_nodes=3, min_impurity_decrease=0.25, min_samples_leaf=100, min_samples_split=50, min_weight_fraction_leaf=0.25;, score=(train=0.500, test=0.500) total time=  17.9s\n",
      "[CV 5/5] END max_depth=12, max_leaf_nodes=3, min_impurity_decrease=0.25, min_samples_leaf=100, min_samples_split=50, min_weight_fraction_leaf=0.25;, score=(train=0.500, test=0.500) total time=  18.1s\n",
      "[CV 1/5] END max_depth=50, max_leaf_nodes=3, min_impurity_decrease=0.5, min_samples_leaf=1, min_samples_split=1000, min_weight_fraction_leaf=0.5;, score=(train=0.500, test=0.500) total time=  17.3s\n",
      "[CV 2/5] END max_depth=50, max_leaf_nodes=3, min_impurity_decrease=0.5, min_samples_leaf=1, min_samples_split=1000, min_weight_fraction_leaf=0.5;, score=(train=0.500, test=0.500) total time=  17.2s\n",
      "[CV 3/5] END max_depth=50, max_leaf_nodes=3, min_impurity_decrease=0.5, min_samples_leaf=1, min_samples_split=1000, min_weight_fraction_leaf=0.5;, score=(train=0.500, test=0.500) total time=  17.2s\n",
      "[CV 4/5] END max_depth=50, max_leaf_nodes=3, min_impurity_decrease=0.5, min_samples_leaf=1, min_samples_split=1000, min_weight_fraction_leaf=0.5;, score=(train=0.500, test=0.500) total time=  17.1s\n",
      "[CV 5/5] END max_depth=50, max_leaf_nodes=3, min_impurity_decrease=0.5, min_samples_leaf=1, min_samples_split=1000, min_weight_fraction_leaf=0.5;, score=(train=0.500, test=0.500) total time=  17.2s\n",
      "[CV 1/5] END max_depth=75, max_leaf_nodes=3, min_impurity_decrease=0.0, min_samples_leaf=250, min_samples_split=100, min_weight_fraction_leaf=0.5;, score=(train=0.657, test=0.658) total time=  17.2s\n",
      "[CV 2/5] END max_depth=75, max_leaf_nodes=3, min_impurity_decrease=0.0, min_samples_leaf=250, min_samples_split=100, min_weight_fraction_leaf=0.5;, score=(train=0.657, test=0.658) total time=  17.3s\n",
      "[CV 3/5] END max_depth=75, max_leaf_nodes=3, min_impurity_decrease=0.0, min_samples_leaf=250, min_samples_split=100, min_weight_fraction_leaf=0.5;, score=(train=0.658, test=0.656) total time=  17.3s\n",
      "[CV 4/5] END max_depth=75, max_leaf_nodes=3, min_impurity_decrease=0.0, min_samples_leaf=250, min_samples_split=100, min_weight_fraction_leaf=0.5;, score=(train=0.657, test=0.657) total time=  17.1s\n",
      "[CV 5/5] END max_depth=75, max_leaf_nodes=3, min_impurity_decrease=0.0, min_samples_leaf=250, min_samples_split=100, min_weight_fraction_leaf=0.5;, score=(train=0.657, test=0.658) total time=  17.3s\n",
      "[CV 1/5] END max_depth=25, max_leaf_nodes=5, min_impurity_decrease=0.5, min_samples_leaf=1000, min_samples_split=2, min_weight_fraction_leaf=0.5;, score=(train=0.500, test=0.500) total time=  17.1s\n",
      "[CV 2/5] END max_depth=25, max_leaf_nodes=5, min_impurity_decrease=0.5, min_samples_leaf=1000, min_samples_split=2, min_weight_fraction_leaf=0.5;, score=(train=0.500, test=0.500) total time=  17.2s\n",
      "[CV 3/5] END max_depth=25, max_leaf_nodes=5, min_impurity_decrease=0.5, min_samples_leaf=1000, min_samples_split=2, min_weight_fraction_leaf=0.5;, score=(train=0.500, test=0.500) total time=  17.2s\n"
     ]
    },
    {
     "name": "stdout",
     "output_type": "stream",
     "text": [
      "[CV 4/5] END max_depth=25, max_leaf_nodes=5, min_impurity_decrease=0.5, min_samples_leaf=1000, min_samples_split=2, min_weight_fraction_leaf=0.5;, score=(train=0.500, test=0.500) total time=  17.1s\n",
      "[CV 5/5] END max_depth=25, max_leaf_nodes=5, min_impurity_decrease=0.5, min_samples_leaf=1000, min_samples_split=2, min_weight_fraction_leaf=0.5;, score=(train=0.500, test=0.500) total time=  17.2s\n",
      "[CV 1/5] END max_depth=75, max_leaf_nodes=2, min_impurity_decrease=0.25, min_samples_leaf=1000, min_samples_split=100, min_weight_fraction_leaf=0.5;, score=(train=0.500, test=0.500) total time=  17.2s\n",
      "[CV 2/5] END max_depth=75, max_leaf_nodes=2, min_impurity_decrease=0.25, min_samples_leaf=1000, min_samples_split=100, min_weight_fraction_leaf=0.5;, score=(train=0.500, test=0.500) total time=  17.3s\n",
      "[CV 3/5] END max_depth=75, max_leaf_nodes=2, min_impurity_decrease=0.25, min_samples_leaf=1000, min_samples_split=100, min_weight_fraction_leaf=0.5;, score=(train=0.500, test=0.500) total time=  17.2s\n",
      "[CV 4/5] END max_depth=75, max_leaf_nodes=2, min_impurity_decrease=0.25, min_samples_leaf=1000, min_samples_split=100, min_weight_fraction_leaf=0.5;, score=(train=0.500, test=0.500) total time=  17.0s\n",
      "[CV 5/5] END max_depth=75, max_leaf_nodes=2, min_impurity_decrease=0.25, min_samples_leaf=1000, min_samples_split=100, min_weight_fraction_leaf=0.5;, score=(train=0.500, test=0.500) total time=  17.5s\n",
      "[CV 1/5] END max_depth=50, max_leaf_nodes=2, min_impurity_decrease=0.25, min_samples_leaf=50, min_samples_split=250, min_weight_fraction_leaf=0.5;, score=(train=0.500, test=0.500) total time=  17.1s\n",
      "[CV 2/5] END max_depth=50, max_leaf_nodes=2, min_impurity_decrease=0.25, min_samples_leaf=50, min_samples_split=250, min_weight_fraction_leaf=0.5;, score=(train=0.500, test=0.500) total time=  17.3s\n",
      "[CV 3/5] END max_depth=50, max_leaf_nodes=2, min_impurity_decrease=0.25, min_samples_leaf=50, min_samples_split=250, min_weight_fraction_leaf=0.5;, score=(train=0.500, test=0.500) total time=  17.3s\n",
      "[CV 4/5] END max_depth=50, max_leaf_nodes=2, min_impurity_decrease=0.25, min_samples_leaf=50, min_samples_split=250, min_weight_fraction_leaf=0.5;, score=(train=0.500, test=0.500) total time=  17.0s\n",
      "[CV 5/5] END max_depth=50, max_leaf_nodes=2, min_impurity_decrease=0.25, min_samples_leaf=50, min_samples_split=250, min_weight_fraction_leaf=0.5;, score=(train=0.500, test=0.500) total time=  17.2s\n",
      "[CV 1/5] END max_depth=12, max_leaf_nodes=5, min_impurity_decrease=0.5, min_samples_leaf=250, min_samples_split=250, min_weight_fraction_leaf=0.0;, score=(train=0.500, test=0.500) total time=  18.2s\n",
      "[CV 2/5] END max_depth=12, max_leaf_nodes=5, min_impurity_decrease=0.5, min_samples_leaf=250, min_samples_split=250, min_weight_fraction_leaf=0.0;, score=(train=0.500, test=0.500) total time=  18.2s\n",
      "[CV 3/5] END max_depth=12, max_leaf_nodes=5, min_impurity_decrease=0.5, min_samples_leaf=250, min_samples_split=250, min_weight_fraction_leaf=0.0;, score=(train=0.500, test=0.500) total time=  18.1s\n",
      "[CV 4/5] END max_depth=12, max_leaf_nodes=5, min_impurity_decrease=0.5, min_samples_leaf=250, min_samples_split=250, min_weight_fraction_leaf=0.0;, score=(train=0.500, test=0.500) total time=  18.0s\n",
      "[CV 5/5] END max_depth=12, max_leaf_nodes=5, min_impurity_decrease=0.5, min_samples_leaf=250, min_samples_split=250, min_weight_fraction_leaf=0.0;, score=(train=0.500, test=0.500) total time=  18.1s\n",
      "[CV 1/5] END max_depth=50, max_leaf_nodes=3, min_impurity_decrease=0.0, min_samples_leaf=1, min_samples_split=250, min_weight_fraction_leaf=0.5;, score=(train=0.657, test=0.658) total time=  17.2s\n",
      "[CV 2/5] END max_depth=50, max_leaf_nodes=3, min_impurity_decrease=0.0, min_samples_leaf=1, min_samples_split=250, min_weight_fraction_leaf=0.5;, score=(train=0.657, test=0.658) total time=  17.3s\n",
      "[CV 3/5] END max_depth=50, max_leaf_nodes=3, min_impurity_decrease=0.0, min_samples_leaf=1, min_samples_split=250, min_weight_fraction_leaf=0.5;, score=(train=0.658, test=0.656) total time=  17.5s\n",
      "[CV 4/5] END max_depth=50, max_leaf_nodes=3, min_impurity_decrease=0.0, min_samples_leaf=1, min_samples_split=250, min_weight_fraction_leaf=0.5;, score=(train=0.657, test=0.657) total time=  17.1s\n",
      "[CV 5/5] END max_depth=50, max_leaf_nodes=3, min_impurity_decrease=0.0, min_samples_leaf=1, min_samples_split=250, min_weight_fraction_leaf=0.5;, score=(train=0.657, test=0.658) total time=  17.3s\n",
      "[CV 1/5] END max_depth=12, max_leaf_nodes=None, min_impurity_decrease=0.25, min_samples_leaf=1000, min_samples_split=2, min_weight_fraction_leaf=0.0;, score=(train=0.500, test=0.500) total time=  18.8s\n",
      "[CV 2/5] END max_depth=12, max_leaf_nodes=None, min_impurity_decrease=0.25, min_samples_leaf=1000, min_samples_split=2, min_weight_fraction_leaf=0.0;, score=(train=0.500, test=0.500) total time=  18.2s\n",
      "[CV 3/5] END max_depth=12, max_leaf_nodes=None, min_impurity_decrease=0.25, min_samples_leaf=1000, min_samples_split=2, min_weight_fraction_leaf=0.0;, score=(train=0.500, test=0.500) total time=  18.1s\n",
      "[CV 4/5] END max_depth=12, max_leaf_nodes=None, min_impurity_decrease=0.25, min_samples_leaf=1000, min_samples_split=2, min_weight_fraction_leaf=0.0;, score=(train=0.500, test=0.500) total time=  18.0s\n",
      "[CV 5/5] END max_depth=12, max_leaf_nodes=None, min_impurity_decrease=0.25, min_samples_leaf=1000, min_samples_split=2, min_weight_fraction_leaf=0.0;, score=(train=0.500, test=0.500) total time=  18.2s\n",
      "[CV 1/5] END max_depth=25, max_leaf_nodes=5, min_impurity_decrease=0.75, min_samples_leaf=1, min_samples_split=50, min_weight_fraction_leaf=0.25;, score=(train=0.500, test=0.500) total time=  18.0s\n",
      "[CV 2/5] END max_depth=25, max_leaf_nodes=5, min_impurity_decrease=0.75, min_samples_leaf=1, min_samples_split=50, min_weight_fraction_leaf=0.25;, score=(train=0.500, test=0.500) total time=  18.0s\n",
      "[CV 3/5] END max_depth=25, max_leaf_nodes=5, min_impurity_decrease=0.75, min_samples_leaf=1, min_samples_split=50, min_weight_fraction_leaf=0.25;, score=(train=0.500, test=0.500) total time=  18.1s\n",
      "[CV 4/5] END max_depth=25, max_leaf_nodes=5, min_impurity_decrease=0.75, min_samples_leaf=1, min_samples_split=50, min_weight_fraction_leaf=0.25;, score=(train=0.500, test=0.500) total time=  18.0s\n",
      "[CV 5/5] END max_depth=25, max_leaf_nodes=5, min_impurity_decrease=0.75, min_samples_leaf=1, min_samples_split=50, min_weight_fraction_leaf=0.25;, score=(train=0.500, test=0.500) total time=  18.0s\n",
      "[CV 1/5] END max_depth=25, max_leaf_nodes=5, min_impurity_decrease=0.25, min_samples_leaf=50, min_samples_split=100, min_weight_fraction_leaf=0.5;, score=(train=0.500, test=0.500) total time=  17.2s\n",
      "[CV 2/5] END max_depth=25, max_leaf_nodes=5, min_impurity_decrease=0.25, min_samples_leaf=50, min_samples_split=100, min_weight_fraction_leaf=0.5;, score=(train=0.500, test=0.500) total time=  17.2s\n",
      "[CV 3/5] END max_depth=25, max_leaf_nodes=5, min_impurity_decrease=0.25, min_samples_leaf=50, min_samples_split=100, min_weight_fraction_leaf=0.5;, score=(train=0.500, test=0.500) total time=  17.2s\n",
      "[CV 4/5] END max_depth=25, max_leaf_nodes=5, min_impurity_decrease=0.25, min_samples_leaf=50, min_samples_split=100, min_weight_fraction_leaf=0.5;, score=(train=0.500, test=0.500) total time=  17.1s\n",
      "[CV 5/5] END max_depth=25, max_leaf_nodes=5, min_impurity_decrease=0.25, min_samples_leaf=50, min_samples_split=100, min_weight_fraction_leaf=0.5;, score=(train=0.500, test=0.500) total time=  17.2s\n",
      "[CV 1/5] END max_depth=12, max_leaf_nodes=2, min_impurity_decrease=0.5, min_samples_leaf=50, min_samples_split=250, min_weight_fraction_leaf=0.5;, score=(train=0.500, test=0.500) total time=  17.3s\n",
      "[CV 2/5] END max_depth=12, max_leaf_nodes=2, min_impurity_decrease=0.5, min_samples_leaf=50, min_samples_split=250, min_weight_fraction_leaf=0.5;, score=(train=0.500, test=0.500) total time=  17.2s\n",
      "[CV 3/5] END max_depth=12, max_leaf_nodes=2, min_impurity_decrease=0.5, min_samples_leaf=50, min_samples_split=250, min_weight_fraction_leaf=0.5;, score=(train=0.500, test=0.500) total time=  17.2s\n",
      "[CV 4/5] END max_depth=12, max_leaf_nodes=2, min_impurity_decrease=0.5, min_samples_leaf=50, min_samples_split=250, min_weight_fraction_leaf=0.5;, score=(train=0.500, test=0.500) total time=  17.0s\n",
      "[CV 5/5] END max_depth=12, max_leaf_nodes=2, min_impurity_decrease=0.5, min_samples_leaf=50, min_samples_split=250, min_weight_fraction_leaf=0.5;, score=(train=0.500, test=0.500) total time=  17.2s\n"
     ]
    },
    {
     "name": "stdout",
     "output_type": "stream",
     "text": [
      "[CV 1/5] END max_depth=12, max_leaf_nodes=3, min_impurity_decrease=0.0, min_samples_leaf=1000, min_samples_split=1000, min_weight_fraction_leaf=0.25;, score=(train=0.822, test=0.819) total time=  23.8s\n",
      "[CV 2/5] END max_depth=12, max_leaf_nodes=3, min_impurity_decrease=0.0, min_samples_leaf=1000, min_samples_split=1000, min_weight_fraction_leaf=0.25;, score=(train=0.821, test=0.822) total time=  23.8s\n",
      "[CV 3/5] END max_depth=12, max_leaf_nodes=3, min_impurity_decrease=0.0, min_samples_leaf=1000, min_samples_split=1000, min_weight_fraction_leaf=0.25;, score=(train=0.821, test=0.822) total time=  23.8s\n",
      "[CV 4/5] END max_depth=12, max_leaf_nodes=3, min_impurity_decrease=0.0, min_samples_leaf=1000, min_samples_split=1000, min_weight_fraction_leaf=0.25;, score=(train=0.822, test=0.820) total time=  23.8s\n",
      "[CV 5/5] END max_depth=12, max_leaf_nodes=3, min_impurity_decrease=0.0, min_samples_leaf=1000, min_samples_split=1000, min_weight_fraction_leaf=0.25;, score=(train=0.820, test=0.823) total time=  23.8s\n",
      "[CV 1/5] END max_depth=50, max_leaf_nodes=5, min_impurity_decrease=0.25, min_samples_leaf=250, min_samples_split=250, min_weight_fraction_leaf=0.0;, score=(train=0.500, test=0.500) total time=  18.1s\n",
      "[CV 2/5] END max_depth=50, max_leaf_nodes=5, min_impurity_decrease=0.25, min_samples_leaf=250, min_samples_split=250, min_weight_fraction_leaf=0.0;, score=(train=0.500, test=0.500) total time=  18.1s\n",
      "[CV 3/5] END max_depth=50, max_leaf_nodes=5, min_impurity_decrease=0.25, min_samples_leaf=250, min_samples_split=250, min_weight_fraction_leaf=0.0;, score=(train=0.500, test=0.500) total time=  18.3s\n",
      "[CV 4/5] END max_depth=50, max_leaf_nodes=5, min_impurity_decrease=0.25, min_samples_leaf=250, min_samples_split=250, min_weight_fraction_leaf=0.0;, score=(train=0.500, test=0.500) total time=  18.1s\n",
      "[CV 5/5] END max_depth=50, max_leaf_nodes=5, min_impurity_decrease=0.25, min_samples_leaf=250, min_samples_split=250, min_weight_fraction_leaf=0.0;, score=(train=0.500, test=0.500) total time=  18.1s\n",
      "[CV 1/5] END max_depth=12, max_leaf_nodes=5, min_impurity_decrease=0.25, min_samples_leaf=100, min_samples_split=2, min_weight_fraction_leaf=0.0;, score=(train=0.500, test=0.500) total time=  18.1s\n",
      "[CV 2/5] END max_depth=12, max_leaf_nodes=5, min_impurity_decrease=0.25, min_samples_leaf=100, min_samples_split=2, min_weight_fraction_leaf=0.0;, score=(train=0.500, test=0.500) total time=  18.2s\n",
      "[CV 3/5] END max_depth=12, max_leaf_nodes=5, min_impurity_decrease=0.25, min_samples_leaf=100, min_samples_split=2, min_weight_fraction_leaf=0.0;, score=(train=0.500, test=0.500) total time=  18.1s\n",
      "[CV 4/5] END max_depth=12, max_leaf_nodes=5, min_impurity_decrease=0.25, min_samples_leaf=100, min_samples_split=2, min_weight_fraction_leaf=0.0;, score=(train=0.500, test=0.500) total time=  17.9s\n",
      "[CV 5/5] END max_depth=12, max_leaf_nodes=5, min_impurity_decrease=0.25, min_samples_leaf=100, min_samples_split=2, min_weight_fraction_leaf=0.0;, score=(train=0.500, test=0.500) total time=  18.2s\n",
      "[CV 1/5] END max_depth=25, max_leaf_nodes=None, min_impurity_decrease=0.75, min_samples_leaf=1000, min_samples_split=250, min_weight_fraction_leaf=0.5;, score=(train=0.500, test=0.500) total time=  17.2s\n",
      "[CV 2/5] END max_depth=25, max_leaf_nodes=None, min_impurity_decrease=0.75, min_samples_leaf=1000, min_samples_split=250, min_weight_fraction_leaf=0.5;, score=(train=0.500, test=0.500) total time=  17.2s\n",
      "[CV 3/5] END max_depth=25, max_leaf_nodes=None, min_impurity_decrease=0.75, min_samples_leaf=1000, min_samples_split=250, min_weight_fraction_leaf=0.5;, score=(train=0.500, test=0.500) total time=  17.3s\n",
      "[CV 4/5] END max_depth=25, max_leaf_nodes=None, min_impurity_decrease=0.75, min_samples_leaf=1000, min_samples_split=250, min_weight_fraction_leaf=0.5;, score=(train=0.500, test=0.500) total time=  17.0s\n",
      "[CV 5/5] END max_depth=25, max_leaf_nodes=None, min_impurity_decrease=0.75, min_samples_leaf=1000, min_samples_split=250, min_weight_fraction_leaf=0.5;, score=(train=0.500, test=0.500) total time=  17.2s\n",
      "[CV 1/5] END max_depth=None, max_leaf_nodes=2, min_impurity_decrease=0.5, min_samples_leaf=1, min_samples_split=250, min_weight_fraction_leaf=0.25;, score=(train=0.500, test=0.500) total time=  18.0s\n",
      "[CV 2/5] END max_depth=None, max_leaf_nodes=2, min_impurity_decrease=0.5, min_samples_leaf=1, min_samples_split=250, min_weight_fraction_leaf=0.25;, score=(train=0.500, test=0.500) total time=  18.1s\n",
      "[CV 3/5] END max_depth=None, max_leaf_nodes=2, min_impurity_decrease=0.5, min_samples_leaf=1, min_samples_split=250, min_weight_fraction_leaf=0.25;, score=(train=0.500, test=0.500) total time=  18.1s\n",
      "[CV 4/5] END max_depth=None, max_leaf_nodes=2, min_impurity_decrease=0.5, min_samples_leaf=1, min_samples_split=250, min_weight_fraction_leaf=0.25;, score=(train=0.500, test=0.500) total time=  17.9s\n",
      "[CV 5/5] END max_depth=None, max_leaf_nodes=2, min_impurity_decrease=0.5, min_samples_leaf=1, min_samples_split=250, min_weight_fraction_leaf=0.25;, score=(train=0.500, test=0.500) total time=  18.4s\n",
      "[CV 1/5] END max_depth=12, max_leaf_nodes=10, min_impurity_decrease=0.25, min_samples_leaf=250, min_samples_split=100, min_weight_fraction_leaf=0.5;, score=(train=0.500, test=0.500) total time=  17.3s\n",
      "[CV 2/5] END max_depth=12, max_leaf_nodes=10, min_impurity_decrease=0.25, min_samples_leaf=250, min_samples_split=100, min_weight_fraction_leaf=0.5;, score=(train=0.500, test=0.500) total time=  17.2s\n",
      "[CV 3/5] END max_depth=12, max_leaf_nodes=10, min_impurity_decrease=0.25, min_samples_leaf=250, min_samples_split=100, min_weight_fraction_leaf=0.5;, score=(train=0.500, test=0.500) total time=  17.3s\n",
      "[CV 4/5] END max_depth=12, max_leaf_nodes=10, min_impurity_decrease=0.25, min_samples_leaf=250, min_samples_split=100, min_weight_fraction_leaf=0.5;, score=(train=0.500, test=0.500) total time=  17.1s\n",
      "[CV 5/5] END max_depth=12, max_leaf_nodes=10, min_impurity_decrease=0.25, min_samples_leaf=250, min_samples_split=100, min_weight_fraction_leaf=0.5;, score=(train=0.500, test=0.500) total time=  17.1s\n",
      "[CV 1/5] END max_depth=75, max_leaf_nodes=3, min_impurity_decrease=0.75, min_samples_leaf=1000, min_samples_split=2, min_weight_fraction_leaf=0.0;, score=(train=0.500, test=0.500) total time=  18.1s\n",
      "[CV 2/5] END max_depth=75, max_leaf_nodes=3, min_impurity_decrease=0.75, min_samples_leaf=1000, min_samples_split=2, min_weight_fraction_leaf=0.0;, score=(train=0.500, test=0.500) total time=  18.1s\n",
      "[CV 3/5] END max_depth=75, max_leaf_nodes=3, min_impurity_decrease=0.75, min_samples_leaf=1000, min_samples_split=2, min_weight_fraction_leaf=0.0;, score=(train=0.500, test=0.500) total time=  18.3s\n",
      "[CV 4/5] END max_depth=75, max_leaf_nodes=3, min_impurity_decrease=0.75, min_samples_leaf=1000, min_samples_split=2, min_weight_fraction_leaf=0.0;, score=(train=0.500, test=0.500) total time=  18.0s\n",
      "[CV 5/5] END max_depth=75, max_leaf_nodes=3, min_impurity_decrease=0.75, min_samples_leaf=1000, min_samples_split=2, min_weight_fraction_leaf=0.0;, score=(train=0.500, test=0.500) total time=  18.2s\n",
      "[CV 1/5] END max_depth=25, max_leaf_nodes=5, min_impurity_decrease=0.25, min_samples_leaf=50, min_samples_split=1000, min_weight_fraction_leaf=0.5;, score=(train=0.500, test=0.500) total time=  17.2s\n",
      "[CV 2/5] END max_depth=25, max_leaf_nodes=5, min_impurity_decrease=0.25, min_samples_leaf=50, min_samples_split=1000, min_weight_fraction_leaf=0.5;, score=(train=0.500, test=0.500) total time=  17.3s\n",
      "[CV 3/5] END max_depth=25, max_leaf_nodes=5, min_impurity_decrease=0.25, min_samples_leaf=50, min_samples_split=1000, min_weight_fraction_leaf=0.5;, score=(train=0.500, test=0.500) total time=  17.2s\n",
      "[CV 4/5] END max_depth=25, max_leaf_nodes=5, min_impurity_decrease=0.25, min_samples_leaf=50, min_samples_split=1000, min_weight_fraction_leaf=0.5;, score=(train=0.500, test=0.500) total time=  17.3s\n",
      "[CV 5/5] END max_depth=25, max_leaf_nodes=5, min_impurity_decrease=0.25, min_samples_leaf=50, min_samples_split=1000, min_weight_fraction_leaf=0.5;, score=(train=0.500, test=0.500) total time=  18.1s\n",
      "[CV 1/5] END max_depth=25, max_leaf_nodes=None, min_impurity_decrease=0.75, min_samples_leaf=50, min_samples_split=100, min_weight_fraction_leaf=0.0;, score=(train=0.500, test=0.500) total time=  18.2s\n"
     ]
    },
    {
     "name": "stdout",
     "output_type": "stream",
     "text": [
      "[CV 2/5] END max_depth=25, max_leaf_nodes=None, min_impurity_decrease=0.75, min_samples_leaf=50, min_samples_split=100, min_weight_fraction_leaf=0.0;, score=(train=0.500, test=0.500) total time=  18.1s\n",
      "[CV 3/5] END max_depth=25, max_leaf_nodes=None, min_impurity_decrease=0.75, min_samples_leaf=50, min_samples_split=100, min_weight_fraction_leaf=0.0;, score=(train=0.500, test=0.500) total time=  18.1s\n",
      "[CV 4/5] END max_depth=25, max_leaf_nodes=None, min_impurity_decrease=0.75, min_samples_leaf=50, min_samples_split=100, min_weight_fraction_leaf=0.0;, score=(train=0.500, test=0.500) total time=  18.0s\n",
      "[CV 5/5] END max_depth=25, max_leaf_nodes=None, min_impurity_decrease=0.75, min_samples_leaf=50, min_samples_split=100, min_weight_fraction_leaf=0.0;, score=(train=0.500, test=0.500) total time=  18.2s\n",
      "[CV 1/5] END max_depth=12, max_leaf_nodes=5, min_impurity_decrease=0.25, min_samples_leaf=50, min_samples_split=2, min_weight_fraction_leaf=0.25;, score=(train=0.500, test=0.500) total time=  18.1s\n",
      "[CV 2/5] END max_depth=12, max_leaf_nodes=5, min_impurity_decrease=0.25, min_samples_leaf=50, min_samples_split=2, min_weight_fraction_leaf=0.25;, score=(train=0.500, test=0.500) total time=  18.1s\n",
      "[CV 3/5] END max_depth=12, max_leaf_nodes=5, min_impurity_decrease=0.25, min_samples_leaf=50, min_samples_split=2, min_weight_fraction_leaf=0.25;, score=(train=0.500, test=0.500) total time=  18.1s\n",
      "[CV 4/5] END max_depth=12, max_leaf_nodes=5, min_impurity_decrease=0.25, min_samples_leaf=50, min_samples_split=2, min_weight_fraction_leaf=0.25;, score=(train=0.500, test=0.500) total time=  18.2s\n",
      "[CV 5/5] END max_depth=12, max_leaf_nodes=5, min_impurity_decrease=0.25, min_samples_leaf=50, min_samples_split=2, min_weight_fraction_leaf=0.25;, score=(train=0.500, test=0.500) total time=  18.0s\n",
      "[CV 1/5] END max_depth=12, max_leaf_nodes=None, min_impurity_decrease=0.75, min_samples_leaf=100, min_samples_split=1000, min_weight_fraction_leaf=0.0;, score=(train=0.500, test=0.500) total time=  18.4s\n",
      "[CV 2/5] END max_depth=12, max_leaf_nodes=None, min_impurity_decrease=0.75, min_samples_leaf=100, min_samples_split=1000, min_weight_fraction_leaf=0.0;, score=(train=0.500, test=0.500) total time=  18.2s\n",
      "[CV 3/5] END max_depth=12, max_leaf_nodes=None, min_impurity_decrease=0.75, min_samples_leaf=100, min_samples_split=1000, min_weight_fraction_leaf=0.0;, score=(train=0.500, test=0.500) total time=  18.1s\n",
      "[CV 4/5] END max_depth=12, max_leaf_nodes=None, min_impurity_decrease=0.75, min_samples_leaf=100, min_samples_split=1000, min_weight_fraction_leaf=0.0;, score=(train=0.500, test=0.500) total time=  17.9s\n",
      "[CV 5/5] END max_depth=12, max_leaf_nodes=None, min_impurity_decrease=0.75, min_samples_leaf=100, min_samples_split=1000, min_weight_fraction_leaf=0.0;, score=(train=0.500, test=0.500) total time=  18.2s\n",
      "[CV 1/5] END max_depth=75, max_leaf_nodes=None, min_impurity_decrease=0.25, min_samples_leaf=250, min_samples_split=250, min_weight_fraction_leaf=0.0;, score=(train=0.500, test=0.500) total time=  18.2s\n",
      "[CV 2/5] END max_depth=75, max_leaf_nodes=None, min_impurity_decrease=0.25, min_samples_leaf=250, min_samples_split=250, min_weight_fraction_leaf=0.0;, score=(train=0.500, test=0.500) total time=  18.2s\n",
      "[CV 3/5] END max_depth=75, max_leaf_nodes=None, min_impurity_decrease=0.25, min_samples_leaf=250, min_samples_split=250, min_weight_fraction_leaf=0.0;, score=(train=0.500, test=0.500) total time=  18.1s\n",
      "[CV 4/5] END max_depth=75, max_leaf_nodes=None, min_impurity_decrease=0.25, min_samples_leaf=250, min_samples_split=250, min_weight_fraction_leaf=0.0;, score=(train=0.500, test=0.500) total time=  18.0s\n",
      "[CV 5/5] END max_depth=75, max_leaf_nodes=None, min_impurity_decrease=0.25, min_samples_leaf=250, min_samples_split=250, min_weight_fraction_leaf=0.0;, score=(train=0.500, test=0.500) total time=  18.1s\n",
      "[CV 1/5] END max_depth=25, max_leaf_nodes=10, min_impurity_decrease=0.75, min_samples_leaf=1, min_samples_split=100, min_weight_fraction_leaf=0.25;, score=(train=0.500, test=0.500) total time=  17.9s\n",
      "[CV 2/5] END max_depth=25, max_leaf_nodes=10, min_impurity_decrease=0.75, min_samples_leaf=1, min_samples_split=100, min_weight_fraction_leaf=0.25;, score=(train=0.500, test=0.500) total time=  18.1s\n",
      "[CV 3/5] END max_depth=25, max_leaf_nodes=10, min_impurity_decrease=0.75, min_samples_leaf=1, min_samples_split=100, min_weight_fraction_leaf=0.25;, score=(train=0.500, test=0.500) total time=  18.3s\n",
      "[CV 4/5] END max_depth=25, max_leaf_nodes=10, min_impurity_decrease=0.75, min_samples_leaf=1, min_samples_split=100, min_weight_fraction_leaf=0.25;, score=(train=0.500, test=0.500) total time=  17.9s\n",
      "[CV 5/5] END max_depth=25, max_leaf_nodes=10, min_impurity_decrease=0.75, min_samples_leaf=1, min_samples_split=100, min_weight_fraction_leaf=0.25;, score=(train=0.500, test=0.500) total time=  18.1s\n",
      "[CV 1/5] END max_depth=None, max_leaf_nodes=2, min_impurity_decrease=0.75, min_samples_leaf=1000, min_samples_split=250, min_weight_fraction_leaf=0.5;, score=(train=0.500, test=0.500) total time=  17.2s\n",
      "[CV 2/5] END max_depth=None, max_leaf_nodes=2, min_impurity_decrease=0.75, min_samples_leaf=1000, min_samples_split=250, min_weight_fraction_leaf=0.5;, score=(train=0.500, test=0.500) total time=  17.2s\n",
      "[CV 3/5] END max_depth=None, max_leaf_nodes=2, min_impurity_decrease=0.75, min_samples_leaf=1000, min_samples_split=250, min_weight_fraction_leaf=0.5;, score=(train=0.500, test=0.500) total time=  17.3s\n",
      "[CV 4/5] END max_depth=None, max_leaf_nodes=2, min_impurity_decrease=0.75, min_samples_leaf=1000, min_samples_split=250, min_weight_fraction_leaf=0.5;, score=(train=0.500, test=0.500) total time=  17.1s\n",
      "[CV 5/5] END max_depth=None, max_leaf_nodes=2, min_impurity_decrease=0.75, min_samples_leaf=1000, min_samples_split=250, min_weight_fraction_leaf=0.5;, score=(train=0.500, test=0.500) total time=  17.1s\n",
      "[CV 1/5] END max_depth=None, max_leaf_nodes=10, min_impurity_decrease=0.25, min_samples_leaf=100, min_samples_split=100, min_weight_fraction_leaf=0.5;, score=(train=0.500, test=0.500) total time=  17.1s\n",
      "[CV 2/5] END max_depth=None, max_leaf_nodes=10, min_impurity_decrease=0.25, min_samples_leaf=100, min_samples_split=100, min_weight_fraction_leaf=0.5;, score=(train=0.500, test=0.500) total time=  17.4s\n",
      "[CV 3/5] END max_depth=None, max_leaf_nodes=10, min_impurity_decrease=0.25, min_samples_leaf=100, min_samples_split=100, min_weight_fraction_leaf=0.5;, score=(train=0.500, test=0.500) total time=  17.2s\n",
      "[CV 4/5] END max_depth=None, max_leaf_nodes=10, min_impurity_decrease=0.25, min_samples_leaf=100, min_samples_split=100, min_weight_fraction_leaf=0.5;, score=(train=0.500, test=0.500) total time=  17.1s\n",
      "[CV 5/5] END max_depth=None, max_leaf_nodes=10, min_impurity_decrease=0.25, min_samples_leaf=100, min_samples_split=100, min_weight_fraction_leaf=0.5;, score=(train=0.500, test=0.500) total time=  17.2s\n",
      "[CV 1/5] END max_depth=50, max_leaf_nodes=3, min_impurity_decrease=0.5, min_samples_leaf=100, min_samples_split=100, min_weight_fraction_leaf=0.25;, score=(train=0.500, test=0.500) total time=  18.0s\n",
      "[CV 2/5] END max_depth=50, max_leaf_nodes=3, min_impurity_decrease=0.5, min_samples_leaf=100, min_samples_split=100, min_weight_fraction_leaf=0.25;, score=(train=0.500, test=0.500) total time=  18.0s\n",
      "[CV 3/5] END max_depth=50, max_leaf_nodes=3, min_impurity_decrease=0.5, min_samples_leaf=100, min_samples_split=100, min_weight_fraction_leaf=0.25;, score=(train=0.500, test=0.500) total time=  18.1s\n",
      "[CV 4/5] END max_depth=50, max_leaf_nodes=3, min_impurity_decrease=0.5, min_samples_leaf=100, min_samples_split=100, min_weight_fraction_leaf=0.25;, score=(train=0.500, test=0.500) total time=  18.1s\n",
      "[CV 5/5] END max_depth=50, max_leaf_nodes=3, min_impurity_decrease=0.5, min_samples_leaf=100, min_samples_split=100, min_weight_fraction_leaf=0.25;, score=(train=0.500, test=0.500) total time=  18.0s\n",
      "[CV 1/5] END max_depth=25, max_leaf_nodes=None, min_impurity_decrease=0.0, min_samples_leaf=1000, min_samples_split=2, min_weight_fraction_leaf=0.5;, score=(train=0.657, test=0.658) total time=  17.1s\n",
      "[CV 2/5] END max_depth=25, max_leaf_nodes=None, min_impurity_decrease=0.0, min_samples_leaf=1000, min_samples_split=2, min_weight_fraction_leaf=0.5;, score=(train=0.657, test=0.658) total time=  17.2s\n"
     ]
    },
    {
     "name": "stdout",
     "output_type": "stream",
     "text": [
      "[CV 3/5] END max_depth=25, max_leaf_nodes=None, min_impurity_decrease=0.0, min_samples_leaf=1000, min_samples_split=2, min_weight_fraction_leaf=0.5;, score=(train=0.658, test=0.656) total time=  17.3s\n",
      "[CV 4/5] END max_depth=25, max_leaf_nodes=None, min_impurity_decrease=0.0, min_samples_leaf=1000, min_samples_split=2, min_weight_fraction_leaf=0.5;, score=(train=0.657, test=0.657) total time=  17.1s\n",
      "[CV 5/5] END max_depth=25, max_leaf_nodes=None, min_impurity_decrease=0.0, min_samples_leaf=1000, min_samples_split=2, min_weight_fraction_leaf=0.5;, score=(train=0.657, test=0.658) total time=  17.2s\n",
      "[CV 1/5] END max_depth=25, max_leaf_nodes=None, min_impurity_decrease=0.0, min_samples_leaf=50, min_samples_split=100, min_weight_fraction_leaf=0.5;, score=(train=0.657, test=0.658) total time=  17.3s\n",
      "[CV 2/5] END max_depth=25, max_leaf_nodes=None, min_impurity_decrease=0.0, min_samples_leaf=50, min_samples_split=100, min_weight_fraction_leaf=0.5;, score=(train=0.657, test=0.658) total time=  17.2s\n",
      "[CV 3/5] END max_depth=25, max_leaf_nodes=None, min_impurity_decrease=0.0, min_samples_leaf=50, min_samples_split=100, min_weight_fraction_leaf=0.5;, score=(train=0.658, test=0.656) total time=  17.3s\n",
      "[CV 4/5] END max_depth=25, max_leaf_nodes=None, min_impurity_decrease=0.0, min_samples_leaf=50, min_samples_split=100, min_weight_fraction_leaf=0.5;, score=(train=0.657, test=0.657) total time=  17.2s\n",
      "[CV 5/5] END max_depth=25, max_leaf_nodes=None, min_impurity_decrease=0.0, min_samples_leaf=50, min_samples_split=100, min_weight_fraction_leaf=0.5;, score=(train=0.657, test=0.658) total time=  17.4s\n",
      "[CV 1/5] END max_depth=50, max_leaf_nodes=2, min_impurity_decrease=0.75, min_samples_leaf=50, min_samples_split=50, min_weight_fraction_leaf=0.5;, score=(train=0.500, test=0.500) total time=  17.1s\n",
      "[CV 2/5] END max_depth=50, max_leaf_nodes=2, min_impurity_decrease=0.75, min_samples_leaf=50, min_samples_split=50, min_weight_fraction_leaf=0.5;, score=(train=0.500, test=0.500) total time=  17.4s\n",
      "[CV 3/5] END max_depth=50, max_leaf_nodes=2, min_impurity_decrease=0.75, min_samples_leaf=50, min_samples_split=50, min_weight_fraction_leaf=0.5;, score=(train=0.500, test=0.500) total time=  17.2s\n",
      "[CV 4/5] END max_depth=50, max_leaf_nodes=2, min_impurity_decrease=0.75, min_samples_leaf=50, min_samples_split=50, min_weight_fraction_leaf=0.5;, score=(train=0.500, test=0.500) total time=  17.1s\n",
      "[CV 5/5] END max_depth=50, max_leaf_nodes=2, min_impurity_decrease=0.75, min_samples_leaf=50, min_samples_split=50, min_weight_fraction_leaf=0.5;, score=(train=0.500, test=0.500) total time=  17.3s\n",
      "[CV 1/5] END max_depth=75, max_leaf_nodes=5, min_impurity_decrease=0.5, min_samples_leaf=250, min_samples_split=50, min_weight_fraction_leaf=0.0;, score=(train=0.500, test=0.500) total time=  18.1s\n",
      "[CV 2/5] END max_depth=75, max_leaf_nodes=5, min_impurity_decrease=0.5, min_samples_leaf=250, min_samples_split=50, min_weight_fraction_leaf=0.0;, score=(train=0.500, test=0.500) total time=  18.1s\n",
      "[CV 3/5] END max_depth=75, max_leaf_nodes=5, min_impurity_decrease=0.5, min_samples_leaf=250, min_samples_split=50, min_weight_fraction_leaf=0.0;, score=(train=0.500, test=0.500) total time=  18.2s\n",
      "[CV 4/5] END max_depth=75, max_leaf_nodes=5, min_impurity_decrease=0.5, min_samples_leaf=250, min_samples_split=50, min_weight_fraction_leaf=0.0;, score=(train=0.500, test=0.500) total time=  18.0s\n",
      "[CV 5/5] END max_depth=75, max_leaf_nodes=5, min_impurity_decrease=0.5, min_samples_leaf=250, min_samples_split=50, min_weight_fraction_leaf=0.0;, score=(train=0.500, test=0.500) total time=  18.1s\n",
      "[CV 1/5] END max_depth=None, max_leaf_nodes=10, min_impurity_decrease=0.75, min_samples_leaf=100, min_samples_split=2, min_weight_fraction_leaf=0.25;, score=(train=0.500, test=0.500) total time=  18.1s\n",
      "[CV 2/5] END max_depth=None, max_leaf_nodes=10, min_impurity_decrease=0.75, min_samples_leaf=100, min_samples_split=2, min_weight_fraction_leaf=0.25;, score=(train=0.500, test=0.500) total time=  18.2s\n",
      "[CV 3/5] END max_depth=None, max_leaf_nodes=10, min_impurity_decrease=0.75, min_samples_leaf=100, min_samples_split=2, min_weight_fraction_leaf=0.25;, score=(train=0.500, test=0.500) total time=  18.1s\n",
      "[CV 4/5] END max_depth=None, max_leaf_nodes=10, min_impurity_decrease=0.75, min_samples_leaf=100, min_samples_split=2, min_weight_fraction_leaf=0.25;, score=(train=0.500, test=0.500) total time=  18.0s\n",
      "[CV 5/5] END max_depth=None, max_leaf_nodes=10, min_impurity_decrease=0.75, min_samples_leaf=100, min_samples_split=2, min_weight_fraction_leaf=0.25;, score=(train=0.500, test=0.500) total time=  18.1s\n",
      "[CV 1/5] END max_depth=50, max_leaf_nodes=None, min_impurity_decrease=0.0, min_samples_leaf=50, min_samples_split=50, min_weight_fraction_leaf=0.25;, score=(train=0.822, test=0.819) total time=  23.8s\n",
      "[CV 2/5] END max_depth=50, max_leaf_nodes=None, min_impurity_decrease=0.0, min_samples_leaf=50, min_samples_split=50, min_weight_fraction_leaf=0.25;, score=(train=0.821, test=0.822) total time=  24.0s\n",
      "[CV 3/5] END max_depth=50, max_leaf_nodes=None, min_impurity_decrease=0.0, min_samples_leaf=50, min_samples_split=50, min_weight_fraction_leaf=0.25;, score=(train=0.821, test=0.822) total time=  23.8s\n",
      "[CV 4/5] END max_depth=50, max_leaf_nodes=None, min_impurity_decrease=0.0, min_samples_leaf=50, min_samples_split=50, min_weight_fraction_leaf=0.25;, score=(train=0.822, test=0.820) total time=  23.6s\n",
      "[CV 5/5] END max_depth=50, max_leaf_nodes=None, min_impurity_decrease=0.0, min_samples_leaf=50, min_samples_split=50, min_weight_fraction_leaf=0.25;, score=(train=0.820, test=0.823) total time=  23.7s\n",
      "[CV 1/5] END max_depth=None, max_leaf_nodes=None, min_impurity_decrease=0.5, min_samples_leaf=1000, min_samples_split=250, min_weight_fraction_leaf=0.5;, score=(train=0.500, test=0.500) total time=  17.3s\n",
      "[CV 2/5] END max_depth=None, max_leaf_nodes=None, min_impurity_decrease=0.5, min_samples_leaf=1000, min_samples_split=250, min_weight_fraction_leaf=0.5;, score=(train=0.500, test=0.500) total time=  17.2s\n",
      "[CV 3/5] END max_depth=None, max_leaf_nodes=None, min_impurity_decrease=0.5, min_samples_leaf=1000, min_samples_split=250, min_weight_fraction_leaf=0.5;, score=(train=0.500, test=0.500) total time=  17.2s\n",
      "[CV 4/5] END max_depth=None, max_leaf_nodes=None, min_impurity_decrease=0.5, min_samples_leaf=1000, min_samples_split=250, min_weight_fraction_leaf=0.5;, score=(train=0.500, test=0.500) total time=  17.0s\n",
      "[CV 5/5] END max_depth=None, max_leaf_nodes=None, min_impurity_decrease=0.5, min_samples_leaf=1000, min_samples_split=250, min_weight_fraction_leaf=0.5;, score=(train=0.500, test=0.500) total time=  17.2s\n",
      "[CV 1/5] END max_depth=25, max_leaf_nodes=10, min_impurity_decrease=0.25, min_samples_leaf=100, min_samples_split=250, min_weight_fraction_leaf=0.0;, score=(train=0.500, test=0.500) total time=  18.1s\n",
      "[CV 2/5] END max_depth=25, max_leaf_nodes=10, min_impurity_decrease=0.25, min_samples_leaf=100, min_samples_split=250, min_weight_fraction_leaf=0.0;, score=(train=0.500, test=0.500) total time=  19.2s\n",
      "[CV 3/5] END max_depth=25, max_leaf_nodes=10, min_impurity_decrease=0.25, min_samples_leaf=100, min_samples_split=250, min_weight_fraction_leaf=0.0;, score=(train=0.500, test=0.500) total time=  18.2s\n",
      "[CV 4/5] END max_depth=25, max_leaf_nodes=10, min_impurity_decrease=0.25, min_samples_leaf=100, min_samples_split=250, min_weight_fraction_leaf=0.0;, score=(train=0.500, test=0.500) total time=  18.0s\n",
      "[CV 5/5] END max_depth=25, max_leaf_nodes=10, min_impurity_decrease=0.25, min_samples_leaf=100, min_samples_split=250, min_weight_fraction_leaf=0.0;, score=(train=0.500, test=0.500) total time=  19.7s\n",
      "[CV 1/5] END max_depth=12, max_leaf_nodes=5, min_impurity_decrease=0.0, min_samples_leaf=100, min_samples_split=50, min_weight_fraction_leaf=0.0;, score=(train=0.833, test=0.831) total time=  36.3s\n",
      "[CV 2/5] END max_depth=12, max_leaf_nodes=5, min_impurity_decrease=0.0, min_samples_leaf=100, min_samples_split=50, min_weight_fraction_leaf=0.0;, score=(train=0.831, test=0.833) total time=  46.3s\n",
      "[CV 3/5] END max_depth=12, max_leaf_nodes=5, min_impurity_decrease=0.0, min_samples_leaf=100, min_samples_split=50, min_weight_fraction_leaf=0.0;, score=(train=0.832, test=0.831) total time=  36.6s\n"
     ]
    },
    {
     "name": "stdout",
     "output_type": "stream",
     "text": [
      "[CV 4/5] END max_depth=12, max_leaf_nodes=5, min_impurity_decrease=0.0, min_samples_leaf=100, min_samples_split=50, min_weight_fraction_leaf=0.0;, score=(train=0.833, test=0.832) total time=  36.5s\n",
      "[CV 5/5] END max_depth=12, max_leaf_nodes=5, min_impurity_decrease=0.0, min_samples_leaf=100, min_samples_split=50, min_weight_fraction_leaf=0.0;, score=(train=0.833, test=0.835) total time=  36.9s\n",
      "[CV 1/5] END max_depth=25, max_leaf_nodes=3, min_impurity_decrease=0.0, min_samples_leaf=250, min_samples_split=1000, min_weight_fraction_leaf=0.25;, score=(train=0.822, test=0.819) total time=  33.3s\n",
      "[CV 2/5] END max_depth=25, max_leaf_nodes=3, min_impurity_decrease=0.0, min_samples_leaf=250, min_samples_split=1000, min_weight_fraction_leaf=0.25;, score=(train=0.821, test=0.822) total time=  27.5s\n",
      "[CV 3/5] END max_depth=25, max_leaf_nodes=3, min_impurity_decrease=0.0, min_samples_leaf=250, min_samples_split=1000, min_weight_fraction_leaf=0.25;, score=(train=0.821, test=0.822) total time=  27.6s\n",
      "[CV 4/5] END max_depth=25, max_leaf_nodes=3, min_impurity_decrease=0.0, min_samples_leaf=250, min_samples_split=1000, min_weight_fraction_leaf=0.25;, score=(train=0.822, test=0.820) total time=  27.4s\n",
      "[CV 5/5] END max_depth=25, max_leaf_nodes=3, min_impurity_decrease=0.0, min_samples_leaf=250, min_samples_split=1000, min_weight_fraction_leaf=0.25;, score=(train=0.820, test=0.823) total time=  27.4s\n",
      "[CV 1/5] END max_depth=None, max_leaf_nodes=2, min_impurity_decrease=0.0, min_samples_leaf=50, min_samples_split=1000, min_weight_fraction_leaf=0.5;, score=(train=0.657, test=0.658) total time=  19.5s\n",
      "[CV 2/5] END max_depth=None, max_leaf_nodes=2, min_impurity_decrease=0.0, min_samples_leaf=50, min_samples_split=1000, min_weight_fraction_leaf=0.5;, score=(train=0.657, test=0.658) total time=  19.8s\n",
      "[CV 3/5] END max_depth=None, max_leaf_nodes=2, min_impurity_decrease=0.0, min_samples_leaf=50, min_samples_split=1000, min_weight_fraction_leaf=0.5;, score=(train=0.658, test=0.656) total time=  19.8s\n",
      "[CV 4/5] END max_depth=None, max_leaf_nodes=2, min_impurity_decrease=0.0, min_samples_leaf=50, min_samples_split=1000, min_weight_fraction_leaf=0.5;, score=(train=0.657, test=0.657) total time=  19.9s\n",
      "[CV 5/5] END max_depth=None, max_leaf_nodes=2, min_impurity_decrease=0.0, min_samples_leaf=50, min_samples_split=1000, min_weight_fraction_leaf=0.5;, score=(train=0.657, test=0.658) total time=  20.1s\n",
      "[CV 1/5] END max_depth=12, max_leaf_nodes=3, min_impurity_decrease=0.75, min_samples_leaf=1, min_samples_split=50, min_weight_fraction_leaf=0.0;, score=(train=0.500, test=0.500) total time=  23.4s\n",
      "[CV 2/5] END max_depth=12, max_leaf_nodes=3, min_impurity_decrease=0.75, min_samples_leaf=1, min_samples_split=50, min_weight_fraction_leaf=0.0;, score=(train=0.500, test=0.500) total time=  20.8s\n",
      "[CV 3/5] END max_depth=12, max_leaf_nodes=3, min_impurity_decrease=0.75, min_samples_leaf=1, min_samples_split=50, min_weight_fraction_leaf=0.0;, score=(train=0.500, test=0.500) total time=  20.9s\n",
      "[CV 4/5] END max_depth=12, max_leaf_nodes=3, min_impurity_decrease=0.75, min_samples_leaf=1, min_samples_split=50, min_weight_fraction_leaf=0.0;, score=(train=0.500, test=0.500) total time=  22.7s\n",
      "[CV 5/5] END max_depth=12, max_leaf_nodes=3, min_impurity_decrease=0.75, min_samples_leaf=1, min_samples_split=50, min_weight_fraction_leaf=0.0;, score=(train=0.500, test=0.500) total time=  21.1s\n",
      "[CV 1/5] END max_depth=12, max_leaf_nodes=2, min_impurity_decrease=0.5, min_samples_leaf=250, min_samples_split=50, min_weight_fraction_leaf=0.5;, score=(train=0.500, test=0.500) total time=  19.7s\n",
      "[CV 2/5] END max_depth=12, max_leaf_nodes=2, min_impurity_decrease=0.5, min_samples_leaf=250, min_samples_split=50, min_weight_fraction_leaf=0.5;, score=(train=0.500, test=0.500) total time=  19.9s\n",
      "[CV 3/5] END max_depth=12, max_leaf_nodes=2, min_impurity_decrease=0.5, min_samples_leaf=250, min_samples_split=50, min_weight_fraction_leaf=0.5;, score=(train=0.500, test=0.500) total time=  22.6s\n",
      "[CV 4/5] END max_depth=12, max_leaf_nodes=2, min_impurity_decrease=0.5, min_samples_leaf=250, min_samples_split=50, min_weight_fraction_leaf=0.5;, score=(train=0.500, test=0.500) total time=  21.3s\n",
      "[CV 5/5] END max_depth=12, max_leaf_nodes=2, min_impurity_decrease=0.5, min_samples_leaf=250, min_samples_split=50, min_weight_fraction_leaf=0.5;, score=(train=0.500, test=0.500) total time=  23.0s\n",
      "[CV 1/5] END max_depth=75, max_leaf_nodes=2, min_impurity_decrease=0.0, min_samples_leaf=1, min_samples_split=50, min_weight_fraction_leaf=0.5;, score=(train=0.657, test=0.658) total time=  25.5s\n",
      "[CV 2/5] END max_depth=75, max_leaf_nodes=2, min_impurity_decrease=0.0, min_samples_leaf=1, min_samples_split=50, min_weight_fraction_leaf=0.5;, score=(train=0.657, test=0.658) total time=  22.8s\n",
      "[CV 3/5] END max_depth=75, max_leaf_nodes=2, min_impurity_decrease=0.0, min_samples_leaf=1, min_samples_split=50, min_weight_fraction_leaf=0.5;, score=(train=0.658, test=0.656) total time=  20.2s\n",
      "[CV 4/5] END max_depth=75, max_leaf_nodes=2, min_impurity_decrease=0.0, min_samples_leaf=1, min_samples_split=50, min_weight_fraction_leaf=0.5;, score=(train=0.657, test=0.657) total time=  19.9s\n",
      "[CV 5/5] END max_depth=75, max_leaf_nodes=2, min_impurity_decrease=0.0, min_samples_leaf=1, min_samples_split=50, min_weight_fraction_leaf=0.5;, score=(train=0.657, test=0.658) total time=  19.9s\n",
      "[CV 1/5] END max_depth=25, max_leaf_nodes=2, min_impurity_decrease=0.75, min_samples_leaf=1000, min_samples_split=100, min_weight_fraction_leaf=0.0;, score=(train=0.500, test=0.500) total time=  21.2s\n",
      "[CV 2/5] END max_depth=25, max_leaf_nodes=2, min_impurity_decrease=0.75, min_samples_leaf=1000, min_samples_split=100, min_weight_fraction_leaf=0.0;, score=(train=0.500, test=0.500) total time=  20.9s\n",
      "[CV 3/5] END max_depth=25, max_leaf_nodes=2, min_impurity_decrease=0.75, min_samples_leaf=1000, min_samples_split=100, min_weight_fraction_leaf=0.0;, score=(train=0.500, test=0.500) total time=  20.8s\n",
      "[CV 4/5] END max_depth=25, max_leaf_nodes=2, min_impurity_decrease=0.75, min_samples_leaf=1000, min_samples_split=100, min_weight_fraction_leaf=0.0;, score=(train=0.500, test=0.500) total time=  20.7s\n",
      "[CV 5/5] END max_depth=25, max_leaf_nodes=2, min_impurity_decrease=0.75, min_samples_leaf=1000, min_samples_split=100, min_weight_fraction_leaf=0.0;, score=(train=0.500, test=0.500) total time=  20.8s\n",
      "[CV 1/5] END max_depth=75, max_leaf_nodes=5, min_impurity_decrease=0.0, min_samples_leaf=250, min_samples_split=2, min_weight_fraction_leaf=0.0;, score=(train=0.833, test=0.831) total time=  45.4s\n",
      "[CV 2/5] END max_depth=75, max_leaf_nodes=5, min_impurity_decrease=0.0, min_samples_leaf=250, min_samples_split=2, min_weight_fraction_leaf=0.0;, score=(train=0.831, test=0.833) total time=  47.0s\n",
      "[CV 3/5] END max_depth=75, max_leaf_nodes=5, min_impurity_decrease=0.0, min_samples_leaf=250, min_samples_split=2, min_weight_fraction_leaf=0.0;, score=(train=0.832, test=0.831) total time=  48.3s\n",
      "[CV 4/5] END max_depth=75, max_leaf_nodes=5, min_impurity_decrease=0.0, min_samples_leaf=250, min_samples_split=2, min_weight_fraction_leaf=0.0;, score=(train=0.833, test=0.832) total time=  44.6s\n",
      "[CV 5/5] END max_depth=75, max_leaf_nodes=5, min_impurity_decrease=0.0, min_samples_leaf=250, min_samples_split=2, min_weight_fraction_leaf=0.0;, score=(train=0.833, test=0.835) total time=  44.7s\n",
      "[CV 1/5] END max_depth=50, max_leaf_nodes=10, min_impurity_decrease=0.5, min_samples_leaf=100, min_samples_split=100, min_weight_fraction_leaf=0.5;, score=(train=0.500, test=0.500) total time=  20.9s\n",
      "[CV 2/5] END max_depth=50, max_leaf_nodes=10, min_impurity_decrease=0.5, min_samples_leaf=100, min_samples_split=100, min_weight_fraction_leaf=0.5;, score=(train=0.500, test=0.500) total time=  20.9s\n",
      "[CV 3/5] END max_depth=50, max_leaf_nodes=10, min_impurity_decrease=0.5, min_samples_leaf=100, min_samples_split=100, min_weight_fraction_leaf=0.5;, score=(train=0.500, test=0.500) total time=  21.0s\n",
      "[CV 4/5] END max_depth=50, max_leaf_nodes=10, min_impurity_decrease=0.5, min_samples_leaf=100, min_samples_split=100, min_weight_fraction_leaf=0.5;, score=(train=0.500, test=0.500) total time=  20.8s\n",
      "[CV 5/5] END max_depth=50, max_leaf_nodes=10, min_impurity_decrease=0.5, min_samples_leaf=100, min_samples_split=100, min_weight_fraction_leaf=0.5;, score=(train=0.500, test=0.500) total time=  21.3s\n"
     ]
    },
    {
     "name": "stdout",
     "output_type": "stream",
     "text": [
      "[CV 1/5] END max_depth=50, max_leaf_nodes=10, min_impurity_decrease=0.75, min_samples_leaf=50, min_samples_split=100, min_weight_fraction_leaf=0.0;, score=(train=0.500, test=0.500) total time=  22.3s\n",
      "[CV 2/5] END max_depth=50, max_leaf_nodes=10, min_impurity_decrease=0.75, min_samples_leaf=50, min_samples_split=100, min_weight_fraction_leaf=0.0;, score=(train=0.500, test=0.500) total time=  22.1s\n",
      "[CV 3/5] END max_depth=50, max_leaf_nodes=10, min_impurity_decrease=0.75, min_samples_leaf=50, min_samples_split=100, min_weight_fraction_leaf=0.0;, score=(train=0.500, test=0.500) total time=  22.2s\n",
      "[CV 4/5] END max_depth=50, max_leaf_nodes=10, min_impurity_decrease=0.75, min_samples_leaf=50, min_samples_split=100, min_weight_fraction_leaf=0.0;, score=(train=0.500, test=0.500) total time=  22.1s\n",
      "[CV 5/5] END max_depth=50, max_leaf_nodes=10, min_impurity_decrease=0.75, min_samples_leaf=50, min_samples_split=100, min_weight_fraction_leaf=0.0;, score=(train=0.500, test=0.500) total time=  22.1s\n",
      "[CV 1/5] END max_depth=75, max_leaf_nodes=2, min_impurity_decrease=0.0, min_samples_leaf=100, min_samples_split=50, min_weight_fraction_leaf=0.5;, score=(train=0.657, test=0.658) total time=  21.0s\n",
      "[CV 2/5] END max_depth=75, max_leaf_nodes=2, min_impurity_decrease=0.0, min_samples_leaf=100, min_samples_split=50, min_weight_fraction_leaf=0.5;, score=(train=0.657, test=0.658) total time=  21.0s\n",
      "[CV 3/5] END max_depth=75, max_leaf_nodes=2, min_impurity_decrease=0.0, min_samples_leaf=100, min_samples_split=50, min_weight_fraction_leaf=0.5;, score=(train=0.658, test=0.656) total time=  21.1s\n",
      "[CV 4/5] END max_depth=75, max_leaf_nodes=2, min_impurity_decrease=0.0, min_samples_leaf=100, min_samples_split=50, min_weight_fraction_leaf=0.5;, score=(train=0.657, test=0.657) total time=  20.8s\n",
      "[CV 5/5] END max_depth=75, max_leaf_nodes=2, min_impurity_decrease=0.0, min_samples_leaf=100, min_samples_split=50, min_weight_fraction_leaf=0.5;, score=(train=0.657, test=0.658) total time=  21.0s\n",
      "[CV 1/5] END max_depth=50, max_leaf_nodes=10, min_impurity_decrease=0.25, min_samples_leaf=100, min_samples_split=250, min_weight_fraction_leaf=0.25;, score=(train=0.500, test=0.500) total time=  22.0s\n",
      "[CV 2/5] END max_depth=50, max_leaf_nodes=10, min_impurity_decrease=0.25, min_samples_leaf=100, min_samples_split=250, min_weight_fraction_leaf=0.25;, score=(train=0.500, test=0.500) total time=  22.1s\n",
      "[CV 3/5] END max_depth=50, max_leaf_nodes=10, min_impurity_decrease=0.25, min_samples_leaf=100, min_samples_split=250, min_weight_fraction_leaf=0.25;, score=(train=0.500, test=0.500) total time=  22.2s\n",
      "[CV 4/5] END max_depth=50, max_leaf_nodes=10, min_impurity_decrease=0.25, min_samples_leaf=100, min_samples_split=250, min_weight_fraction_leaf=0.25;, score=(train=0.500, test=0.500) total time=  21.9s\n",
      "[CV 5/5] END max_depth=50, max_leaf_nodes=10, min_impurity_decrease=0.25, min_samples_leaf=100, min_samples_split=250, min_weight_fraction_leaf=0.25;, score=(train=0.500, test=0.500) total time=  22.1s\n",
      "[CV 1/5] END max_depth=25, max_leaf_nodes=5, min_impurity_decrease=0.25, min_samples_leaf=1, min_samples_split=2, min_weight_fraction_leaf=0.25;, score=(train=0.500, test=0.500) total time=  21.9s\n",
      "[CV 2/5] END max_depth=25, max_leaf_nodes=5, min_impurity_decrease=0.25, min_samples_leaf=1, min_samples_split=2, min_weight_fraction_leaf=0.25;, score=(train=0.500, test=0.500) total time=  22.1s\n",
      "[CV 3/5] END max_depth=25, max_leaf_nodes=5, min_impurity_decrease=0.25, min_samples_leaf=1, min_samples_split=2, min_weight_fraction_leaf=0.25;, score=(train=0.500, test=0.500) total time=  22.3s\n",
      "[CV 4/5] END max_depth=25, max_leaf_nodes=5, min_impurity_decrease=0.25, min_samples_leaf=1, min_samples_split=2, min_weight_fraction_leaf=0.25;, score=(train=0.500, test=0.500) total time=  24.1s\n",
      "[CV 5/5] END max_depth=25, max_leaf_nodes=5, min_impurity_decrease=0.25, min_samples_leaf=1, min_samples_split=2, min_weight_fraction_leaf=0.25;, score=(train=0.500, test=0.500) total time=  22.0s\n",
      "[CV 1/5] END max_depth=25, max_leaf_nodes=3, min_impurity_decrease=0.25, min_samples_leaf=100, min_samples_split=2, min_weight_fraction_leaf=0.25;, score=(train=0.500, test=0.500) total time=  21.8s\n",
      "[CV 2/5] END max_depth=25, max_leaf_nodes=3, min_impurity_decrease=0.25, min_samples_leaf=100, min_samples_split=2, min_weight_fraction_leaf=0.25;, score=(train=0.500, test=0.500) total time=  22.0s\n",
      "[CV 3/5] END max_depth=25, max_leaf_nodes=3, min_impurity_decrease=0.25, min_samples_leaf=100, min_samples_split=2, min_weight_fraction_leaf=0.25;, score=(train=0.500, test=0.500) total time=  21.7s\n",
      "[CV 4/5] END max_depth=25, max_leaf_nodes=3, min_impurity_decrease=0.25, min_samples_leaf=100, min_samples_split=2, min_weight_fraction_leaf=0.25;, score=(train=0.500, test=0.500) total time=  22.0s\n",
      "[CV 5/5] END max_depth=25, max_leaf_nodes=3, min_impurity_decrease=0.25, min_samples_leaf=100, min_samples_split=2, min_weight_fraction_leaf=0.25;, score=(train=0.500, test=0.500) total time=  22.1s\n",
      "[CV 1/5] END max_depth=None, max_leaf_nodes=5, min_impurity_decrease=0.0, min_samples_leaf=1000, min_samples_split=1000, min_weight_fraction_leaf=0.0;, score=(train=0.833, test=0.831) total time=  44.5s\n",
      "[CV 2/5] END max_depth=None, max_leaf_nodes=5, min_impurity_decrease=0.0, min_samples_leaf=1000, min_samples_split=1000, min_weight_fraction_leaf=0.0;, score=(train=0.832, test=0.833) total time=  45.8s\n",
      "[CV 3/5] END max_depth=None, max_leaf_nodes=5, min_impurity_decrease=0.0, min_samples_leaf=1000, min_samples_split=1000, min_weight_fraction_leaf=0.0;, score=(train=0.832, test=0.831) total time=  44.8s\n",
      "[CV 4/5] END max_depth=None, max_leaf_nodes=5, min_impurity_decrease=0.0, min_samples_leaf=1000, min_samples_split=1000, min_weight_fraction_leaf=0.0;, score=(train=0.833, test=0.831) total time=  44.3s\n",
      "[CV 5/5] END max_depth=None, max_leaf_nodes=5, min_impurity_decrease=0.0, min_samples_leaf=1000, min_samples_split=1000, min_weight_fraction_leaf=0.0;, score=(train=0.833, test=0.835) total time=  44.8s\n",
      "[CV 1/5] END max_depth=50, max_leaf_nodes=2, min_impurity_decrease=0.25, min_samples_leaf=1000, min_samples_split=2, min_weight_fraction_leaf=0.0;, score=(train=0.500, test=0.500) total time=  22.1s\n",
      "[CV 2/5] END max_depth=50, max_leaf_nodes=2, min_impurity_decrease=0.25, min_samples_leaf=1000, min_samples_split=2, min_weight_fraction_leaf=0.0;, score=(train=0.500, test=0.500) total time=  22.1s\n",
      "[CV 3/5] END max_depth=50, max_leaf_nodes=2, min_impurity_decrease=0.25, min_samples_leaf=1000, min_samples_split=2, min_weight_fraction_leaf=0.0;, score=(train=0.500, test=0.500) total time=  21.8s\n",
      "[CV 4/5] END max_depth=50, max_leaf_nodes=2, min_impurity_decrease=0.25, min_samples_leaf=1000, min_samples_split=2, min_weight_fraction_leaf=0.0;, score=(train=0.500, test=0.500) total time=  21.9s\n",
      "[CV 5/5] END max_depth=50, max_leaf_nodes=2, min_impurity_decrease=0.25, min_samples_leaf=1000, min_samples_split=2, min_weight_fraction_leaf=0.0;, score=(train=0.500, test=0.500) total time=  22.1s\n",
      "[CV 1/5] END max_depth=25, max_leaf_nodes=3, min_impurity_decrease=0.75, min_samples_leaf=100, min_samples_split=2, min_weight_fraction_leaf=0.5;, score=(train=0.500, test=0.500) total time=  21.0s\n",
      "[CV 2/5] END max_depth=25, max_leaf_nodes=3, min_impurity_decrease=0.75, min_samples_leaf=100, min_samples_split=2, min_weight_fraction_leaf=0.5;, score=(train=0.500, test=0.500) total time=  20.9s\n",
      "[CV 3/5] END max_depth=25, max_leaf_nodes=3, min_impurity_decrease=0.75, min_samples_leaf=100, min_samples_split=2, min_weight_fraction_leaf=0.5;, score=(train=0.500, test=0.500) total time=  20.8s\n",
      "[CV 4/5] END max_depth=25, max_leaf_nodes=3, min_impurity_decrease=0.75, min_samples_leaf=100, min_samples_split=2, min_weight_fraction_leaf=0.5;, score=(train=0.500, test=0.500) total time=  20.5s\n",
      "[CV 5/5] END max_depth=25, max_leaf_nodes=3, min_impurity_decrease=0.75, min_samples_leaf=100, min_samples_split=2, min_weight_fraction_leaf=0.5;, score=(train=0.500, test=0.500) total time=  21.1s\n",
      "[CV 1/5] END max_depth=None, max_leaf_nodes=None, min_impurity_decrease=0.5, min_samples_leaf=1000, min_samples_split=50, min_weight_fraction_leaf=0.0;, score=(train=0.500, test=0.500) total time=  21.7s\n",
      "[CV 2/5] END max_depth=None, max_leaf_nodes=None, min_impurity_decrease=0.5, min_samples_leaf=1000, min_samples_split=50, min_weight_fraction_leaf=0.0;, score=(train=0.500, test=0.500) total time=  21.8s\n"
     ]
    },
    {
     "name": "stdout",
     "output_type": "stream",
     "text": [
      "[CV 3/5] END max_depth=None, max_leaf_nodes=None, min_impurity_decrease=0.5, min_samples_leaf=1000, min_samples_split=50, min_weight_fraction_leaf=0.0;, score=(train=0.500, test=0.500) total time=  22.0s\n",
      "[CV 4/5] END max_depth=None, max_leaf_nodes=None, min_impurity_decrease=0.5, min_samples_leaf=1000, min_samples_split=50, min_weight_fraction_leaf=0.0;, score=(train=0.500, test=0.500) total time=  22.2s\n",
      "[CV 5/5] END max_depth=None, max_leaf_nodes=None, min_impurity_decrease=0.5, min_samples_leaf=1000, min_samples_split=50, min_weight_fraction_leaf=0.0;, score=(train=0.500, test=0.500) total time=  22.0s\n",
      "[CV 1/5] END max_depth=50, max_leaf_nodes=10, min_impurity_decrease=0.75, min_samples_leaf=250, min_samples_split=50, min_weight_fraction_leaf=0.25;, score=(train=0.500, test=0.500) total time=  21.8s\n",
      "[CV 2/5] END max_depth=50, max_leaf_nodes=10, min_impurity_decrease=0.75, min_samples_leaf=250, min_samples_split=50, min_weight_fraction_leaf=0.25;, score=(train=0.500, test=0.500) total time=  22.4s\n",
      "[CV 3/5] END max_depth=50, max_leaf_nodes=10, min_impurity_decrease=0.75, min_samples_leaf=250, min_samples_split=50, min_weight_fraction_leaf=0.25;, score=(train=0.500, test=0.500) total time=  21.9s\n",
      "[CV 4/5] END max_depth=50, max_leaf_nodes=10, min_impurity_decrease=0.75, min_samples_leaf=250, min_samples_split=50, min_weight_fraction_leaf=0.25;, score=(train=0.500, test=0.500) total time=  21.7s\n",
      "[CV 5/5] END max_depth=50, max_leaf_nodes=10, min_impurity_decrease=0.75, min_samples_leaf=250, min_samples_split=50, min_weight_fraction_leaf=0.25;, score=(train=0.500, test=0.500) total time=  21.7s\n",
      "[CV 1/5] END max_depth=25, max_leaf_nodes=2, min_impurity_decrease=0.25, min_samples_leaf=100, min_samples_split=250, min_weight_fraction_leaf=0.0;, score=(train=0.500, test=0.500) total time=  22.2s\n",
      "[CV 2/5] END max_depth=25, max_leaf_nodes=2, min_impurity_decrease=0.25, min_samples_leaf=100, min_samples_split=250, min_weight_fraction_leaf=0.0;, score=(train=0.500, test=0.500) total time=  22.0s\n",
      "[CV 3/5] END max_depth=25, max_leaf_nodes=2, min_impurity_decrease=0.25, min_samples_leaf=100, min_samples_split=250, min_weight_fraction_leaf=0.0;, score=(train=0.500, test=0.500) total time=  22.3s\n",
      "[CV 4/5] END max_depth=25, max_leaf_nodes=2, min_impurity_decrease=0.25, min_samples_leaf=100, min_samples_split=250, min_weight_fraction_leaf=0.0;, score=(train=0.500, test=0.500) total time=  21.6s\n",
      "[CV 5/5] END max_depth=25, max_leaf_nodes=2, min_impurity_decrease=0.25, min_samples_leaf=100, min_samples_split=250, min_weight_fraction_leaf=0.0;, score=(train=0.500, test=0.500) total time=  21.9s\n",
      "[CV 1/5] END max_depth=None, max_leaf_nodes=2, min_impurity_decrease=0.5, min_samples_leaf=250, min_samples_split=100, min_weight_fraction_leaf=0.25;, score=(train=0.500, test=0.500) total time=  22.0s\n",
      "[CV 2/5] END max_depth=None, max_leaf_nodes=2, min_impurity_decrease=0.5, min_samples_leaf=250, min_samples_split=100, min_weight_fraction_leaf=0.25;, score=(train=0.500, test=0.500) total time=  21.9s\n",
      "[CV 3/5] END max_depth=None, max_leaf_nodes=2, min_impurity_decrease=0.5, min_samples_leaf=250, min_samples_split=100, min_weight_fraction_leaf=0.25;, score=(train=0.500, test=0.500) total time=  22.1s\n",
      "[CV 4/5] END max_depth=None, max_leaf_nodes=2, min_impurity_decrease=0.5, min_samples_leaf=250, min_samples_split=100, min_weight_fraction_leaf=0.25;, score=(train=0.500, test=0.500) total time=  21.9s\n",
      "[CV 5/5] END max_depth=None, max_leaf_nodes=2, min_impurity_decrease=0.5, min_samples_leaf=250, min_samples_split=100, min_weight_fraction_leaf=0.25;, score=(train=0.500, test=0.500) total time=  22.1s\n",
      "[CV 1/5] END max_depth=None, max_leaf_nodes=2, min_impurity_decrease=0.75, min_samples_leaf=250, min_samples_split=1000, min_weight_fraction_leaf=0.5;, score=(train=0.500, test=0.500) total time=  21.0s\n",
      "[CV 2/5] END max_depth=None, max_leaf_nodes=2, min_impurity_decrease=0.75, min_samples_leaf=250, min_samples_split=1000, min_weight_fraction_leaf=0.5;, score=(train=0.500, test=0.500) total time=  20.7s\n",
      "[CV 3/5] END max_depth=None, max_leaf_nodes=2, min_impurity_decrease=0.75, min_samples_leaf=250, min_samples_split=1000, min_weight_fraction_leaf=0.5;, score=(train=0.500, test=0.500) total time=  20.8s\n",
      "[CV 4/5] END max_depth=None, max_leaf_nodes=2, min_impurity_decrease=0.75, min_samples_leaf=250, min_samples_split=1000, min_weight_fraction_leaf=0.5;, score=(train=0.500, test=0.500) total time=  20.9s\n",
      "[CV 5/5] END max_depth=None, max_leaf_nodes=2, min_impurity_decrease=0.75, min_samples_leaf=250, min_samples_split=1000, min_weight_fraction_leaf=0.5;, score=(train=0.500, test=0.500) total time=  21.3s\n",
      "[CV 1/5] END max_depth=50, max_leaf_nodes=3, min_impurity_decrease=0.25, min_samples_leaf=50, min_samples_split=100, min_weight_fraction_leaf=0.0;, score=(train=0.500, test=0.500) total time=  22.0s\n",
      "[CV 2/5] END max_depth=50, max_leaf_nodes=3, min_impurity_decrease=0.25, min_samples_leaf=50, min_samples_split=100, min_weight_fraction_leaf=0.0;, score=(train=0.500, test=0.500) total time=  22.3s\n",
      "[CV 3/5] END max_depth=50, max_leaf_nodes=3, min_impurity_decrease=0.25, min_samples_leaf=50, min_samples_split=100, min_weight_fraction_leaf=0.0;, score=(train=0.500, test=0.500) total time=  22.0s\n",
      "[CV 4/5] END max_depth=50, max_leaf_nodes=3, min_impurity_decrease=0.25, min_samples_leaf=50, min_samples_split=100, min_weight_fraction_leaf=0.0;, score=(train=0.500, test=0.500) total time=  21.9s\n",
      "[CV 5/5] END max_depth=50, max_leaf_nodes=3, min_impurity_decrease=0.25, min_samples_leaf=50, min_samples_split=100, min_weight_fraction_leaf=0.0;, score=(train=0.500, test=0.500) total time=  22.2s\n",
      "[CV 1/5] END max_depth=75, max_leaf_nodes=10, min_impurity_decrease=0.0, min_samples_leaf=100, min_samples_split=1000, min_weight_fraction_leaf=0.25;, score=(train=0.822, test=0.819) total time=  29.1s\n",
      "[CV 2/5] END max_depth=75, max_leaf_nodes=10, min_impurity_decrease=0.0, min_samples_leaf=100, min_samples_split=1000, min_weight_fraction_leaf=0.25;, score=(train=0.821, test=0.822) total time=  29.1s\n",
      "[CV 3/5] END max_depth=75, max_leaf_nodes=10, min_impurity_decrease=0.0, min_samples_leaf=100, min_samples_split=1000, min_weight_fraction_leaf=0.25;, score=(train=0.821, test=0.822) total time=  29.1s\n",
      "[CV 4/5] END max_depth=75, max_leaf_nodes=10, min_impurity_decrease=0.0, min_samples_leaf=100, min_samples_split=1000, min_weight_fraction_leaf=0.25;, score=(train=0.822, test=0.820) total time=  29.2s\n",
      "[CV 5/5] END max_depth=75, max_leaf_nodes=10, min_impurity_decrease=0.0, min_samples_leaf=100, min_samples_split=1000, min_weight_fraction_leaf=0.25;, score=(train=0.820, test=0.823) total time=  29.0s\n",
      "[CV 1/5] END max_depth=12, max_leaf_nodes=None, min_impurity_decrease=0.75, min_samples_leaf=250, min_samples_split=50, min_weight_fraction_leaf=0.0;, score=(train=0.500, test=0.500) total time=  22.1s\n",
      "[CV 2/5] END max_depth=12, max_leaf_nodes=None, min_impurity_decrease=0.75, min_samples_leaf=250, min_samples_split=50, min_weight_fraction_leaf=0.0;, score=(train=0.500, test=0.500) total time=  21.9s\n",
      "[CV 3/5] END max_depth=12, max_leaf_nodes=None, min_impurity_decrease=0.75, min_samples_leaf=250, min_samples_split=50, min_weight_fraction_leaf=0.0;, score=(train=0.500, test=0.500) total time=  21.8s\n",
      "[CV 4/5] END max_depth=12, max_leaf_nodes=None, min_impurity_decrease=0.75, min_samples_leaf=250, min_samples_split=50, min_weight_fraction_leaf=0.0;, score=(train=0.500, test=0.500) total time=  21.7s\n",
      "[CV 5/5] END max_depth=12, max_leaf_nodes=None, min_impurity_decrease=0.75, min_samples_leaf=250, min_samples_split=50, min_weight_fraction_leaf=0.0;, score=(train=0.500, test=0.500) total time=  22.0s\n",
      "[CV 1/5] END max_depth=12, max_leaf_nodes=10, min_impurity_decrease=0.5, min_samples_leaf=250, min_samples_split=50, min_weight_fraction_leaf=0.5;, score=(train=0.500, test=0.500) total time=  20.5s\n",
      "[CV 2/5] END max_depth=12, max_leaf_nodes=10, min_impurity_decrease=0.5, min_samples_leaf=250, min_samples_split=50, min_weight_fraction_leaf=0.5;, score=(train=0.500, test=0.500) total time=  20.9s\n",
      "[CV 3/5] END max_depth=12, max_leaf_nodes=10, min_impurity_decrease=0.5, min_samples_leaf=250, min_samples_split=50, min_weight_fraction_leaf=0.5;, score=(train=0.500, test=0.500) total time=  20.7s\n"
     ]
    },
    {
     "name": "stdout",
     "output_type": "stream",
     "text": [
      "[CV 4/5] END max_depth=12, max_leaf_nodes=10, min_impurity_decrease=0.5, min_samples_leaf=250, min_samples_split=50, min_weight_fraction_leaf=0.5;, score=(train=0.500, test=0.500) total time=  20.6s\n",
      "[CV 5/5] END max_depth=12, max_leaf_nodes=10, min_impurity_decrease=0.5, min_samples_leaf=250, min_samples_split=50, min_weight_fraction_leaf=0.5;, score=(train=0.500, test=0.500) total time=  20.7s\n",
      "[CV 1/5] END max_depth=75, max_leaf_nodes=10, min_impurity_decrease=0.25, min_samples_leaf=1000, min_samples_split=2, min_weight_fraction_leaf=0.0;, score=(train=0.500, test=0.500) total time=  21.9s\n",
      "[CV 2/5] END max_depth=75, max_leaf_nodes=10, min_impurity_decrease=0.25, min_samples_leaf=1000, min_samples_split=2, min_weight_fraction_leaf=0.0;, score=(train=0.500, test=0.500) total time=  22.0s\n",
      "[CV 3/5] END max_depth=75, max_leaf_nodes=10, min_impurity_decrease=0.25, min_samples_leaf=1000, min_samples_split=2, min_weight_fraction_leaf=0.0;, score=(train=0.500, test=0.500) total time=  21.9s\n",
      "[CV 4/5] END max_depth=75, max_leaf_nodes=10, min_impurity_decrease=0.25, min_samples_leaf=1000, min_samples_split=2, min_weight_fraction_leaf=0.0;, score=(train=0.500, test=0.500) total time=  21.9s\n",
      "[CV 5/5] END max_depth=75, max_leaf_nodes=10, min_impurity_decrease=0.25, min_samples_leaf=1000, min_samples_split=2, min_weight_fraction_leaf=0.0;, score=(train=0.500, test=0.500) total time=  21.9s\n",
      "[CV 1/5] END max_depth=12, max_leaf_nodes=5, min_impurity_decrease=0.5, min_samples_leaf=250, min_samples_split=100, min_weight_fraction_leaf=0.25;, score=(train=0.500, test=0.500) total time=  21.7s\n",
      "[CV 2/5] END max_depth=12, max_leaf_nodes=5, min_impurity_decrease=0.5, min_samples_leaf=250, min_samples_split=100, min_weight_fraction_leaf=0.25;, score=(train=0.500, test=0.500) total time=  22.3s\n",
      "[CV 3/5] END max_depth=12, max_leaf_nodes=5, min_impurity_decrease=0.5, min_samples_leaf=250, min_samples_split=100, min_weight_fraction_leaf=0.25;, score=(train=0.500, test=0.500) total time=  21.9s\n",
      "[CV 4/5] END max_depth=12, max_leaf_nodes=5, min_impurity_decrease=0.5, min_samples_leaf=250, min_samples_split=100, min_weight_fraction_leaf=0.25;, score=(train=0.500, test=0.500) total time=  21.7s\n",
      "[CV 5/5] END max_depth=12, max_leaf_nodes=5, min_impurity_decrease=0.5, min_samples_leaf=250, min_samples_split=100, min_weight_fraction_leaf=0.25;, score=(train=0.500, test=0.500) total time=  22.1s\n",
      "[CV 1/5] END max_depth=25, max_leaf_nodes=10, min_impurity_decrease=0.25, min_samples_leaf=100, min_samples_split=100, min_weight_fraction_leaf=0.25;, score=(train=0.500, test=0.500) total time=  21.9s\n",
      "[CV 2/5] END max_depth=25, max_leaf_nodes=10, min_impurity_decrease=0.25, min_samples_leaf=100, min_samples_split=100, min_weight_fraction_leaf=0.25;, score=(train=0.500, test=0.500) total time=  22.0s\n",
      "[CV 3/5] END max_depth=25, max_leaf_nodes=10, min_impurity_decrease=0.25, min_samples_leaf=100, min_samples_split=100, min_weight_fraction_leaf=0.25;, score=(train=0.500, test=0.500) total time=  22.1s\n",
      "[CV 4/5] END max_depth=25, max_leaf_nodes=10, min_impurity_decrease=0.25, min_samples_leaf=100, min_samples_split=100, min_weight_fraction_leaf=0.25;, score=(train=0.500, test=0.500) total time=  21.5s\n",
      "[CV 5/5] END max_depth=25, max_leaf_nodes=10, min_impurity_decrease=0.25, min_samples_leaf=100, min_samples_split=100, min_weight_fraction_leaf=0.25;, score=(train=0.500, test=0.500) total time=  22.0s\n",
      "[CV 1/5] END max_depth=12, max_leaf_nodes=None, min_impurity_decrease=0.75, min_samples_leaf=100, min_samples_split=250, min_weight_fraction_leaf=0.5;, score=(train=0.500, test=0.500) total time=  20.6s\n",
      "[CV 2/5] END max_depth=12, max_leaf_nodes=None, min_impurity_decrease=0.75, min_samples_leaf=100, min_samples_split=250, min_weight_fraction_leaf=0.5;, score=(train=0.500, test=0.500) total time=  20.7s\n",
      "[CV 3/5] END max_depth=12, max_leaf_nodes=None, min_impurity_decrease=0.75, min_samples_leaf=100, min_samples_split=250, min_weight_fraction_leaf=0.5;, score=(train=0.500, test=0.500) total time=  23.1s\n",
      "[CV 4/5] END max_depth=12, max_leaf_nodes=None, min_impurity_decrease=0.75, min_samples_leaf=100, min_samples_split=250, min_weight_fraction_leaf=0.5;, score=(train=0.500, test=0.500) total time=  20.6s\n",
      "[CV 5/5] END max_depth=12, max_leaf_nodes=None, min_impurity_decrease=0.75, min_samples_leaf=100, min_samples_split=250, min_weight_fraction_leaf=0.5;, score=(train=0.500, test=0.500) total time=  20.6s\n",
      "[CV 1/5] END max_depth=50, max_leaf_nodes=10, min_impurity_decrease=0.75, min_samples_leaf=100, min_samples_split=1000, min_weight_fraction_leaf=0.0;, score=(train=0.500, test=0.500) total time=  21.8s\n",
      "[CV 2/5] END max_depth=50, max_leaf_nodes=10, min_impurity_decrease=0.75, min_samples_leaf=100, min_samples_split=1000, min_weight_fraction_leaf=0.0;, score=(train=0.500, test=0.500) total time=  22.0s\n",
      "[CV 3/5] END max_depth=50, max_leaf_nodes=10, min_impurity_decrease=0.75, min_samples_leaf=100, min_samples_split=1000, min_weight_fraction_leaf=0.0;, score=(train=0.500, test=0.500) total time=  22.1s\n",
      "[CV 4/5] END max_depth=50, max_leaf_nodes=10, min_impurity_decrease=0.75, min_samples_leaf=100, min_samples_split=1000, min_weight_fraction_leaf=0.0;, score=(train=0.500, test=0.500) total time=  21.8s\n",
      "[CV 5/5] END max_depth=50, max_leaf_nodes=10, min_impurity_decrease=0.75, min_samples_leaf=100, min_samples_split=1000, min_weight_fraction_leaf=0.0;, score=(train=0.500, test=0.500) total time=  22.2s\n",
      "[CV 1/5] END max_depth=50, max_leaf_nodes=None, min_impurity_decrease=0.0, min_samples_leaf=1, min_samples_split=1000, min_weight_fraction_leaf=0.25;, score=(train=0.822, test=0.819) total time=  28.8s\n",
      "[CV 2/5] END max_depth=50, max_leaf_nodes=None, min_impurity_decrease=0.0, min_samples_leaf=1, min_samples_split=1000, min_weight_fraction_leaf=0.25;, score=(train=0.821, test=0.822) total time=  28.9s\n",
      "[CV 3/5] END max_depth=50, max_leaf_nodes=None, min_impurity_decrease=0.0, min_samples_leaf=1, min_samples_split=1000, min_weight_fraction_leaf=0.25;, score=(train=0.821, test=0.822) total time=  28.9s\n",
      "[CV 4/5] END max_depth=50, max_leaf_nodes=None, min_impurity_decrease=0.0, min_samples_leaf=1, min_samples_split=1000, min_weight_fraction_leaf=0.25;, score=(train=0.822, test=0.820) total time=  29.4s\n",
      "[CV 5/5] END max_depth=50, max_leaf_nodes=None, min_impurity_decrease=0.0, min_samples_leaf=1, min_samples_split=1000, min_weight_fraction_leaf=0.25;, score=(train=0.820, test=0.823) total time=  29.0s\n",
      "[CV 1/5] END max_depth=None, max_leaf_nodes=2, min_impurity_decrease=0.0, min_samples_leaf=1000, min_samples_split=250, min_weight_fraction_leaf=0.0;, score=(train=0.780, test=0.779) total time=  31.6s\n",
      "[CV 2/5] END max_depth=None, max_leaf_nodes=2, min_impurity_decrease=0.0, min_samples_leaf=1000, min_samples_split=250, min_weight_fraction_leaf=0.0;, score=(train=0.780, test=0.782) total time=  31.9s\n",
      "[CV 3/5] END max_depth=None, max_leaf_nodes=2, min_impurity_decrease=0.0, min_samples_leaf=1000, min_samples_split=250, min_weight_fraction_leaf=0.0;, score=(train=0.780, test=0.781) total time=  31.8s\n",
      "[CV 4/5] END max_depth=None, max_leaf_nodes=2, min_impurity_decrease=0.0, min_samples_leaf=1000, min_samples_split=250, min_weight_fraction_leaf=0.0;, score=(train=0.779, test=0.776) total time=  31.6s\n",
      "[CV 5/5] END max_depth=None, max_leaf_nodes=2, min_impurity_decrease=0.0, min_samples_leaf=1000, min_samples_split=250, min_weight_fraction_leaf=0.0;, score=(train=0.780, test=0.781) total time=  32.2s\n",
      "[CV 1/5] END max_depth=75, max_leaf_nodes=None, min_impurity_decrease=0.0, min_samples_leaf=250, min_samples_split=1000, min_weight_fraction_leaf=0.25;, score=(train=0.822, test=0.819) total time=  28.8s\n",
      "[CV 2/5] END max_depth=75, max_leaf_nodes=None, min_impurity_decrease=0.0, min_samples_leaf=250, min_samples_split=1000, min_weight_fraction_leaf=0.25;, score=(train=0.821, test=0.822) total time=  29.1s\n",
      "[CV 3/5] END max_depth=75, max_leaf_nodes=None, min_impurity_decrease=0.0, min_samples_leaf=250, min_samples_split=1000, min_weight_fraction_leaf=0.25;, score=(train=0.821, test=0.822) total time=  29.0s\n",
      "[CV 4/5] END max_depth=75, max_leaf_nodes=None, min_impurity_decrease=0.0, min_samples_leaf=250, min_samples_split=1000, min_weight_fraction_leaf=0.25;, score=(train=0.822, test=0.820) total time=  28.6s\n"
     ]
    },
    {
     "name": "stdout",
     "output_type": "stream",
     "text": [
      "[CV 5/5] END max_depth=75, max_leaf_nodes=None, min_impurity_decrease=0.0, min_samples_leaf=250, min_samples_split=1000, min_weight_fraction_leaf=0.25;, score=(train=0.820, test=0.823) total time=  29.0s\n",
      "[CV 1/5] END max_depth=75, max_leaf_nodes=None, min_impurity_decrease=0.0, min_samples_leaf=250, min_samples_split=1000, min_weight_fraction_leaf=0.0;, score=(train=0.894, test=0.892) total time= 1.5min\n",
      "[CV 2/5] END max_depth=75, max_leaf_nodes=None, min_impurity_decrease=0.0, min_samples_leaf=250, min_samples_split=1000, min_weight_fraction_leaf=0.0;, score=(train=0.893, test=0.894) total time= 1.5min\n",
      "[CV 3/5] END max_depth=75, max_leaf_nodes=None, min_impurity_decrease=0.0, min_samples_leaf=250, min_samples_split=1000, min_weight_fraction_leaf=0.0;, score=(train=0.892, test=0.890) total time= 1.5min\n",
      "[CV 4/5] END max_depth=75, max_leaf_nodes=None, min_impurity_decrease=0.0, min_samples_leaf=250, min_samples_split=1000, min_weight_fraction_leaf=0.0;, score=(train=0.894, test=0.890) total time= 1.5min\n",
      "[CV 5/5] END max_depth=75, max_leaf_nodes=None, min_impurity_decrease=0.0, min_samples_leaf=250, min_samples_split=1000, min_weight_fraction_leaf=0.0;, score=(train=0.893, test=0.894) total time= 1.5min\n",
      "[CV 1/5] END max_depth=25, max_leaf_nodes=2, min_impurity_decrease=0.25, min_samples_leaf=100, min_samples_split=1000, min_weight_fraction_leaf=0.5;, score=(train=0.500, test=0.500) total time=  20.8s\n",
      "[CV 2/5] END max_depth=25, max_leaf_nodes=2, min_impurity_decrease=0.25, min_samples_leaf=100, min_samples_split=1000, min_weight_fraction_leaf=0.5;, score=(train=0.500, test=0.500) total time=  20.9s\n",
      "[CV 3/5] END max_depth=25, max_leaf_nodes=2, min_impurity_decrease=0.25, min_samples_leaf=100, min_samples_split=1000, min_weight_fraction_leaf=0.5;, score=(train=0.500, test=0.500) total time=  22.3s\n",
      "[CV 4/5] END max_depth=25, max_leaf_nodes=2, min_impurity_decrease=0.25, min_samples_leaf=100, min_samples_split=1000, min_weight_fraction_leaf=0.5;, score=(train=0.500, test=0.500) total time=  20.3s\n",
      "[CV 5/5] END max_depth=25, max_leaf_nodes=2, min_impurity_decrease=0.25, min_samples_leaf=100, min_samples_split=1000, min_weight_fraction_leaf=0.5;, score=(train=0.500, test=0.500) total time=  20.6s\n",
      "[CV 1/5] END max_depth=None, max_leaf_nodes=5, min_impurity_decrease=0.25, min_samples_leaf=1, min_samples_split=100, min_weight_fraction_leaf=0.25;, score=(train=0.500, test=0.500) total time=  21.7s\n",
      "[CV 2/5] END max_depth=None, max_leaf_nodes=5, min_impurity_decrease=0.25, min_samples_leaf=1, min_samples_split=100, min_weight_fraction_leaf=0.25;, score=(train=0.500, test=0.500) total time=  21.7s\n",
      "[CV 3/5] END max_depth=None, max_leaf_nodes=5, min_impurity_decrease=0.25, min_samples_leaf=1, min_samples_split=100, min_weight_fraction_leaf=0.25;, score=(train=0.500, test=0.500) total time=  21.7s\n",
      "[CV 4/5] END max_depth=None, max_leaf_nodes=5, min_impurity_decrease=0.25, min_samples_leaf=1, min_samples_split=100, min_weight_fraction_leaf=0.25;, score=(train=0.500, test=0.500) total time=  22.5s\n",
      "[CV 5/5] END max_depth=None, max_leaf_nodes=5, min_impurity_decrease=0.25, min_samples_leaf=1, min_samples_split=100, min_weight_fraction_leaf=0.25;, score=(train=0.500, test=0.500) total time=  21.7s\n",
      "[CV 1/5] END max_depth=12, max_leaf_nodes=5, min_impurity_decrease=0.25, min_samples_leaf=50, min_samples_split=1000, min_weight_fraction_leaf=0.0;, score=(train=0.500, test=0.500) total time=  21.6s\n",
      "[CV 2/5] END max_depth=12, max_leaf_nodes=5, min_impurity_decrease=0.25, min_samples_leaf=50, min_samples_split=1000, min_weight_fraction_leaf=0.0;, score=(train=0.500, test=0.500) total time=  21.8s\n",
      "[CV 3/5] END max_depth=12, max_leaf_nodes=5, min_impurity_decrease=0.25, min_samples_leaf=50, min_samples_split=1000, min_weight_fraction_leaf=0.0;, score=(train=0.500, test=0.500) total time=  22.0s\n",
      "[CV 4/5] END max_depth=12, max_leaf_nodes=5, min_impurity_decrease=0.25, min_samples_leaf=50, min_samples_split=1000, min_weight_fraction_leaf=0.0;, score=(train=0.500, test=0.500) total time=  21.6s\n",
      "[CV 5/5] END max_depth=12, max_leaf_nodes=5, min_impurity_decrease=0.25, min_samples_leaf=50, min_samples_split=1000, min_weight_fraction_leaf=0.0;, score=(train=0.500, test=0.500) total time=  21.9s\n",
      "[CV 1/5] END max_depth=25, max_leaf_nodes=None, min_impurity_decrease=0.0, min_samples_leaf=50, min_samples_split=2, min_weight_fraction_leaf=0.5;, score=(train=0.657, test=0.658) total time=  20.8s\n",
      "[CV 2/5] END max_depth=25, max_leaf_nodes=None, min_impurity_decrease=0.0, min_samples_leaf=50, min_samples_split=2, min_weight_fraction_leaf=0.5;, score=(train=0.657, test=0.658) total time=  20.8s\n",
      "[CV 3/5] END max_depth=25, max_leaf_nodes=None, min_impurity_decrease=0.0, min_samples_leaf=50, min_samples_split=2, min_weight_fraction_leaf=0.5;, score=(train=0.658, test=0.656) total time=  21.0s\n",
      "[CV 4/5] END max_depth=25, max_leaf_nodes=None, min_impurity_decrease=0.0, min_samples_leaf=50, min_samples_split=2, min_weight_fraction_leaf=0.5;, score=(train=0.657, test=0.657) total time=  20.6s\n",
      "[CV 5/5] END max_depth=25, max_leaf_nodes=None, min_impurity_decrease=0.0, min_samples_leaf=50, min_samples_split=2, min_weight_fraction_leaf=0.5;, score=(train=0.657, test=0.658) total time=  21.1s\n",
      "[CV 1/5] END max_depth=None, max_leaf_nodes=5, min_impurity_decrease=0.75, min_samples_leaf=1, min_samples_split=1000, min_weight_fraction_leaf=0.0;, score=(train=0.500, test=0.500) total time=  21.9s\n",
      "[CV 2/5] END max_depth=None, max_leaf_nodes=5, min_impurity_decrease=0.75, min_samples_leaf=1, min_samples_split=1000, min_weight_fraction_leaf=0.0;, score=(train=0.500, test=0.500) total time=  21.9s\n",
      "[CV 3/5] END max_depth=None, max_leaf_nodes=5, min_impurity_decrease=0.75, min_samples_leaf=1, min_samples_split=1000, min_weight_fraction_leaf=0.0;, score=(train=0.500, test=0.500) total time=  21.8s\n",
      "[CV 4/5] END max_depth=None, max_leaf_nodes=5, min_impurity_decrease=0.75, min_samples_leaf=1, min_samples_split=1000, min_weight_fraction_leaf=0.0;, score=(train=0.500, test=0.500) total time=  21.8s\n",
      "[CV 5/5] END max_depth=None, max_leaf_nodes=5, min_impurity_decrease=0.75, min_samples_leaf=1, min_samples_split=1000, min_weight_fraction_leaf=0.0;, score=(train=0.500, test=0.500) total time=  22.0s\n",
      "[CV 1/5] END max_depth=None, max_leaf_nodes=2, min_impurity_decrease=0.75, min_samples_leaf=100, min_samples_split=50, min_weight_fraction_leaf=0.0;, score=(train=0.500, test=0.500) total time=  23.4s\n",
      "[CV 2/5] END max_depth=None, max_leaf_nodes=2, min_impurity_decrease=0.75, min_samples_leaf=100, min_samples_split=50, min_weight_fraction_leaf=0.0;, score=(train=0.500, test=0.500) total time=  22.4s\n",
      "[CV 3/5] END max_depth=None, max_leaf_nodes=2, min_impurity_decrease=0.75, min_samples_leaf=100, min_samples_split=50, min_weight_fraction_leaf=0.0;, score=(train=0.500, test=0.500) total time=  22.4s\n",
      "[CV 4/5] END max_depth=None, max_leaf_nodes=2, min_impurity_decrease=0.75, min_samples_leaf=100, min_samples_split=50, min_weight_fraction_leaf=0.0;, score=(train=0.500, test=0.500) total time=  22.0s\n",
      "[CV 5/5] END max_depth=None, max_leaf_nodes=2, min_impurity_decrease=0.75, min_samples_leaf=100, min_samples_split=50, min_weight_fraction_leaf=0.0;, score=(train=0.500, test=0.500) total time=  21.9s\n",
      "[CV 1/5] END max_depth=None, max_leaf_nodes=3, min_impurity_decrease=0.5, min_samples_leaf=1, min_samples_split=2, min_weight_fraction_leaf=0.25;, score=(train=0.500, test=0.500) total time=  22.3s\n",
      "[CV 2/5] END max_depth=None, max_leaf_nodes=3, min_impurity_decrease=0.5, min_samples_leaf=1, min_samples_split=2, min_weight_fraction_leaf=0.25;, score=(train=0.500, test=0.500) total time=  22.0s\n",
      "[CV 3/5] END max_depth=None, max_leaf_nodes=3, min_impurity_decrease=0.5, min_samples_leaf=1, min_samples_split=2, min_weight_fraction_leaf=0.25;, score=(train=0.500, test=0.500) total time=  22.0s\n",
      "[CV 4/5] END max_depth=None, max_leaf_nodes=3, min_impurity_decrease=0.5, min_samples_leaf=1, min_samples_split=2, min_weight_fraction_leaf=0.25;, score=(train=0.500, test=0.500) total time=  21.8s\n",
      "[CV 5/5] END max_depth=None, max_leaf_nodes=3, min_impurity_decrease=0.5, min_samples_leaf=1, min_samples_split=2, min_weight_fraction_leaf=0.25;, score=(train=0.500, test=0.500) total time=  22.5s\n"
     ]
    },
    {
     "name": "stdout",
     "output_type": "stream",
     "text": [
      "[CV 1/5] END max_depth=25, max_leaf_nodes=5, min_impurity_decrease=0.0, min_samples_leaf=250, min_samples_split=50, min_weight_fraction_leaf=0.0;, score=(train=0.833, test=0.831) total time=  45.0s\n",
      "[CV 2/5] END max_depth=25, max_leaf_nodes=5, min_impurity_decrease=0.0, min_samples_leaf=250, min_samples_split=50, min_weight_fraction_leaf=0.0;, score=(train=0.831, test=0.833) total time=  44.9s\n",
      "[CV 3/5] END max_depth=25, max_leaf_nodes=5, min_impurity_decrease=0.0, min_samples_leaf=250, min_samples_split=50, min_weight_fraction_leaf=0.0;, score=(train=0.832, test=0.831) total time=  45.1s\n",
      "[CV 4/5] END max_depth=25, max_leaf_nodes=5, min_impurity_decrease=0.0, min_samples_leaf=250, min_samples_split=50, min_weight_fraction_leaf=0.0;, score=(train=0.833, test=0.832) total time=  44.3s\n",
      "[CV 5/5] END max_depth=25, max_leaf_nodes=5, min_impurity_decrease=0.0, min_samples_leaf=250, min_samples_split=50, min_weight_fraction_leaf=0.0;, score=(train=0.833, test=0.835) total time=  44.7s\n",
      "[CV 1/5] END max_depth=None, max_leaf_nodes=None, min_impurity_decrease=0.25, min_samples_leaf=250, min_samples_split=100, min_weight_fraction_leaf=0.0;, score=(train=0.500, test=0.500) total time=  22.1s\n",
      "[CV 2/5] END max_depth=None, max_leaf_nodes=None, min_impurity_decrease=0.25, min_samples_leaf=250, min_samples_split=100, min_weight_fraction_leaf=0.0;, score=(train=0.500, test=0.500) total time=  22.0s\n",
      "[CV 3/5] END max_depth=None, max_leaf_nodes=None, min_impurity_decrease=0.25, min_samples_leaf=250, min_samples_split=100, min_weight_fraction_leaf=0.0;, score=(train=0.500, test=0.500) total time=  22.1s\n",
      "[CV 4/5] END max_depth=None, max_leaf_nodes=None, min_impurity_decrease=0.25, min_samples_leaf=250, min_samples_split=100, min_weight_fraction_leaf=0.0;, score=(train=0.500, test=0.500) total time=  22.0s\n",
      "[CV 5/5] END max_depth=None, max_leaf_nodes=None, min_impurity_decrease=0.25, min_samples_leaf=250, min_samples_split=100, min_weight_fraction_leaf=0.0;, score=(train=0.500, test=0.500) total time=  22.0s\n",
      "[CV 1/5] END max_depth=None, max_leaf_nodes=None, min_impurity_decrease=0.75, min_samples_leaf=1, min_samples_split=2, min_weight_fraction_leaf=0.5;, score=(train=0.500, test=0.500) total time=  21.0s\n",
      "[CV 2/5] END max_depth=None, max_leaf_nodes=None, min_impurity_decrease=0.75, min_samples_leaf=1, min_samples_split=2, min_weight_fraction_leaf=0.5;, score=(train=0.500, test=0.500) total time=  20.8s\n",
      "[CV 3/5] END max_depth=None, max_leaf_nodes=None, min_impurity_decrease=0.75, min_samples_leaf=1, min_samples_split=2, min_weight_fraction_leaf=0.5;, score=(train=0.500, test=0.500) total time=  21.1s\n",
      "[CV 4/5] END max_depth=None, max_leaf_nodes=None, min_impurity_decrease=0.75, min_samples_leaf=1, min_samples_split=2, min_weight_fraction_leaf=0.5;, score=(train=0.500, test=0.500) total time=  21.4s\n",
      "[CV 5/5] END max_depth=None, max_leaf_nodes=None, min_impurity_decrease=0.75, min_samples_leaf=1, min_samples_split=2, min_weight_fraction_leaf=0.5;, score=(train=0.500, test=0.500) total time=  21.1s\n",
      "[CV 1/5] END max_depth=None, max_leaf_nodes=None, min_impurity_decrease=0.25, min_samples_leaf=1, min_samples_split=1000, min_weight_fraction_leaf=0.5;, score=(train=0.500, test=0.500) total time=  21.1s\n",
      "[CV 2/5] END max_depth=None, max_leaf_nodes=None, min_impurity_decrease=0.25, min_samples_leaf=1, min_samples_split=1000, min_weight_fraction_leaf=0.5;, score=(train=0.500, test=0.500) total time=  21.0s\n",
      "[CV 3/5] END max_depth=None, max_leaf_nodes=None, min_impurity_decrease=0.25, min_samples_leaf=1, min_samples_split=1000, min_weight_fraction_leaf=0.5;, score=(train=0.500, test=0.500) total time=  21.1s\n",
      "[CV 4/5] END max_depth=None, max_leaf_nodes=None, min_impurity_decrease=0.25, min_samples_leaf=1, min_samples_split=1000, min_weight_fraction_leaf=0.5;, score=(train=0.500, test=0.500) total time=  21.0s\n",
      "[CV 5/5] END max_depth=None, max_leaf_nodes=None, min_impurity_decrease=0.25, min_samples_leaf=1, min_samples_split=1000, min_weight_fraction_leaf=0.5;, score=(train=0.500, test=0.500) total time=  20.8s\n",
      "[CV 1/5] END max_depth=25, max_leaf_nodes=5, min_impurity_decrease=0.75, min_samples_leaf=1000, min_samples_split=250, min_weight_fraction_leaf=0.0;, score=(train=0.500, test=0.500) total time=  21.9s\n",
      "[CV 2/5] END max_depth=25, max_leaf_nodes=5, min_impurity_decrease=0.75, min_samples_leaf=1000, min_samples_split=250, min_weight_fraction_leaf=0.0;, score=(train=0.500, test=0.500) total time=  22.0s\n",
      "[CV 3/5] END max_depth=25, max_leaf_nodes=5, min_impurity_decrease=0.75, min_samples_leaf=1000, min_samples_split=250, min_weight_fraction_leaf=0.0;, score=(train=0.500, test=0.500) total time=  22.1s\n",
      "[CV 4/5] END max_depth=25, max_leaf_nodes=5, min_impurity_decrease=0.75, min_samples_leaf=1000, min_samples_split=250, min_weight_fraction_leaf=0.0;, score=(train=0.500, test=0.500) total time=  21.9s\n",
      "[CV 5/5] END max_depth=25, max_leaf_nodes=5, min_impurity_decrease=0.75, min_samples_leaf=1000, min_samples_split=250, min_weight_fraction_leaf=0.0;, score=(train=0.500, test=0.500) total time=  22.1s\n",
      "[CV 1/5] END max_depth=25, max_leaf_nodes=None, min_impurity_decrease=0.25, min_samples_leaf=250, min_samples_split=100, min_weight_fraction_leaf=0.0;, score=(train=0.500, test=0.500) total time=  22.0s\n",
      "[CV 2/5] END max_depth=25, max_leaf_nodes=None, min_impurity_decrease=0.25, min_samples_leaf=250, min_samples_split=100, min_weight_fraction_leaf=0.0;, score=(train=0.500, test=0.500) total time=  22.1s\n",
      "[CV 3/5] END max_depth=25, max_leaf_nodes=None, min_impurity_decrease=0.25, min_samples_leaf=250, min_samples_split=100, min_weight_fraction_leaf=0.0;, score=(train=0.500, test=0.500) total time=  22.1s\n",
      "[CV 4/5] END max_depth=25, max_leaf_nodes=None, min_impurity_decrease=0.25, min_samples_leaf=250, min_samples_split=100, min_weight_fraction_leaf=0.0;, score=(train=0.500, test=0.500) total time=  21.9s\n",
      "[CV 5/5] END max_depth=25, max_leaf_nodes=None, min_impurity_decrease=0.25, min_samples_leaf=250, min_samples_split=100, min_weight_fraction_leaf=0.0;, score=(train=0.500, test=0.500) total time=  21.9s\n",
      "[CV 1/5] END max_depth=12, max_leaf_nodes=None, min_impurity_decrease=0.75, min_samples_leaf=50, min_samples_split=2, min_weight_fraction_leaf=0.25;, score=(train=0.500, test=0.500) total time=  21.9s\n",
      "[CV 2/5] END max_depth=12, max_leaf_nodes=None, min_impurity_decrease=0.75, min_samples_leaf=50, min_samples_split=2, min_weight_fraction_leaf=0.25;, score=(train=0.500, test=0.500) total time=  22.1s\n",
      "[CV 3/5] END max_depth=12, max_leaf_nodes=None, min_impurity_decrease=0.75, min_samples_leaf=50, min_samples_split=2, min_weight_fraction_leaf=0.25;, score=(train=0.500, test=0.500) total time=  22.0s\n",
      "[CV 4/5] END max_depth=12, max_leaf_nodes=None, min_impurity_decrease=0.75, min_samples_leaf=50, min_samples_split=2, min_weight_fraction_leaf=0.25;, score=(train=0.500, test=0.500) total time=  22.8s\n",
      "[CV 5/5] END max_depth=12, max_leaf_nodes=None, min_impurity_decrease=0.75, min_samples_leaf=50, min_samples_split=2, min_weight_fraction_leaf=0.25;, score=(train=0.500, test=0.500) total time=  22.3s\n",
      "[CV 1/5] END max_depth=12, max_leaf_nodes=2, min_impurity_decrease=0.5, min_samples_leaf=1, min_samples_split=1000, min_weight_fraction_leaf=0.5;, score=(train=0.500, test=0.500) total time=  21.6s\n",
      "[CV 2/5] END max_depth=12, max_leaf_nodes=2, min_impurity_decrease=0.5, min_samples_leaf=1, min_samples_split=1000, min_weight_fraction_leaf=0.5;, score=(train=0.500, test=0.500) total time=  21.1s\n",
      "[CV 3/5] END max_depth=12, max_leaf_nodes=2, min_impurity_decrease=0.5, min_samples_leaf=1, min_samples_split=1000, min_weight_fraction_leaf=0.5;, score=(train=0.500, test=0.500) total time=  21.0s\n",
      "[CV 4/5] END max_depth=12, max_leaf_nodes=2, min_impurity_decrease=0.5, min_samples_leaf=1, min_samples_split=1000, min_weight_fraction_leaf=0.5;, score=(train=0.500, test=0.500) total time=  20.8s\n",
      "[CV 5/5] END max_depth=12, max_leaf_nodes=2, min_impurity_decrease=0.5, min_samples_leaf=1, min_samples_split=1000, min_weight_fraction_leaf=0.5;, score=(train=0.500, test=0.500) total time=  20.8s\n",
      "[CV 1/5] END max_depth=None, max_leaf_nodes=2, min_impurity_decrease=0.5, min_samples_leaf=100, min_samples_split=100, min_weight_fraction_leaf=0.25;, score=(train=0.500, test=0.500) total time=  22.1s\n"
     ]
    },
    {
     "name": "stdout",
     "output_type": "stream",
     "text": [
      "[CV 2/5] END max_depth=None, max_leaf_nodes=2, min_impurity_decrease=0.5, min_samples_leaf=100, min_samples_split=100, min_weight_fraction_leaf=0.25;, score=(train=0.500, test=0.500) total time=  22.2s\n",
      "[CV 3/5] END max_depth=None, max_leaf_nodes=2, min_impurity_decrease=0.5, min_samples_leaf=100, min_samples_split=100, min_weight_fraction_leaf=0.25;, score=(train=0.500, test=0.500) total time=  21.9s\n",
      "[CV 4/5] END max_depth=None, max_leaf_nodes=2, min_impurity_decrease=0.5, min_samples_leaf=100, min_samples_split=100, min_weight_fraction_leaf=0.25;, score=(train=0.500, test=0.500) total time=  21.6s\n",
      "[CV 5/5] END max_depth=None, max_leaf_nodes=2, min_impurity_decrease=0.5, min_samples_leaf=100, min_samples_split=100, min_weight_fraction_leaf=0.25;, score=(train=0.500, test=0.500) total time=  21.8s\n",
      "[CV 1/5] END max_depth=50, max_leaf_nodes=2, min_impurity_decrease=0.0, min_samples_leaf=1000, min_samples_split=2, min_weight_fraction_leaf=0.5;, score=(train=0.657, test=0.658) total time=  20.8s\n",
      "[CV 2/5] END max_depth=50, max_leaf_nodes=2, min_impurity_decrease=0.0, min_samples_leaf=1000, min_samples_split=2, min_weight_fraction_leaf=0.5;, score=(train=0.657, test=0.658) total time=  21.3s\n",
      "[CV 3/5] END max_depth=50, max_leaf_nodes=2, min_impurity_decrease=0.0, min_samples_leaf=1000, min_samples_split=2, min_weight_fraction_leaf=0.5;, score=(train=0.658, test=0.656) total time=  21.0s\n",
      "[CV 4/5] END max_depth=50, max_leaf_nodes=2, min_impurity_decrease=0.0, min_samples_leaf=1000, min_samples_split=2, min_weight_fraction_leaf=0.5;, score=(train=0.657, test=0.657) total time=  20.7s\n",
      "[CV 5/5] END max_depth=50, max_leaf_nodes=2, min_impurity_decrease=0.0, min_samples_leaf=1000, min_samples_split=2, min_weight_fraction_leaf=0.5;, score=(train=0.657, test=0.658) total time=  20.7s\n",
      "[CV 1/5] END max_depth=None, max_leaf_nodes=5, min_impurity_decrease=0.0, min_samples_leaf=100, min_samples_split=1000, min_weight_fraction_leaf=0.5;, score=(train=0.657, test=0.658) total time=  20.8s\n",
      "[CV 2/5] END max_depth=None, max_leaf_nodes=5, min_impurity_decrease=0.0, min_samples_leaf=100, min_samples_split=1000, min_weight_fraction_leaf=0.5;, score=(train=0.657, test=0.658) total time=  21.3s\n",
      "[CV 3/5] END max_depth=None, max_leaf_nodes=5, min_impurity_decrease=0.0, min_samples_leaf=100, min_samples_split=1000, min_weight_fraction_leaf=0.5;, score=(train=0.658, test=0.656) total time=  21.4s\n",
      "[CV 4/5] END max_depth=None, max_leaf_nodes=5, min_impurity_decrease=0.0, min_samples_leaf=100, min_samples_split=1000, min_weight_fraction_leaf=0.5;, score=(train=0.657, test=0.657) total time=  23.3s\n",
      "[CV 5/5] END max_depth=None, max_leaf_nodes=5, min_impurity_decrease=0.0, min_samples_leaf=100, min_samples_split=1000, min_weight_fraction_leaf=0.5;, score=(train=0.657, test=0.658) total time=  21.2s\n",
      "[CV 1/5] END max_depth=75, max_leaf_nodes=None, min_impurity_decrease=0.25, min_samples_leaf=100, min_samples_split=100, min_weight_fraction_leaf=0.25;, score=(train=0.500, test=0.500) total time=  22.2s\n",
      "[CV 2/5] END max_depth=75, max_leaf_nodes=None, min_impurity_decrease=0.25, min_samples_leaf=100, min_samples_split=100, min_weight_fraction_leaf=0.25;, score=(train=0.500, test=0.500) total time=  22.2s\n",
      "[CV 3/5] END max_depth=75, max_leaf_nodes=None, min_impurity_decrease=0.25, min_samples_leaf=100, min_samples_split=100, min_weight_fraction_leaf=0.25;, score=(train=0.500, test=0.500) total time=  22.1s\n",
      "[CV 4/5] END max_depth=75, max_leaf_nodes=None, min_impurity_decrease=0.25, min_samples_leaf=100, min_samples_split=100, min_weight_fraction_leaf=0.25;, score=(train=0.500, test=0.500) total time=  21.9s\n",
      "[CV 5/5] END max_depth=75, max_leaf_nodes=None, min_impurity_decrease=0.25, min_samples_leaf=100, min_samples_split=100, min_weight_fraction_leaf=0.25;, score=(train=0.500, test=0.500) total time=  22.0s\n",
      "[CV 1/5] END max_depth=25, max_leaf_nodes=2, min_impurity_decrease=0.0, min_samples_leaf=100, min_samples_split=100, min_weight_fraction_leaf=0.5;, score=(train=0.657, test=0.658) total time=  21.2s\n",
      "[CV 2/5] END max_depth=25, max_leaf_nodes=2, min_impurity_decrease=0.0, min_samples_leaf=100, min_samples_split=100, min_weight_fraction_leaf=0.5;, score=(train=0.657, test=0.658) total time=  21.2s\n",
      "[CV 3/5] END max_depth=25, max_leaf_nodes=2, min_impurity_decrease=0.0, min_samples_leaf=100, min_samples_split=100, min_weight_fraction_leaf=0.5;, score=(train=0.658, test=0.656) total time=  21.2s\n",
      "[CV 4/5] END max_depth=25, max_leaf_nodes=2, min_impurity_decrease=0.0, min_samples_leaf=100, min_samples_split=100, min_weight_fraction_leaf=0.5;, score=(train=0.657, test=0.657) total time=  20.6s\n",
      "[CV 5/5] END max_depth=25, max_leaf_nodes=2, min_impurity_decrease=0.0, min_samples_leaf=100, min_samples_split=100, min_weight_fraction_leaf=0.5;, score=(train=0.657, test=0.658) total time=  21.0s\n",
      "[CV 1/5] END max_depth=75, max_leaf_nodes=5, min_impurity_decrease=0.75, min_samples_leaf=50, min_samples_split=250, min_weight_fraction_leaf=0.0;, score=(train=0.500, test=0.500) total time=  22.2s\n",
      "[CV 2/5] END max_depth=75, max_leaf_nodes=5, min_impurity_decrease=0.75, min_samples_leaf=50, min_samples_split=250, min_weight_fraction_leaf=0.0;, score=(train=0.500, test=0.500) total time=  22.0s\n",
      "[CV 3/5] END max_depth=75, max_leaf_nodes=5, min_impurity_decrease=0.75, min_samples_leaf=50, min_samples_split=250, min_weight_fraction_leaf=0.0;, score=(train=0.500, test=0.500) total time=  22.1s\n",
      "[CV 4/5] END max_depth=75, max_leaf_nodes=5, min_impurity_decrease=0.75, min_samples_leaf=50, min_samples_split=250, min_weight_fraction_leaf=0.0;, score=(train=0.500, test=0.500) total time=  22.2s\n",
      "[CV 5/5] END max_depth=75, max_leaf_nodes=5, min_impurity_decrease=0.75, min_samples_leaf=50, min_samples_split=250, min_weight_fraction_leaf=0.0;, score=(train=0.500, test=0.500) total time=  22.0s\n",
      "[CV 1/5] END max_depth=None, max_leaf_nodes=10, min_impurity_decrease=0.5, min_samples_leaf=100, min_samples_split=50, min_weight_fraction_leaf=0.25;, score=(train=0.500, test=0.500) total time=  21.9s\n",
      "[CV 2/5] END max_depth=None, max_leaf_nodes=10, min_impurity_decrease=0.5, min_samples_leaf=100, min_samples_split=50, min_weight_fraction_leaf=0.25;, score=(train=0.500, test=0.500) total time=  21.7s\n",
      "[CV 3/5] END max_depth=None, max_leaf_nodes=10, min_impurity_decrease=0.5, min_samples_leaf=100, min_samples_split=50, min_weight_fraction_leaf=0.25;, score=(train=0.500, test=0.500) total time=  21.9s\n",
      "[CV 4/5] END max_depth=None, max_leaf_nodes=10, min_impurity_decrease=0.5, min_samples_leaf=100, min_samples_split=50, min_weight_fraction_leaf=0.25;, score=(train=0.500, test=0.500) total time=  21.7s\n",
      "[CV 5/5] END max_depth=None, max_leaf_nodes=10, min_impurity_decrease=0.5, min_samples_leaf=100, min_samples_split=50, min_weight_fraction_leaf=0.25;, score=(train=0.500, test=0.500) total time=  21.9s\n",
      "[CV 1/5] END max_depth=75, max_leaf_nodes=None, min_impurity_decrease=0.25, min_samples_leaf=250, min_samples_split=1000, min_weight_fraction_leaf=0.25;, score=(train=0.500, test=0.500) total time=  21.9s\n",
      "[CV 2/5] END max_depth=75, max_leaf_nodes=None, min_impurity_decrease=0.25, min_samples_leaf=250, min_samples_split=1000, min_weight_fraction_leaf=0.25;, score=(train=0.500, test=0.500) total time=  21.8s\n",
      "[CV 3/5] END max_depth=75, max_leaf_nodes=None, min_impurity_decrease=0.25, min_samples_leaf=250, min_samples_split=1000, min_weight_fraction_leaf=0.25;, score=(train=0.500, test=0.500) total time=  22.0s\n",
      "[CV 4/5] END max_depth=75, max_leaf_nodes=None, min_impurity_decrease=0.25, min_samples_leaf=250, min_samples_split=1000, min_weight_fraction_leaf=0.25;, score=(train=0.500, test=0.500) total time=  21.8s\n",
      "[CV 5/5] END max_depth=75, max_leaf_nodes=None, min_impurity_decrease=0.25, min_samples_leaf=250, min_samples_split=1000, min_weight_fraction_leaf=0.25;, score=(train=0.500, test=0.500) total time=  22.0s\n",
      "[CV 1/5] END max_depth=50, max_leaf_nodes=5, min_impurity_decrease=0.0, min_samples_leaf=100, min_samples_split=2, min_weight_fraction_leaf=0.5;, score=(train=0.657, test=0.658) total time=  21.2s\n",
      "[CV 2/5] END max_depth=50, max_leaf_nodes=5, min_impurity_decrease=0.0, min_samples_leaf=100, min_samples_split=2, min_weight_fraction_leaf=0.5;, score=(train=0.657, test=0.658) total time=  20.9s\n"
     ]
    },
    {
     "name": "stdout",
     "output_type": "stream",
     "text": [
      "[CV 3/5] END max_depth=50, max_leaf_nodes=5, min_impurity_decrease=0.0, min_samples_leaf=100, min_samples_split=2, min_weight_fraction_leaf=0.5;, score=(train=0.658, test=0.656) total time=  21.1s\n",
      "[CV 4/5] END max_depth=50, max_leaf_nodes=5, min_impurity_decrease=0.0, min_samples_leaf=100, min_samples_split=2, min_weight_fraction_leaf=0.5;, score=(train=0.657, test=0.657) total time=  20.9s\n",
      "[CV 5/5] END max_depth=50, max_leaf_nodes=5, min_impurity_decrease=0.0, min_samples_leaf=100, min_samples_split=2, min_weight_fraction_leaf=0.5;, score=(train=0.657, test=0.658) total time=  21.0s\n",
      "[CV 1/5] END max_depth=12, max_leaf_nodes=2, min_impurity_decrease=0.5, min_samples_leaf=1, min_samples_split=2, min_weight_fraction_leaf=0.0;, score=(train=0.500, test=0.500) total time=  22.1s\n",
      "[CV 2/5] END max_depth=12, max_leaf_nodes=2, min_impurity_decrease=0.5, min_samples_leaf=1, min_samples_split=2, min_weight_fraction_leaf=0.0;, score=(train=0.500, test=0.500) total time=  22.4s\n",
      "[CV 3/5] END max_depth=12, max_leaf_nodes=2, min_impurity_decrease=0.5, min_samples_leaf=1, min_samples_split=2, min_weight_fraction_leaf=0.0;, score=(train=0.500, test=0.500) total time=  22.2s\n",
      "[CV 4/5] END max_depth=12, max_leaf_nodes=2, min_impurity_decrease=0.5, min_samples_leaf=1, min_samples_split=2, min_weight_fraction_leaf=0.0;, score=(train=0.500, test=0.500) total time=  22.3s\n",
      "[CV 5/5] END max_depth=12, max_leaf_nodes=2, min_impurity_decrease=0.5, min_samples_leaf=1, min_samples_split=2, min_weight_fraction_leaf=0.0;, score=(train=0.500, test=0.500) total time=  22.3s\n",
      "[CV 1/5] END max_depth=75, max_leaf_nodes=None, min_impurity_decrease=0.0, min_samples_leaf=50, min_samples_split=2, min_weight_fraction_leaf=0.5;, score=(train=0.657, test=0.658) total time=  21.2s\n",
      "[CV 2/5] END max_depth=75, max_leaf_nodes=None, min_impurity_decrease=0.0, min_samples_leaf=50, min_samples_split=2, min_weight_fraction_leaf=0.5;, score=(train=0.657, test=0.658) total time=  20.9s\n",
      "[CV 3/5] END max_depth=75, max_leaf_nodes=None, min_impurity_decrease=0.0, min_samples_leaf=50, min_samples_split=2, min_weight_fraction_leaf=0.5;, score=(train=0.658, test=0.656) total time=  20.9s\n",
      "[CV 4/5] END max_depth=75, max_leaf_nodes=None, min_impurity_decrease=0.0, min_samples_leaf=50, min_samples_split=2, min_weight_fraction_leaf=0.5;, score=(train=0.657, test=0.657) total time=  21.6s\n",
      "[CV 5/5] END max_depth=75, max_leaf_nodes=None, min_impurity_decrease=0.0, min_samples_leaf=50, min_samples_split=2, min_weight_fraction_leaf=0.5;, score=(train=0.657, test=0.658) total time=  21.3s\n",
      "[CV 1/5] END max_depth=50, max_leaf_nodes=5, min_impurity_decrease=0.75, min_samples_leaf=50, min_samples_split=1000, min_weight_fraction_leaf=0.5;, score=(train=0.500, test=0.500) total time=  20.9s\n",
      "[CV 2/5] END max_depth=50, max_leaf_nodes=5, min_impurity_decrease=0.75, min_samples_leaf=50, min_samples_split=1000, min_weight_fraction_leaf=0.5;, score=(train=0.500, test=0.500) total time=  20.7s\n",
      "[CV 3/5] END max_depth=50, max_leaf_nodes=5, min_impurity_decrease=0.75, min_samples_leaf=50, min_samples_split=1000, min_weight_fraction_leaf=0.5;, score=(train=0.500, test=0.500) total time=  21.0s\n",
      "[CV 4/5] END max_depth=50, max_leaf_nodes=5, min_impurity_decrease=0.75, min_samples_leaf=50, min_samples_split=1000, min_weight_fraction_leaf=0.5;, score=(train=0.500, test=0.500) total time=  20.8s\n",
      "[CV 5/5] END max_depth=50, max_leaf_nodes=5, min_impurity_decrease=0.75, min_samples_leaf=50, min_samples_split=1000, min_weight_fraction_leaf=0.5;, score=(train=0.500, test=0.500) total time=  21.0s\n",
      "[CV 1/5] END max_depth=75, max_leaf_nodes=None, min_impurity_decrease=0.5, min_samples_leaf=1000, min_samples_split=50, min_weight_fraction_leaf=0.25;, score=(train=0.500, test=0.500) total time=  21.8s\n",
      "[CV 2/5] END max_depth=75, max_leaf_nodes=None, min_impurity_decrease=0.5, min_samples_leaf=1000, min_samples_split=50, min_weight_fraction_leaf=0.25;, score=(train=0.500, test=0.500) total time=  22.8s\n",
      "[CV 3/5] END max_depth=75, max_leaf_nodes=None, min_impurity_decrease=0.5, min_samples_leaf=1000, min_samples_split=50, min_weight_fraction_leaf=0.25;, score=(train=0.500, test=0.500) total time=  22.3s\n",
      "[CV 4/5] END max_depth=75, max_leaf_nodes=None, min_impurity_decrease=0.5, min_samples_leaf=1000, min_samples_split=50, min_weight_fraction_leaf=0.25;, score=(train=0.500, test=0.500) total time=  23.4s\n",
      "[CV 5/5] END max_depth=75, max_leaf_nodes=None, min_impurity_decrease=0.5, min_samples_leaf=1000, min_samples_split=50, min_weight_fraction_leaf=0.25;, score=(train=0.500, test=0.500) total time=  22.1s\n",
      "[CV 1/5] END max_depth=75, max_leaf_nodes=3, min_impurity_decrease=0.25, min_samples_leaf=250, min_samples_split=100, min_weight_fraction_leaf=0.25;, score=(train=0.500, test=0.500) total time=  22.1s\n",
      "[CV 2/5] END max_depth=75, max_leaf_nodes=3, min_impurity_decrease=0.25, min_samples_leaf=250, min_samples_split=100, min_weight_fraction_leaf=0.25;, score=(train=0.500, test=0.500) total time=  22.1s\n",
      "[CV 3/5] END max_depth=75, max_leaf_nodes=3, min_impurity_decrease=0.25, min_samples_leaf=250, min_samples_split=100, min_weight_fraction_leaf=0.25;, score=(train=0.500, test=0.500) total time=  22.0s\n",
      "[CV 4/5] END max_depth=75, max_leaf_nodes=3, min_impurity_decrease=0.25, min_samples_leaf=250, min_samples_split=100, min_weight_fraction_leaf=0.25;, score=(train=0.500, test=0.500) total time=  21.9s\n",
      "[CV 5/5] END max_depth=75, max_leaf_nodes=3, min_impurity_decrease=0.25, min_samples_leaf=250, min_samples_split=100, min_weight_fraction_leaf=0.25;, score=(train=0.500, test=0.500) total time=  21.8s\n",
      "[CV 1/5] END max_depth=75, max_leaf_nodes=3, min_impurity_decrease=0.5, min_samples_leaf=50, min_samples_split=2, min_weight_fraction_leaf=0.25;, score=(train=0.500, test=0.500) total time=  22.0s\n",
      "[CV 2/5] END max_depth=75, max_leaf_nodes=3, min_impurity_decrease=0.5, min_samples_leaf=50, min_samples_split=2, min_weight_fraction_leaf=0.25;, score=(train=0.500, test=0.500) total time=  22.1s\n",
      "[CV 3/5] END max_depth=75, max_leaf_nodes=3, min_impurity_decrease=0.5, min_samples_leaf=50, min_samples_split=2, min_weight_fraction_leaf=0.25;, score=(train=0.500, test=0.500) total time=  22.2s\n",
      "[CV 4/5] END max_depth=75, max_leaf_nodes=3, min_impurity_decrease=0.5, min_samples_leaf=50, min_samples_split=2, min_weight_fraction_leaf=0.25;, score=(train=0.500, test=0.500) total time=  21.8s\n",
      "[CV 5/5] END max_depth=75, max_leaf_nodes=3, min_impurity_decrease=0.5, min_samples_leaf=50, min_samples_split=2, min_weight_fraction_leaf=0.25;, score=(train=0.500, test=0.500) total time=  22.1s\n",
      "[CV 1/5] END max_depth=None, max_leaf_nodes=5, min_impurity_decrease=0.25, min_samples_leaf=1000, min_samples_split=50, min_weight_fraction_leaf=0.25;, score=(train=0.500, test=0.500) total time=  21.9s\n",
      "[CV 2/5] END max_depth=None, max_leaf_nodes=5, min_impurity_decrease=0.25, min_samples_leaf=1000, min_samples_split=50, min_weight_fraction_leaf=0.25;, score=(train=0.500, test=0.500) total time=  22.7s\n",
      "[CV 3/5] END max_depth=None, max_leaf_nodes=5, min_impurity_decrease=0.25, min_samples_leaf=1000, min_samples_split=50, min_weight_fraction_leaf=0.25;, score=(train=0.500, test=0.500) total time=  22.2s\n",
      "[CV 4/5] END max_depth=None, max_leaf_nodes=5, min_impurity_decrease=0.25, min_samples_leaf=1000, min_samples_split=50, min_weight_fraction_leaf=0.25;, score=(train=0.500, test=0.500) total time=  21.8s\n",
      "[CV 5/5] END max_depth=None, max_leaf_nodes=5, min_impurity_decrease=0.25, min_samples_leaf=1000, min_samples_split=50, min_weight_fraction_leaf=0.25;, score=(train=0.500, test=0.500) total time=  22.1s\n",
      "[CV 1/5] END max_depth=25, max_leaf_nodes=None, min_impurity_decrease=0.0, min_samples_leaf=1, min_samples_split=50, min_weight_fraction_leaf=0.0;, score=(train=0.955, test=0.945) total time= 1.9min\n",
      "[CV 2/5] END max_depth=25, max_leaf_nodes=None, min_impurity_decrease=0.0, min_samples_leaf=1, min_samples_split=50, min_weight_fraction_leaf=0.0;, score=(train=0.954, test=0.948) total time= 1.9min\n",
      "[CV 3/5] END max_depth=25, max_leaf_nodes=None, min_impurity_decrease=0.0, min_samples_leaf=1, min_samples_split=50, min_weight_fraction_leaf=0.0;, score=(train=0.955, test=0.947) total time= 1.9min\n",
      "[CV 4/5] END max_depth=25, max_leaf_nodes=None, min_impurity_decrease=0.0, min_samples_leaf=1, min_samples_split=50, min_weight_fraction_leaf=0.0;, score=(train=0.955, test=0.944) total time= 1.9min\n"
     ]
    },
    {
     "name": "stdout",
     "output_type": "stream",
     "text": [
      "[CV 5/5] END max_depth=25, max_leaf_nodes=None, min_impurity_decrease=0.0, min_samples_leaf=1, min_samples_split=50, min_weight_fraction_leaf=0.0;, score=(train=0.955, test=0.947) total time= 1.9min\n",
      "[CV 1/5] END max_depth=None, max_leaf_nodes=2, min_impurity_decrease=0.25, min_samples_leaf=50, min_samples_split=2, min_weight_fraction_leaf=0.25;, score=(train=0.500, test=0.500) total time=  21.8s\n",
      "[CV 2/5] END max_depth=None, max_leaf_nodes=2, min_impurity_decrease=0.25, min_samples_leaf=50, min_samples_split=2, min_weight_fraction_leaf=0.25;, score=(train=0.500, test=0.500) total time=  21.7s\n",
      "[CV 3/5] END max_depth=None, max_leaf_nodes=2, min_impurity_decrease=0.25, min_samples_leaf=50, min_samples_split=2, min_weight_fraction_leaf=0.25;, score=(train=0.500, test=0.500) total time=  21.8s\n",
      "[CV 4/5] END max_depth=None, max_leaf_nodes=2, min_impurity_decrease=0.25, min_samples_leaf=50, min_samples_split=2, min_weight_fraction_leaf=0.25;, score=(train=0.500, test=0.500) total time=  21.6s\n",
      "[CV 5/5] END max_depth=None, max_leaf_nodes=2, min_impurity_decrease=0.25, min_samples_leaf=50, min_samples_split=2, min_weight_fraction_leaf=0.25;, score=(train=0.500, test=0.500) total time=  21.9s\n",
      "[CV 1/5] END max_depth=50, max_leaf_nodes=3, min_impurity_decrease=0.75, min_samples_leaf=1000, min_samples_split=1000, min_weight_fraction_leaf=0.25;, score=(train=0.500, test=0.500) total time=  21.8s\n",
      "[CV 2/5] END max_depth=50, max_leaf_nodes=3, min_impurity_decrease=0.75, min_samples_leaf=1000, min_samples_split=1000, min_weight_fraction_leaf=0.25;, score=(train=0.500, test=0.500) total time=  21.7s\n",
      "[CV 3/5] END max_depth=50, max_leaf_nodes=3, min_impurity_decrease=0.75, min_samples_leaf=1000, min_samples_split=1000, min_weight_fraction_leaf=0.25;, score=(train=0.500, test=0.500) total time=  21.7s\n",
      "[CV 4/5] END max_depth=50, max_leaf_nodes=3, min_impurity_decrease=0.75, min_samples_leaf=1000, min_samples_split=1000, min_weight_fraction_leaf=0.25;, score=(train=0.500, test=0.500) total time=  21.5s\n",
      "[CV 5/5] END max_depth=50, max_leaf_nodes=3, min_impurity_decrease=0.75, min_samples_leaf=1000, min_samples_split=1000, min_weight_fraction_leaf=0.25;, score=(train=0.500, test=0.500) total time=  21.9s\n",
      "[CV 1/5] END max_depth=None, max_leaf_nodes=2, min_impurity_decrease=0.75, min_samples_leaf=100, min_samples_split=250, min_weight_fraction_leaf=0.5;, score=(train=0.500, test=0.500) total time=  20.6s\n",
      "[CV 2/5] END max_depth=None, max_leaf_nodes=2, min_impurity_decrease=0.75, min_samples_leaf=100, min_samples_split=250, min_weight_fraction_leaf=0.5;, score=(train=0.500, test=0.500) total time=  21.2s\n",
      "[CV 3/5] END max_depth=None, max_leaf_nodes=2, min_impurity_decrease=0.75, min_samples_leaf=100, min_samples_split=250, min_weight_fraction_leaf=0.5;, score=(train=0.500, test=0.500) total time=  20.5s\n",
      "[CV 4/5] END max_depth=None, max_leaf_nodes=2, min_impurity_decrease=0.75, min_samples_leaf=100, min_samples_split=250, min_weight_fraction_leaf=0.5;, score=(train=0.500, test=0.500) total time=  20.6s\n",
      "[CV 5/5] END max_depth=None, max_leaf_nodes=2, min_impurity_decrease=0.75, min_samples_leaf=100, min_samples_split=250, min_weight_fraction_leaf=0.5;, score=(train=0.500, test=0.500) total time=  20.8s\n",
      "[CV 1/5] END max_depth=75, max_leaf_nodes=None, min_impurity_decrease=0.5, min_samples_leaf=100, min_samples_split=250, min_weight_fraction_leaf=0.0;, score=(train=0.500, test=0.500) total time=  21.8s\n",
      "[CV 2/5] END max_depth=75, max_leaf_nodes=None, min_impurity_decrease=0.5, min_samples_leaf=100, min_samples_split=250, min_weight_fraction_leaf=0.0;, score=(train=0.500, test=0.500) total time=  22.0s\n",
      "[CV 3/5] END max_depth=75, max_leaf_nodes=None, min_impurity_decrease=0.5, min_samples_leaf=100, min_samples_split=250, min_weight_fraction_leaf=0.0;, score=(train=0.500, test=0.500) total time=  22.0s\n",
      "[CV 4/5] END max_depth=75, max_leaf_nodes=None, min_impurity_decrease=0.5, min_samples_leaf=100, min_samples_split=250, min_weight_fraction_leaf=0.0;, score=(train=0.500, test=0.500) total time=  21.9s\n",
      "[CV 5/5] END max_depth=75, max_leaf_nodes=None, min_impurity_decrease=0.5, min_samples_leaf=100, min_samples_split=250, min_weight_fraction_leaf=0.0;, score=(train=0.500, test=0.500) total time=  22.1s\n",
      "[CV 1/5] END max_depth=50, max_leaf_nodes=3, min_impurity_decrease=0.25, min_samples_leaf=1, min_samples_split=250, min_weight_fraction_leaf=0.25;, score=(train=0.500, test=0.500) total time=  21.8s\n",
      "[CV 2/5] END max_depth=50, max_leaf_nodes=3, min_impurity_decrease=0.25, min_samples_leaf=1, min_samples_split=250, min_weight_fraction_leaf=0.25;, score=(train=0.500, test=0.500) total time=  22.1s\n",
      "[CV 3/5] END max_depth=50, max_leaf_nodes=3, min_impurity_decrease=0.25, min_samples_leaf=1, min_samples_split=250, min_weight_fraction_leaf=0.25;, score=(train=0.500, test=0.500) total time=  22.0s\n",
      "[CV 4/5] END max_depth=50, max_leaf_nodes=3, min_impurity_decrease=0.25, min_samples_leaf=1, min_samples_split=250, min_weight_fraction_leaf=0.25;, score=(train=0.500, test=0.500) total time=  21.6s\n",
      "[CV 5/5] END max_depth=50, max_leaf_nodes=3, min_impurity_decrease=0.25, min_samples_leaf=1, min_samples_split=250, min_weight_fraction_leaf=0.25;, score=(train=0.500, test=0.500) total time=  22.0s\n",
      "[CV 1/5] END max_depth=12, max_leaf_nodes=3, min_impurity_decrease=0.5, min_samples_leaf=1000, min_samples_split=100, min_weight_fraction_leaf=0.0;, score=(train=0.500, test=0.500) total time=  22.1s\n",
      "[CV 2/5] END max_depth=12, max_leaf_nodes=3, min_impurity_decrease=0.5, min_samples_leaf=1000, min_samples_split=100, min_weight_fraction_leaf=0.0;, score=(train=0.500, test=0.500) total time=  21.7s\n",
      "[CV 3/5] END max_depth=12, max_leaf_nodes=3, min_impurity_decrease=0.5, min_samples_leaf=1000, min_samples_split=100, min_weight_fraction_leaf=0.0;, score=(train=0.500, test=0.500) total time=  22.0s\n",
      "[CV 4/5] END max_depth=12, max_leaf_nodes=3, min_impurity_decrease=0.5, min_samples_leaf=1000, min_samples_split=100, min_weight_fraction_leaf=0.0;, score=(train=0.500, test=0.500) total time=  21.7s\n",
      "[CV 5/5] END max_depth=12, max_leaf_nodes=3, min_impurity_decrease=0.5, min_samples_leaf=1000, min_samples_split=100, min_weight_fraction_leaf=0.0;, score=(train=0.500, test=0.500) total time=  22.1s\n",
      "[CV 1/5] END max_depth=12, max_leaf_nodes=None, min_impurity_decrease=0.5, min_samples_leaf=250, min_samples_split=2, min_weight_fraction_leaf=0.0;, score=(train=0.500, test=0.500) total time=  22.0s\n",
      "[CV 2/5] END max_depth=12, max_leaf_nodes=None, min_impurity_decrease=0.5, min_samples_leaf=250, min_samples_split=2, min_weight_fraction_leaf=0.0;, score=(train=0.500, test=0.500) total time=  21.9s\n",
      "[CV 3/5] END max_depth=12, max_leaf_nodes=None, min_impurity_decrease=0.5, min_samples_leaf=250, min_samples_split=2, min_weight_fraction_leaf=0.0;, score=(train=0.500, test=0.500) total time=  21.9s\n",
      "[CV 4/5] END max_depth=12, max_leaf_nodes=None, min_impurity_decrease=0.5, min_samples_leaf=250, min_samples_split=2, min_weight_fraction_leaf=0.0;, score=(train=0.500, test=0.500) total time=  21.9s\n",
      "[CV 5/5] END max_depth=12, max_leaf_nodes=None, min_impurity_decrease=0.5, min_samples_leaf=250, min_samples_split=2, min_weight_fraction_leaf=0.0;, score=(train=0.500, test=0.500) total time=  21.8s\n",
      "[CV 1/5] END max_depth=75, max_leaf_nodes=2, min_impurity_decrease=0.75, min_samples_leaf=1, min_samples_split=50, min_weight_fraction_leaf=0.5;, score=(train=0.500, test=0.500) total time=  20.7s\n",
      "[CV 2/5] END max_depth=75, max_leaf_nodes=2, min_impurity_decrease=0.75, min_samples_leaf=1, min_samples_split=50, min_weight_fraction_leaf=0.5;, score=(train=0.500, test=0.500) total time=  20.8s\n",
      "[CV 3/5] END max_depth=75, max_leaf_nodes=2, min_impurity_decrease=0.75, min_samples_leaf=1, min_samples_split=50, min_weight_fraction_leaf=0.5;, score=(train=0.500, test=0.500) total time=  21.0s\n",
      "[CV 4/5] END max_depth=75, max_leaf_nodes=2, min_impurity_decrease=0.75, min_samples_leaf=1, min_samples_split=50, min_weight_fraction_leaf=0.5;, score=(train=0.500, test=0.500) total time=  21.0s\n",
      "[CV 5/5] END max_depth=75, max_leaf_nodes=2, min_impurity_decrease=0.75, min_samples_leaf=1, min_samples_split=50, min_weight_fraction_leaf=0.5;, score=(train=0.500, test=0.500) total time=  20.8s\n"
     ]
    },
    {
     "name": "stdout",
     "output_type": "stream",
     "text": [
      "[CV 1/5] END max_depth=12, max_leaf_nodes=10, min_impurity_decrease=0.0, min_samples_leaf=100, min_samples_split=250, min_weight_fraction_leaf=0.5;, score=(train=0.657, test=0.658) total time=  20.9s\n",
      "[CV 2/5] END max_depth=12, max_leaf_nodes=10, min_impurity_decrease=0.0, min_samples_leaf=100, min_samples_split=250, min_weight_fraction_leaf=0.5;, score=(train=0.657, test=0.658) total time=  21.0s\n",
      "[CV 3/5] END max_depth=12, max_leaf_nodes=10, min_impurity_decrease=0.0, min_samples_leaf=100, min_samples_split=250, min_weight_fraction_leaf=0.5;, score=(train=0.658, test=0.656) total time=  20.8s\n",
      "[CV 4/5] END max_depth=12, max_leaf_nodes=10, min_impurity_decrease=0.0, min_samples_leaf=100, min_samples_split=250, min_weight_fraction_leaf=0.5;, score=(train=0.657, test=0.657) total time=  21.0s\n",
      "[CV 5/5] END max_depth=12, max_leaf_nodes=10, min_impurity_decrease=0.0, min_samples_leaf=100, min_samples_split=250, min_weight_fraction_leaf=0.5;, score=(train=0.657, test=0.658) total time=  20.7s\n",
      "[CV 1/5] END max_depth=50, max_leaf_nodes=2, min_impurity_decrease=0.5, min_samples_leaf=100, min_samples_split=2, min_weight_fraction_leaf=0.25;, score=(train=0.500, test=0.500) total time=  21.9s\n",
      "[CV 2/5] END max_depth=50, max_leaf_nodes=2, min_impurity_decrease=0.5, min_samples_leaf=100, min_samples_split=2, min_weight_fraction_leaf=0.25;, score=(train=0.500, test=0.500) total time=  22.1s\n",
      "[CV 3/5] END max_depth=50, max_leaf_nodes=2, min_impurity_decrease=0.5, min_samples_leaf=100, min_samples_split=2, min_weight_fraction_leaf=0.25;, score=(train=0.500, test=0.500) total time=  21.7s\n",
      "[CV 4/5] END max_depth=50, max_leaf_nodes=2, min_impurity_decrease=0.5, min_samples_leaf=100, min_samples_split=2, min_weight_fraction_leaf=0.25;, score=(train=0.500, test=0.500) total time=  23.9s\n",
      "[CV 5/5] END max_depth=50, max_leaf_nodes=2, min_impurity_decrease=0.5, min_samples_leaf=100, min_samples_split=2, min_weight_fraction_leaf=0.25;, score=(train=0.500, test=0.500) total time=  22.0s\n",
      "[CV 1/5] END max_depth=12, max_leaf_nodes=10, min_impurity_decrease=0.75, min_samples_leaf=1000, min_samples_split=1000, min_weight_fraction_leaf=0.5;, score=(train=0.500, test=0.500) total time=  20.6s\n",
      "[CV 2/5] END max_depth=12, max_leaf_nodes=10, min_impurity_decrease=0.75, min_samples_leaf=1000, min_samples_split=1000, min_weight_fraction_leaf=0.5;, score=(train=0.500, test=0.500) total time=  21.0s\n",
      "[CV 3/5] END max_depth=12, max_leaf_nodes=10, min_impurity_decrease=0.75, min_samples_leaf=1000, min_samples_split=1000, min_weight_fraction_leaf=0.5;, score=(train=0.500, test=0.500) total time=  21.0s\n",
      "[CV 4/5] END max_depth=12, max_leaf_nodes=10, min_impurity_decrease=0.75, min_samples_leaf=1000, min_samples_split=1000, min_weight_fraction_leaf=0.5;, score=(train=0.500, test=0.500) total time=  20.8s\n",
      "[CV 5/5] END max_depth=12, max_leaf_nodes=10, min_impurity_decrease=0.75, min_samples_leaf=1000, min_samples_split=1000, min_weight_fraction_leaf=0.5;, score=(train=0.500, test=0.500) total time=  20.8s\n",
      "[CV 1/5] END max_depth=25, max_leaf_nodes=3, min_impurity_decrease=0.25, min_samples_leaf=100, min_samples_split=1000, min_weight_fraction_leaf=0.25;, score=(train=0.500, test=0.500) total time=  21.9s\n",
      "[CV 2/5] END max_depth=25, max_leaf_nodes=3, min_impurity_decrease=0.25, min_samples_leaf=100, min_samples_split=1000, min_weight_fraction_leaf=0.25;, score=(train=0.500, test=0.500) total time=  22.0s\n",
      "[CV 3/5] END max_depth=25, max_leaf_nodes=3, min_impurity_decrease=0.25, min_samples_leaf=100, min_samples_split=1000, min_weight_fraction_leaf=0.25;, score=(train=0.500, test=0.500) total time=  21.9s\n",
      "[CV 4/5] END max_depth=25, max_leaf_nodes=3, min_impurity_decrease=0.25, min_samples_leaf=100, min_samples_split=1000, min_weight_fraction_leaf=0.25;, score=(train=0.500, test=0.500) total time=  21.6s\n",
      "[CV 5/5] END max_depth=25, max_leaf_nodes=3, min_impurity_decrease=0.25, min_samples_leaf=100, min_samples_split=1000, min_weight_fraction_leaf=0.25;, score=(train=0.500, test=0.500) total time=  21.9s\n",
      "[CV 1/5] END max_depth=25, max_leaf_nodes=10, min_impurity_decrease=0.75, min_samples_leaf=50, min_samples_split=1000, min_weight_fraction_leaf=0.0;, score=(train=0.500, test=0.500) total time=  22.2s\n",
      "[CV 2/5] END max_depth=25, max_leaf_nodes=10, min_impurity_decrease=0.75, min_samples_leaf=50, min_samples_split=1000, min_weight_fraction_leaf=0.0;, score=(train=0.500, test=0.500) total time=  22.1s\n",
      "[CV 3/5] END max_depth=25, max_leaf_nodes=10, min_impurity_decrease=0.75, min_samples_leaf=50, min_samples_split=1000, min_weight_fraction_leaf=0.0;, score=(train=0.500, test=0.500) total time=  21.9s\n",
      "[CV 4/5] END max_depth=25, max_leaf_nodes=10, min_impurity_decrease=0.75, min_samples_leaf=50, min_samples_split=1000, min_weight_fraction_leaf=0.0;, score=(train=0.500, test=0.500) total time=  21.9s\n",
      "[CV 5/5] END max_depth=25, max_leaf_nodes=10, min_impurity_decrease=0.75, min_samples_leaf=50, min_samples_split=1000, min_weight_fraction_leaf=0.0;, score=(train=0.500, test=0.500) total time=  21.9s\n",
      "[CV 1/5] END max_depth=50, max_leaf_nodes=10, min_impurity_decrease=0.25, min_samples_leaf=1, min_samples_split=100, min_weight_fraction_leaf=0.0;, score=(train=0.500, test=0.500) total time=  22.0s\n",
      "[CV 2/5] END max_depth=50, max_leaf_nodes=10, min_impurity_decrease=0.25, min_samples_leaf=1, min_samples_split=100, min_weight_fraction_leaf=0.0;, score=(train=0.500, test=0.500) total time=  22.3s\n",
      "[CV 3/5] END max_depth=50, max_leaf_nodes=10, min_impurity_decrease=0.25, min_samples_leaf=1, min_samples_split=100, min_weight_fraction_leaf=0.0;, score=(train=0.500, test=0.500) total time=  22.2s\n",
      "[CV 4/5] END max_depth=50, max_leaf_nodes=10, min_impurity_decrease=0.25, min_samples_leaf=1, min_samples_split=100, min_weight_fraction_leaf=0.0;, score=(train=0.500, test=0.500) total time=  21.9s\n",
      "[CV 5/5] END max_depth=50, max_leaf_nodes=10, min_impurity_decrease=0.25, min_samples_leaf=1, min_samples_split=100, min_weight_fraction_leaf=0.0;, score=(train=0.500, test=0.500) total time=  22.1s\n",
      "[CV 1/5] END max_depth=50, max_leaf_nodes=10, min_impurity_decrease=0.0, min_samples_leaf=100, min_samples_split=2, min_weight_fraction_leaf=0.25;, score=(train=0.822, test=0.819) total time=  28.9s\n",
      "[CV 2/5] END max_depth=50, max_leaf_nodes=10, min_impurity_decrease=0.0, min_samples_leaf=100, min_samples_split=2, min_weight_fraction_leaf=0.25;, score=(train=0.821, test=0.822) total time=  29.1s\n",
      "[CV 3/5] END max_depth=50, max_leaf_nodes=10, min_impurity_decrease=0.0, min_samples_leaf=100, min_samples_split=2, min_weight_fraction_leaf=0.25;, score=(train=0.821, test=0.822) total time=  29.1s\n",
      "[CV 4/5] END max_depth=50, max_leaf_nodes=10, min_impurity_decrease=0.0, min_samples_leaf=100, min_samples_split=2, min_weight_fraction_leaf=0.25;, score=(train=0.822, test=0.820) total time=  29.1s\n",
      "[CV 5/5] END max_depth=50, max_leaf_nodes=10, min_impurity_decrease=0.0, min_samples_leaf=100, min_samples_split=2, min_weight_fraction_leaf=0.25;, score=(train=0.820, test=0.823) total time=  29.2s\n",
      "[CV 1/5] END max_depth=25, max_leaf_nodes=5, min_impurity_decrease=0.0, min_samples_leaf=100, min_samples_split=2, min_weight_fraction_leaf=0.25;, score=(train=0.822, test=0.819) total time=  29.6s\n",
      "[CV 2/5] END max_depth=25, max_leaf_nodes=5, min_impurity_decrease=0.0, min_samples_leaf=100, min_samples_split=2, min_weight_fraction_leaf=0.25;, score=(train=0.821, test=0.822) total time=  29.4s\n",
      "[CV 3/5] END max_depth=25, max_leaf_nodes=5, min_impurity_decrease=0.0, min_samples_leaf=100, min_samples_split=2, min_weight_fraction_leaf=0.25;, score=(train=0.821, test=0.822) total time=  28.9s\n",
      "[CV 4/5] END max_depth=25, max_leaf_nodes=5, min_impurity_decrease=0.0, min_samples_leaf=100, min_samples_split=2, min_weight_fraction_leaf=0.25;, score=(train=0.822, test=0.820) total time=  29.3s\n",
      "[CV 5/5] END max_depth=25, max_leaf_nodes=5, min_impurity_decrease=0.0, min_samples_leaf=100, min_samples_split=2, min_weight_fraction_leaf=0.25;, score=(train=0.820, test=0.823) total time=  29.1s\n",
      "[CV 1/5] END max_depth=50, max_leaf_nodes=None, min_impurity_decrease=0.5, min_samples_leaf=1000, min_samples_split=100, min_weight_fraction_leaf=0.25;, score=(train=0.500, test=0.500) total time=  21.7s\n"
     ]
    },
    {
     "name": "stdout",
     "output_type": "stream",
     "text": [
      "[CV 2/5] END max_depth=50, max_leaf_nodes=None, min_impurity_decrease=0.5, min_samples_leaf=1000, min_samples_split=100, min_weight_fraction_leaf=0.25;, score=(train=0.500, test=0.500) total time=  21.8s\n",
      "[CV 3/5] END max_depth=50, max_leaf_nodes=None, min_impurity_decrease=0.5, min_samples_leaf=1000, min_samples_split=100, min_weight_fraction_leaf=0.25;, score=(train=0.500, test=0.500) total time=  21.8s\n",
      "[CV 4/5] END max_depth=50, max_leaf_nodes=None, min_impurity_decrease=0.5, min_samples_leaf=1000, min_samples_split=100, min_weight_fraction_leaf=0.25;, score=(train=0.500, test=0.500) total time=  21.8s\n",
      "[CV 5/5] END max_depth=50, max_leaf_nodes=None, min_impurity_decrease=0.5, min_samples_leaf=1000, min_samples_split=100, min_weight_fraction_leaf=0.25;, score=(train=0.500, test=0.500) total time=  21.8s\n",
      "[CV 1/5] END max_depth=12, max_leaf_nodes=None, min_impurity_decrease=0.0, min_samples_leaf=1, min_samples_split=100, min_weight_fraction_leaf=0.25;, score=(train=0.822, test=0.819) total time=  29.0s\n",
      "[CV 2/5] END max_depth=12, max_leaf_nodes=None, min_impurity_decrease=0.0, min_samples_leaf=1, min_samples_split=100, min_weight_fraction_leaf=0.25;, score=(train=0.821, test=0.822) total time=  29.0s\n",
      "[CV 3/5] END max_depth=12, max_leaf_nodes=None, min_impurity_decrease=0.0, min_samples_leaf=1, min_samples_split=100, min_weight_fraction_leaf=0.25;, score=(train=0.821, test=0.822) total time=  29.2s\n",
      "[CV 4/5] END max_depth=12, max_leaf_nodes=None, min_impurity_decrease=0.0, min_samples_leaf=1, min_samples_split=100, min_weight_fraction_leaf=0.25;, score=(train=0.822, test=0.820) total time=  28.7s\n",
      "[CV 5/5] END max_depth=12, max_leaf_nodes=None, min_impurity_decrease=0.0, min_samples_leaf=1, min_samples_split=100, min_weight_fraction_leaf=0.25;, score=(train=0.820, test=0.823) total time=  29.3s\n",
      "[CV 1/5] END max_depth=None, max_leaf_nodes=5, min_impurity_decrease=0.5, min_samples_leaf=1, min_samples_split=2, min_weight_fraction_leaf=0.5;, score=(train=0.500, test=0.500) total time=  20.8s\n",
      "[CV 2/5] END max_depth=None, max_leaf_nodes=5, min_impurity_decrease=0.5, min_samples_leaf=1, min_samples_split=2, min_weight_fraction_leaf=0.5;, score=(train=0.500, test=0.500) total time=  20.9s\n",
      "[CV 3/5] END max_depth=None, max_leaf_nodes=5, min_impurity_decrease=0.5, min_samples_leaf=1, min_samples_split=2, min_weight_fraction_leaf=0.5;, score=(train=0.500, test=0.500) total time=  20.8s\n",
      "[CV 4/5] END max_depth=None, max_leaf_nodes=5, min_impurity_decrease=0.5, min_samples_leaf=1, min_samples_split=2, min_weight_fraction_leaf=0.5;, score=(train=0.500, test=0.500) total time=  21.6s\n",
      "[CV 5/5] END max_depth=None, max_leaf_nodes=5, min_impurity_decrease=0.5, min_samples_leaf=1, min_samples_split=2, min_weight_fraction_leaf=0.5;, score=(train=0.500, test=0.500) total time=  20.8s\n",
      "[CV 1/5] END max_depth=12, max_leaf_nodes=3, min_impurity_decrease=0.0, min_samples_leaf=250, min_samples_split=50, min_weight_fraction_leaf=0.0;, score=(train=0.822, test=0.818) total time=  37.1s\n",
      "[CV 2/5] END max_depth=12, max_leaf_nodes=3, min_impurity_decrease=0.0, min_samples_leaf=250, min_samples_split=50, min_weight_fraction_leaf=0.0;, score=(train=0.820, test=0.822) total time=  37.8s\n",
      "[CV 3/5] END max_depth=12, max_leaf_nodes=3, min_impurity_decrease=0.0, min_samples_leaf=250, min_samples_split=50, min_weight_fraction_leaf=0.0;, score=(train=0.822, test=0.822) total time=  37.9s\n",
      "[CV 4/5] END max_depth=12, max_leaf_nodes=3, min_impurity_decrease=0.0, min_samples_leaf=250, min_samples_split=50, min_weight_fraction_leaf=0.0;, score=(train=0.821, test=0.820) total time=  37.0s\n",
      "[CV 5/5] END max_depth=12, max_leaf_nodes=3, min_impurity_decrease=0.0, min_samples_leaf=250, min_samples_split=50, min_weight_fraction_leaf=0.0;, score=(train=0.822, test=0.825) total time=  37.9s\n",
      "[CV 1/5] END max_depth=75, max_leaf_nodes=10, min_impurity_decrease=0.75, min_samples_leaf=1000, min_samples_split=1000, min_weight_fraction_leaf=0.0;, score=(train=0.500, test=0.500) total time=  21.7s\n",
      "[CV 2/5] END max_depth=75, max_leaf_nodes=10, min_impurity_decrease=0.75, min_samples_leaf=1000, min_samples_split=1000, min_weight_fraction_leaf=0.0;, score=(train=0.500, test=0.500) total time=  21.8s\n",
      "[CV 3/5] END max_depth=75, max_leaf_nodes=10, min_impurity_decrease=0.75, min_samples_leaf=1000, min_samples_split=1000, min_weight_fraction_leaf=0.0;, score=(train=0.500, test=0.500) total time=  22.2s\n",
      "[CV 4/5] END max_depth=75, max_leaf_nodes=10, min_impurity_decrease=0.75, min_samples_leaf=1000, min_samples_split=1000, min_weight_fraction_leaf=0.0;, score=(train=0.500, test=0.500) total time=  21.9s\n",
      "[CV 5/5] END max_depth=75, max_leaf_nodes=10, min_impurity_decrease=0.75, min_samples_leaf=1000, min_samples_split=1000, min_weight_fraction_leaf=0.0;, score=(train=0.500, test=0.500) total time=  22.1s\n",
      "[CV 1/5] END max_depth=None, max_leaf_nodes=3, min_impurity_decrease=0.5, min_samples_leaf=50, min_samples_split=1000, min_weight_fraction_leaf=0.0;, score=(train=0.500, test=0.500) total time=  21.7s\n",
      "[CV 2/5] END max_depth=None, max_leaf_nodes=3, min_impurity_decrease=0.5, min_samples_leaf=50, min_samples_split=1000, min_weight_fraction_leaf=0.0;, score=(train=0.500, test=0.500) total time=  22.2s\n",
      "[CV 3/5] END max_depth=None, max_leaf_nodes=3, min_impurity_decrease=0.5, min_samples_leaf=50, min_samples_split=1000, min_weight_fraction_leaf=0.0;, score=(train=0.500, test=0.500) total time=  21.8s\n",
      "[CV 4/5] END max_depth=None, max_leaf_nodes=3, min_impurity_decrease=0.5, min_samples_leaf=50, min_samples_split=1000, min_weight_fraction_leaf=0.0;, score=(train=0.500, test=0.500) total time=  22.1s\n",
      "[CV 5/5] END max_depth=None, max_leaf_nodes=3, min_impurity_decrease=0.5, min_samples_leaf=50, min_samples_split=1000, min_weight_fraction_leaf=0.0;, score=(train=0.500, test=0.500) total time=  22.0s\n",
      "[CV 1/5] END max_depth=25, max_leaf_nodes=3, min_impurity_decrease=0.25, min_samples_leaf=1000, min_samples_split=1000, min_weight_fraction_leaf=0.25;, score=(train=0.500, test=0.500) total time=  21.8s\n",
      "[CV 2/5] END max_depth=25, max_leaf_nodes=3, min_impurity_decrease=0.25, min_samples_leaf=1000, min_samples_split=1000, min_weight_fraction_leaf=0.25;, score=(train=0.500, test=0.500) total time=  22.0s\n",
      "[CV 3/5] END max_depth=25, max_leaf_nodes=3, min_impurity_decrease=0.25, min_samples_leaf=1000, min_samples_split=1000, min_weight_fraction_leaf=0.25;, score=(train=0.500, test=0.500) total time=  21.8s\n",
      "[CV 4/5] END max_depth=25, max_leaf_nodes=3, min_impurity_decrease=0.25, min_samples_leaf=1000, min_samples_split=1000, min_weight_fraction_leaf=0.25;, score=(train=0.500, test=0.500) total time=  21.7s\n",
      "[CV 5/5] END max_depth=25, max_leaf_nodes=3, min_impurity_decrease=0.25, min_samples_leaf=1000, min_samples_split=1000, min_weight_fraction_leaf=0.25;, score=(train=0.500, test=0.500) total time=  21.8s\n",
      "[CV 1/5] END max_depth=75, max_leaf_nodes=2, min_impurity_decrease=0.0, min_samples_leaf=250, min_samples_split=1000, min_weight_fraction_leaf=0.0;, score=(train=0.780, test=0.779) total time=  31.6s\n",
      "[CV 2/5] END max_depth=75, max_leaf_nodes=2, min_impurity_decrease=0.0, min_samples_leaf=250, min_samples_split=1000, min_weight_fraction_leaf=0.0;, score=(train=0.780, test=0.782) total time=  32.0s\n",
      "[CV 3/5] END max_depth=75, max_leaf_nodes=2, min_impurity_decrease=0.0, min_samples_leaf=250, min_samples_split=1000, min_weight_fraction_leaf=0.0;, score=(train=0.780, test=0.781) total time=  31.9s\n",
      "[CV 4/5] END max_depth=75, max_leaf_nodes=2, min_impurity_decrease=0.0, min_samples_leaf=250, min_samples_split=1000, min_weight_fraction_leaf=0.0;, score=(train=0.779, test=0.776) total time=  31.9s\n",
      "[CV 5/5] END max_depth=75, max_leaf_nodes=2, min_impurity_decrease=0.0, min_samples_leaf=250, min_samples_split=1000, min_weight_fraction_leaf=0.0;, score=(train=0.780, test=0.781) total time=  31.8s\n",
      "[CV 1/5] END max_depth=None, max_leaf_nodes=2, min_impurity_decrease=0.75, min_samples_leaf=1, min_samples_split=50, min_weight_fraction_leaf=0.25;, score=(train=0.500, test=0.500) total time=  22.4s\n",
      "[CV 2/5] END max_depth=None, max_leaf_nodes=2, min_impurity_decrease=0.75, min_samples_leaf=1, min_samples_split=50, min_weight_fraction_leaf=0.25;, score=(train=0.500, test=0.500) total time=  22.0s\n"
     ]
    },
    {
     "name": "stdout",
     "output_type": "stream",
     "text": [
      "[CV 3/5] END max_depth=None, max_leaf_nodes=2, min_impurity_decrease=0.75, min_samples_leaf=1, min_samples_split=50, min_weight_fraction_leaf=0.25;, score=(train=0.500, test=0.500) total time=  22.0s\n",
      "[CV 4/5] END max_depth=None, max_leaf_nodes=2, min_impurity_decrease=0.75, min_samples_leaf=1, min_samples_split=50, min_weight_fraction_leaf=0.25;, score=(train=0.500, test=0.500) total time=  21.8s\n",
      "[CV 5/5] END max_depth=None, max_leaf_nodes=2, min_impurity_decrease=0.75, min_samples_leaf=1, min_samples_split=50, min_weight_fraction_leaf=0.25;, score=(train=0.500, test=0.500) total time=  22.4s\n",
      "[CV 1/5] END max_depth=75, max_leaf_nodes=5, min_impurity_decrease=0.0, min_samples_leaf=1000, min_samples_split=50, min_weight_fraction_leaf=0.0;, score=(train=0.833, test=0.831) total time=  44.1s\n",
      "[CV 2/5] END max_depth=75, max_leaf_nodes=5, min_impurity_decrease=0.0, min_samples_leaf=1000, min_samples_split=50, min_weight_fraction_leaf=0.0;, score=(train=0.832, test=0.833) total time=  44.7s\n",
      "[CV 3/5] END max_depth=75, max_leaf_nodes=5, min_impurity_decrease=0.0, min_samples_leaf=1000, min_samples_split=50, min_weight_fraction_leaf=0.0;, score=(train=0.832, test=0.831) total time=  44.2s\n",
      "[CV 4/5] END max_depth=75, max_leaf_nodes=5, min_impurity_decrease=0.0, min_samples_leaf=1000, min_samples_split=50, min_weight_fraction_leaf=0.0;, score=(train=0.833, test=0.831) total time=  44.4s\n",
      "[CV 5/5] END max_depth=75, max_leaf_nodes=5, min_impurity_decrease=0.0, min_samples_leaf=1000, min_samples_split=50, min_weight_fraction_leaf=0.0;, score=(train=0.833, test=0.835) total time=  44.6s\n",
      "[CV 1/5] END max_depth=25, max_leaf_nodes=2, min_impurity_decrease=0.75, min_samples_leaf=1000, min_samples_split=250, min_weight_fraction_leaf=0.25;, score=(train=0.500, test=0.500) total time=  22.0s\n",
      "[CV 2/5] END max_depth=25, max_leaf_nodes=2, min_impurity_decrease=0.75, min_samples_leaf=1000, min_samples_split=250, min_weight_fraction_leaf=0.25;, score=(train=0.500, test=0.500) total time=  22.0s\n",
      "[CV 3/5] END max_depth=25, max_leaf_nodes=2, min_impurity_decrease=0.75, min_samples_leaf=1000, min_samples_split=250, min_weight_fraction_leaf=0.25;, score=(train=0.500, test=0.500) total time=  22.1s\n",
      "[CV 4/5] END max_depth=25, max_leaf_nodes=2, min_impurity_decrease=0.75, min_samples_leaf=1000, min_samples_split=250, min_weight_fraction_leaf=0.25;, score=(train=0.500, test=0.500) total time=  21.9s\n",
      "[CV 5/5] END max_depth=25, max_leaf_nodes=2, min_impurity_decrease=0.75, min_samples_leaf=1000, min_samples_split=250, min_weight_fraction_leaf=0.25;, score=(train=0.500, test=0.500) total time=  21.8s\n",
      "[CV 1/5] END max_depth=12, max_leaf_nodes=None, min_impurity_decrease=0.25, min_samples_leaf=1, min_samples_split=2, min_weight_fraction_leaf=0.5;, score=(train=0.500, test=0.500) total time=  20.9s\n",
      "[CV 2/5] END max_depth=12, max_leaf_nodes=None, min_impurity_decrease=0.25, min_samples_leaf=1, min_samples_split=2, min_weight_fraction_leaf=0.5;, score=(train=0.500, test=0.500) total time=  20.8s\n",
      "[CV 3/5] END max_depth=12, max_leaf_nodes=None, min_impurity_decrease=0.25, min_samples_leaf=1, min_samples_split=2, min_weight_fraction_leaf=0.5;, score=(train=0.500, test=0.500) total time=  21.4s\n",
      "[CV 4/5] END max_depth=12, max_leaf_nodes=None, min_impurity_decrease=0.25, min_samples_leaf=1, min_samples_split=2, min_weight_fraction_leaf=0.5;, score=(train=0.500, test=0.500) total time=  20.7s\n",
      "[CV 5/5] END max_depth=12, max_leaf_nodes=None, min_impurity_decrease=0.25, min_samples_leaf=1, min_samples_split=2, min_weight_fraction_leaf=0.5;, score=(train=0.500, test=0.500) total time=  21.1s\n",
      "[CV 1/5] END max_depth=50, max_leaf_nodes=5, min_impurity_decrease=0.25, min_samples_leaf=1, min_samples_split=1000, min_weight_fraction_leaf=0.5;, score=(train=0.500, test=0.500) total time=  21.1s\n",
      "[CV 2/5] END max_depth=50, max_leaf_nodes=5, min_impurity_decrease=0.25, min_samples_leaf=1, min_samples_split=1000, min_weight_fraction_leaf=0.5;, score=(train=0.500, test=0.500) total time=  20.7s\n",
      "[CV 3/5] END max_depth=50, max_leaf_nodes=5, min_impurity_decrease=0.25, min_samples_leaf=1, min_samples_split=1000, min_weight_fraction_leaf=0.5;, score=(train=0.500, test=0.500) total time=  20.8s\n",
      "[CV 4/5] END max_depth=50, max_leaf_nodes=5, min_impurity_decrease=0.25, min_samples_leaf=1, min_samples_split=1000, min_weight_fraction_leaf=0.5;, score=(train=0.500, test=0.500) total time=  20.7s\n",
      "[CV 5/5] END max_depth=50, max_leaf_nodes=5, min_impurity_decrease=0.25, min_samples_leaf=1, min_samples_split=1000, min_weight_fraction_leaf=0.5;, score=(train=0.500, test=0.500) total time=  20.8s\n",
      "[CV 1/5] END max_depth=12, max_leaf_nodes=10, min_impurity_decrease=0.0, min_samples_leaf=50, min_samples_split=1000, min_weight_fraction_leaf=0.5;, score=(train=0.657, test=0.658) total time=  21.3s\n",
      "[CV 2/5] END max_depth=12, max_leaf_nodes=10, min_impurity_decrease=0.0, min_samples_leaf=50, min_samples_split=1000, min_weight_fraction_leaf=0.5;, score=(train=0.657, test=0.658) total time=  20.8s\n",
      "[CV 3/5] END max_depth=12, max_leaf_nodes=10, min_impurity_decrease=0.0, min_samples_leaf=50, min_samples_split=1000, min_weight_fraction_leaf=0.5;, score=(train=0.658, test=0.656) total time=  20.9s\n",
      "[CV 4/5] END max_depth=12, max_leaf_nodes=10, min_impurity_decrease=0.0, min_samples_leaf=50, min_samples_split=1000, min_weight_fraction_leaf=0.5;, score=(train=0.657, test=0.657) total time=  21.1s\n",
      "[CV 5/5] END max_depth=12, max_leaf_nodes=10, min_impurity_decrease=0.0, min_samples_leaf=50, min_samples_split=1000, min_weight_fraction_leaf=0.5;, score=(train=0.657, test=0.658) total time=  20.8s\n",
      "[CV 1/5] END max_depth=12, max_leaf_nodes=5, min_impurity_decrease=0.5, min_samples_leaf=100, min_samples_split=50, min_weight_fraction_leaf=0.5;, score=(train=0.500, test=0.500) total time=  20.7s\n",
      "[CV 2/5] END max_depth=12, max_leaf_nodes=5, min_impurity_decrease=0.5, min_samples_leaf=100, min_samples_split=50, min_weight_fraction_leaf=0.5;, score=(train=0.500, test=0.500) total time=  21.1s\n",
      "[CV 3/5] END max_depth=12, max_leaf_nodes=5, min_impurity_decrease=0.5, min_samples_leaf=100, min_samples_split=50, min_weight_fraction_leaf=0.5;, score=(train=0.500, test=0.500) total time=  20.9s\n",
      "[CV 4/5] END max_depth=12, max_leaf_nodes=5, min_impurity_decrease=0.5, min_samples_leaf=100, min_samples_split=50, min_weight_fraction_leaf=0.5;, score=(train=0.500, test=0.500) total time=  20.5s\n",
      "[CV 5/5] END max_depth=12, max_leaf_nodes=5, min_impurity_decrease=0.5, min_samples_leaf=100, min_samples_split=50, min_weight_fraction_leaf=0.5;, score=(train=0.500, test=0.500) total time=  20.8s\n",
      "[CV 1/5] END max_depth=75, max_leaf_nodes=5, min_impurity_decrease=0.25, min_samples_leaf=250, min_samples_split=250, min_weight_fraction_leaf=0.5;, score=(train=0.500, test=0.500) total time=  20.8s\n",
      "[CV 2/5] END max_depth=75, max_leaf_nodes=5, min_impurity_decrease=0.25, min_samples_leaf=250, min_samples_split=250, min_weight_fraction_leaf=0.5;, score=(train=0.500, test=0.500) total time=  20.6s\n",
      "[CV 3/5] END max_depth=75, max_leaf_nodes=5, min_impurity_decrease=0.25, min_samples_leaf=250, min_samples_split=250, min_weight_fraction_leaf=0.5;, score=(train=0.500, test=0.500) total time=  20.8s\n",
      "[CV 4/5] END max_depth=75, max_leaf_nodes=5, min_impurity_decrease=0.25, min_samples_leaf=250, min_samples_split=250, min_weight_fraction_leaf=0.5;, score=(train=0.500, test=0.500) total time=  20.7s\n",
      "[CV 5/5] END max_depth=75, max_leaf_nodes=5, min_impurity_decrease=0.25, min_samples_leaf=250, min_samples_split=250, min_weight_fraction_leaf=0.5;, score=(train=0.500, test=0.500) total time=  21.1s\n",
      "[CV 1/5] END max_depth=50, max_leaf_nodes=10, min_impurity_decrease=0.75, min_samples_leaf=50, min_samples_split=250, min_weight_fraction_leaf=0.5;, score=(train=0.500, test=0.500) total time=  20.5s\n",
      "[CV 2/5] END max_depth=50, max_leaf_nodes=10, min_impurity_decrease=0.75, min_samples_leaf=50, min_samples_split=250, min_weight_fraction_leaf=0.5;, score=(train=0.500, test=0.500) total time=  20.7s\n",
      "[CV 3/5] END max_depth=50, max_leaf_nodes=10, min_impurity_decrease=0.75, min_samples_leaf=50, min_samples_split=250, min_weight_fraction_leaf=0.5;, score=(train=0.500, test=0.500) total time=  20.8s\n",
      "[CV 4/5] END max_depth=50, max_leaf_nodes=10, min_impurity_decrease=0.75, min_samples_leaf=50, min_samples_split=250, min_weight_fraction_leaf=0.5;, score=(train=0.500, test=0.500) total time=  20.9s\n"
     ]
    },
    {
     "name": "stdout",
     "output_type": "stream",
     "text": [
      "[CV 5/5] END max_depth=50, max_leaf_nodes=10, min_impurity_decrease=0.75, min_samples_leaf=50, min_samples_split=250, min_weight_fraction_leaf=0.5;, score=(train=0.500, test=0.500) total time=  21.0s\n",
      "[CV 1/5] END max_depth=12, max_leaf_nodes=5, min_impurity_decrease=0.0, min_samples_leaf=100, min_samples_split=50, min_weight_fraction_leaf=0.5;, score=(train=0.657, test=0.658) total time=  20.8s\n",
      "[CV 2/5] END max_depth=12, max_leaf_nodes=5, min_impurity_decrease=0.0, min_samples_leaf=100, min_samples_split=50, min_weight_fraction_leaf=0.5;, score=(train=0.657, test=0.658) total time=  21.0s\n",
      "[CV 3/5] END max_depth=12, max_leaf_nodes=5, min_impurity_decrease=0.0, min_samples_leaf=100, min_samples_split=50, min_weight_fraction_leaf=0.5;, score=(train=0.658, test=0.656) total time=  21.2s\n",
      "[CV 4/5] END max_depth=12, max_leaf_nodes=5, min_impurity_decrease=0.0, min_samples_leaf=100, min_samples_split=50, min_weight_fraction_leaf=0.5;, score=(train=0.657, test=0.657) total time=  20.6s\n",
      "[CV 5/5] END max_depth=12, max_leaf_nodes=5, min_impurity_decrease=0.0, min_samples_leaf=100, min_samples_split=50, min_weight_fraction_leaf=0.5;, score=(train=0.657, test=0.658) total time=  20.8s\n",
      "[CV 1/5] END max_depth=50, max_leaf_nodes=None, min_impurity_decrease=0.5, min_samples_leaf=1000, min_samples_split=50, min_weight_fraction_leaf=0.5;, score=(train=0.500, test=0.500) total time=  20.8s\n",
      "[CV 2/5] END max_depth=50, max_leaf_nodes=None, min_impurity_decrease=0.5, min_samples_leaf=1000, min_samples_split=50, min_weight_fraction_leaf=0.5;, score=(train=0.500, test=0.500) total time=  20.6s\n",
      "[CV 3/5] END max_depth=50, max_leaf_nodes=None, min_impurity_decrease=0.5, min_samples_leaf=1000, min_samples_split=50, min_weight_fraction_leaf=0.5;, score=(train=0.500, test=0.500) total time=  20.8s\n",
      "[CV 4/5] END max_depth=50, max_leaf_nodes=None, min_impurity_decrease=0.5, min_samples_leaf=1000, min_samples_split=50, min_weight_fraction_leaf=0.5;, score=(train=0.500, test=0.500) total time=  20.9s\n",
      "[CV 5/5] END max_depth=50, max_leaf_nodes=None, min_impurity_decrease=0.5, min_samples_leaf=1000, min_samples_split=50, min_weight_fraction_leaf=0.5;, score=(train=0.500, test=0.500) total time=  20.8s\n",
      "[CV 1/5] END max_depth=None, max_leaf_nodes=5, min_impurity_decrease=0.25, min_samples_leaf=250, min_samples_split=100, min_weight_fraction_leaf=0.0;, score=(train=0.500, test=0.500) total time=  22.8s\n",
      "[CV 2/5] END max_depth=None, max_leaf_nodes=5, min_impurity_decrease=0.25, min_samples_leaf=250, min_samples_split=100, min_weight_fraction_leaf=0.0;, score=(train=0.500, test=0.500) total time=  22.5s\n",
      "[CV 3/5] END max_depth=None, max_leaf_nodes=5, min_impurity_decrease=0.25, min_samples_leaf=250, min_samples_split=100, min_weight_fraction_leaf=0.0;, score=(train=0.500, test=0.500) total time=  22.1s\n",
      "[CV 4/5] END max_depth=None, max_leaf_nodes=5, min_impurity_decrease=0.25, min_samples_leaf=250, min_samples_split=100, min_weight_fraction_leaf=0.0;, score=(train=0.500, test=0.500) total time=  22.1s\n",
      "[CV 5/5] END max_depth=None, max_leaf_nodes=5, min_impurity_decrease=0.25, min_samples_leaf=250, min_samples_split=100, min_weight_fraction_leaf=0.0;, score=(train=0.500, test=0.500) total time=  21.9s\n",
      "[CV 1/5] END max_depth=50, max_leaf_nodes=2, min_impurity_decrease=0.0, min_samples_leaf=1, min_samples_split=250, min_weight_fraction_leaf=0.25;, score=(train=0.780, test=0.778) total time=  28.3s\n",
      "[CV 2/5] END max_depth=50, max_leaf_nodes=2, min_impurity_decrease=0.0, min_samples_leaf=1, min_samples_split=250, min_weight_fraction_leaf=0.25;, score=(train=0.779, test=0.781) total time=  28.3s\n",
      "[CV 3/5] END max_depth=50, max_leaf_nodes=2, min_impurity_decrease=0.0, min_samples_leaf=1, min_samples_split=250, min_weight_fraction_leaf=0.25;, score=(train=0.779, test=0.780) total time=  28.8s\n",
      "[CV 4/5] END max_depth=50, max_leaf_nodes=2, min_impurity_decrease=0.0, min_samples_leaf=1, min_samples_split=250, min_weight_fraction_leaf=0.25;, score=(train=0.780, test=0.776) total time=  28.7s\n",
      "[CV 5/5] END max_depth=50, max_leaf_nodes=2, min_impurity_decrease=0.0, min_samples_leaf=1, min_samples_split=250, min_weight_fraction_leaf=0.25;, score=(train=0.779, test=0.781) total time=  28.7s\n",
      "[CV 1/5] END max_depth=50, max_leaf_nodes=3, min_impurity_decrease=0.5, min_samples_leaf=1, min_samples_split=2, min_weight_fraction_leaf=0.25;, score=(train=0.500, test=0.500) total time=  21.8s\n",
      "[CV 2/5] END max_depth=50, max_leaf_nodes=3, min_impurity_decrease=0.5, min_samples_leaf=1, min_samples_split=2, min_weight_fraction_leaf=0.25;, score=(train=0.500, test=0.500) total time=  21.7s\n",
      "[CV 3/5] END max_depth=50, max_leaf_nodes=3, min_impurity_decrease=0.5, min_samples_leaf=1, min_samples_split=2, min_weight_fraction_leaf=0.25;, score=(train=0.500, test=0.500) total time=  22.4s\n",
      "[CV 4/5] END max_depth=50, max_leaf_nodes=3, min_impurity_decrease=0.5, min_samples_leaf=1, min_samples_split=2, min_weight_fraction_leaf=0.25;, score=(train=0.500, test=0.500) total time=  22.1s\n",
      "[CV 5/5] END max_depth=50, max_leaf_nodes=3, min_impurity_decrease=0.5, min_samples_leaf=1, min_samples_split=2, min_weight_fraction_leaf=0.25;, score=(train=0.500, test=0.500) total time=  22.0s\n",
      "[CV 1/5] END max_depth=25, max_leaf_nodes=3, min_impurity_decrease=0.0, min_samples_leaf=1000, min_samples_split=1000, min_weight_fraction_leaf=0.5;, score=(train=0.657, test=0.658) total time=  20.8s\n",
      "[CV 2/5] END max_depth=25, max_leaf_nodes=3, min_impurity_decrease=0.0, min_samples_leaf=1000, min_samples_split=1000, min_weight_fraction_leaf=0.5;, score=(train=0.657, test=0.658) total time=  21.0s\n",
      "[CV 3/5] END max_depth=25, max_leaf_nodes=3, min_impurity_decrease=0.0, min_samples_leaf=1000, min_samples_split=1000, min_weight_fraction_leaf=0.5;, score=(train=0.658, test=0.656) total time=  21.0s\n",
      "[CV 4/5] END max_depth=25, max_leaf_nodes=3, min_impurity_decrease=0.0, min_samples_leaf=1000, min_samples_split=1000, min_weight_fraction_leaf=0.5;, score=(train=0.657, test=0.657) total time=  20.9s\n",
      "[CV 5/5] END max_depth=25, max_leaf_nodes=3, min_impurity_decrease=0.0, min_samples_leaf=1000, min_samples_split=1000, min_weight_fraction_leaf=0.5;, score=(train=0.657, test=0.658) total time=  20.8s\n",
      "[CV 1/5] END max_depth=50, max_leaf_nodes=2, min_impurity_decrease=0.75, min_samples_leaf=1000, min_samples_split=100, min_weight_fraction_leaf=0.5;, score=(train=0.500, test=0.500) total time=  20.9s\n",
      "[CV 2/5] END max_depth=50, max_leaf_nodes=2, min_impurity_decrease=0.75, min_samples_leaf=1000, min_samples_split=100, min_weight_fraction_leaf=0.5;, score=(train=0.500, test=0.500) total time=  21.1s\n",
      "[CV 3/5] END max_depth=50, max_leaf_nodes=2, min_impurity_decrease=0.75, min_samples_leaf=1000, min_samples_split=100, min_weight_fraction_leaf=0.5;, score=(train=0.500, test=0.500) total time=  21.0s\n",
      "[CV 4/5] END max_depth=50, max_leaf_nodes=2, min_impurity_decrease=0.75, min_samples_leaf=1000, min_samples_split=100, min_weight_fraction_leaf=0.5;, score=(train=0.500, test=0.500) total time=  20.7s\n",
      "[CV 5/5] END max_depth=50, max_leaf_nodes=2, min_impurity_decrease=0.75, min_samples_leaf=1000, min_samples_split=100, min_weight_fraction_leaf=0.5;, score=(train=0.500, test=0.500) total time=  20.8s\n",
      "[CV 1/5] END max_depth=25, max_leaf_nodes=10, min_impurity_decrease=0.75, min_samples_leaf=1000, min_samples_split=2, min_weight_fraction_leaf=0.5;, score=(train=0.500, test=0.500) total time=  20.8s\n",
      "[CV 2/5] END max_depth=25, max_leaf_nodes=10, min_impurity_decrease=0.75, min_samples_leaf=1000, min_samples_split=2, min_weight_fraction_leaf=0.5;, score=(train=0.500, test=0.500) total time=  21.1s\n",
      "[CV 3/5] END max_depth=25, max_leaf_nodes=10, min_impurity_decrease=0.75, min_samples_leaf=1000, min_samples_split=2, min_weight_fraction_leaf=0.5;, score=(train=0.500, test=0.500) total time=  21.0s\n",
      "[CV 4/5] END max_depth=25, max_leaf_nodes=10, min_impurity_decrease=0.75, min_samples_leaf=1000, min_samples_split=2, min_weight_fraction_leaf=0.5;, score=(train=0.500, test=0.500) total time=  20.6s\n",
      "[CV 5/5] END max_depth=25, max_leaf_nodes=10, min_impurity_decrease=0.75, min_samples_leaf=1000, min_samples_split=2, min_weight_fraction_leaf=0.5;, score=(train=0.500, test=0.500) total time=  21.1s\n",
      "[CV 1/5] END max_depth=50, max_leaf_nodes=10, min_impurity_decrease=0.5, min_samples_leaf=100, min_samples_split=1000, min_weight_fraction_leaf=0.25;, score=(train=0.500, test=0.500) total time=  21.6s\n"
     ]
    },
    {
     "name": "stdout",
     "output_type": "stream",
     "text": [
      "[CV 2/5] END max_depth=50, max_leaf_nodes=10, min_impurity_decrease=0.5, min_samples_leaf=100, min_samples_split=1000, min_weight_fraction_leaf=0.25;, score=(train=0.500, test=0.500) total time=  22.1s\n",
      "[CV 3/5] END max_depth=50, max_leaf_nodes=10, min_impurity_decrease=0.5, min_samples_leaf=100, min_samples_split=1000, min_weight_fraction_leaf=0.25;, score=(train=0.500, test=0.500) total time=  22.5s\n",
      "[CV 4/5] END max_depth=50, max_leaf_nodes=10, min_impurity_decrease=0.5, min_samples_leaf=100, min_samples_split=1000, min_weight_fraction_leaf=0.25;, score=(train=0.500, test=0.500) total time=  22.0s\n",
      "[CV 5/5] END max_depth=50, max_leaf_nodes=10, min_impurity_decrease=0.5, min_samples_leaf=100, min_samples_split=1000, min_weight_fraction_leaf=0.25;, score=(train=0.500, test=0.500) total time=  22.2s\n",
      "[CV 1/5] END max_depth=12, max_leaf_nodes=3, min_impurity_decrease=0.75, min_samples_leaf=50, min_samples_split=100, min_weight_fraction_leaf=0.0;, score=(train=0.500, test=0.500) total time=  22.1s\n",
      "[CV 2/5] END max_depth=12, max_leaf_nodes=3, min_impurity_decrease=0.75, min_samples_leaf=50, min_samples_split=100, min_weight_fraction_leaf=0.0;, score=(train=0.500, test=0.500) total time=  22.1s\n",
      "[CV 3/5] END max_depth=12, max_leaf_nodes=3, min_impurity_decrease=0.75, min_samples_leaf=50, min_samples_split=100, min_weight_fraction_leaf=0.0;, score=(train=0.500, test=0.500) total time=  22.1s\n",
      "[CV 4/5] END max_depth=12, max_leaf_nodes=3, min_impurity_decrease=0.75, min_samples_leaf=50, min_samples_split=100, min_weight_fraction_leaf=0.0;, score=(train=0.500, test=0.500) total time=  21.9s\n",
      "[CV 5/5] END max_depth=12, max_leaf_nodes=3, min_impurity_decrease=0.75, min_samples_leaf=50, min_samples_split=100, min_weight_fraction_leaf=0.0;, score=(train=0.500, test=0.500) total time=  22.0s\n",
      "[CV 1/5] END max_depth=75, max_leaf_nodes=2, min_impurity_decrease=0.0, min_samples_leaf=1000, min_samples_split=1000, min_weight_fraction_leaf=0.25;, score=(train=0.780, test=0.778) total time=  28.1s\n",
      "[CV 2/5] END max_depth=75, max_leaf_nodes=2, min_impurity_decrease=0.0, min_samples_leaf=1000, min_samples_split=1000, min_weight_fraction_leaf=0.25;, score=(train=0.779, test=0.781) total time=  24.3s\n",
      "[CV 3/5] END max_depth=75, max_leaf_nodes=2, min_impurity_decrease=0.0, min_samples_leaf=1000, min_samples_split=1000, min_weight_fraction_leaf=0.25;, score=(train=0.779, test=0.780) total time=  23.7s\n",
      "[CV 4/5] END max_depth=75, max_leaf_nodes=2, min_impurity_decrease=0.0, min_samples_leaf=1000, min_samples_split=1000, min_weight_fraction_leaf=0.25;, score=(train=0.780, test=0.776) total time=  23.5s\n",
      "[CV 5/5] END max_depth=75, max_leaf_nodes=2, min_impurity_decrease=0.0, min_samples_leaf=1000, min_samples_split=1000, min_weight_fraction_leaf=0.25;, score=(train=0.779, test=0.781) total time=  23.7s\n",
      "[CV 1/5] END max_depth=None, max_leaf_nodes=2, min_impurity_decrease=0.25, min_samples_leaf=1, min_samples_split=2, min_weight_fraction_leaf=0.25;, score=(train=0.500, test=0.500) total time=  18.5s\n",
      "[CV 2/5] END max_depth=None, max_leaf_nodes=2, min_impurity_decrease=0.25, min_samples_leaf=1, min_samples_split=2, min_weight_fraction_leaf=0.25;, score=(train=0.500, test=0.500) total time=  18.3s\n",
      "[CV 3/5] END max_depth=None, max_leaf_nodes=2, min_impurity_decrease=0.25, min_samples_leaf=1, min_samples_split=2, min_weight_fraction_leaf=0.25;, score=(train=0.500, test=0.500) total time=  18.4s\n",
      "[CV 4/5] END max_depth=None, max_leaf_nodes=2, min_impurity_decrease=0.25, min_samples_leaf=1, min_samples_split=2, min_weight_fraction_leaf=0.25;, score=(train=0.500, test=0.500) total time=  19.6s\n",
      "[CV 5/5] END max_depth=None, max_leaf_nodes=2, min_impurity_decrease=0.25, min_samples_leaf=1, min_samples_split=2, min_weight_fraction_leaf=0.25;, score=(train=0.500, test=0.500) total time=  18.4s\n",
      "[CV 1/5] END max_depth=75, max_leaf_nodes=None, min_impurity_decrease=0.75, min_samples_leaf=50, min_samples_split=100, min_weight_fraction_leaf=0.0;, score=(train=0.500, test=0.500) total time=  18.4s\n",
      "[CV 2/5] END max_depth=75, max_leaf_nodes=None, min_impurity_decrease=0.75, min_samples_leaf=50, min_samples_split=100, min_weight_fraction_leaf=0.0;, score=(train=0.500, test=0.500) total time=  18.4s\n",
      "[CV 3/5] END max_depth=75, max_leaf_nodes=None, min_impurity_decrease=0.75, min_samples_leaf=50, min_samples_split=100, min_weight_fraction_leaf=0.0;, score=(train=0.500, test=0.500) total time=  18.4s\n",
      "[CV 4/5] END max_depth=75, max_leaf_nodes=None, min_impurity_decrease=0.75, min_samples_leaf=50, min_samples_split=100, min_weight_fraction_leaf=0.0;, score=(train=0.500, test=0.500) total time=  18.3s\n",
      "[CV 5/5] END max_depth=75, max_leaf_nodes=None, min_impurity_decrease=0.75, min_samples_leaf=50, min_samples_split=100, min_weight_fraction_leaf=0.0;, score=(train=0.500, test=0.500) total time=  18.4s\n",
      "[CV 1/5] END max_depth=12, max_leaf_nodes=None, min_impurity_decrease=0.75, min_samples_leaf=1, min_samples_split=100, min_weight_fraction_leaf=0.0;, score=(train=0.500, test=0.500) total time=  18.3s\n",
      "[CV 2/5] END max_depth=12, max_leaf_nodes=None, min_impurity_decrease=0.75, min_samples_leaf=1, min_samples_split=100, min_weight_fraction_leaf=0.0;, score=(train=0.500, test=0.500) total time=  18.2s\n",
      "[CV 3/5] END max_depth=12, max_leaf_nodes=None, min_impurity_decrease=0.75, min_samples_leaf=1, min_samples_split=100, min_weight_fraction_leaf=0.0;, score=(train=0.500, test=0.500) total time=  18.4s\n",
      "[CV 4/5] END max_depth=12, max_leaf_nodes=None, min_impurity_decrease=0.75, min_samples_leaf=1, min_samples_split=100, min_weight_fraction_leaf=0.0;, score=(train=0.500, test=0.500) total time=  18.2s\n",
      "[CV 5/5] END max_depth=12, max_leaf_nodes=None, min_impurity_decrease=0.75, min_samples_leaf=1, min_samples_split=100, min_weight_fraction_leaf=0.0;, score=(train=0.500, test=0.500) total time=  18.4s\n",
      "[CV 1/5] END max_depth=75, max_leaf_nodes=10, min_impurity_decrease=0.0, min_samples_leaf=1000, min_samples_split=1000, min_weight_fraction_leaf=0.0;, score=(train=0.846, test=0.844) total time=  43.9s\n",
      "[CV 2/5] END max_depth=75, max_leaf_nodes=10, min_impurity_decrease=0.0, min_samples_leaf=1000, min_samples_split=1000, min_weight_fraction_leaf=0.0;, score=(train=0.845, test=0.847) total time=  44.2s\n",
      "[CV 3/5] END max_depth=75, max_leaf_nodes=10, min_impurity_decrease=0.0, min_samples_leaf=1000, min_samples_split=1000, min_weight_fraction_leaf=0.0;, score=(train=0.844, test=0.844) total time=  44.0s\n",
      "[CV 4/5] END max_depth=75, max_leaf_nodes=10, min_impurity_decrease=0.0, min_samples_leaf=1000, min_samples_split=1000, min_weight_fraction_leaf=0.0;, score=(train=0.845, test=0.843) total time=  43.8s\n",
      "[CV 5/5] END max_depth=75, max_leaf_nodes=10, min_impurity_decrease=0.0, min_samples_leaf=1000, min_samples_split=1000, min_weight_fraction_leaf=0.0;, score=(train=0.845, test=0.847) total time=  44.3s\n",
      "[CV 1/5] END max_depth=12, max_leaf_nodes=2, min_impurity_decrease=0.75, min_samples_leaf=1000, min_samples_split=2, min_weight_fraction_leaf=0.0;, score=(train=0.500, test=0.500) total time=  18.3s\n",
      "[CV 2/5] END max_depth=12, max_leaf_nodes=2, min_impurity_decrease=0.75, min_samples_leaf=1000, min_samples_split=2, min_weight_fraction_leaf=0.0;, score=(train=0.500, test=0.500) total time=  18.5s\n",
      "[CV 3/5] END max_depth=12, max_leaf_nodes=2, min_impurity_decrease=0.75, min_samples_leaf=1000, min_samples_split=2, min_weight_fraction_leaf=0.0;, score=(train=0.500, test=0.500) total time=  18.4s\n",
      "[CV 4/5] END max_depth=12, max_leaf_nodes=2, min_impurity_decrease=0.75, min_samples_leaf=1000, min_samples_split=2, min_weight_fraction_leaf=0.0;, score=(train=0.500, test=0.500) total time=  18.1s\n",
      "[CV 5/5] END max_depth=12, max_leaf_nodes=2, min_impurity_decrease=0.75, min_samples_leaf=1000, min_samples_split=2, min_weight_fraction_leaf=0.0;, score=(train=0.500, test=0.500) total time=  18.3s\n",
      "[CV 1/5] END max_depth=50, max_leaf_nodes=10, min_impurity_decrease=0.0, min_samples_leaf=1000, min_samples_split=100, min_weight_fraction_leaf=0.0;, score=(train=0.846, test=0.844) total time=  44.0s\n",
      "[CV 2/5] END max_depth=50, max_leaf_nodes=10, min_impurity_decrease=0.0, min_samples_leaf=1000, min_samples_split=100, min_weight_fraction_leaf=0.0;, score=(train=0.845, test=0.847) total time=  44.1s\n"
     ]
    },
    {
     "name": "stdout",
     "output_type": "stream",
     "text": [
      "[CV 3/5] END max_depth=50, max_leaf_nodes=10, min_impurity_decrease=0.0, min_samples_leaf=1000, min_samples_split=100, min_weight_fraction_leaf=0.0;, score=(train=0.844, test=0.844) total time=  44.0s\n",
      "[CV 4/5] END max_depth=50, max_leaf_nodes=10, min_impurity_decrease=0.0, min_samples_leaf=1000, min_samples_split=100, min_weight_fraction_leaf=0.0;, score=(train=0.845, test=0.843) total time=  43.7s\n",
      "[CV 5/5] END max_depth=50, max_leaf_nodes=10, min_impurity_decrease=0.0, min_samples_leaf=1000, min_samples_split=100, min_weight_fraction_leaf=0.0;, score=(train=0.845, test=0.847) total time=  44.1s\n",
      "[CV 1/5] END max_depth=50, max_leaf_nodes=5, min_impurity_decrease=0.25, min_samples_leaf=100, min_samples_split=2, min_weight_fraction_leaf=0.0;, score=(train=0.500, test=0.500) total time=  18.4s\n",
      "[CV 2/5] END max_depth=50, max_leaf_nodes=5, min_impurity_decrease=0.25, min_samples_leaf=100, min_samples_split=2, min_weight_fraction_leaf=0.0;, score=(train=0.500, test=0.500) total time=  18.3s\n",
      "[CV 3/5] END max_depth=50, max_leaf_nodes=5, min_impurity_decrease=0.25, min_samples_leaf=100, min_samples_split=2, min_weight_fraction_leaf=0.0;, score=(train=0.500, test=0.500) total time=  18.3s\n",
      "[CV 4/5] END max_depth=50, max_leaf_nodes=5, min_impurity_decrease=0.25, min_samples_leaf=100, min_samples_split=2, min_weight_fraction_leaf=0.0;, score=(train=0.500, test=0.500) total time=  18.3s\n",
      "[CV 5/5] END max_depth=50, max_leaf_nodes=5, min_impurity_decrease=0.25, min_samples_leaf=100, min_samples_split=2, min_weight_fraction_leaf=0.0;, score=(train=0.500, test=0.500) total time=  18.5s\n",
      "[CV 1/5] END max_depth=25, max_leaf_nodes=5, min_impurity_decrease=0.5, min_samples_leaf=50, min_samples_split=250, min_weight_fraction_leaf=0.0;, score=(train=0.500, test=0.500) total time=  18.5s\n",
      "[CV 2/5] END max_depth=25, max_leaf_nodes=5, min_impurity_decrease=0.5, min_samples_leaf=50, min_samples_split=250, min_weight_fraction_leaf=0.0;, score=(train=0.500, test=0.500) total time=  18.5s\n",
      "[CV 3/5] END max_depth=25, max_leaf_nodes=5, min_impurity_decrease=0.5, min_samples_leaf=50, min_samples_split=250, min_weight_fraction_leaf=0.0;, score=(train=0.500, test=0.500) total time=  18.4s\n",
      "[CV 4/5] END max_depth=25, max_leaf_nodes=5, min_impurity_decrease=0.5, min_samples_leaf=50, min_samples_split=250, min_weight_fraction_leaf=0.0;, score=(train=0.500, test=0.500) total time=  18.2s\n",
      "[CV 5/5] END max_depth=25, max_leaf_nodes=5, min_impurity_decrease=0.5, min_samples_leaf=50, min_samples_split=250, min_weight_fraction_leaf=0.0;, score=(train=0.500, test=0.500) total time=  18.3s\n",
      "[CV 1/5] END max_depth=75, max_leaf_nodes=10, min_impurity_decrease=0.5, min_samples_leaf=100, min_samples_split=50, min_weight_fraction_leaf=0.0;, score=(train=0.500, test=0.500) total time=  18.3s\n",
      "[CV 2/5] END max_depth=75, max_leaf_nodes=10, min_impurity_decrease=0.5, min_samples_leaf=100, min_samples_split=50, min_weight_fraction_leaf=0.0;, score=(train=0.500, test=0.500) total time=  18.4s\n",
      "[CV 3/5] END max_depth=75, max_leaf_nodes=10, min_impurity_decrease=0.5, min_samples_leaf=100, min_samples_split=50, min_weight_fraction_leaf=0.0;, score=(train=0.500, test=0.500) total time=  18.4s\n",
      "[CV 4/5] END max_depth=75, max_leaf_nodes=10, min_impurity_decrease=0.5, min_samples_leaf=100, min_samples_split=50, min_weight_fraction_leaf=0.0;, score=(train=0.500, test=0.500) total time=  18.4s\n",
      "[CV 5/5] END max_depth=75, max_leaf_nodes=10, min_impurity_decrease=0.5, min_samples_leaf=100, min_samples_split=50, min_weight_fraction_leaf=0.0;, score=(train=0.500, test=0.500) total time=  18.4s\n",
      "[CV 1/5] END max_depth=12, max_leaf_nodes=None, min_impurity_decrease=0.75, min_samples_leaf=50, min_samples_split=1000, min_weight_fraction_leaf=0.5;, score=(train=0.500, test=0.500) total time=  17.4s\n",
      "[CV 2/5] END max_depth=12, max_leaf_nodes=None, min_impurity_decrease=0.75, min_samples_leaf=50, min_samples_split=1000, min_weight_fraction_leaf=0.5;, score=(train=0.500, test=0.500) total time=  17.4s\n",
      "[CV 3/5] END max_depth=12, max_leaf_nodes=None, min_impurity_decrease=0.75, min_samples_leaf=50, min_samples_split=1000, min_weight_fraction_leaf=0.5;, score=(train=0.500, test=0.500) total time=  17.5s\n",
      "[CV 4/5] END max_depth=12, max_leaf_nodes=None, min_impurity_decrease=0.75, min_samples_leaf=50, min_samples_split=1000, min_weight_fraction_leaf=0.5;, score=(train=0.500, test=0.500) total time=  17.5s\n",
      "[CV 5/5] END max_depth=12, max_leaf_nodes=None, min_impurity_decrease=0.75, min_samples_leaf=50, min_samples_split=1000, min_weight_fraction_leaf=0.5;, score=(train=0.500, test=0.500) total time=  17.3s\n",
      "[CV 1/5] END max_depth=75, max_leaf_nodes=5, min_impurity_decrease=0.5, min_samples_leaf=1000, min_samples_split=1000, min_weight_fraction_leaf=0.0;, score=(train=0.500, test=0.500) total time=  18.3s\n",
      "[CV 2/5] END max_depth=75, max_leaf_nodes=5, min_impurity_decrease=0.5, min_samples_leaf=1000, min_samples_split=1000, min_weight_fraction_leaf=0.0;, score=(train=0.500, test=0.500) total time=  18.5s\n",
      "[CV 3/5] END max_depth=75, max_leaf_nodes=5, min_impurity_decrease=0.5, min_samples_leaf=1000, min_samples_split=1000, min_weight_fraction_leaf=0.0;, score=(train=0.500, test=0.500) total time=  18.4s\n",
      "[CV 4/5] END max_depth=75, max_leaf_nodes=5, min_impurity_decrease=0.5, min_samples_leaf=1000, min_samples_split=1000, min_weight_fraction_leaf=0.0;, score=(train=0.500, test=0.500) total time=  18.1s\n",
      "[CV 5/5] END max_depth=75, max_leaf_nodes=5, min_impurity_decrease=0.5, min_samples_leaf=1000, min_samples_split=1000, min_weight_fraction_leaf=0.0;, score=(train=0.500, test=0.500) total time=  18.5s\n",
      "[CV 1/5] END max_depth=None, max_leaf_nodes=2, min_impurity_decrease=0.0, min_samples_leaf=100, min_samples_split=2, min_weight_fraction_leaf=0.0;, score=(train=0.780, test=0.779) total time=  26.7s\n",
      "[CV 2/5] END max_depth=None, max_leaf_nodes=2, min_impurity_decrease=0.0, min_samples_leaf=100, min_samples_split=2, min_weight_fraction_leaf=0.0;, score=(train=0.780, test=0.782) total time=  26.6s\n",
      "[CV 3/5] END max_depth=None, max_leaf_nodes=2, min_impurity_decrease=0.0, min_samples_leaf=100, min_samples_split=2, min_weight_fraction_leaf=0.0;, score=(train=0.780, test=0.781) total time=  26.6s\n",
      "[CV 4/5] END max_depth=None, max_leaf_nodes=2, min_impurity_decrease=0.0, min_samples_leaf=100, min_samples_split=2, min_weight_fraction_leaf=0.0;, score=(train=0.779, test=0.776) total time=  26.4s\n",
      "[CV 5/5] END max_depth=None, max_leaf_nodes=2, min_impurity_decrease=0.0, min_samples_leaf=100, min_samples_split=2, min_weight_fraction_leaf=0.0;, score=(train=0.780, test=0.781) total time=  26.5s\n",
      "[CV 1/5] END max_depth=None, max_leaf_nodes=None, min_impurity_decrease=0.25, min_samples_leaf=1, min_samples_split=100, min_weight_fraction_leaf=0.25;, score=(train=0.500, test=0.500) total time=  18.3s\n",
      "[CV 2/5] END max_depth=None, max_leaf_nodes=None, min_impurity_decrease=0.25, min_samples_leaf=1, min_samples_split=100, min_weight_fraction_leaf=0.25;, score=(train=0.500, test=0.500) total time=  18.3s\n",
      "[CV 3/5] END max_depth=None, max_leaf_nodes=None, min_impurity_decrease=0.25, min_samples_leaf=1, min_samples_split=100, min_weight_fraction_leaf=0.25;, score=(train=0.500, test=0.500) total time=  18.2s\n",
      "[CV 4/5] END max_depth=None, max_leaf_nodes=None, min_impurity_decrease=0.25, min_samples_leaf=1, min_samples_split=100, min_weight_fraction_leaf=0.25;, score=(train=0.500, test=0.500) total time=  18.2s\n",
      "[CV 5/5] END max_depth=None, max_leaf_nodes=None, min_impurity_decrease=0.25, min_samples_leaf=1, min_samples_split=100, min_weight_fraction_leaf=0.25;, score=(train=0.500, test=0.500) total time=  18.5s\n",
      "[CV 1/5] END max_depth=None, max_leaf_nodes=None, min_impurity_decrease=0.0, min_samples_leaf=50, min_samples_split=100, min_weight_fraction_leaf=0.5;, score=(train=0.657, test=0.658) total time=  17.6s\n",
      "[CV 2/5] END max_depth=None, max_leaf_nodes=None, min_impurity_decrease=0.0, min_samples_leaf=50, min_samples_split=100, min_weight_fraction_leaf=0.5;, score=(train=0.657, test=0.658) total time=  17.5s\n",
      "[CV 3/5] END max_depth=None, max_leaf_nodes=None, min_impurity_decrease=0.0, min_samples_leaf=50, min_samples_split=100, min_weight_fraction_leaf=0.5;, score=(train=0.658, test=0.656) total time=  17.6s\n"
     ]
    },
    {
     "name": "stdout",
     "output_type": "stream",
     "text": [
      "[CV 4/5] END max_depth=None, max_leaf_nodes=None, min_impurity_decrease=0.0, min_samples_leaf=50, min_samples_split=100, min_weight_fraction_leaf=0.5;, score=(train=0.657, test=0.657) total time=  17.3s\n",
      "[CV 5/5] END max_depth=None, max_leaf_nodes=None, min_impurity_decrease=0.0, min_samples_leaf=50, min_samples_split=100, min_weight_fraction_leaf=0.5;, score=(train=0.657, test=0.658) total time=  17.6s\n",
      "[CV 1/5] END max_depth=12, max_leaf_nodes=10, min_impurity_decrease=0.75, min_samples_leaf=1000, min_samples_split=50, min_weight_fraction_leaf=0.25;, score=(train=0.500, test=0.500) total time=  18.3s\n",
      "[CV 2/5] END max_depth=12, max_leaf_nodes=10, min_impurity_decrease=0.75, min_samples_leaf=1000, min_samples_split=50, min_weight_fraction_leaf=0.25;, score=(train=0.500, test=0.500) total time=  18.3s\n",
      "[CV 3/5] END max_depth=12, max_leaf_nodes=10, min_impurity_decrease=0.75, min_samples_leaf=1000, min_samples_split=50, min_weight_fraction_leaf=0.25;, score=(train=0.500, test=0.500) total time=  18.3s\n",
      "[CV 4/5] END max_depth=12, max_leaf_nodes=10, min_impurity_decrease=0.75, min_samples_leaf=1000, min_samples_split=50, min_weight_fraction_leaf=0.25;, score=(train=0.500, test=0.500) total time=  18.2s\n",
      "[CV 5/5] END max_depth=12, max_leaf_nodes=10, min_impurity_decrease=0.75, min_samples_leaf=1000, min_samples_split=50, min_weight_fraction_leaf=0.25;, score=(train=0.500, test=0.500) total time=  18.3s\n",
      "[CV 1/5] END max_depth=75, max_leaf_nodes=None, min_impurity_decrease=0.5, min_samples_leaf=100, min_samples_split=1000, min_weight_fraction_leaf=0.25;, score=(train=0.500, test=0.500) total time=  18.3s\n",
      "[CV 2/5] END max_depth=75, max_leaf_nodes=None, min_impurity_decrease=0.5, min_samples_leaf=100, min_samples_split=1000, min_weight_fraction_leaf=0.25;, score=(train=0.500, test=0.500) total time=  18.2s\n",
      "[CV 3/5] END max_depth=75, max_leaf_nodes=None, min_impurity_decrease=0.5, min_samples_leaf=100, min_samples_split=1000, min_weight_fraction_leaf=0.25;, score=(train=0.500, test=0.500) total time=  18.3s\n",
      "[CV 4/5] END max_depth=75, max_leaf_nodes=None, min_impurity_decrease=0.5, min_samples_leaf=100, min_samples_split=1000, min_weight_fraction_leaf=0.25;, score=(train=0.500, test=0.500) total time=  18.2s\n",
      "[CV 5/5] END max_depth=75, max_leaf_nodes=None, min_impurity_decrease=0.5, min_samples_leaf=100, min_samples_split=1000, min_weight_fraction_leaf=0.25;, score=(train=0.500, test=0.500) total time=  18.2s\n"
     ]
    },
    {
     "data": {
      "text/plain": [
       "RandomizedSearchCV(estimator=RandomForestClassifier(n_estimators=250,\n",
       "                                                    random_state=42),\n",
       "                   n_iter=250,\n",
       "                   param_distributions={'max_depth': [None, 25, 50, 75, 12],\n",
       "                                        'max_leaf_nodes': [None, 2, 3, 5, 10],\n",
       "                                        'min_impurity_decrease': [0.0, 0.25,\n",
       "                                                                  0.5, 0.75],\n",
       "                                        'min_samples_leaf': [1, 50, 100, 250,\n",
       "                                                             1000],\n",
       "                                        'min_samples_split': [2, 50, 100, 250,\n",
       "                                                              1000],\n",
       "                                        'min_weight_fraction_leaf': [0.0, 0.25,\n",
       "                                                                     0.5]},\n",
       "                   return_train_score=True, verbose=3)"
      ]
     },
     "execution_count": 85,
     "metadata": {},
     "output_type": "execute_result"
    }
   ],
   "source": [
    "GSCV.fit(X_train_sub, y_train_mid)"
   ]
  },
  {
   "cell_type": "code",
   "execution_count": 86,
   "metadata": {},
   "outputs": [],
   "source": [
    "bestForest_ = GSCV.best_estimator_"
   ]
  },
  {
   "cell_type": "code",
   "execution_count": 87,
   "metadata": {},
   "outputs": [
    {
     "data": {
      "text/plain": [
       "0.9564551753350882"
      ]
     },
     "execution_count": 87,
     "metadata": {},
     "output_type": "execute_result"
    }
   ],
   "source": [
    "bestForest_.score(X_train_sub, y_train_mid)"
   ]
  },
  {
   "cell_type": "code",
   "execution_count": 88,
   "metadata": {},
   "outputs": [
    {
     "name": "stdout",
     "output_type": "stream",
     "text": [
      "accuracy: 0.9518\n",
      "f1_score: 0.9520015933081061\n",
      "roc_auc_score: 0.9519926110839103\n",
      "precision_score: 0.9639040129058278\n",
      "recall_score: 0.9403895337399174\n",
      "bias =  0.04354482466491183\n",
      "variance =  0.004655175335088191\n"
     ]
    }
   ],
   "source": [
    "print('accuracy:', accuracy_score(bestForest_.predict(X_test_sub), y_test_mid))\n",
    "print('f1_score:', f1_score(bestForest_.predict(X_test_sub), y_test_mid))\n",
    "print('roc_auc_score:', roc_auc_score(bestForest_.predict(X_test_sub), y_test_mid))\n",
    "print('precision_score:', precision_score(bestForest_.predict(X_test_sub), y_test_mid))\n",
    "print('recall_score:', recall_score(bestForest_.predict(X_test_sub), y_test_mid))\n",
    "bias = 1 - accuracy_score(bestForest_.predict(X_train_sub), y_train_mid)\n",
    "print('bias = ', bias)\n",
    "variance = 1 - accuracy_score(bestForest_.predict(X_test_sub), y_test_mid) - bias\n",
    "print('variance = ', variance)"
   ]
  },
  {
   "cell_type": "code",
   "execution_count": 89,
   "metadata": {},
   "outputs": [],
   "source": [
    "rfeTree = RFECV(DecisionTreeClassifier(random_state = 42), min_features_to_select = 5)"
   ]
  },
  {
   "cell_type": "code",
   "execution_count": 90,
   "metadata": {},
   "outputs": [
    {
     "data": {
      "text/plain": [
       "RFECV(estimator=DecisionTreeClassifier(random_state=42),\n",
       "      min_features_to_select=5)"
      ]
     },
     "execution_count": 90,
     "metadata": {},
     "output_type": "execute_result"
    }
   ],
   "source": [
    "rfeTree.fit(X_train_mid, y_train_mid)"
   ]
  },
  {
   "cell_type": "code",
   "execution_count": 91,
   "metadata": {},
   "outputs": [
    {
     "data": {
      "text/plain": [
       "array([1, 1, 1, 1, 1, 1, 3, 1, 1, 2, 1, 1, 1])"
      ]
     },
     "execution_count": 91,
     "metadata": {},
     "output_type": "execute_result"
    }
   ],
   "source": [
    "rfeTree.ranking_"
   ]
  },
  {
   "cell_type": "code",
   "execution_count": 92,
   "metadata": {},
   "outputs": [],
   "source": [
    "X_train_sub_tree = rfeTree.transform(X_train_mid)\n",
    "X_test_sub_tree = rfeTree.transform(X_test_mid)"
   ]
  },
  {
   "cell_type": "code",
   "execution_count": 93,
   "metadata": {},
   "outputs": [
    {
     "name": "stdout",
     "output_type": "stream",
     "text": [
      "0.9930773652839551\n",
      "0.9571\n"
     ]
    }
   ],
   "source": [
    "TreeSub = DecisionTreeClassifier(random_state = 42)\n",
    "TreeSub.fit(X_train_sub_tree, y_train_mid)\n",
    "print(TreeSub.score(X_train_sub_tree, y_train_mid))\n",
    "print(TreeSub.score(X_test_sub_tree, y_test_mid))"
   ]
  },
  {
   "cell_type": "code",
   "execution_count": 94,
   "metadata": {},
   "outputs": [],
   "source": [
    "params = {\n",
    "    'min_samples_split' : [2, 50, 100, 250, 1000],\\\n",
    "    'min_samples_leaf' : [1, 50, 100, 250, 1000], \\\n",
    "    'min_weight_fraction_leaf' : [0.0, 0.25, 0.5],\\\n",
    "    'max_leaf_nodes' : [None, 2, 3, 5, 10],\\\n",
    "    'min_impurity_decrease' : [0.0, 0.25, 0.5, 0.75],\\\n",
    "    'max_depth' : [None, 25, 50, 75, 12]\n",
    "}"
   ]
  },
  {
   "cell_type": "code",
   "execution_count": 95,
   "metadata": {},
   "outputs": [],
   "source": [
    "TGS = GridSearchCV(TreeSub, params)"
   ]
  },
  {
   "cell_type": "code",
   "execution_count": 96,
   "metadata": {},
   "outputs": [
    {
     "data": {
      "text/plain": [
       "GridSearchCV(estimator=DecisionTreeClassifier(random_state=42),\n",
       "             param_grid={'max_depth': [None, 25, 50, 75, 12],\n",
       "                         'max_leaf_nodes': [None, 2, 3, 5, 10],\n",
       "                         'min_impurity_decrease': [0.0, 0.25, 0.5, 0.75],\n",
       "                         'min_samples_leaf': [1, 50, 100, 250, 1000],\n",
       "                         'min_samples_split': [2, 50, 100, 250, 1000],\n",
       "                         'min_weight_fraction_leaf': [0.0, 0.25, 0.5]})"
      ]
     },
     "execution_count": 96,
     "metadata": {},
     "output_type": "execute_result"
    }
   ],
   "source": [
    "TGS.fit(X_train_sub_tree, y_train_mid)"
   ]
  },
  {
   "cell_type": "code",
   "execution_count": 97,
   "metadata": {},
   "outputs": [],
   "source": [
    "bestTree = TGS.best_estimator_"
   ]
  },
  {
   "cell_type": "code",
   "execution_count": 100,
   "metadata": {},
   "outputs": [
    {
     "name": "stdout",
     "output_type": "stream",
     "text": [
      "accuracy: 0.9571\n",
      "f1_score: 0.9565305502077212\n",
      "roc_auc_score: 0.9570569325081418\n",
      "precision_score: 0.9613034623217923\n",
      "recall_score: 0.9518047993547086\n",
      "bias =  0.006922634716044929\n",
      "variance =  0.03597736528395512\n"
     ]
    }
   ],
   "source": [
    "y_pred = bestTree.predict(X_test_sub_tree)\n",
    "y_pred_train = bestTree.predict(X_train_sub_tree)\n",
    "print('accuracy:', accuracy_score(y_test_mid, y_pred))\n",
    "print('f1_score:', f1_score(y_test_mid, y_pred))\n",
    "print('roc_auc_score:', roc_auc_score(y_test_mid, y_pred))\n",
    "print('precision_score:', precision_score(y_test_mid, y_pred))\n",
    "print('recall_score:', recall_score(y_test_mid, y_pred))\n",
    "bias = 1 - accuracy_score(y_train_mid, y_pred_train)\n",
    "print('bias = ', bias)\n",
    "variance = 1 - accuracy_score(y_test_mid, y_pred) - bias\n",
    "print('variance = ', variance)"
   ]
  },
  {
   "cell_type": "code",
   "execution_count": 113,
   "metadata": {},
   "outputs": [],
   "source": [
    "from sklearn.ensemble import RandomForestClassifier"
   ]
  },
  {
   "cell_type": "code",
   "execution_count": 114,
   "metadata": {},
   "outputs": [
    {
     "data": {
      "text/plain": [
       "RandomForestClassifier(random_state=42)"
      ]
     },
     "execution_count": 114,
     "metadata": {},
     "output_type": "execute_result"
    }
   ],
   "source": [
    "forest = RandomForestClassifier(random_state = 42)\n",
    "forest.fit(X_train_mid, y_train_mid)"
   ]
  },
  {
   "cell_type": "code",
   "execution_count": 117,
   "metadata": {},
   "outputs": [
    {
     "name": "stdout",
     "output_type": "stream",
     "text": [
      "Fitting estimator with 13 features.\n",
      "Fitting estimator with 11 features.\n",
      "Fitting estimator with 9 features.\n",
      "Fitting estimator with 7 features.\n",
      "Fitting estimator with 13 features.\n",
      "Fitting estimator with 11 features.\n",
      "Fitting estimator with 9 features.\n",
      "Fitting estimator with 7 features.\n",
      "Fitting estimator with 13 features.\n",
      "Fitting estimator with 11 features.\n",
      "Fitting estimator with 9 features.\n",
      "Fitting estimator with 7 features.\n"
     ]
    },
    {
     "data": {
      "text/plain": [
       "RFECV(cv=3, estimator=RandomForestClassifier(random_state=42),\n",
       "      min_features_to_select=5, step=2, verbose=1)"
      ]
     },
     "execution_count": 117,
     "metadata": {},
     "output_type": "execute_result"
    }
   ],
   "source": [
    "rfeForest = RFECV(forest, min_features_to_select = 5, verbose = 1, step = 2, cv = 3)\n",
    "rfeForest.fit(X_train_mid, y_train_mid)"
   ]
  },
  {
   "cell_type": "code",
   "execution_count": 118,
   "metadata": {},
   "outputs": [
    {
     "name": "stdout",
     "output_type": "stream",
     "text": [
      "0.9930531602674655\n",
      "0.9637\n",
      "accuracy: 0.9637\n",
      "f1_score: 0.9634109464771696\n",
      "roc_auc_score: 0.9636956230591879\n",
      "precision_score: 0.9637023593466425\n",
      "recall_score: 0.9631197097944377\n",
      "bias =  0.0069468397325345155\n",
      "variance =  0.029353160267465483\n"
     ]
    }
   ],
   "source": [
    "print(forest.score(X_train_mid, y_train_mid))\n",
    "print(forest.score(X_test_mid, y_test_mid))\n",
    "ModelMetrics(forest)"
   ]
  },
  {
   "cell_type": "code",
   "execution_count": 119,
   "metadata": {},
   "outputs": [],
   "source": [
    "X_train_forest_sub = rfeForest.transform(X_train_mid)\n",
    "X_test_forest_sub = rfeForest.transform(X_test_mid)"
   ]
  },
  {
   "cell_type": "code",
   "execution_count": 120,
   "metadata": {},
   "outputs": [
    {
     "name": "stdout",
     "output_type": "stream",
     "text": [
      "0.9930531602674655\n",
      "0.9637\n"
     ]
    }
   ],
   "source": [
    "forest = RandomForestClassifier(random_state = 42)\n",
    "forest.fit(X_train_forest_sub, y_train_mid)\n",
    "print(forest.score(X_train_forest_sub, y_train_mid))\n",
    "print(forest.score(X_test_forest_sub, y_test_mid))"
   ]
  },
  {
   "cell_type": "code",
   "execution_count": 121,
   "metadata": {},
   "outputs": [
    {
     "name": "stdout",
     "output_type": "stream",
     "text": [
      "accuracy: 0.9061\n",
      "f1_score: 0.603295310519645\n",
      "roc_auc_score: 0.7350162656586102\n",
      "precision_score: 0.7735644637053087\n",
      "recall_score: 0.49445983379501385\n",
      "bias =  0.0069468397325345155\n",
      "variance =  0.08695316026746547\n"
     ]
    }
   ],
   "source": [
    "print('accuracy:', accuracy_score(forest.predict(rfeForest.transform(X_test)), y_test))\n",
    "print('f1_score:', f1_score(forest.predict(rfeForest.transform(X_test)), y_test))\n",
    "print('roc_auc_score:', roc_auc_score(forest.predict(rfeForest.transform(X_test)), y_test))\n",
    "print('precision_score:', precision_score(forest.predict(rfeForest.transform(X_test)), y_test))\n",
    "print('recall_score:', recall_score(forest.predict(rfeForest.transform(X_test)), y_test))\n",
    "bias = 1 - accuracy_score(forest.predict(X_train_forest_sub), y_train_mid)\n",
    "print('bias = ', bias)\n",
    "variance = 1 - accuracy_score(forest.predict(rfeForest.transform(X_test)), y_test) - bias\n",
    "print('variance = ', variance)"
   ]
  },
  {
   "cell_type": "code",
   "execution_count": 122,
   "metadata": {},
   "outputs": [],
   "source": [
    "from sklearn.model_selection import RandomizedSearchCV"
   ]
  },
  {
   "cell_type": "code",
   "execution_count": 123,
   "metadata": {},
   "outputs": [
    {
     "name": "stdout",
     "output_type": "stream",
     "text": [
      "Fitting 3 folds for each of 250 candidates, totalling 750 fits\n"
     ]
    },
    {
     "data": {
      "text/plain": [
       "RandomizedSearchCV(cv=3, estimator=RandomForestClassifier(random_state=42),\n",
       "                   n_iter=250,\n",
       "                   param_distributions={'max_depth': [None, 25, 50, 75, 12],\n",
       "                                        'max_leaf_nodes': [None, 2, 3, 5, 10],\n",
       "                                        'min_impurity_decrease': [0.0, 0.25,\n",
       "                                                                  0.5, 0.75],\n",
       "                                        'min_samples_leaf': [1, 50, 100, 250,\n",
       "                                                             1000],\n",
       "                                        'min_samples_split': [2, 50, 100, 250,\n",
       "                                                              1000],\n",
       "                                        'min_weight_fraction_leaf': [0.0, 0.25,\n",
       "                                                                     0.5]},\n",
       "                   verbose=1)"
      ]
     },
     "execution_count": 123,
     "metadata": {},
     "output_type": "execute_result"
    }
   ],
   "source": [
    "clf = RandomizedSearchCV(forest, params, verbose = 1, n_iter = 250, cv = 3)\n",
    "clf.fit(X_train_forest_sub, y_train_mid)"
   ]
  },
  {
   "cell_type": "code",
   "execution_count": 124,
   "metadata": {},
   "outputs": [
    {
     "data": {
      "text/plain": [
       "{'min_weight_fraction_leaf': 0.0,\n",
       " 'min_samples_split': 250,\n",
       " 'min_samples_leaf': 50,\n",
       " 'min_impurity_decrease': 0.0,\n",
       " 'max_leaf_nodes': None,\n",
       " 'max_depth': 50}"
      ]
     },
     "execution_count": 124,
     "metadata": {},
     "output_type": "execute_result"
    }
   ],
   "source": [
    "clf.best_params_"
   ]
  },
  {
   "cell_type": "code",
   "execution_count": 125,
   "metadata": {},
   "outputs": [],
   "source": [
    "bestForest = clf.best_estimator_"
   ]
  },
  {
   "cell_type": "code",
   "execution_count": 126,
   "metadata": {},
   "outputs": [
    {
     "name": "stdout",
     "output_type": "stream",
     "text": [
      "0.9239478381894648\n",
      "0.922\n"
     ]
    }
   ],
   "source": [
    "print(bestForest.score(X_train_forest_sub, y_train_mid))\n",
    "print(bestForest.score(X_test_forest_sub, y_test_mid))"
   ]
  },
  {
   "cell_type": "code",
   "execution_count": 127,
   "metadata": {},
   "outputs": [
    {
     "name": "stdout",
     "output_type": "stream",
     "text": [
      "accuracy: 0.879\n",
      "f1_score: 0.5736434108527132\n",
      "roc_auc_score: 0.7057917589062684\n",
      "precision_score: 0.8819068255687974\n",
      "recall_score: 0.425065274151436\n",
      "bias =  0.0760521618105352\n",
      "variance =  0.044947838189464795\n"
     ]
    }
   ],
   "source": [
    "print('accuracy:', accuracy_score(bestForest.predict(rfeForest.transform(X_test)), y_test))\n",
    "print('f1_score:', f1_score(bestForest.predict(rfeForest.transform(X_test)), y_test))\n",
    "print('roc_auc_score:', roc_auc_score(bestForest.predict(rfeForest.transform(X_test)), y_test))\n",
    "print('precision_score:', precision_score(bestForest.predict(rfeForest.transform(X_test)), y_test))\n",
    "print('recall_score:', recall_score(bestForest.predict(rfeForest.transform(X_test)), y_test))\n",
    "bias = 1 - accuracy_score(bestForest.predict(X_train_forest_sub), y_train_mid)\n",
    "print('bias = ', bias)\n",
    "variance = 1 - accuracy_score(bestForest.predict(rfeForest.transform(X_test)), y_test) - bias\n",
    "print('variance = ', variance)"
   ]
  },
  {
   "cell_type": "code",
   "execution_count": 128,
   "metadata": {},
   "outputs": [],
   "source": [
    "from sklearn.ensemble import RandomForestClassifier"
   ]
  },
  {
   "cell_type": "code",
   "execution_count": 129,
   "metadata": {},
   "outputs": [
    {
     "name": "stdout",
     "output_type": "stream",
     "text": [
      "0.9930773652839551\n",
      "0.9636\n"
     ]
    }
   ],
   "source": [
    "forest = RandomForestClassifier(random_state = 42, n_estimators = 500)\n",
    "forest.fit(X_train_mid, y_train_mid)\n",
    "print(forest.score(X_train_mid, y_train_mid))\n",
    "print(forest.score(X_test_mid, y_test_mid))"
   ]
  },
  {
   "cell_type": "code",
   "execution_count": 130,
   "metadata": {},
   "outputs": [
    {
     "name": "stdout",
     "output_type": "stream",
     "text": [
      "accuracy: 0.9636\n",
      "f1_score: 0.9633434038267874\n",
      "roc_auc_score: 0.9635918152286643\n",
      "precision_score: 0.9645089735833837\n",
      "recall_score: 0.9621806477569905\n",
      "bias =  0.006922634716044929\n",
      "variance =  0.02947736528395506\n"
     ]
    }
   ],
   "source": [
    "ModelMetrics(forest)"
   ]
  },
  {
   "cell_type": "code",
   "execution_count": 131,
   "metadata": {},
   "outputs": [],
   "source": [
    "from joblib import dump"
   ]
  },
  {
   "cell_type": "code",
   "execution_count": 132,
   "metadata": {},
   "outputs": [
    {
     "data": {
      "text/plain": [
       "['forest.joblib']"
      ]
     },
     "execution_count": 132,
     "metadata": {},
     "output_type": "execute_result"
    }
   ],
   "source": [
    "dump(forest, 'forest.joblib')"
   ]
  },
  {
   "cell_type": "code",
   "execution_count": null,
   "metadata": {},
   "outputs": [],
   "source": []
  }
 ],
 "metadata": {
  "kernelspec": {
   "display_name": "Python 3 (ipykernel)",
   "language": "python",
   "name": "python3"
  },
  "language_info": {
   "codemirror_mode": {
    "name": "ipython",
    "version": 3
   },
   "file_extension": ".py",
   "mimetype": "text/x-python",
   "name": "python",
   "nbconvert_exporter": "python",
   "pygments_lexer": "ipython3",
   "version": "3.10.1"
  }
 },
 "nbformat": 4,
 "nbformat_minor": 4
}
