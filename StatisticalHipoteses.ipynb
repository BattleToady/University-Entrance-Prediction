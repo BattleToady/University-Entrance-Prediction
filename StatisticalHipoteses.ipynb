{
 "cells": [
  {
   "cell_type": "code",
   "execution_count": 1,
   "metadata": {},
   "outputs": [],
   "source": [
    "import pandas as pd"
   ]
  },
  {
   "cell_type": "code",
   "execution_count": 2,
   "metadata": {},
   "outputs": [],
   "source": [
    "df = pd.read_csv('df.csv')"
   ]
  },
  {
   "cell_type": "code",
   "execution_count": 3,
   "metadata": {},
   "outputs": [
    {
     "data": {
      "text/html": [
       "<div>\n",
       "<style scoped>\n",
       "    .dataframe tbody tr th:only-of-type {\n",
       "        vertical-align: middle;\n",
       "    }\n",
       "\n",
       "    .dataframe tbody tr th {\n",
       "        vertical-align: top;\n",
       "    }\n",
       "\n",
       "    .dataframe thead th {\n",
       "        text-align: right;\n",
       "    }\n",
       "</style>\n",
       "<table border=\"1\" class=\"dataframe\">\n",
       "  <thead>\n",
       "    <tr style=\"text-align: right;\">\n",
       "      <th></th>\n",
       "      <th>Unnamed: 0</th>\n",
       "      <th>priority</th>\n",
       "      <th>mark</th>\n",
       "      <th>kvota</th>\n",
       "      <th>vstup</th>\n",
       "      <th>mark_mean_years</th>\n",
       "      <th>placesCount_years</th>\n",
       "      <th>budgetCount_years</th>\n",
       "      <th>contractCount_years</th>\n",
       "      <th>budget_mark_mean_years</th>\n",
       "      <th>abit_count_years</th>\n",
       "      <th>mark_max_years</th>\n",
       "      <th>mark_min_years</th>\n",
       "      <th>budget_mark_max_years</th>\n",
       "      <th>budget_mark_min_years</th>\n",
       "    </tr>\n",
       "  </thead>\n",
       "  <tbody>\n",
       "    <tr>\n",
       "      <th>0</th>\n",
       "      <td>0</td>\n",
       "      <td>3</td>\n",
       "      <td>0.995548</td>\n",
       "      <td>0</td>\n",
       "      <td>0</td>\n",
       "      <td>0.746759</td>\n",
       "      <td>0.042491</td>\n",
       "      <td>0.051154</td>\n",
       "      <td>1.143596e-08</td>\n",
       "      <td>0.991546</td>\n",
       "      <td>0.157225</td>\n",
       "      <td>1.0</td>\n",
       "      <td>0.585326</td>\n",
       "      <td>0.90961</td>\n",
       "      <td>1.0</td>\n",
       "    </tr>\n",
       "    <tr>\n",
       "      <th>1</th>\n",
       "      <td>1</td>\n",
       "      <td>0</td>\n",
       "      <td>0.986195</td>\n",
       "      <td>0</td>\n",
       "      <td>1</td>\n",
       "      <td>0.746759</td>\n",
       "      <td>0.042491</td>\n",
       "      <td>0.051154</td>\n",
       "      <td>1.143596e-08</td>\n",
       "      <td>0.991546</td>\n",
       "      <td>0.157225</td>\n",
       "      <td>1.0</td>\n",
       "      <td>0.585326</td>\n",
       "      <td>0.90961</td>\n",
       "      <td>1.0</td>\n",
       "    </tr>\n",
       "    <tr>\n",
       "      <th>2</th>\n",
       "      <td>2</td>\n",
       "      <td>9</td>\n",
       "      <td>0.982558</td>\n",
       "      <td>0</td>\n",
       "      <td>0</td>\n",
       "      <td>0.746759</td>\n",
       "      <td>0.042491</td>\n",
       "      <td>0.051154</td>\n",
       "      <td>1.143596e-08</td>\n",
       "      <td>0.991546</td>\n",
       "      <td>0.157225</td>\n",
       "      <td>1.0</td>\n",
       "      <td>0.585326</td>\n",
       "      <td>0.90961</td>\n",
       "      <td>1.0</td>\n",
       "    </tr>\n",
       "    <tr>\n",
       "      <th>3</th>\n",
       "      <td>3</td>\n",
       "      <td>2</td>\n",
       "      <td>0.977881</td>\n",
       "      <td>0</td>\n",
       "      <td>0</td>\n",
       "      <td>0.746759</td>\n",
       "      <td>0.042491</td>\n",
       "      <td>0.051154</td>\n",
       "      <td>1.143596e-08</td>\n",
       "      <td>0.991546</td>\n",
       "      <td>0.157225</td>\n",
       "      <td>1.0</td>\n",
       "      <td>0.585326</td>\n",
       "      <td>0.90961</td>\n",
       "      <td>1.0</td>\n",
       "    </tr>\n",
       "    <tr>\n",
       "      <th>4</th>\n",
       "      <td>4</td>\n",
       "      <td>3</td>\n",
       "      <td>0.974764</td>\n",
       "      <td>0</td>\n",
       "      <td>0</td>\n",
       "      <td>0.746759</td>\n",
       "      <td>0.042491</td>\n",
       "      <td>0.051154</td>\n",
       "      <td>1.143596e-08</td>\n",
       "      <td>0.991546</td>\n",
       "      <td>0.157225</td>\n",
       "      <td>1.0</td>\n",
       "      <td>0.585326</td>\n",
       "      <td>0.90961</td>\n",
       "      <td>1.0</td>\n",
       "    </tr>\n",
       "  </tbody>\n",
       "</table>\n",
       "</div>"
      ],
      "text/plain": [
       "   Unnamed: 0  priority      mark  kvota  vstup  mark_mean_years  \\\n",
       "0           0         3  0.995548      0      0         0.746759   \n",
       "1           1         0  0.986195      0      1         0.746759   \n",
       "2           2         9  0.982558      0      0         0.746759   \n",
       "3           3         2  0.977881      0      0         0.746759   \n",
       "4           4         3  0.974764      0      0         0.746759   \n",
       "\n",
       "   placesCount_years  budgetCount_years  contractCount_years  \\\n",
       "0           0.042491           0.051154         1.143596e-08   \n",
       "1           0.042491           0.051154         1.143596e-08   \n",
       "2           0.042491           0.051154         1.143596e-08   \n",
       "3           0.042491           0.051154         1.143596e-08   \n",
       "4           0.042491           0.051154         1.143596e-08   \n",
       "\n",
       "   budget_mark_mean_years  abit_count_years  mark_max_years  mark_min_years  \\\n",
       "0                0.991546          0.157225             1.0        0.585326   \n",
       "1                0.991546          0.157225             1.0        0.585326   \n",
       "2                0.991546          0.157225             1.0        0.585326   \n",
       "3                0.991546          0.157225             1.0        0.585326   \n",
       "4                0.991546          0.157225             1.0        0.585326   \n",
       "\n",
       "   budget_mark_max_years  budget_mark_min_years  \n",
       "0                0.90961                    1.0  \n",
       "1                0.90961                    1.0  \n",
       "2                0.90961                    1.0  \n",
       "3                0.90961                    1.0  \n",
       "4                0.90961                    1.0  "
      ]
     },
     "execution_count": 3,
     "metadata": {},
     "output_type": "execute_result"
    }
   ],
   "source": [
    "df.head()"
   ]
  },
  {
   "cell_type": "code",
   "execution_count": 4,
   "metadata": {},
   "outputs": [],
   "source": [
    "df = df.drop('Unnamed: 0', axis = 1)"
   ]
  },
  {
   "cell_type": "code",
   "execution_count": 5,
   "metadata": {},
   "outputs": [
    {
     "data": {
      "text/plain": [
       "array([[<AxesSubplot:title={'center':'priority'}>,\n",
       "        <AxesSubplot:title={'center':'mark'}>,\n",
       "        <AxesSubplot:title={'center':'kvota'}>,\n",
       "        <AxesSubplot:title={'center':'vstup'}>],\n",
       "       [<AxesSubplot:title={'center':'mark_mean_years'}>,\n",
       "        <AxesSubplot:title={'center':'placesCount_years'}>,\n",
       "        <AxesSubplot:title={'center':'budgetCount_years'}>,\n",
       "        <AxesSubplot:title={'center':'contractCount_years'}>],\n",
       "       [<AxesSubplot:title={'center':'budget_mark_mean_years'}>,\n",
       "        <AxesSubplot:title={'center':'abit_count_years'}>,\n",
       "        <AxesSubplot:title={'center':'mark_max_years'}>,\n",
       "        <AxesSubplot:title={'center':'mark_min_years'}>],\n",
       "       [<AxesSubplot:title={'center':'budget_mark_max_years'}>,\n",
       "        <AxesSubplot:title={'center':'budget_mark_min_years'}>,\n",
       "        <AxesSubplot:>, <AxesSubplot:>]], dtype=object)"
      ]
     },
     "execution_count": 5,
     "metadata": {},
     "output_type": "execute_result"
    },
    {
     "data": {
      "image/png": "[encoded data removed]",
      "text/plain": [
       "<Figure size 432x288 with 16 Axes>"
      ]
     },
     "metadata": {
      "needs_background": "light"
     },
     "output_type": "display_data"
    }
   ],
   "source": [
    "df.hist()"
   ]
  },
  {
   "cell_type": "code",
   "execution_count": 6,
   "metadata": {},
   "outputs": [],
   "source": [
    "df17 = pd.read_csv('df17.csv')\n",
    "df18 = pd.read_csv('df18.csv')\n",
    "df19 = pd.read_csv('df19.csv')\n",
    "df20 = pd.read_csv('df20.csv')"
   ]
  },
  {
   "cell_type": "code",
   "execution_count": 7,
   "metadata": {},
   "outputs": [
    {
     "data": {
      "text/html": [
       "<div>\n",
       "<style scoped>\n",
       "    .dataframe tbody tr th:only-of-type {\n",
       "        vertical-align: middle;\n",
       "    }\n",
       "\n",
       "    .dataframe tbody tr th {\n",
       "        vertical-align: top;\n",
       "    }\n",
       "\n",
       "    .dataframe thead th {\n",
       "        text-align: right;\n",
       "    }\n",
       "</style>\n",
       "<table border=\"1\" class=\"dataframe\">\n",
       "  <thead>\n",
       "    <tr style=\"text-align: right;\">\n",
       "      <th></th>\n",
       "      <th>Unnamed: 0</th>\n",
       "      <th>student_id</th>\n",
       "      <th>priority</th>\n",
       "      <th>mark</th>\n",
       "      <th>status</th>\n",
       "      <th>kvota</th>\n",
       "      <th>year</th>\n",
       "      <th>specialty</th>\n",
       "      <th>university</th>\n",
       "      <th>placesCount</th>\n",
       "      <th>...</th>\n",
       "      <th>contractCount</th>\n",
       "      <th>vstup</th>\n",
       "      <th>budget_mark_mean</th>\n",
       "      <th>mark_mean</th>\n",
       "      <th>abit_count</th>\n",
       "      <th>mark_max</th>\n",
       "      <th>mark_min</th>\n",
       "      <th>budget_mark_max</th>\n",
       "      <th>budget_mark_min</th>\n",
       "      <th>position</th>\n",
       "    </tr>\n",
       "  </thead>\n",
       "  <tbody>\n",
       "    <tr>\n",
       "      <th>0</th>\n",
       "      <td>0</td>\n",
       "      <td>1</td>\n",
       "      <td>1</td>\n",
       "      <td>200.000</td>\n",
       "      <td>Рекомендовано (б)</td>\n",
       "      <td>None</td>\n",
       "      <td>2020</td>\n",
       "      <td>293Міжнароднеправо</td>\n",
       "      <td>Харківський національний університет імені В.Н...</td>\n",
       "      <td>90</td>\n",
       "      <td>...</td>\n",
       "      <td>85</td>\n",
       "      <td>True</td>\n",
       "      <td>197.0698</td>\n",
       "      <td>168.58118</td>\n",
       "      <td>361</td>\n",
       "      <td>200.0</td>\n",
       "      <td>140.148</td>\n",
       "      <td>200.0</td>\n",
       "      <td>195.024</td>\n",
       "      <td>1</td>\n",
       "    </tr>\n",
       "    <tr>\n",
       "      <th>1</th>\n",
       "      <td>1</td>\n",
       "      <td>7</td>\n",
       "      <td>2</td>\n",
       "      <td>200.000</td>\n",
       "      <td>Допущено</td>\n",
       "      <td>None</td>\n",
       "      <td>2020</td>\n",
       "      <td>293Міжнароднеправо</td>\n",
       "      <td>Харківський національний університет імені В.Н...</td>\n",
       "      <td>90</td>\n",
       "      <td>...</td>\n",
       "      <td>85</td>\n",
       "      <td>False</td>\n",
       "      <td>197.0698</td>\n",
       "      <td>168.58118</td>\n",
       "      <td>361</td>\n",
       "      <td>200.0</td>\n",
       "      <td>140.148</td>\n",
       "      <td>200.0</td>\n",
       "      <td>195.024</td>\n",
       "      <td>2</td>\n",
       "    </tr>\n",
       "    <tr>\n",
       "      <th>2</th>\n",
       "      <td>2</td>\n",
       "      <td>8</td>\n",
       "      <td>4</td>\n",
       "      <td>199.410</td>\n",
       "      <td>Допущено</td>\n",
       "      <td>None</td>\n",
       "      <td>2020</td>\n",
       "      <td>293Міжнароднеправо</td>\n",
       "      <td>Харківський національний університет імені В.Н...</td>\n",
       "      <td>90</td>\n",
       "      <td>...</td>\n",
       "      <td>85</td>\n",
       "      <td>False</td>\n",
       "      <td>197.0698</td>\n",
       "      <td>168.58118</td>\n",
       "      <td>361</td>\n",
       "      <td>200.0</td>\n",
       "      <td>140.148</td>\n",
       "      <td>200.0</td>\n",
       "      <td>195.024</td>\n",
       "      <td>3</td>\n",
       "    </tr>\n",
       "    <tr>\n",
       "      <th>3</th>\n",
       "      <td>3</td>\n",
       "      <td>9</td>\n",
       "      <td>3</td>\n",
       "      <td>198.492</td>\n",
       "      <td>Допущено</td>\n",
       "      <td>None</td>\n",
       "      <td>2020</td>\n",
       "      <td>293Міжнароднеправо</td>\n",
       "      <td>Харківський національний університет імені В.Н...</td>\n",
       "      <td>90</td>\n",
       "      <td>...</td>\n",
       "      <td>85</td>\n",
       "      <td>False</td>\n",
       "      <td>197.0698</td>\n",
       "      <td>168.58118</td>\n",
       "      <td>361</td>\n",
       "      <td>200.0</td>\n",
       "      <td>140.148</td>\n",
       "      <td>200.0</td>\n",
       "      <td>195.024</td>\n",
       "      <td>4</td>\n",
       "    </tr>\n",
       "    <tr>\n",
       "      <th>4</th>\n",
       "      <td>4</td>\n",
       "      <td>2</td>\n",
       "      <td>3</td>\n",
       "      <td>198.084</td>\n",
       "      <td>Рекомендовано (б)</td>\n",
       "      <td>None</td>\n",
       "      <td>2020</td>\n",
       "      <td>293Міжнароднеправо</td>\n",
       "      <td>Харківський національний університет імені В.Н...</td>\n",
       "      <td>90</td>\n",
       "      <td>...</td>\n",
       "      <td>85</td>\n",
       "      <td>True</td>\n",
       "      <td>197.0698</td>\n",
       "      <td>168.58118</td>\n",
       "      <td>361</td>\n",
       "      <td>200.0</td>\n",
       "      <td>140.148</td>\n",
       "      <td>200.0</td>\n",
       "      <td>195.024</td>\n",
       "      <td>5</td>\n",
       "    </tr>\n",
       "  </tbody>\n",
       "</table>\n",
       "<p>5 rows × 21 columns</p>\n",
       "</div>"
      ],
      "text/plain": [
       "   Unnamed: 0  student_id priority     mark             status kvota  year  \\\n",
       "0           0           1        1  200.000  Рекомендовано (б)  None  2020   \n",
       "1           1           7        2  200.000           Допущено  None  2020   \n",
       "2           2           8        4  199.410           Допущено  None  2020   \n",
       "3           3           9        3  198.492           Допущено  None  2020   \n",
       "4           4           2        3  198.084  Рекомендовано (б)  None  2020   \n",
       "\n",
       "            specialty                                         university  \\\n",
       "0  293Міжнароднеправо  Харківський національний університет імені В.Н...   \n",
       "1  293Міжнароднеправо  Харківський національний університет імені В.Н...   \n",
       "2  293Міжнароднеправо  Харківський національний університет імені В.Н...   \n",
       "3  293Міжнароднеправо  Харківський національний університет імені В.Н...   \n",
       "4  293Міжнароднеправо  Харківський національний університет імені В.Н...   \n",
       "\n",
       "   placesCount  ...  contractCount  vstup  budget_mark_mean  mark_mean  \\\n",
       "0           90  ...             85   True          197.0698  168.58118   \n",
       "1           90  ...             85  False          197.0698  168.58118   \n",
       "2           90  ...             85  False          197.0698  168.58118   \n",
       "3           90  ...             85  False          197.0698  168.58118   \n",
       "4           90  ...             85   True          197.0698  168.58118   \n",
       "\n",
       "   abit_count  mark_max  mark_min  budget_mark_max  budget_mark_min  position  \n",
       "0         361     200.0   140.148            200.0          195.024         1  \n",
       "1         361     200.0   140.148            200.0          195.024         2  \n",
       "2         361     200.0   140.148            200.0          195.024         3  \n",
       "3         361     200.0   140.148            200.0          195.024         4  \n",
       "4         361     200.0   140.148            200.0          195.024         5  \n",
       "\n",
       "[5 rows x 21 columns]"
      ]
     },
     "execution_count": 7,
     "metadata": {},
     "output_type": "execute_result"
    }
   ],
   "source": [
    "df20.head()"
   ]
  },
  {
   "cell_type": "code",
   "execution_count": 8,
   "metadata": {
    "scrolled": true
   },
   "outputs": [
    {
     "data": {
      "text/plain": [
       "<AxesSubplot:>"
      ]
     },
     "execution_count": 8,
     "metadata": {},
     "output_type": "execute_result"
    },
    {
     "data": {
      "image/png": "[encoded data removed]",
      "text/plain": [
       "<Figure size 432x288 with 1 Axes>"
      ]
     },
     "metadata": {
      "needs_background": "light"
     },
     "output_type": "display_data"
    }
   ],
   "source": [
    "df17.mark.hist()\n",
    "df18.mark.hist()\n",
    "df19.mark.hist()\n",
    "df20.mark.hist()"
   ]
  },
  {
   "cell_type": "code",
   "execution_count": 9,
   "metadata": {},
   "outputs": [
    {
     "data": {
      "text/plain": [
       "kvota\n",
       "0    203437\n",
       "1      1363\n",
       "2       179\n",
       "Name: kvota, dtype: int64"
      ]
     },
     "execution_count": 9,
     "metadata": {},
     "output_type": "execute_result"
    }
   ],
   "source": [
    "df.groupby('kvota').kvota.count()"
   ]
  },
  {
   "cell_type": "code",
   "execution_count": 10,
   "metadata": {},
   "outputs": [
    {
     "name": "stdout",
     "output_type": "stream",
     "text": [
      "kvota\n",
      "None    1.0\n",
      "Name: kvota, dtype: float64\n",
      "kvota\n",
      "None       0.993979\n",
      "Квота-1    0.005819\n",
      "Квота-2    0.000202\n",
      "Name: kvota, dtype: float64\n",
      "kvota\n",
      "None       0.994245\n",
      "Квота-1    0.005536\n",
      "Квота-2    0.000219\n",
      "Name: kvota, dtype: float64\n",
      "kvota\n",
      "None       0.990763\n",
      "Квота-1    0.007786\n",
      "Квота-2    0.001451\n",
      "Name: kvota, dtype: float64\n"
     ]
    }
   ],
   "source": [
    "print(df17.groupby('kvota').kvota.count()/df17.kvota.count())\n",
    "print(df18.groupby('kvota').kvota.count()/df18.kvota.count())\n",
    "print(df19.groupby('kvota').kvota.count()/df19.kvota.count())\n",
    "print(df20.groupby('kvota').kvota.count()/df20.kvota.count())"
   ]
  },
  {
   "cell_type": "code",
   "execution_count": 11,
   "metadata": {},
   "outputs": [
    {
     "name": "stdout",
     "output_type": "stream",
     "text": [
      "priority\n",
      "1    0.141261\n",
      "2    0.136803\n",
      "3    0.129292\n",
      "4    0.118989\n",
      "5    0.100485\n",
      "6    0.082751\n",
      "7    0.067480\n",
      "8    0.051948\n",
      "9    0.038189\n",
      "К    0.132802\n",
      "Name: priority, dtype: float64\n",
      "priority\n",
      "1    0.152306\n",
      "2    0.146728\n",
      "3    0.133637\n",
      "4    0.120451\n",
      "5    0.097674\n",
      "6    0.077197\n",
      "7    0.056335\n",
      "К    0.215672\n",
      "Name: priority, dtype: float64\n",
      "priority\n",
      "1    0.161153\n",
      "2    0.151296\n",
      "3    0.138870\n",
      "4    0.123219\n",
      "5    0.097592\n",
      "6    0.076375\n",
      "7    0.054889\n",
      "К    0.196607\n",
      "Name: priority, dtype: float64\n",
      "priority\n",
      "1    0.172220\n",
      "2    0.162891\n",
      "3    0.147263\n",
      "4    0.128412\n",
      "5    0.099599\n",
      "К    0.289614\n",
      "Name: priority, dtype: float64\n"
     ]
    }
   ],
   "source": [
    "print(df17.groupby('priority').priority.count()/df17.priority.count())\n",
    "print(df18.groupby('priority').priority.count()/df18.priority.count())\n",
    "print(df19.groupby('priority').priority.count()/df19.priority.count())\n",
    "print(df20.groupby('priority').priority.count()/df20.priority.count())"
   ]
  },
  {
   "cell_type": "code",
   "execution_count": 12,
   "metadata": {},
   "outputs": [
    {
     "name": "stdout",
     "output_type": "stream",
     "text": [
      "count    111708.000000\n",
      "mean        116.731029\n",
      "std           5.438700\n",
      "min         100.647000\n",
      "25%         113.120000\n",
      "50%         116.750000\n",
      "75%         119.786000\n",
      "max         143.167000\n",
      "Name: mark_min, dtype: float64\n",
      "count    103968.000000\n",
      "mean        116.416719\n",
      "std           7.943816\n",
      "min         102.561000\n",
      "25%         112.000000\n",
      "50%         115.050000\n",
      "75%         119.350000\n",
      "max         147.390000\n",
      "Name: mark_min, dtype: float64\n",
      "count    100439.000000\n",
      "mean        117.270064\n",
      "std          10.337884\n",
      "min         100.980000\n",
      "25%         109.600000\n",
      "50%         115.700000\n",
      "75%         122.196000\n",
      "max         149.532000\n",
      "Name: mark_min, dtype: float64\n",
      "count    108907.000000\n",
      "mean        122.940096\n",
      "std          11.727436\n",
      "min         103.740000\n",
      "25%         111.333000\n",
      "50%         125.000000\n",
      "75%         130.050000\n",
      "max         169.689000\n",
      "Name: mark_min, dtype: float64\n"
     ]
    }
   ],
   "source": [
    "print(df17.mark_min.describe())\n",
    "print(df18.mark_min.describe())\n",
    "print(df19.mark_min.describe())\n",
    "print(df20.mark_min.describe())"
   ]
  },
  {
   "cell_type": "code",
   "execution_count": 13,
   "metadata": {},
   "outputs": [
    {
     "name": "stdout",
     "output_type": "stream",
     "text": [
      "count    111708.000000\n",
      "mean        198.705312\n",
      "std           3.141473\n",
      "min         172.053000\n",
      "25%         200.000000\n",
      "50%         200.000000\n",
      "75%         200.000000\n",
      "max         200.000000\n",
      "Name: mark_max, dtype: float64\n",
      "count    103968.000000\n",
      "mean        198.924796\n",
      "std           2.806676\n",
      "min         169.208000\n",
      "25%         200.000000\n",
      "50%         200.000000\n",
      "75%         200.000000\n",
      "max         200.000000\n",
      "Name: mark_max, dtype: float64\n",
      "count    100439.000000\n",
      "mean        198.821808\n",
      "std           2.872598\n",
      "min         176.511000\n",
      "25%         199.563000\n",
      "50%         200.000000\n",
      "75%         200.000000\n",
      "max         200.000000\n",
      "Name: mark_max, dtype: float64\n",
      "count    108907.000000\n",
      "mean        198.570046\n",
      "std           3.007970\n",
      "min         159.885000\n",
      "25%         198.645000\n",
      "50%         200.000000\n",
      "75%         200.000000\n",
      "max         200.000000\n",
      "Name: mark_max, dtype: float64\n"
     ]
    }
   ],
   "source": [
    "print(df17.mark_max.describe())\n",
    "print(df18.mark_max.describe())\n",
    "print(df19.mark_max.describe())\n",
    "print(df20.mark_max.describe())"
   ]
  },
  {
   "cell_type": "code",
   "execution_count": 14,
   "metadata": {},
   "outputs": [
    {
     "name": "stdout",
     "output_type": "stream",
     "text": [
      "count    111708.000000\n",
      "mean        165.543811\n",
      "std           6.521772\n",
      "min         141.319059\n",
      "25%         161.230723\n",
      "50%         166.436836\n",
      "75%         170.930407\n",
      "max         178.618075\n",
      "Name: mark_mean, dtype: float64\n",
      "count    103968.000000\n",
      "mean        166.476385\n",
      "std           6.832187\n",
      "min         141.160771\n",
      "25%         162.402489\n",
      "50%         167.641221\n",
      "75%         170.787828\n",
      "max         182.243705\n",
      "Name: mark_mean, dtype: float64\n",
      "count    100439.000000\n",
      "mean        167.264455\n",
      "std           6.843531\n",
      "min         139.322809\n",
      "25%         163.540569\n",
      "50%         167.809128\n",
      "75%         171.613278\n",
      "max         183.288115\n",
      "Name: mark_mean, dtype: float64\n",
      "count    108907.000000\n",
      "mean        167.112619\n",
      "std           7.126884\n",
      "min         135.941381\n",
      "25%         162.801935\n",
      "50%         167.094446\n",
      "75%         171.538471\n",
      "max         188.119348\n",
      "Name: mark_mean, dtype: float64\n"
     ]
    }
   ],
   "source": [
    "print(df17.mark_mean.describe())\n",
    "print(df18.mark_mean.describe())\n",
    "print(df19.mark_mean.describe())\n",
    "print(df20.mark_mean.describe())"
   ]
  },
  {
   "cell_type": "code",
   "execution_count": 15,
   "metadata": {},
   "outputs": [
    {
     "name": "stdout",
     "output_type": "stream",
     "text": [
      "count    111708.000000\n",
      "mean        194.743949\n",
      "std           8.205525\n",
      "min           0.000000\n",
      "25%         192.612000\n",
      "50%         195.950000\n",
      "75%         200.000000\n",
      "max         200.000000\n",
      "Name: budget_mark_max, dtype: float64\n",
      "count    103968.000000\n",
      "mean        195.699593\n",
      "std           5.627916\n",
      "min         153.898000\n",
      "25%         192.933000\n",
      "50%         198.100000\n",
      "75%         200.000000\n",
      "max         200.000000\n",
      "Name: budget_mark_max, dtype: float64\n",
      "count    100439.000000\n",
      "mean        195.808305\n",
      "std           5.817247\n",
      "min         137.125000\n",
      "25%         193.250000\n",
      "50%         197.523000\n",
      "75%         200.000000\n",
      "max         200.000000\n",
      "Name: budget_mark_max, dtype: float64\n",
      "count    108907.000000\n",
      "mean        195.738970\n",
      "std           5.461735\n",
      "min         145.356000\n",
      "25%         193.500000\n",
      "50%         197.166000\n",
      "75%         200.000000\n",
      "max         200.000000\n",
      "Name: budget_mark_max, dtype: float64\n"
     ]
    }
   ],
   "source": [
    "print(df17.budget_mark_max.describe())\n",
    "print(df18.budget_mark_max.describe())\n",
    "print(df19.budget_mark_max.describe())\n",
    "print(df20.budget_mark_max.describe())"
   ]
  },
  {
   "cell_type": "code",
   "execution_count": 16,
   "metadata": {},
   "outputs": [
    {
     "name": "stdout",
     "output_type": "stream",
     "text": [
      "count    111708.000000\n",
      "mean        159.175306\n",
      "std          20.498594\n",
      "min           0.000000\n",
      "25%         144.026000\n",
      "50%         158.368000\n",
      "75%         175.588000\n",
      "max         194.930000\n",
      "Name: budget_mark_min, dtype: float64\n",
      "count    103968.000000\n",
      "mean        153.603907\n",
      "std          21.369574\n",
      "min         108.250000\n",
      "25%         137.190000\n",
      "50%         152.592000\n",
      "75%         172.176000\n",
      "max         194.718000\n",
      "Name: budget_mark_min, dtype: float64\n",
      "count    100439.000000\n",
      "mean        158.316801\n",
      "std          21.596250\n",
      "min         109.956000\n",
      "25%         141.250000\n",
      "50%         157.182000\n",
      "75%         177.492000\n",
      "max         196.656000\n",
      "Name: budget_mark_min, dtype: float64\n",
      "count    108907.000000\n",
      "mean        156.779612\n",
      "std          19.959276\n",
      "min         125.068000\n",
      "25%         141.576000\n",
      "50%         155.250000\n",
      "75%         174.995000\n",
      "max         197.268000\n",
      "Name: budget_mark_min, dtype: float64\n"
     ]
    }
   ],
   "source": [
    "print(df17.budget_mark_min.describe())\n",
    "print(df18.budget_mark_min.describe())\n",
    "print(df19.budget_mark_min.describe())\n",
    "print(df20.budget_mark_min.describe())"
   ]
  },
  {
   "cell_type": "code",
   "execution_count": 17,
   "metadata": {},
   "outputs": [
    {
     "name": "stdout",
     "output_type": "stream",
     "text": [
      "count    111611.000000\n",
      "mean        182.959882\n",
      "std          10.249336\n",
      "min         132.036000\n",
      "25%         180.144517\n",
      "50%         185.106573\n",
      "75%         190.359692\n",
      "max         198.031889\n",
      "Name: budget_mark_mean, dtype: float64\n",
      "count    103968.000000\n",
      "mean        182.544799\n",
      "std          10.283106\n",
      "min         134.954200\n",
      "25%         180.030000\n",
      "50%         185.535647\n",
      "75%         189.251751\n",
      "max         198.270500\n",
      "Name: budget_mark_mean, dtype: float64\n",
      "count    100439.000000\n",
      "mean        183.831490\n",
      "std          10.151708\n",
      "min         137.125000\n",
      "25%         181.972170\n",
      "50%         185.948909\n",
      "75%         190.580000\n",
      "max         199.278200\n",
      "Name: budget_mark_mean, dtype: float64\n",
      "count    108907.000000\n",
      "mean        184.398107\n",
      "std          10.534334\n",
      "min         136.352000\n",
      "25%         182.873368\n",
      "50%         187.099379\n",
      "75%         190.576402\n",
      "max         198.345000\n",
      "Name: budget_mark_mean, dtype: float64\n"
     ]
    }
   ],
   "source": [
    "print(df17.budget_mark_mean.describe())\n",
    "print(df18.budget_mark_mean.describe())\n",
    "print(df19.budget_mark_mean.describe())\n",
    "print(df20.budget_mark_mean.describe())"
   ]
  },
  {
   "cell_type": "code",
   "execution_count": 18,
   "metadata": {},
   "outputs": [],
   "source": [
    "from scipy.stats import kruskal"
   ]
  },
  {
   "cell_type": "code",
   "execution_count": 19,
   "metadata": {},
   "outputs": [
    {
     "data": {
      "text/html": [
       "<div>\n",
       "<style scoped>\n",
       "    .dataframe tbody tr th:only-of-type {\n",
       "        vertical-align: middle;\n",
       "    }\n",
       "\n",
       "    .dataframe tbody tr th {\n",
       "        vertical-align: top;\n",
       "    }\n",
       "\n",
       "    .dataframe thead th {\n",
       "        text-align: right;\n",
       "    }\n",
       "</style>\n",
       "<table border=\"1\" class=\"dataframe\">\n",
       "  <thead>\n",
       "    <tr style=\"text-align: right;\">\n",
       "      <th></th>\n",
       "      <th>priority</th>\n",
       "      <th>mark</th>\n",
       "      <th>kvota</th>\n",
       "      <th>vstup</th>\n",
       "      <th>mark_mean_years</th>\n",
       "      <th>placesCount_years</th>\n",
       "      <th>budgetCount_years</th>\n",
       "      <th>contractCount_years</th>\n",
       "      <th>budget_mark_mean_years</th>\n",
       "      <th>abit_count_years</th>\n",
       "      <th>mark_max_years</th>\n",
       "      <th>mark_min_years</th>\n",
       "      <th>budget_mark_max_years</th>\n",
       "      <th>budget_mark_min_years</th>\n",
       "    </tr>\n",
       "  </thead>\n",
       "  <tbody>\n",
       "    <tr>\n",
       "      <th>0</th>\n",
       "      <td>3</td>\n",
       "      <td>0.995548</td>\n",
       "      <td>0</td>\n",
       "      <td>0</td>\n",
       "      <td>0.746759</td>\n",
       "      <td>0.042491</td>\n",
       "      <td>0.051154</td>\n",
       "      <td>1.143596e-08</td>\n",
       "      <td>0.991546</td>\n",
       "      <td>0.157225</td>\n",
       "      <td>1.0</td>\n",
       "      <td>0.585326</td>\n",
       "      <td>0.90961</td>\n",
       "      <td>1.0</td>\n",
       "    </tr>\n",
       "    <tr>\n",
       "      <th>1</th>\n",
       "      <td>0</td>\n",
       "      <td>0.986195</td>\n",
       "      <td>0</td>\n",
       "      <td>1</td>\n",
       "      <td>0.746759</td>\n",
       "      <td>0.042491</td>\n",
       "      <td>0.051154</td>\n",
       "      <td>1.143596e-08</td>\n",
       "      <td>0.991546</td>\n",
       "      <td>0.157225</td>\n",
       "      <td>1.0</td>\n",
       "      <td>0.585326</td>\n",
       "      <td>0.90961</td>\n",
       "      <td>1.0</td>\n",
       "    </tr>\n",
       "    <tr>\n",
       "      <th>2</th>\n",
       "      <td>9</td>\n",
       "      <td>0.982558</td>\n",
       "      <td>0</td>\n",
       "      <td>0</td>\n",
       "      <td>0.746759</td>\n",
       "      <td>0.042491</td>\n",
       "      <td>0.051154</td>\n",
       "      <td>1.143596e-08</td>\n",
       "      <td>0.991546</td>\n",
       "      <td>0.157225</td>\n",
       "      <td>1.0</td>\n",
       "      <td>0.585326</td>\n",
       "      <td>0.90961</td>\n",
       "      <td>1.0</td>\n",
       "    </tr>\n",
       "    <tr>\n",
       "      <th>3</th>\n",
       "      <td>2</td>\n",
       "      <td>0.977881</td>\n",
       "      <td>0</td>\n",
       "      <td>0</td>\n",
       "      <td>0.746759</td>\n",
       "      <td>0.042491</td>\n",
       "      <td>0.051154</td>\n",
       "      <td>1.143596e-08</td>\n",
       "      <td>0.991546</td>\n",
       "      <td>0.157225</td>\n",
       "      <td>1.0</td>\n",
       "      <td>0.585326</td>\n",
       "      <td>0.90961</td>\n",
       "      <td>1.0</td>\n",
       "    </tr>\n",
       "    <tr>\n",
       "      <th>4</th>\n",
       "      <td>3</td>\n",
       "      <td>0.974764</td>\n",
       "      <td>0</td>\n",
       "      <td>0</td>\n",
       "      <td>0.746759</td>\n",
       "      <td>0.042491</td>\n",
       "      <td>0.051154</td>\n",
       "      <td>1.143596e-08</td>\n",
       "      <td>0.991546</td>\n",
       "      <td>0.157225</td>\n",
       "      <td>1.0</td>\n",
       "      <td>0.585326</td>\n",
       "      <td>0.90961</td>\n",
       "      <td>1.0</td>\n",
       "    </tr>\n",
       "  </tbody>\n",
       "</table>\n",
       "</div>"
      ],
      "text/plain": [
       "   priority      mark  kvota  vstup  mark_mean_years  placesCount_years  \\\n",
       "0         3  0.995548      0      0         0.746759           0.042491   \n",
       "1         0  0.986195      0      1         0.746759           0.042491   \n",
       "2         9  0.982558      0      0         0.746759           0.042491   \n",
       "3         2  0.977881      0      0         0.746759           0.042491   \n",
       "4         3  0.974764      0      0         0.746759           0.042491   \n",
       "\n",
       "   budgetCount_years  contractCount_years  budget_mark_mean_years  \\\n",
       "0           0.051154         1.143596e-08                0.991546   \n",
       "1           0.051154         1.143596e-08                0.991546   \n",
       "2           0.051154         1.143596e-08                0.991546   \n",
       "3           0.051154         1.143596e-08                0.991546   \n",
       "4           0.051154         1.143596e-08                0.991546   \n",
       "\n",
       "   abit_count_years  mark_max_years  mark_min_years  budget_mark_max_years  \\\n",
       "0          0.157225             1.0        0.585326                0.90961   \n",
       "1          0.157225             1.0        0.585326                0.90961   \n",
       "2          0.157225             1.0        0.585326                0.90961   \n",
       "3          0.157225             1.0        0.585326                0.90961   \n",
       "4          0.157225             1.0        0.585326                0.90961   \n",
       "\n",
       "   budget_mark_min_years  \n",
       "0                    1.0  \n",
       "1                    1.0  \n",
       "2                    1.0  \n",
       "3                    1.0  \n",
       "4                    1.0  "
      ]
     },
     "execution_count": 19,
     "metadata": {},
     "output_type": "execute_result"
    }
   ],
   "source": [
    "df.head()"
   ]
  },
  {
   "cell_type": "code",
   "execution_count": 20,
   "metadata": {},
   "outputs": [
    {
     "name": "stdout",
     "output_type": "stream",
     "text": [
      "616.6224102149331\n",
      "2.5107139356347933e-133\n"
     ]
    }
   ],
   "source": [
    "stat, p = kruskal(df17.mark, df18.mark, df19.mark, df20.mark)\n",
    "print(stat)\n",
    "print(p)"
   ]
  },
  {
   "cell_type": "code",
   "execution_count": 21,
   "metadata": {},
   "outputs": [
    {
     "data": {
      "text/html": [
       "<div>\n",
       "<style scoped>\n",
       "    .dataframe tbody tr th:only-of-type {\n",
       "        vertical-align: middle;\n",
       "    }\n",
       "\n",
       "    .dataframe tbody tr th {\n",
       "        vertical-align: top;\n",
       "    }\n",
       "\n",
       "    .dataframe thead th {\n",
       "        text-align: right;\n",
       "    }\n",
       "</style>\n",
       "<table border=\"1\" class=\"dataframe\">\n",
       "  <thead>\n",
       "    <tr style=\"text-align: right;\">\n",
       "      <th></th>\n",
       "      <th>Unnamed: 0</th>\n",
       "      <th>student_id</th>\n",
       "      <th>priority</th>\n",
       "      <th>mark</th>\n",
       "      <th>status</th>\n",
       "      <th>kvota</th>\n",
       "      <th>year</th>\n",
       "      <th>specialty</th>\n",
       "      <th>university</th>\n",
       "      <th>placesCount</th>\n",
       "      <th>...</th>\n",
       "      <th>contractCount</th>\n",
       "      <th>vstup</th>\n",
       "      <th>budget_mark_mean</th>\n",
       "      <th>mark_mean</th>\n",
       "      <th>abit_count</th>\n",
       "      <th>mark_max</th>\n",
       "      <th>mark_min</th>\n",
       "      <th>budget_mark_max</th>\n",
       "      <th>budget_mark_min</th>\n",
       "      <th>position</th>\n",
       "    </tr>\n",
       "  </thead>\n",
       "  <tbody>\n",
       "    <tr>\n",
       "      <th>0</th>\n",
       "      <td>0</td>\n",
       "      <td>1</td>\n",
       "      <td>1</td>\n",
       "      <td>200.0</td>\n",
       "      <td>До наказу (бюджет)</td>\n",
       "      <td>None</td>\n",
       "      <td>2017</td>\n",
       "      <td>Хімія</td>\n",
       "      <td>Харківський національний університет імені В.Н...</td>\n",
       "      <td>100</td>\n",
       "      <td>...</td>\n",
       "      <td>49</td>\n",
       "      <td>True</td>\n",
       "      <td>184.054083</td>\n",
       "      <td>175.373299</td>\n",
       "      <td>214</td>\n",
       "      <td>200.0</td>\n",
       "      <td>136.249</td>\n",
       "      <td>200.0</td>\n",
       "      <td>164.888</td>\n",
       "      <td>1</td>\n",
       "    </tr>\n",
       "    <tr>\n",
       "      <th>1</th>\n",
       "      <td>1</td>\n",
       "      <td>2</td>\n",
       "      <td>1</td>\n",
       "      <td>200.0</td>\n",
       "      <td>До наказу (бюджет)</td>\n",
       "      <td>None</td>\n",
       "      <td>2017</td>\n",
       "      <td>Хімія</td>\n",
       "      <td>Харківський національний університет імені В.Н...</td>\n",
       "      <td>100</td>\n",
       "      <td>...</td>\n",
       "      <td>49</td>\n",
       "      <td>True</td>\n",
       "      <td>184.054083</td>\n",
       "      <td>175.373299</td>\n",
       "      <td>214</td>\n",
       "      <td>200.0</td>\n",
       "      <td>136.249</td>\n",
       "      <td>200.0</td>\n",
       "      <td>164.888</td>\n",
       "      <td>2</td>\n",
       "    </tr>\n",
       "    <tr>\n",
       "      <th>2</th>\n",
       "      <td>2</td>\n",
       "      <td>3</td>\n",
       "      <td>3</td>\n",
       "      <td>200.0</td>\n",
       "      <td>Допущено</td>\n",
       "      <td>None</td>\n",
       "      <td>2017</td>\n",
       "      <td>Хімія</td>\n",
       "      <td>Харківський національний університет імені В.Н...</td>\n",
       "      <td>100</td>\n",
       "      <td>...</td>\n",
       "      <td>49</td>\n",
       "      <td>False</td>\n",
       "      <td>184.054083</td>\n",
       "      <td>175.373299</td>\n",
       "      <td>214</td>\n",
       "      <td>200.0</td>\n",
       "      <td>136.249</td>\n",
       "      <td>200.0</td>\n",
       "      <td>164.888</td>\n",
       "      <td>3</td>\n",
       "    </tr>\n",
       "    <tr>\n",
       "      <th>3</th>\n",
       "      <td>3</td>\n",
       "      <td>4</td>\n",
       "      <td>1</td>\n",
       "      <td>200.0</td>\n",
       "      <td>До наказу (бюджет)</td>\n",
       "      <td>None</td>\n",
       "      <td>2017</td>\n",
       "      <td>Хімія</td>\n",
       "      <td>Харківський національний університет імені В.Н...</td>\n",
       "      <td>100</td>\n",
       "      <td>...</td>\n",
       "      <td>49</td>\n",
       "      <td>True</td>\n",
       "      <td>184.054083</td>\n",
       "      <td>175.373299</td>\n",
       "      <td>214</td>\n",
       "      <td>200.0</td>\n",
       "      <td>136.249</td>\n",
       "      <td>200.0</td>\n",
       "      <td>164.888</td>\n",
       "      <td>4</td>\n",
       "    </tr>\n",
       "    <tr>\n",
       "      <th>4</th>\n",
       "      <td>4</td>\n",
       "      <td>5</td>\n",
       "      <td>3</td>\n",
       "      <td>200.0</td>\n",
       "      <td>Допущено</td>\n",
       "      <td>None</td>\n",
       "      <td>2017</td>\n",
       "      <td>Хімія</td>\n",
       "      <td>Харківський національний університет імені В.Н...</td>\n",
       "      <td>100</td>\n",
       "      <td>...</td>\n",
       "      <td>49</td>\n",
       "      <td>False</td>\n",
       "      <td>184.054083</td>\n",
       "      <td>175.373299</td>\n",
       "      <td>214</td>\n",
       "      <td>200.0</td>\n",
       "      <td>136.249</td>\n",
       "      <td>200.0</td>\n",
       "      <td>164.888</td>\n",
       "      <td>5</td>\n",
       "    </tr>\n",
       "  </tbody>\n",
       "</table>\n",
       "<p>5 rows × 21 columns</p>\n",
       "</div>"
      ],
      "text/plain": [
       "   Unnamed: 0  student_id priority   mark              status kvota  year  \\\n",
       "0           0           1        1  200.0  До наказу (бюджет)  None  2017   \n",
       "1           1           2        1  200.0  До наказу (бюджет)  None  2017   \n",
       "2           2           3        3  200.0            Допущено  None  2017   \n",
       "3           3           4        1  200.0  До наказу (бюджет)  None  2017   \n",
       "4           4           5        3  200.0            Допущено  None  2017   \n",
       "\n",
       "  specialty                                         university  placesCount  \\\n",
       "0     Хімія  Харківський національний університет імені В.Н...          100   \n",
       "1     Хімія  Харківський національний університет імені В.Н...          100   \n",
       "2     Хімія  Харківський національний університет імені В.Н...          100   \n",
       "3     Хімія  Харківський національний університет імені В.Н...          100   \n",
       "4     Хімія  Харківський національний університет імені В.Н...          100   \n",
       "\n",
       "   ...  contractCount  vstup  budget_mark_mean   mark_mean  abit_count  \\\n",
       "0  ...             49   True        184.054083  175.373299         214   \n",
       "1  ...             49   True        184.054083  175.373299         214   \n",
       "2  ...             49  False        184.054083  175.373299         214   \n",
       "3  ...             49   True        184.054083  175.373299         214   \n",
       "4  ...             49  False        184.054083  175.373299         214   \n",
       "\n",
       "   mark_max  mark_min  budget_mark_max  budget_mark_min  position  \n",
       "0     200.0   136.249            200.0          164.888         1  \n",
       "1     200.0   136.249            200.0          164.888         2  \n",
       "2     200.0   136.249            200.0          164.888         3  \n",
       "3     200.0   136.249            200.0          164.888         4  \n",
       "4     200.0   136.249            200.0          164.888         5  \n",
       "\n",
       "[5 rows x 21 columns]"
      ]
     },
     "execution_count": 21,
     "metadata": {},
     "output_type": "execute_result"
    }
   ],
   "source": [
    "df17.head()"
   ]
  },
  {
   "cell_type": "code",
   "execution_count": 22,
   "metadata": {},
   "outputs": [
    {
     "name": "stdout",
     "output_type": "stream",
     "text": [
      "Kruskal test for mark_mean\n",
      "3422.3418239764483\n",
      "0.0\n",
      "Hipotes accepted\n",
      "\n",
      "Kruskal test for mark_max\n",
      "8874.154258560407\n",
      "0.0\n",
      "Hipotes accepted\n",
      "\n",
      "Kruskal test for mark_min\n",
      "24495.313053132362\n",
      "0.0\n",
      "Hipotes accepted\n",
      "\n",
      "Kruskal test for placesCount\n",
      "1907.468765583802\n",
      "0.0\n",
      "Hipotes accepted\n",
      "\n",
      "Kruskal test for budgetCount\n",
      "444.2474001540366\n",
      "5.749493428769749e-96\n",
      "Hipotes accepted\n",
      "\n",
      "Kruskal test for contractCount\n",
      "41071.7594939538\n",
      "0.0\n",
      "Hipotes accepted\n",
      "\n",
      "Kruskal test for budget_mark_mean\n",
      "nan\n",
      "nan\n",
      "\n",
      "Kruskal test for budget_mark_max\n",
      "3006.0085103920474\n",
      "0.0\n",
      "Hipotes accepted\n",
      "\n",
      "Kruskal test for budget_mark_min\n",
      "3986.430129749637\n",
      "0.0\n",
      "Hipotes accepted\n",
      "\n",
      "Kruskal test for abit_count\n",
      "4063.607055791774\n",
      "0.0\n",
      "Hipotes accepted\n",
      "\n"
     ]
    }
   ],
   "source": [
    "columns = ['mark_mean', 'mark_max', 'mark_min', 'placesCount', 'budgetCount', 'contractCount', 'budget_mark_mean',\\\n",
    "          'budget_mark_max', 'budget_mark_min', 'abit_count']\n",
    "for col in columns:\n",
    "    print('Kruskal test for ' + col)\n",
    "    stat, p = kruskal(df17[col], df18[col], df19[col], df20[col])\n",
    "    print(stat)\n",
    "    print(p)\n",
    "    if(p < 0.05):\n",
    "        print('Hipotes accepted')\n",
    "    print()"
   ]
  },
  {
   "cell_type": "code",
   "execution_count": 23,
   "metadata": {},
   "outputs": [
    {
     "name": "stdout",
     "output_type": "stream",
     "text": [
      "346.87812164909917\n",
      "7.073723706319542e-75\n"
     ]
    }
   ],
   "source": [
    "stat, p = kruskal(df17.priority, df18.priority, df19.priority, df20.priority)\n",
    "print(stat)\n",
    "print(p)"
   ]
  },
  {
   "cell_type": "code",
   "execution_count": 24,
   "metadata": {},
   "outputs": [
    {
     "name": "stdout",
     "output_type": "stream",
     "text": [
      "532.6708779727588\n",
      "3.9625164905702144e-115\n"
     ]
    }
   ],
   "source": [
    "stat, p = kruskal(df17.vstup, df18.vstup, df19.vstup, df20.vstup)\n",
    "print(stat)\n",
    "print(p)"
   ]
  },
  {
   "cell_type": "code",
   "execution_count": 25,
   "metadata": {},
   "outputs": [
    {
     "data": {
      "text/html": [
       "<div>\n",
       "<style scoped>\n",
       "    .dataframe tbody tr th:only-of-type {\n",
       "        vertical-align: middle;\n",
       "    }\n",
       "\n",
       "    .dataframe tbody tr th {\n",
       "        vertical-align: top;\n",
       "    }\n",
       "\n",
       "    .dataframe thead th {\n",
       "        text-align: right;\n",
       "    }\n",
       "</style>\n",
       "<table border=\"1\" class=\"dataframe\">\n",
       "  <thead>\n",
       "    <tr style=\"text-align: right;\">\n",
       "      <th></th>\n",
       "      <th>mark</th>\n",
       "      <th>placesCount</th>\n",
       "      <th>budgetCount</th>\n",
       "      <th>contractCount</th>\n",
       "      <th>vstup</th>\n",
       "      <th>budget_mark_mean</th>\n",
       "      <th>mark_mean</th>\n",
       "      <th>abit_count</th>\n",
       "      <th>mark_max</th>\n",
       "      <th>mark_min</th>\n",
       "      <th>budget_mark_max</th>\n",
       "      <th>budget_mark_min</th>\n",
       "      <th>position</th>\n",
       "    </tr>\n",
       "  </thead>\n",
       "  <tbody>\n",
       "    <tr>\n",
       "      <th>mark</th>\n",
       "      <td>1.000000</td>\n",
       "      <td>0.111179</td>\n",
       "      <td>0.094932</td>\n",
       "      <td>0.072963</td>\n",
       "      <td>0.185491</td>\n",
       "      <td>0.260928</td>\n",
       "      <td>0.379215</td>\n",
       "      <td>0.140901</td>\n",
       "      <td>0.216307</td>\n",
       "      <td>0.205856</td>\n",
       "      <td>0.219035</td>\n",
       "      <td>0.099756</td>\n",
       "      <td>-0.386797</td>\n",
       "    </tr>\n",
       "    <tr>\n",
       "      <th>placesCount</th>\n",
       "      <td>0.111179</td>\n",
       "      <td>1.000000</td>\n",
       "      <td>0.810678</td>\n",
       "      <td>0.606115</td>\n",
       "      <td>0.045480</td>\n",
       "      <td>0.127170</td>\n",
       "      <td>0.292565</td>\n",
       "      <td>0.678518</td>\n",
       "      <td>0.227009</td>\n",
       "      <td>0.197803</td>\n",
       "      <td>0.276212</td>\n",
       "      <td>-0.297575</td>\n",
       "      <td>0.493889</td>\n",
       "    </tr>\n",
       "    <tr>\n",
       "      <th>budgetCount</th>\n",
       "      <td>0.094932</td>\n",
       "      <td>0.810678</td>\n",
       "      <td>1.000000</td>\n",
       "      <td>0.140271</td>\n",
       "      <td>0.116282</td>\n",
       "      <td>-0.037878</td>\n",
       "      <td>0.250337</td>\n",
       "      <td>0.650194</td>\n",
       "      <td>0.067472</td>\n",
       "      <td>0.118187</td>\n",
       "      <td>0.134954</td>\n",
       "      <td>-0.406820</td>\n",
       "      <td>0.473401</td>\n",
       "    </tr>\n",
       "    <tr>\n",
       "      <th>contractCount</th>\n",
       "      <td>0.072963</td>\n",
       "      <td>0.606115</td>\n",
       "      <td>0.140271</td>\n",
       "      <td>1.000000</td>\n",
       "      <td>-0.026268</td>\n",
       "      <td>0.165087</td>\n",
       "      <td>0.191475</td>\n",
       "      <td>0.120559</td>\n",
       "      <td>0.271379</td>\n",
       "      <td>0.106775</td>\n",
       "      <td>0.289500</td>\n",
       "      <td>0.025647</td>\n",
       "      <td>0.087574</td>\n",
       "    </tr>\n",
       "    <tr>\n",
       "      <th>vstup</th>\n",
       "      <td>0.185491</td>\n",
       "      <td>0.045480</td>\n",
       "      <td>0.116282</td>\n",
       "      <td>-0.026268</td>\n",
       "      <td>1.000000</td>\n",
       "      <td>-0.201585</td>\n",
       "      <td>-0.051564</td>\n",
       "      <td>-0.062702</td>\n",
       "      <td>-0.100667</td>\n",
       "      <td>-0.021257</td>\n",
       "      <td>-0.064854</td>\n",
       "      <td>-0.083281</td>\n",
       "      <td>-0.193420</td>\n",
       "    </tr>\n",
       "    <tr>\n",
       "      <th>budget_mark_mean</th>\n",
       "      <td>0.260928</td>\n",
       "      <td>0.127170</td>\n",
       "      <td>-0.037878</td>\n",
       "      <td>0.165087</td>\n",
       "      <td>-0.201585</td>\n",
       "      <td>1.000000</td>\n",
       "      <td>0.688073</td>\n",
       "      <td>0.419658</td>\n",
       "      <td>0.657107</td>\n",
       "      <td>0.271242</td>\n",
       "      <td>0.654340</td>\n",
       "      <td>0.403297</td>\n",
       "      <td>0.305550</td>\n",
       "    </tr>\n",
       "    <tr>\n",
       "      <th>mark_mean</th>\n",
       "      <td>0.379215</td>\n",
       "      <td>0.292565</td>\n",
       "      <td>0.250337</td>\n",
       "      <td>0.191475</td>\n",
       "      <td>-0.051564</td>\n",
       "      <td>0.688073</td>\n",
       "      <td>1.000000</td>\n",
       "      <td>0.371559</td>\n",
       "      <td>0.570407</td>\n",
       "      <td>0.542849</td>\n",
       "      <td>0.577602</td>\n",
       "      <td>0.263059</td>\n",
       "      <td>0.270530</td>\n",
       "    </tr>\n",
       "    <tr>\n",
       "      <th>abit_count</th>\n",
       "      <td>0.140901</td>\n",
       "      <td>0.678518</td>\n",
       "      <td>0.650194</td>\n",
       "      <td>0.120559</td>\n",
       "      <td>-0.062702</td>\n",
       "      <td>0.419658</td>\n",
       "      <td>0.371559</td>\n",
       "      <td>1.000000</td>\n",
       "      <td>0.298981</td>\n",
       "      <td>0.203150</td>\n",
       "      <td>0.324428</td>\n",
       "      <td>-0.317919</td>\n",
       "      <td>0.728093</td>\n",
       "    </tr>\n",
       "    <tr>\n",
       "      <th>mark_max</th>\n",
       "      <td>0.216307</td>\n",
       "      <td>0.227009</td>\n",
       "      <td>0.067472</td>\n",
       "      <td>0.271379</td>\n",
       "      <td>-0.100667</td>\n",
       "      <td>0.657107</td>\n",
       "      <td>0.570407</td>\n",
       "      <td>0.298981</td>\n",
       "      <td>1.000000</td>\n",
       "      <td>0.079619</td>\n",
       "      <td>0.715273</td>\n",
       "      <td>0.198669</td>\n",
       "      <td>0.217686</td>\n",
       "    </tr>\n",
       "    <tr>\n",
       "      <th>mark_min</th>\n",
       "      <td>0.205856</td>\n",
       "      <td>0.197803</td>\n",
       "      <td>0.118187</td>\n",
       "      <td>0.106775</td>\n",
       "      <td>-0.021257</td>\n",
       "      <td>0.271242</td>\n",
       "      <td>0.542849</td>\n",
       "      <td>0.203150</td>\n",
       "      <td>0.079619</td>\n",
       "      <td>1.000000</td>\n",
       "      <td>0.158444</td>\n",
       "      <td>0.130885</td>\n",
       "      <td>0.147912</td>\n",
       "    </tr>\n",
       "    <tr>\n",
       "      <th>budget_mark_max</th>\n",
       "      <td>0.219035</td>\n",
       "      <td>0.276212</td>\n",
       "      <td>0.134954</td>\n",
       "      <td>0.289500</td>\n",
       "      <td>-0.064854</td>\n",
       "      <td>0.654340</td>\n",
       "      <td>0.577602</td>\n",
       "      <td>0.324428</td>\n",
       "      <td>0.715273</td>\n",
       "      <td>0.158444</td>\n",
       "      <td>1.000000</td>\n",
       "      <td>0.145461</td>\n",
       "      <td>0.236214</td>\n",
       "    </tr>\n",
       "    <tr>\n",
       "      <th>budget_mark_min</th>\n",
       "      <td>0.099756</td>\n",
       "      <td>-0.297575</td>\n",
       "      <td>-0.406820</td>\n",
       "      <td>0.025647</td>\n",
       "      <td>-0.083281</td>\n",
       "      <td>0.403297</td>\n",
       "      <td>0.263059</td>\n",
       "      <td>-0.317919</td>\n",
       "      <td>0.198669</td>\n",
       "      <td>0.130885</td>\n",
       "      <td>0.145461</td>\n",
       "      <td>1.000000</td>\n",
       "      <td>-0.231475</td>\n",
       "    </tr>\n",
       "    <tr>\n",
       "      <th>position</th>\n",
       "      <td>-0.386797</td>\n",
       "      <td>0.493889</td>\n",
       "      <td>0.473401</td>\n",
       "      <td>0.087574</td>\n",
       "      <td>-0.193420</td>\n",
       "      <td>0.305550</td>\n",
       "      <td>0.270530</td>\n",
       "      <td>0.728093</td>\n",
       "      <td>0.217686</td>\n",
       "      <td>0.147912</td>\n",
       "      <td>0.236214</td>\n",
       "      <td>-0.231475</td>\n",
       "      <td>1.000000</td>\n",
       "    </tr>\n",
       "  </tbody>\n",
       "</table>\n",
       "</div>"
      ],
      "text/plain": [
       "                      mark  placesCount  budgetCount  contractCount     vstup  \\\n",
       "mark              1.000000     0.111179     0.094932       0.072963  0.185491   \n",
       "placesCount       0.111179     1.000000     0.810678       0.606115  0.045480   \n",
       "budgetCount       0.094932     0.810678     1.000000       0.140271  0.116282   \n",
       "contractCount     0.072963     0.606115     0.140271       1.000000 -0.026268   \n",
       "vstup             0.185491     0.045480     0.116282      -0.026268  1.000000   \n",
       "budget_mark_mean  0.260928     0.127170    -0.037878       0.165087 -0.201585   \n",
       "mark_mean         0.379215     0.292565     0.250337       0.191475 -0.051564   \n",
       "abit_count        0.140901     0.678518     0.650194       0.120559 -0.062702   \n",
       "mark_max          0.216307     0.227009     0.067472       0.271379 -0.100667   \n",
       "mark_min          0.205856     0.197803     0.118187       0.106775 -0.021257   \n",
       "budget_mark_max   0.219035     0.276212     0.134954       0.289500 -0.064854   \n",
       "budget_mark_min   0.099756    -0.297575    -0.406820       0.025647 -0.083281   \n",
       "position         -0.386797     0.493889     0.473401       0.087574 -0.193420   \n",
       "\n",
       "                  budget_mark_mean  mark_mean  abit_count  mark_max  mark_min  \\\n",
       "mark                      0.260928   0.379215    0.140901  0.216307  0.205856   \n",
       "placesCount               0.127170   0.292565    0.678518  0.227009  0.197803   \n",
       "budgetCount              -0.037878   0.250337    0.650194  0.067472  0.118187   \n",
       "contractCount             0.165087   0.191475    0.120559  0.271379  0.106775   \n",
       "vstup                    -0.201585  -0.051564   -0.062702 -0.100667 -0.021257   \n",
       "budget_mark_mean          1.000000   0.688073    0.419658  0.657107  0.271242   \n",
       "mark_mean                 0.688073   1.000000    0.371559  0.570407  0.542849   \n",
       "abit_count                0.419658   0.371559    1.000000  0.298981  0.203150   \n",
       "mark_max                  0.657107   0.570407    0.298981  1.000000  0.079619   \n",
       "mark_min                  0.271242   0.542849    0.203150  0.079619  1.000000   \n",
       "budget_mark_max           0.654340   0.577602    0.324428  0.715273  0.158444   \n",
       "budget_mark_min           0.403297   0.263059   -0.317919  0.198669  0.130885   \n",
       "position                  0.305550   0.270530    0.728093  0.217686  0.147912   \n",
       "\n",
       "                  budget_mark_max  budget_mark_min  position  \n",
       "mark                     0.219035         0.099756 -0.386797  \n",
       "placesCount              0.276212        -0.297575  0.493889  \n",
       "budgetCount              0.134954        -0.406820  0.473401  \n",
       "contractCount            0.289500         0.025647  0.087574  \n",
       "vstup                   -0.064854        -0.083281 -0.193420  \n",
       "budget_mark_mean         0.654340         0.403297  0.305550  \n",
       "mark_mean                0.577602         0.263059  0.270530  \n",
       "abit_count               0.324428        -0.317919  0.728093  \n",
       "mark_max                 0.715273         0.198669  0.217686  \n",
       "mark_min                 0.158444         0.130885  0.147912  \n",
       "budget_mark_max          1.000000         0.145461  0.236214  \n",
       "budget_mark_min          0.145461         1.000000 -0.231475  \n",
       "position                 0.236214        -0.231475  1.000000  "
      ]
     },
     "execution_count": 25,
     "metadata": {},
     "output_type": "execute_result"
    }
   ],
   "source": [
    "df20.drop(['Unnamed: 0', 'student_id', 'year'], axis = 1).corr()"
   ]
  },
  {
   "cell_type": "code",
   "execution_count": 26,
   "metadata": {},
   "outputs": [],
   "source": [
    "from seaborn import heatmap"
   ]
  },
  {
   "cell_type": "code",
   "execution_count": 27,
   "metadata": {},
   "outputs": [
    {
     "data": {
      "text/plain": [
       "<AxesSubplot:>"
      ]
     },
     "execution_count": 27,
     "metadata": {},
     "output_type": "execute_result"
    },
    {
     "data": {
      "image/png": "[encoded data removed]",
      "text/plain": [
       "<Figure size 432x288 with 2 Axes>"
      ]
     },
     "metadata": {
      "needs_background": "light"
     },
     "output_type": "display_data"
    }
   ],
   "source": [
    "heatmap(df.corr(),cmap=\"YlGnBu\")"
   ]
  },
  {
   "cell_type": "code",
   "execution_count": 28,
   "metadata": {},
   "outputs": [],
   "source": [
    "# Vstup - толком з нічим не корелює, правда це може бути не лінійна залежність"
   ]
  },
  {
   "cell_type": "code",
   "execution_count": 29,
   "metadata": {},
   "outputs": [],
   "source": [
    "#abitcount i placesCount, budgetCOunt, contractCount - мають легку певну залежність"
   ]
  },
  {
   "cell_type": "code",
   "execution_count": 30,
   "metadata": {},
   "outputs": [],
   "source": [
    "#середні оцінки корелюють з максимальними і мінімальними, як для бюджетних, так і для звичайних і між ними"
   ]
  },
  {
   "cell_type": "code",
   "execution_count": 31,
   "metadata": {},
   "outputs": [],
   "source": [
    "df20 = df20.drop('Unnamed: 0', axis = 1)"
   ]
  },
  {
   "cell_type": "code",
   "execution_count": 32,
   "metadata": {},
   "outputs": [
    {
     "data": {
      "text/plain": [
       "<AxesSubplot:>"
      ]
     },
     "execution_count": 32,
     "metadata": {},
     "output_type": "execute_result"
    },
    {
     "data": {
      "image/png": "[encoded data removed]",
      "text/plain": [
       "<Figure size 432x288 with 1 Axes>"
      ]
     },
     "metadata": {
      "needs_background": "light"
     },
     "output_type": "display_data"
    }
   ],
   "source": [
    "df20.drop(['student_id', 'position'], axis = 1).boxplot()"
   ]
  },
  {
   "cell_type": "code",
   "execution_count": 33,
   "metadata": {},
   "outputs": [],
   "source": [
    "df = pd.concat([df17, df18, df19, df20])"
   ]
  },
  {
   "cell_type": "code",
   "execution_count": 34,
   "metadata": {},
   "outputs": [
    {
     "data": {
      "text/plain": [
       "<AxesSubplot:>"
      ]
     },
     "execution_count": 34,
     "metadata": {},
     "output_type": "execute_result"
    },
    {
     "data": {
      "image/png": "[encoded data removed]",
      "text/plain": [
       "<Figure size 432x288 with 1 Axes>"
      ]
     },
     "metadata": {
      "needs_background": "light"
     },
     "output_type": "display_data"
    }
   ],
   "source": [
    "df.boxplot('mark')"
   ]
  },
  {
   "cell_type": "code",
   "execution_count": 35,
   "metadata": {},
   "outputs": [
    {
     "data": {
      "text/plain": [
       "Index(['Unnamed: 0', 'student_id', 'priority', 'mark', 'status', 'kvota',\n",
       "       'year', 'specialty', 'university', 'placesCount', 'budgetCount',\n",
       "       'contractCount', 'vstup', 'budget_mark_mean', 'mark_mean', 'abit_count',\n",
       "       'mark_max', 'mark_min', 'budget_mark_max', 'budget_mark_min',\n",
       "       'position'],\n",
       "      dtype='object')"
      ]
     },
     "execution_count": 35,
     "metadata": {},
     "output_type": "execute_result"
    }
   ],
   "source": [
    "df.columns"
   ]
  },
  {
   "cell_type": "code",
   "execution_count": 36,
   "metadata": {},
   "outputs": [],
   "source": [
    "from matplotlib.pyplot import scatter"
   ]
  },
  {
   "cell_type": "code",
   "execution_count": 37,
   "metadata": {},
   "outputs": [],
   "source": [
    "df_t = df[df.vstup == 1]\n",
    "df_f = df[df.vstup == 0]"
   ]
  },
  {
   "cell_type": "code",
   "execution_count": 38,
   "metadata": {},
   "outputs": [
    {
     "data": {
      "text/plain": [
       "<matplotlib.collections.PathCollection at 0x22bfbac3070>"
      ]
     },
     "execution_count": 38,
     "metadata": {},
     "output_type": "execute_result"
    },
    {
     "data": {
      "image/png": "[encoded data removed]",
      "text/plain": [
       "<Figure size 432x288 with 1 Axes>"
      ]
     },
     "metadata": {
      "needs_background": "light"
     },
     "output_type": "display_data"
    }
   ],
   "source": [
    "scatter(df_t.mark, df_t.priority)\n",
    "scatter(df_f.mark, df_f.priority)"
   ]
  },
  {
   "cell_type": "code",
   "execution_count": 39,
   "metadata": {},
   "outputs": [
    {
     "data": {
      "text/plain": [
       "<matplotlib.collections.PathCollection at 0x22bee56b640>"
      ]
     },
     "execution_count": 39,
     "metadata": {},
     "output_type": "execute_result"
    },
    {
     "data": {
      "image/png": "[encoded data removed]",
      "text/plain": [
       "<Figure size 432x288 with 1 Axes>"
      ]
     },
     "metadata": {
      "needs_background": "light"
     },
     "output_type": "display_data"
    }
   ],
   "source": [
    "scatter(df_t.mark, df_t.kvota)\n",
    "scatter(df_f.mark, df_f.kvota)"
   ]
  },
  {
   "cell_type": "code",
   "execution_count": 40,
   "metadata": {},
   "outputs": [
    {
     "data": {
      "text/plain": [
       "kvota\n",
       "None       34013\n",
       "Квота-1      533\n",
       "Квота-2      125\n",
       "Name: vstup, dtype: int64"
      ]
     },
     "execution_count": 40,
     "metadata": {},
     "output_type": "execute_result"
    }
   ],
   "source": [
    "df_t.groupby('kvota').vstup.count()"
   ]
  },
  {
   "cell_type": "code",
   "execution_count": 41,
   "metadata": {},
   "outputs": [
    {
     "data": {
      "text/plain": [
       "kvota\n",
       "None       388799\n",
       "Квота-1      1476\n",
       "Квота-2        76\n",
       "Name: vstup, dtype: int64"
      ]
     },
     "execution_count": 41,
     "metadata": {},
     "output_type": "execute_result"
    }
   ],
   "source": [
    "df_f.groupby('kvota').vstup.count()"
   ]
  },
  {
   "cell_type": "code",
   "execution_count": 42,
   "metadata": {},
   "outputs": [
    {
     "data": {
      "text/plain": [
       "<matplotlib.collections.PathCollection at 0x22bf2741b70>"
      ]
     },
     "execution_count": 42,
     "metadata": {},
     "output_type": "execute_result"
    },
    {
     "data": {
      "image/png": "[encoded data removed]",
      "text/plain": [
       "<Figure size 432x288 with 1 Axes>"
      ]
     },
     "metadata": {
      "needs_background": "light"
     },
     "output_type": "display_data"
    }
   ],
   "source": [
    "scatter(df_t.mark, df_t.mark_mean)\n",
    "scatter(df_f.mark, df_f.mark_mean)"
   ]
  },
  {
   "cell_type": "code",
   "execution_count": null,
   "metadata": {},
   "outputs": [],
   "source": []
  }
 ],
 "metadata": {
  "kernelspec": {
   "display_name": "Python 3 (ipykernel)",
   "language": "python",
   "name": "python3"
  },
  "language_info": {
   "codemirror_mode": {
    "name": "ipython",
    "version": 3
   },
   "file_extension": ".py",
   "mimetype": "text/x-python",
   "name": "python",
   "nbconvert_exporter": "python",
   "pygments_lexer": "ipython3",
   "version": "3.10.1"
  }
 },
 "nbformat": 4,
 "nbformat_minor": 4
}
